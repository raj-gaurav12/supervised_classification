{
 "cells": [
  {
   "cell_type": "code",
   "execution_count": 1,
   "id": "11fad80a",
   "metadata": {},
   "outputs": [],
   "source": [
    "import os\n",
    "import re\n",
    "import glob\n",
    "import pickle\n",
    "import numpy as np\n",
    "import pandas as pd\n",
    "import pandas.io.common\n",
    "pd.set_option('display.max_columns', None)"
   ]
  },
  {
   "cell_type": "code",
   "execution_count": 2,
   "id": "0d35eb1e",
   "metadata": {},
   "outputs": [
    {
     "data": {
      "text/plain": [
       "['/Users/raj2.gaurav/Desktop//Causal Model/03. Collated Data/04. Network Health Data/Collated_Network_Health_Data.parquet']"
      ]
     },
     "execution_count": 2,
     "metadata": {},
     "output_type": "execute_result"
    }
   ],
   "source": [
    "#### File Path and Variables\n",
    "loc_path = r'/Users/raj2.gaurav/Desktop/' \n",
    "path = loc_path + r'/Causal Model/03. Collated Data/04. Network Health Data/'\n",
    "features_path = loc_path + 'Causal Model/04. Feature Store/03. Nework Health Features/'\n",
    "### Input for the Circle \n",
    "Circle= 'bihar'\n",
    "monthname='Nov'\n",
    "year = '2022'\n",
    "Files = glob.glob(path + \"/*.parquet\")\n",
    "Files"
   ]
  },
  {
   "cell_type": "code",
   "execution_count": 3,
   "id": "07601a3e",
   "metadata": {},
   "outputs": [],
   "source": [
    "### Reading the Data\n",
    "df=pd.read_parquet(Files[0])"
   ]
  },
  {
   "cell_type": "code",
   "execution_count": 4,
   "id": "4e905944",
   "metadata": {},
   "outputs": [
    {
     "data": {
      "text/html": [
       "<div>\n",
       "<style scoped>\n",
       "    .dataframe tbody tr th:only-of-type {\n",
       "        vertical-align: middle;\n",
       "    }\n",
       "\n",
       "    .dataframe tbody tr th {\n",
       "        vertical-align: top;\n",
       "    }\n",
       "\n",
       "    .dataframe thead th {\n",
       "        text-align: right;\n",
       "    }\n",
       "</style>\n",
       "<table border=\"1\" class=\"dataframe\">\n",
       "  <thead>\n",
       "    <tr style=\"text-align: right;\">\n",
       "      <th></th>\n",
       "      <th>Partition_date</th>\n",
       "      <th>Circle</th>\n",
       "      <th>City</th>\n",
       "      <th>Component</th>\n",
       "      <th>Hour</th>\n",
       "      <th>Avg_bad_hsi_pct</th>\n",
       "      <th>Avg_bad_voice_pct</th>\n",
       "    </tr>\n",
       "  </thead>\n",
       "  <tbody>\n",
       "    <tr>\n",
       "      <th>0</th>\n",
       "      <td>2022-11-03</td>\n",
       "      <td>bihar</td>\n",
       "      <td>motihari</td>\n",
       "      <td>151</td>\n",
       "      <td>5</td>\n",
       "      <td>8.05</td>\n",
       "      <td>22.75</td>\n",
       "    </tr>\n",
       "    <tr>\n",
       "      <th>1</th>\n",
       "      <td>2022-11-03</td>\n",
       "      <td>bihar</td>\n",
       "      <td>sasaram</td>\n",
       "      <td>1</td>\n",
       "      <td>5</td>\n",
       "      <td>16.77</td>\n",
       "      <td>15.85</td>\n",
       "    </tr>\n",
       "    <tr>\n",
       "      <th>2</th>\n",
       "      <td>2022-11-03</td>\n",
       "      <td>bihar</td>\n",
       "      <td>samastipur</td>\n",
       "      <td>72</td>\n",
       "      <td>19</td>\n",
       "      <td>24.92</td>\n",
       "      <td>10.07</td>\n",
       "    </tr>\n",
       "    <tr>\n",
       "      <th>3</th>\n",
       "      <td>2022-11-03</td>\n",
       "      <td>bihar</td>\n",
       "      <td>muzaffarpur</td>\n",
       "      <td>54</td>\n",
       "      <td>18</td>\n",
       "      <td>7.68</td>\n",
       "      <td>20.36</td>\n",
       "    </tr>\n",
       "    <tr>\n",
       "      <th>4</th>\n",
       "      <td>2022-11-03</td>\n",
       "      <td>bihar</td>\n",
       "      <td>ranchi</td>\n",
       "      <td>122</td>\n",
       "      <td>22</td>\n",
       "      <td>14.59</td>\n",
       "      <td>20.15</td>\n",
       "    </tr>\n",
       "  </tbody>\n",
       "</table>\n",
       "</div>"
      ],
      "text/plain": [
       "  Partition_date Circle         City  Component  Hour  Avg_bad_hsi_pct  \\\n",
       "0     2022-11-03  bihar     motihari        151     5             8.05   \n",
       "1     2022-11-03  bihar      sasaram          1     5            16.77   \n",
       "2     2022-11-03  bihar   samastipur         72    19            24.92   \n",
       "3     2022-11-03  bihar  muzaffarpur         54    18             7.68   \n",
       "4     2022-11-03  bihar       ranchi        122    22            14.59   \n",
       "\n",
       "   Avg_bad_voice_pct  \n",
       "0              22.75  \n",
       "1              15.85  \n",
       "2              10.07  \n",
       "3              20.36  \n",
       "4              20.15  "
      ]
     },
     "execution_count": 4,
     "metadata": {},
     "output_type": "execute_result"
    }
   ],
   "source": [
    "df.head()"
   ]
  },
  {
   "cell_type": "code",
   "execution_count": 5,
   "id": "fccb0c81",
   "metadata": {},
   "outputs": [
    {
     "name": "stdout",
     "output_type": "stream",
     "text": [
      "Shape of Network Health Attribute Dataset After Collation: (994952, 7)\n"
     ]
    }
   ],
   "source": [
    "print(\"Shape of Network Health Attribute Dataset After Collation:\", df.shape)\n",
    "df.to_parquet(features_path + 'Netowork_features.parquet')"
   ]
  }
 ],
 "metadata": {
  "kernelspec": {
   "display_name": "Python 3 (ipykernel)",
   "language": "python",
   "name": "python3"
  },
  "language_info": {
   "codemirror_mode": {
    "name": "ipython",
    "version": 3
   },
   "file_extension": ".py",
   "mimetype": "text/x-python",
   "name": "python",
   "nbconvert_exporter": "python",
   "pygments_lexer": "ipython3",
   "version": "3.9.13"
  }
 },
 "nbformat": 4,
 "nbformat_minor": 5
}
