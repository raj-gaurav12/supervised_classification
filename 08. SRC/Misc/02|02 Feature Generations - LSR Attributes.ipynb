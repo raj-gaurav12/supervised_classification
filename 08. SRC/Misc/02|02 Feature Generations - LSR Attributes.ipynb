{
 "cells": [
  {
   "cell_type": "code",
   "execution_count": 1,
   "id": "11fad80a",
   "metadata": {},
   "outputs": [],
   "source": [
    "import os\n",
    "import re\n",
    "import glob\n",
    "import pickle\n",
    "import numpy as np\n",
    "import pandas as pd\n",
    "import pandas.io.common\n",
    "pd.set_option('display.max_columns', None)"
   ]
  },
  {
   "cell_type": "code",
   "execution_count": 2,
   "id": "0d35eb1e",
   "metadata": {},
   "outputs": [
    {
     "data": {
      "text/plain": [
       "['/Users/raj2.gaurav/Desktop//Causal Model/03. Collated Data/03. LSR Data/Collated_Lsr_data.parquet']"
      ]
     },
     "execution_count": 2,
     "metadata": {},
     "output_type": "execute_result"
    }
   ],
   "source": [
    "#### File Path and Variables\n",
    "loc_path = r'/Users/raj2.gaurav/Desktop/' \n",
    "path = loc_path + r'/Causal Model/03. Collated Data/03. LSR Data/'\n",
    "features_path = loc_path + 'Causal Model/04. Feature Store/02. LSR Features/'\n",
    "### Input for the Circle \n",
    "Circle= 'bihar'\n",
    "monthname='Nov'\n",
    "year = '2022'\n",
    "Files = glob.glob(path + \"/*.parquet\")\n",
    "Files"
   ]
  },
  {
   "cell_type": "code",
   "execution_count": 3,
   "id": "07601a3e",
   "metadata": {},
   "outputs": [
    {
     "data": {
      "text/plain": [
       "(964551, 22)"
      ]
     },
     "execution_count": 3,
     "metadata": {},
     "output_type": "execute_result"
    }
   ],
   "source": [
    "### Reading the Data\n",
    "df=pd.read_parquet(Files[0])\n",
    "df.shape"
   ]
  },
  {
   "cell_type": "code",
   "execution_count": 4,
   "id": "4e905944",
   "metadata": {},
   "outputs": [
    {
     "data": {
      "text/html": [
       "<div>\n",
       "<style scoped>\n",
       "    .dataframe tbody tr th:only-of-type {\n",
       "        vertical-align: middle;\n",
       "    }\n",
       "\n",
       "    .dataframe tbody tr th {\n",
       "        vertical-align: top;\n",
       "    }\n",
       "\n",
       "    .dataframe thead th {\n",
       "        text-align: right;\n",
       "    }\n",
       "</style>\n",
       "<table border=\"1\" class=\"dataframe\">\n",
       "  <thead>\n",
       "    <tr style=\"text-align: right;\">\n",
       "      <th></th>\n",
       "      <th>Circle</th>\n",
       "      <th>City</th>\n",
       "      <th>Partition_date</th>\n",
       "      <th>Component</th>\n",
       "      <th>Hour</th>\n",
       "      <th>Sum_total_volume_mb_download</th>\n",
       "      <th>Sum_total_volume_mb_upload</th>\n",
       "      <th>Unique_customers</th>\n",
       "      <th>Total_duration_sec</th>\n",
       "      <th>Total_sessions</th>\n",
       "      <th>Rsrp_nom</th>\n",
       "      <th>Rsrp_dnom</th>\n",
       "      <th>Rsrq_nom</th>\n",
       "      <th>Rsrq_dnom</th>\n",
       "      <th>Mean_cqi_nom</th>\n",
       "      <th>Mean_cqi_dnom</th>\n",
       "      <th>Pusch_sinr_nom</th>\n",
       "      <th>Pusch_sinr_dnom</th>\n",
       "      <th>Ta_distance_nom</th>\n",
       "      <th>Ta_distance_dnom</th>\n",
       "      <th>Intersite_distance_nom</th>\n",
       "      <th>Intersite_distance_dnom</th>\n",
       "    </tr>\n",
       "  </thead>\n",
       "  <tbody>\n",
       "    <tr>\n",
       "      <th>0</th>\n",
       "      <td>bihar</td>\n",
       "      <td>hajipur</td>\n",
       "      <td>2022-11-04</td>\n",
       "      <td>98</td>\n",
       "      <td>17</td>\n",
       "      <td>44547835768.00</td>\n",
       "      <td>4727227696.00</td>\n",
       "      <td>4672</td>\n",
       "      <td>840864</td>\n",
       "      <td>49706</td>\n",
       "      <td>-4046761.00</td>\n",
       "      <td>39294</td>\n",
       "      <td>-562649.00</td>\n",
       "      <td>39294</td>\n",
       "      <td>392691.0</td>\n",
       "      <td>49276</td>\n",
       "      <td>146593.70</td>\n",
       "      <td>12682</td>\n",
       "      <td>56784132.00</td>\n",
       "      <td>49706</td>\n",
       "      <td>83771883.00</td>\n",
       "      <td>49706</td>\n",
       "    </tr>\n",
       "    <tr>\n",
       "      <th>1</th>\n",
       "      <td>bihar</td>\n",
       "      <td>jamui</td>\n",
       "      <td>2022-11-04</td>\n",
       "      <td>56</td>\n",
       "      <td>17</td>\n",
       "      <td>45228882630.00</td>\n",
       "      <td>4137939740.00</td>\n",
       "      <td>5133</td>\n",
       "      <td>1598569</td>\n",
       "      <td>43598</td>\n",
       "      <td>-2499904.00</td>\n",
       "      <td>28126</td>\n",
       "      <td>-398315.50</td>\n",
       "      <td>28126</td>\n",
       "      <td>376384.0</td>\n",
       "      <td>43409</td>\n",
       "      <td>326344.50</td>\n",
       "      <td>22993</td>\n",
       "      <td>13896817.00</td>\n",
       "      <td>43598</td>\n",
       "      <td>12780028.00</td>\n",
       "      <td>43598</td>\n",
       "    </tr>\n",
       "    <tr>\n",
       "      <th>2</th>\n",
       "      <td>bihar</td>\n",
       "      <td>daltonganj</td>\n",
       "      <td>2022-11-04</td>\n",
       "      <td>9</td>\n",
       "      <td>17</td>\n",
       "      <td>42583194734.00</td>\n",
       "      <td>3876797554.00</td>\n",
       "      <td>4902</td>\n",
       "      <td>1257292</td>\n",
       "      <td>43465</td>\n",
       "      <td>-3132259.00</td>\n",
       "      <td>34509</td>\n",
       "      <td>-461172.50</td>\n",
       "      <td>34509</td>\n",
       "      <td>389276.0</td>\n",
       "      <td>43192</td>\n",
       "      <td>297332.90</td>\n",
       "      <td>19718</td>\n",
       "      <td>10627596.00</td>\n",
       "      <td>43465</td>\n",
       "      <td>11452453.00</td>\n",
       "      <td>43465</td>\n",
       "    </tr>\n",
       "    <tr>\n",
       "      <th>3</th>\n",
       "      <td>bihar</td>\n",
       "      <td>sitamarhi</td>\n",
       "      <td>2022-11-04</td>\n",
       "      <td>27</td>\n",
       "      <td>17</td>\n",
       "      <td>75229462619.00</td>\n",
       "      <td>6707864085.00</td>\n",
       "      <td>8134</td>\n",
       "      <td>2627563</td>\n",
       "      <td>78809</td>\n",
       "      <td>-5018878.00</td>\n",
       "      <td>55742</td>\n",
       "      <td>-830623.50</td>\n",
       "      <td>55742</td>\n",
       "      <td>622129.0</td>\n",
       "      <td>78306</td>\n",
       "      <td>493853.90</td>\n",
       "      <td>42966</td>\n",
       "      <td>42858573.00</td>\n",
       "      <td>78809</td>\n",
       "      <td>33896908.00</td>\n",
       "      <td>78809</td>\n",
       "    </tr>\n",
       "    <tr>\n",
       "      <th>4</th>\n",
       "      <td>bihar</td>\n",
       "      <td>gaya</td>\n",
       "      <td>2022-11-04</td>\n",
       "      <td>112</td>\n",
       "      <td>17</td>\n",
       "      <td>110061710390.00</td>\n",
       "      <td>10600855782.00</td>\n",
       "      <td>8041</td>\n",
       "      <td>3021133</td>\n",
       "      <td>89193</td>\n",
       "      <td>-5558638.00</td>\n",
       "      <td>60384</td>\n",
       "      <td>-799238.00</td>\n",
       "      <td>60384</td>\n",
       "      <td>806191.0</td>\n",
       "      <td>88822</td>\n",
       "      <td>635052.00</td>\n",
       "      <td>45805</td>\n",
       "      <td>20777164.00</td>\n",
       "      <td>89193</td>\n",
       "      <td>26351571.00</td>\n",
       "      <td>89193</td>\n",
       "    </tr>\n",
       "  </tbody>\n",
       "</table>\n",
       "</div>"
      ],
      "text/plain": [
       "  Circle        City Partition_date  Component  Hour  \\\n",
       "0  bihar     hajipur     2022-11-04         98    17   \n",
       "1  bihar       jamui     2022-11-04         56    17   \n",
       "2  bihar  daltonganj     2022-11-04          9    17   \n",
       "3  bihar   sitamarhi     2022-11-04         27    17   \n",
       "4  bihar        gaya     2022-11-04        112    17   \n",
       "\n",
       "  Sum_total_volume_mb_download Sum_total_volume_mb_upload  Unique_customers  \\\n",
       "0               44547835768.00              4727227696.00              4672   \n",
       "1               45228882630.00              4137939740.00              5133   \n",
       "2               42583194734.00              3876797554.00              4902   \n",
       "3               75229462619.00              6707864085.00              8134   \n",
       "4              110061710390.00             10600855782.00              8041   \n",
       "\n",
       "   Total_duration_sec  Total_sessions     Rsrp_nom  Rsrp_dnom    Rsrq_nom  \\\n",
       "0              840864           49706  -4046761.00      39294  -562649.00   \n",
       "1             1598569           43598  -2499904.00      28126  -398315.50   \n",
       "2             1257292           43465  -3132259.00      34509  -461172.50   \n",
       "3             2627563           78809  -5018878.00      55742  -830623.50   \n",
       "4             3021133           89193  -5558638.00      60384  -799238.00   \n",
       "\n",
       "   Rsrq_dnom  Mean_cqi_nom  Mean_cqi_dnom Pusch_sinr_nom  Pusch_sinr_dnom  \\\n",
       "0      39294      392691.0          49276      146593.70            12682   \n",
       "1      28126      376384.0          43409      326344.50            22993   \n",
       "2      34509      389276.0          43192      297332.90            19718   \n",
       "3      55742      622129.0          78306      493853.90            42966   \n",
       "4      60384      806191.0          88822      635052.00            45805   \n",
       "\n",
       "  Ta_distance_nom  Ta_distance_dnom Intersite_distance_nom  \\\n",
       "0     56784132.00             49706            83771883.00   \n",
       "1     13896817.00             43598            12780028.00   \n",
       "2     10627596.00             43465            11452453.00   \n",
       "3     42858573.00             78809            33896908.00   \n",
       "4     20777164.00             89193            26351571.00   \n",
       "\n",
       "   Intersite_distance_dnom  \n",
       "0                    49706  \n",
       "1                    43598  \n",
       "2                    43465  \n",
       "3                    78809  \n",
       "4                    89193  "
      ]
     },
     "execution_count": 4,
     "metadata": {},
     "output_type": "execute_result"
    }
   ],
   "source": [
    "df.head()"
   ]
  },
  {
   "cell_type": "code",
   "execution_count": 5,
   "id": "d82212d1",
   "metadata": {},
   "outputs": [],
   "source": [
    "df1=df.copy()\n",
    "df1.sort_values(by='Partition_date',inplace=True)"
   ]
  },
  {
   "cell_type": "code",
   "execution_count": 6,
   "id": "51f0666c",
   "metadata": {},
   "outputs": [],
   "source": [
    "#### Lag Features\n",
    "df1['Rsrp_nom_lag_1_day']=df.groupby(['Circle', 'City','Component', 'Hour'],as_index=False)['Rsrp_nom'].shift(1)\n",
    "df1['Rsrp_dnom_lag_1_day']=df.groupby(['Circle', 'City','Component', 'Hour'],as_index=False)['Rsrp_dnom'].shift(1)\n",
    "df1['Rsrq_nom_lag_1_day']=df.groupby(['Circle', 'City','Component', 'Hour'],as_index=False)['Rsrq_nom'].shift(1)\n",
    "df1['Rsrq_dnom_lag_1_day']=df.groupby(['Circle', 'City','Component', 'Hour'],as_index=False)['Rsrq_dnom'].shift(1)"
   ]
  },
  {
   "cell_type": "code",
   "execution_count": 7,
   "id": "0a2b0587",
   "metadata": {},
   "outputs": [
    {
     "name": "stdout",
     "output_type": "stream",
     "text": [
      "Shape of Lsr Attribute Dataset After Collation: (964551, 26)\n"
     ]
    }
   ],
   "source": [
    "print(\"Shape of Lsr Attribute Dataset After Collation:\", df1.shape)\n",
    "df1.to_parquet(features_path + 'Lsr_features.parquet')"
   ]
  },
  {
   "cell_type": "code",
   "execution_count": null,
   "id": "282f9e9f",
   "metadata": {},
   "outputs": [],
   "source": []
  },
  {
   "cell_type": "code",
   "execution_count": null,
   "id": "bcd1f3a5",
   "metadata": {},
   "outputs": [],
   "source": []
  },
  {
   "cell_type": "code",
   "execution_count": null,
   "id": "262ee275",
   "metadata": {},
   "outputs": [],
   "source": []
  },
  {
   "cell_type": "code",
   "execution_count": null,
   "id": "48526080",
   "metadata": {},
   "outputs": [],
   "source": []
  }
 ],
 "metadata": {
  "kernelspec": {
   "display_name": "Python 3 (ipykernel)",
   "language": "python",
   "name": "python3"
  },
  "language_info": {
   "codemirror_mode": {
    "name": "ipython",
    "version": 3
   },
   "file_extension": ".py",
   "mimetype": "text/x-python",
   "name": "python",
   "nbconvert_exporter": "python",
   "pygments_lexer": "ipython3",
   "version": "3.9.13"
  }
 },
 "nbformat": 4,
 "nbformat_minor": 5
}
