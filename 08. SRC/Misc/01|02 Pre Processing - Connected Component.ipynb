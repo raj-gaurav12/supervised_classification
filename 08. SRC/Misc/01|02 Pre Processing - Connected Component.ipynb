{
 "cells": [
  {
   "cell_type": "code",
   "execution_count": 1,
   "id": "4273dad2",
   "metadata": {},
   "outputs": [],
   "source": [
    "import os\n",
    "import re\n",
    "import glob\n",
    "import pickle\n",
    "import numpy as np\n",
    "import pandas as pd\n",
    "import pandas.io.common"
   ]
  },
  {
   "cell_type": "code",
   "execution_count": 5,
   "id": "db8fef5a",
   "metadata": {},
   "outputs": [],
   "source": [
    "#### File Path and Variables\n",
    "loc_path = r'/Users/raj2.gaurav/Desktop/' \n",
    "path = loc_path + r'/Causal Model/01. Raw Data/02. Component Data/'\n",
    "pickle_path = loc_path + 'Causal Model/02. Processed Data/02. Component Data/'\n",
    "### Input for the Circle \n",
    "Circle= 'bihar'\n",
    "monthname='Nov'\n",
    "year = '2022'"
   ]
  },
  {
   "cell_type": "code",
   "execution_count": 3,
   "id": "4b6b36de",
   "metadata": {},
   "outputs": [],
   "source": [
    "## Pre Processing\n",
    "def remove_whitespaces(df):\n",
    "    df_obj = df.select_dtypes(['object'])\n",
    "    df[df_obj.columns] = df_obj.apply(lambda x: x.str.strip())\n",
    "    df.columns = df.columns.str.strip()\n",
    "    return df\n",
    "\n",
    "def drop_duplicate_records(df):\n",
    "    df.drop_duplicates()\n",
    "    return df"
   ]
  },
  {
   "cell_type": "code",
   "execution_count": 6,
   "id": "3297e1a1",
   "metadata": {},
   "outputs": [],
   "source": [
    "df=pd.read_parquet(path)"
   ]
  },
  {
   "cell_type": "code",
   "execution_count": 7,
   "id": "37ef4926",
   "metadata": {},
   "outputs": [
    {
     "data": {
      "text/html": [
       "<div>\n",
       "<style scoped>\n",
       "    .dataframe tbody tr th:only-of-type {\n",
       "        vertical-align: middle;\n",
       "    }\n",
       "\n",
       "    .dataframe tbody tr th {\n",
       "        vertical-align: top;\n",
       "    }\n",
       "\n",
       "    .dataframe thead th {\n",
       "        text-align: right;\n",
       "    }\n",
       "</style>\n",
       "<table border=\"1\" class=\"dataframe\">\n",
       "  <thead>\n",
       "    <tr style=\"text-align: right;\">\n",
       "      <th></th>\n",
       "      <th>component</th>\n",
       "      <th>city</th>\n",
       "      <th>end_cell_id</th>\n",
       "    </tr>\n",
       "  </thead>\n",
       "  <tbody>\n",
       "    <tr>\n",
       "      <th>0</th>\n",
       "      <td>23</td>\n",
       "      <td>nuzvid</td>\n",
       "      <td>405854000547346</td>\n",
       "    </tr>\n",
       "    <tr>\n",
       "      <th>1</th>\n",
       "      <td>23</td>\n",
       "      <td>nuzvid</td>\n",
       "      <td>405854000547365</td>\n",
       "    </tr>\n",
       "    <tr>\n",
       "      <th>2</th>\n",
       "      <td>23</td>\n",
       "      <td>nuzvid</td>\n",
       "      <td>405854000547378</td>\n",
       "    </tr>\n",
       "    <tr>\n",
       "      <th>3</th>\n",
       "      <td>25</td>\n",
       "      <td>nuzvid</td>\n",
       "      <td>405854004355857</td>\n",
       "    </tr>\n",
       "    <tr>\n",
       "      <th>4</th>\n",
       "      <td>25</td>\n",
       "      <td>nuzvid</td>\n",
       "      <td>405854004355876</td>\n",
       "    </tr>\n",
       "  </tbody>\n",
       "</table>\n",
       "</div>"
      ],
      "text/plain": [
       "   component    city      end_cell_id\n",
       "0         23  nuzvid  405854000547346\n",
       "1         23  nuzvid  405854000547365\n",
       "2         23  nuzvid  405854000547378\n",
       "3         25  nuzvid  405854004355857\n",
       "4         25  nuzvid  405854004355876"
      ]
     },
     "execution_count": 7,
     "metadata": {},
     "output_type": "execute_result"
    }
   ],
   "source": [
    "df.head()"
   ]
  },
  {
   "cell_type": "code",
   "execution_count": 8,
   "id": "0d356875",
   "metadata": {},
   "outputs": [
    {
     "name": "stdout",
     "output_type": "stream",
     "text": [
      "(1108653, 3)\n",
      "Index(['component', 'city', 'end_cell_id'], dtype='object')\n"
     ]
    }
   ],
   "source": [
    "## Pre Prcoess\n",
    "print(df.shape)\n",
    "print(df.columns)"
   ]
  },
  {
   "cell_type": "code",
   "execution_count": 10,
   "id": "bd3a7a39",
   "metadata": {},
   "outputs": [
    {
     "name": "stdout",
     "output_type": "stream",
     "text": [
      "Removing right Spaces from the columns\n"
     ]
    }
   ],
   "source": [
    "print('Removing right Spaces from the columns')\n",
    "df.columns = df.columns.str.rstrip()\n",
    "df.columns = df.columns.str.lstrip()\n",
    "df.columns = df.columns.str.capitalize()"
   ]
  },
  {
   "cell_type": "code",
   "execution_count": 12,
   "id": "fbd0f6e4",
   "metadata": {},
   "outputs": [
    {
     "name": "stdout",
     "output_type": "stream",
     "text": [
      "Size of the Raw Data  (1108653, 3)\n",
      "-------------------------------\n",
      "-------------------------------\n",
      "Data types of the features in article master\n",
      "Component       int64\n",
      "City           object\n",
      "End_cell_id    object\n",
      "dtype: object\n",
      "-------------------------------\n",
      "-------------------------------\n"
     ]
    }
   ],
   "source": [
    "print('Size of the Raw Data ',df.shape)\n",
    "print('-------------------------------')\n",
    "print('-------------------------------')\n",
    "print('Data types of the features in article master')\n",
    "print(df.dtypes)\n",
    "print('-------------------------------')\n",
    "print('-------------------------------')"
   ]
  },
  {
   "cell_type": "code",
   "execution_count": 13,
   "id": "204441e5",
   "metadata": {},
   "outputs": [],
   "source": [
    "df=remove_whitespaces(df)\n",
    "df=drop_duplicate_records(df)"
   ]
  },
  {
   "cell_type": "code",
   "execution_count": 14,
   "id": "f39b8a05",
   "metadata": {},
   "outputs": [
    {
     "data": {
      "text/html": [
       "<div>\n",
       "<style scoped>\n",
       "    .dataframe tbody tr th:only-of-type {\n",
       "        vertical-align: middle;\n",
       "    }\n",
       "\n",
       "    .dataframe tbody tr th {\n",
       "        vertical-align: top;\n",
       "    }\n",
       "\n",
       "    .dataframe thead th {\n",
       "        text-align: right;\n",
       "    }\n",
       "</style>\n",
       "<table border=\"1\" class=\"dataframe\">\n",
       "  <thead>\n",
       "    <tr style=\"text-align: right;\">\n",
       "      <th></th>\n",
       "      <th>Component</th>\n",
       "      <th>City</th>\n",
       "      <th>End_cell_id</th>\n",
       "    </tr>\n",
       "  </thead>\n",
       "  <tbody>\n",
       "    <tr>\n",
       "      <th>0</th>\n",
       "      <td>23</td>\n",
       "      <td>nuzvid</td>\n",
       "      <td>405854000547346</td>\n",
       "    </tr>\n",
       "    <tr>\n",
       "      <th>1</th>\n",
       "      <td>23</td>\n",
       "      <td>nuzvid</td>\n",
       "      <td>405854000547365</td>\n",
       "    </tr>\n",
       "    <tr>\n",
       "      <th>2</th>\n",
       "      <td>23</td>\n",
       "      <td>nuzvid</td>\n",
       "      <td>405854000547378</td>\n",
       "    </tr>\n",
       "    <tr>\n",
       "      <th>3</th>\n",
       "      <td>25</td>\n",
       "      <td>nuzvid</td>\n",
       "      <td>405854004355857</td>\n",
       "    </tr>\n",
       "    <tr>\n",
       "      <th>4</th>\n",
       "      <td>25</td>\n",
       "      <td>nuzvid</td>\n",
       "      <td>405854004355876</td>\n",
       "    </tr>\n",
       "  </tbody>\n",
       "</table>\n",
       "</div>"
      ],
      "text/plain": [
       "   Component    City      End_cell_id\n",
       "0         23  nuzvid  405854000547346\n",
       "1         23  nuzvid  405854000547365\n",
       "2         23  nuzvid  405854000547378\n",
       "3         25  nuzvid  405854004355857\n",
       "4         25  nuzvid  405854004355876"
      ]
     },
     "execution_count": 14,
     "metadata": {},
     "output_type": "execute_result"
    }
   ],
   "source": [
    "df.head()"
   ]
  },
  {
   "cell_type": "code",
   "execution_count": 17,
   "id": "7d914b35",
   "metadata": {},
   "outputs": [
    {
     "name": "stdout",
     "output_type": "stream",
     "text": [
      "No of Unique Circle  ['nuzvid' 'ongole' 'palacole' 'palwancha' 'peddapalli' 'peddapuram'\n",
      " 'piduguralla' 'pitapuram' 'ponnur' 'proddatur' 'rajahmundry' 'ramagundam'\n",
      " 'rayachoti' 'rayadurg' 'samalkota' 'sangareddy' 'sattenapalle' 'siddipet'\n",
      " 'sirsilla' 'srikakulam' 'srikalahasti' 'suryapet' 'tadpatri' 'tanuku'\n",
      " 'tenali' 'tirupati' 'tuni' 'vijayawada' 'vinukonda' 'visakhapatnam'\n",
      " 'vizianagaram' 'wanaparthi' 'warangal' 'yemmiganur' 'zahirabad'\n",
      " 'badarpur' 'barpeta' 'bongaigaon' 'dhubri' 'dibrugarh' 'digboi' 'diphu'\n",
      " 'duliajan' 'goalpara' 'golaghat' 'guwahati' 'jorhat' 'karimganj'\n",
      " 'lumding' 'mangaldoi' 'nagaon' 'nalbari' 'namrup' 'adilabad' 'adoni'\n",
      " 'amalapuram' 'anakapalle' 'anantapur' 'armoor' 'badvel' 'bapatla'\n",
      " 'bellampalle' 'bheemavaram' 'bhongir' 'bobbili' 'bodhan' 'chilakaluripet'\n",
      " 'chirala' 'chittoor' 'cuddapah' 'dharmavaram' 'eluru' 'gadwal' 'gudivada'\n",
      " 'guduru' 'guntakal' 'guntur' 'hindupur' 'hyderabad' 'ibrahimpatnam'\n",
      " 'jagtial' 'kadiri' 'kaghaznagar' 'kakinada' 'kamareddy' 'kandukur'\n",
      " 'karimnagar' 'kavali' 'khammam' 'kodad' 'koratla' 'kothagudem' 'kurnool'\n",
      " 'machilipatnam' 'madanapalle' 'mahbubnagar' 'mancherial' 'mandamarri'\n",
      " 'mangalagiri' 'markapur' 'miryalguda' 'nalgonda' 'nandyal' 'narasaraopet'\n",
      " 'narsapur' 'nellore' 'nirmal' 'nizamabad' 'nazira' 'north_lakhimpur'\n",
      " 'sibsagar' 'silchar' 'tezpur' 'tinsukia' 'araria' 'arrah' 'aurangabad_bi'\n",
      " 'bagaha' 'barauni' 'begusarai' 'bettiah' 'bhagalpur' 'bihar_sharif'\n",
      " 'bokaro_steel_city' 'buxar' 'chaibasa' 'chakradharpur' 'chapra'\n",
      " 'chirkunda' 'daltonganj' 'darbhanga' 'dehri' 'deoghar' 'dhanbad' 'dumka'\n",
      " 'gaya' 'giridih' 'gopalganj' 'hajipur' 'hazaribag' 'jamalpur'\n",
      " 'jamshedpur' 'jamui' 'jehanabad' 'jhumri_tilaiya' 'katihar' 'khagaria'\n",
      " 'kishanganj' 'lakhisarai' 'madhubani' 'mokameh' 'motihari' 'munger'\n",
      " 'muzaffarpur' 'nawada' 'patna' 'phusro' 'rajgir' 'ramgarh' 'ranchi'\n",
      " 'saharsa' 'sahibganj' 'silvasa' 'surat' 'una' 'unjha' 'upleta' 'vadodara'\n",
      " 'valsad' 'vapi' 'veraval' 'viramgam' 'visnagar' 'wadhwan' 'ambala'\n",
      " 'ambala_ua' 'bahadurgarh' 'barwala' 'bhiwani' 'charkhidadri' 'ellenabad'\n",
      " 'fatehabad' 'ganaur' 'gharaunda' 'gohana' 'hansi' 'hisar' 'hodal'\n",
      " 'jhajjar' 'jind' 'kaithal' 'kalanwali' 'kalka' 'karnal' 'mandi_dabwali'\n",
      " 'mohindergarh' 'narnaul' 'narwana' 'palwal' 'panipat' 'pehowa' 'rewari'\n",
      " 'rohtak' 'safidon' 'samalkha' 'shahbad' 'sirsa' 'sohna' 'sonipat'\n",
      " 'thanesar' 'tohana' 'yamunanagar' 'baddi' 'bilaspur' 'dharamsala'\n",
      " 'hamirpur' 'kullu' 'ranibennur' 'robertson_pet' 'sagar_ka' 'shahabad_ka'\n",
      " 'shimoga' 'sindhnur' 'sira' 'sirsi' 'tiptur' 'tumkur' 'udupi' 'yadgir'\n",
      " 'alappuzha' 'attingal' 'changanassery' 'cherthala'\n",
      " 'chittur_thathamangalam' 'guruvayoor' 'irinjalakuda' 'kanhangad' 'kannur'\n",
      " 'kasaragod' 'kayamkulam' 'kochi' 'kodungallur' 'kollam' 'kottayam'\n",
      " 'kozhikode' 'kunnamkulam' 'kuruppampady' 'malappuram' 'muvattupuzha'\n",
      " 'nedumangad' 'neyyattinkara' 'palakkad' 'payyannur' 'ponnani' 'punalur'\n",
      " 'quilandy' 'taliparamba' 'tellicheri' 'thiruvalla' 'thrissur' 'tirur'\n",
      " 'trivandrum' 'vadakara' 'kolkata' 'ambikapur' 'ashok_nagar' 'balaghat'\n",
      " 'basoda' 'betul' 'bhatapara' 'bhind' 'bhopal' 'vidisha' 'achalpur'\n",
      " 'ahmadnagar' 'akluj' 'akola' 'akot' 'amalner' 'ambejogai' 'amravati'\n",
      " 'anjangaon' 'aurangabad_mh' 'badlapur' 'ballarpur' 'baramati' 'barshi'\n",
      " 'basmath' 'bhadravati_mh' 'bhandara' 'bhusawal' 'bid' 'buldana' 'chakan'\n",
      " 'chalisgaon' 'chandrapur' 'chopda' 'dhule' 'gondiya' 'hinganghat'\n",
      " 'hingoli' 'ichalkaranji' 'jalgaon' 'jalna' 'kamptee' 'karad' 'karanja'\n",
      " 'khamgaon' 'khopoli' 'kolhapur' 'kopargaon' 'latur' 'lonavala' 'malegaon'\n",
      " 'malkapur' 'manmad' 'margao' 'mormugoa' 'mumbai' 'nagpur'\n",
      " 'nanded_waghala' 'nandurbar' 'nashik' 'osmanabad' 'palghar' 'panaji'\n",
      " 'pandharpur' 'nalco' 'paradip' 'puri' 'rajgangpur' 'raurkela' 'rayagada'\n",
      " 'sambalpur' 'sunabeda' 'sundargarh' 'talcher' 'abohar' 'amritsar'\n",
      " 'barnala' 'batala' 'bhatinda' 'chandigarh' 'dasua' 'derabassi' 'dhuri'\n",
      " 'faridkot' 'fazilka' 'firozpur' 'firozpur_cantt' 'gidderbaha'\n",
      " 'gobindgarh' 'gurdaspur' 'hoshiarpur' 'jagraon' 'jalalabad' 'jalandhar'\n",
      " 'kapurthala' 'khanna' 'kot_kapura' 'ludhiana' 'malerkotla' 'malout'\n",
      " 'mansa' 'moga' 'muktsar' 'nabha' 'nakodar' 'nangal' 'nawanshahar'\n",
      " 'pathankot' 'patiala' 'phagwara' 'phulmandi' 'rajpura' 'rupnagar'\n",
      " 'samana' 'sangrur' 'sirhind_fategarh_sahib' 'sunam' 'tarn_taran' 'ajmer'\n",
      " 'chennai' 'chidambaram' 'coimbatore' 'coonoor' 'cuddalore' 'dharapuram'\n",
      " 'dharmapuri' 'dindigul' 'erode' 'gobichettipalayam' 'gudiyatham' 'hosur'\n",
      " 'kadayanallur' 'kambam' 'kancheepuram' 'kanyakumari' 'karaikkudi' 'karur'\n",
      " 'kodaikanal' 'kovilpatti' 'krishnagiri' 'madurai' 'mannargudi'\n",
      " 'mayiladuthurai' 'mettupalayam' 'mettur' 'nagapattinam' 'nagercoil'\n",
      " 'namakkal' 'neyveli' 'palani' 'panruti' 'paramakudi' 'pattukkottai'\n",
      " 'pollachi' 'pondicherry' 'puliyankudi' 'rajapalayam' 'ramanathapuram'\n",
      " 'ranipet' 'salem' 'sankarankoil' 'sivakasi' 'srivilliputhur' 'tenkasi'\n",
      " 'thanjavur' 'theni_allinagaram' 'thiruvarur' 'thoothukkudi' 'tindivanam'\n",
      " 'tiruchendur' 'tiruchengode' 'tiruchirappalli' 'shahabad_up'\n",
      " 'shahjahanpur' 'sitapur' 'sultanpur' 'tanda' 'tilhar' 'unnao' 'varanasi'\n",
      " 'agra' 'aligarh' 'amroha' 'auraiya' 'baheri' 'baraut' 'bareilly' 'bijnor'\n",
      " 'bisalpur' 'budaun' 'bulandshahr' 'chandausi' 'chandpur' 'dadri'\n",
      " 'dehradun' 'deoband' 'dhampur' 'etah' 'etawah' 'faridpur' 'firozabad'\n",
      " 'gangoh' 'haldwani_cum_kathgodam' 'hapur' 'haridwar' 'hasanpur' 'hathras'\n",
      " 'jahangirabad' 'kairana' 'kasganj' 'kashipur' 'khatauli' 'khurja'\n",
      " 'kiratpur' 'kosi_kalan' 'mainpuri' 'mathura' 'mawana' 'meerut'\n",
      " 'modinagar' 'moradabad' 'muradnagar' 'mussoorie' 'muzaffarnagar' 'nagina'\n",
      " 'najibabad' 'pilibhit' 'samastipur' 'sasaram' 'saunda' 'sitamarhi'\n",
      " 'siwan' 'supaul' 'delhi' 'loni' 'ahmedabad' 'amreli' 'anand' 'anjar'\n",
      " 'anklesvar' 'bardoli' 'bharuch' 'bhavnagar' 'bhuj' 'bilimora' 'borsad'\n",
      " 'botad' 'dabhoi' 'deesa' 'dholka' 'dhoraji' 'dhrangadhra' 'diu' 'dohad'\n",
      " 'dwarka' 'gandhidham' 'gandhinagar' 'godhra' 'gondal' 'himatnagar'\n",
      " 'jamnagar' 'jetpur_navagadh' 'junagadh' 'kadi' 'kalol' 'keshod'\n",
      " 'khambhat' 'mahesana' 'mahuva' 'mangrol' 'modasa' 'morvi' 'nadiad'\n",
      " 'navsari' 'palanpur' 'palitana' 'patan' 'petlad' 'porbandar' 'rajkot'\n",
      " 'savarkundla' 'sidhpur' 'mandi' 'paonta' 'shimla' 'solan' 'sundernagar'\n",
      " 'anantnag' 'badgam' 'baramula' 'jammu' 'kathua' 'katra' 'rajouri'\n",
      " 'sopore' 'srinagar' 'udhampur' 'bagalkot' 'bangalore' 'basavakalyan'\n",
      " 'belgaum' 'bellary' 'bhadravati_ka' 'bidar' 'bijapur' 'chamrajnagar'\n",
      " 'channapatna' 'chik_ballapur' 'chikmagalur' 'chintamani' 'chitradurga'\n",
      " 'dandeli' 'davanagere' 'dod_ballapur' 'gadag_betigeri' 'gangawati'\n",
      " 'gokak' 'gulbarga' 'harihar' 'hassan' 'haveri' 'hospet' 'hubli_dharwad'\n",
      " 'ilkal' 'jamkhandi' 'karwar' 'kolar' 'kollegal' 'koppal' 'madikeri'\n",
      " 'mandya' 'mangalore' 'mysore' 'nipani' 'rabkavi_banhatti' 'raichur'\n",
      " 'ramanagaram' 'bina_etawa' 'burhanpur' 'burhar_dhanpuri' 'chhatarpur'\n",
      " 'chhindwara' 'chiklikalan_parasia' 'chirmiri' 'dabra' 'dalli_rajhara'\n",
      " 'damoh' 'datia' 'dewas' 'dhamtari' 'dhar' 'durg_bhilainagar' 'guna'\n",
      " 'gwalior' 'harda' 'hoshangabad' 'indore' 'itarsi' 'jabalpur' 'jagdalpur'\n",
      " 'jaora' 'khandwa' 'khargone' 'korba' 'mandla' 'mandsaur' 'mhow_cantt'\n",
      " 'morena' 'murwara_katni' 'nagda' 'narsimhapur' 'neemuch' 'panna'\n",
      " 'pithampur' 'raigarh' 'raipur' 'rajnandgaon' 'ratlam' 'rewa' 'sagar_mp'\n",
      " 'sarni' 'satna' 'sehore' 'seoni' 'shahdol' 'shajapur' 'sheopur'\n",
      " 'shivpuri' 'singrauli' 'tikamgarh' 'ujjain' 'parbhani' 'parli' 'phaltan'\n",
      " 'pune' 'pusad' 'ratnagiri' 'sangamner' 'sangli' 'satara' 'shegaon'\n",
      " 'shirdi' 'shirpur_warwade' 'shrirampur' 'solapur' 'tarapur' 'udgir'\n",
      " 'uran_islampur' 'wani' 'wardha' 'washim' 'yavatmal' 'agartala' 'aizawl'\n",
      " 'dimapur' 'imphal' 'itanagar' 'jowai' 'kohima' 'kumarghat' 'lunglei'\n",
      " 'mokokchung' 'shillong' 'thoubal' 'tura' 'balangir' 'baleshwar' 'barbil'\n",
      " 'bargarh' 'baripada' 'belpahar' 'bhadrak' 'bhawanipatna' 'bhubaneswar'\n",
      " 'brahmapur' 'brajarajnagar' 'cuttack' 'dhenkanal' 'jatani' 'jeypur'\n",
      " 'jharsuguda' 'kendrapara' 'kendujhar' 'khurda' 'koraput' 'alwar'\n",
      " 'balotra' 'banswara' 'baran' 'bari' 'barmer' 'beawar' 'bharatpur'\n",
      " 'bhilwara' 'bikaner' 'bundi' 'chittaurgarh' 'chomu' 'churu' 'dausa'\n",
      " 'dhaulpur' 'fatehpur_rj' 'ganganagar' 'gangapur_city' 'hanumangarh'\n",
      " 'hindaun' 'jaipur' 'jaisalmer' 'jhunjhunun' 'jodhpur' 'karauli'\n",
      " 'kishangarh' 'kota' 'kuchaman_city' 'ladnu' 'makrana' 'nagaur'\n",
      " 'nawalgarh' 'nimbahera' 'pali' 'rajgarh' 'rajsamand' 'ratangarh'\n",
      " 'sardarshahar' 'sawai_madhopur' 'sikar' 'sujangarh' 'suratgarh' 'tonk'\n",
      " 'udaipur' 'ambasamudram' 'ambur' 'arakonam' 'arani' 'arcot'\n",
      " 'aruppukkottai' 'attur' 'bhavani' 'bodinayakkanur' 'chengalpattu'\n",
      " 'tirunelveli' 'tirupathur' 'tiruppur' 'tiruvannamalai' 'udhagamandalam'\n",
      " 'udumalaipettai' 'valparai' 'vaniyambadi' 'vellore' 'viluppuram'\n",
      " 'virudhachalam' 'virudhunagar' 'allahabad' 'anpara' 'azamgarh' 'bahraich'\n",
      " 'ballia' 'balrampur' 'banda' 'barabanki' 'basti' 'bela_pratapgarh'\n",
      " 'bhadohi' 'chhibramau' 'deoria' 'faizabad' 'farrukhabad_cum_fatehgarh'\n",
      " 'fatehpur_up' 'ganga_ghat' 'ghazipur' 'gola_gokarannath' 'gonda'\n",
      " 'gorakhpur' 'hardoi' 'jalaun' 'jaunpur' 'jhansi' 'kannauj' 'kanpur'\n",
      " 'konch' 'laharpur' 'lakhimpur' 'lalitpur' 'lucknow' 'mahoba'\n",
      " 'maunath_bhanjan' 'mauranipur' 'mirzapur_cum_vindhyachal' 'mubarakpur'\n",
      " 'mughalsarai' 'obra' 'orai' 'rae_bareli' 'rath' 'renukoot' 'pilkhuwa'\n",
      " 'ramnagar' 'rampur' 'rishikesh' 'roorkee' 'rudrapur' 'saharanpur'\n",
      " 'sahaswan' 'sambhal' 'shamli' 'sherkot' 'shikohabad' 'sikandrabad'\n",
      " 'tundla' 'ujhani' 'vrindavan' 'alipurduar' 'arambag' 'asansol'\n",
      " 'baharampur' 'balurghat' 'bangaon' 'bankura' 'barddhaman' 'basirhat'\n",
      " 'birnagar' 'bishnupur' 'bolpur' 'chakdaha' 'contai' 'darjiling' 'dhulian'\n",
      " 'durgapur' 'english_bazar' 'farakka' 'gangarampur' 'gangtok' 'ghatal'\n",
      " 'gobardanga' 'habra' 'haldia' 'islampur' 'jalpaiguri' 'jangipur'\n",
      " 'jhargram' 'kalna' 'kandi' 'katwa' 'kharagpur' 'koch_bihar'\n",
      " 'krishnanagar' 'medinipur' 'nabadwip' 'puruliya' 'raiganj' 'rampurhat'\n",
      " 'ranaghat' 'santipur' 'siliguri' 'suri']\n",
      "-----------------------------\n",
      "No of Component in the city              Component\n",
      "City                  \n",
      "abohar              39\n",
      "achalpur            45\n",
      "adilabad            25\n",
      "adoni               45\n",
      "agartala           237\n",
      "...                ...\n",
      "yadgir              64\n",
      "yamunanagar        106\n",
      "yavatmal            49\n",
      "yemmiganur           9\n",
      "zahirabad           25\n",
      "\n",
      "[878 rows x 1 columns]\n",
      "-----------------------------\n"
     ]
    },
    {
     "name": "stdout",
     "output_type": "stream",
     "text": [
      "No of Cell ids in the compoent            End_cell_id\n",
      "Component             \n",
      "0                13789\n",
      "1                 8804\n",
      "2                 9590\n",
      "3                 9343\n",
      "4                 9002\n",
      "...                ...\n",
      "1334                30\n",
      "1335                17\n",
      "1336                78\n",
      "1337                59\n",
      "1338                29\n",
      "\n",
      "[1337 rows x 1 columns]\n",
      "-----------------------------\n"
     ]
    }
   ],
   "source": [
    "### Basic QC's Check\n",
    "print('No of Unique Circle ', df['City'].unique())\n",
    "print('-----------------------------')\n",
    "print('No of Component in the city',df[['City','Component']].groupby('City').nunique())\n",
    "print('-----------------------------')\n",
    "print('No of Cell ids in the compoent',df[['Component','End_cell_id']].groupby('Component').nunique())\n",
    "print('-----------------------------')"
   ]
  },
  {
   "cell_type": "code",
   "execution_count": 18,
   "id": "b8864fc7",
   "metadata": {},
   "outputs": [
    {
     "name": "stdout",
     "output_type": "stream",
     "text": [
      "Data succesfully stored in: /Users/raj2.gaurav/Desktop/Causal Model/02. Processed Data/02. Component Data/Nov2022_Component_data.csv\n"
     ]
    }
   ],
   "source": [
    "### Saving in Pre Processing Folder\n",
    "df.to_pickle(pickle_path+'{}{}_Component_data.csv'.format(monthname,year))\n",
    "print('Data succesfully stored in:',pickle_path+'{}{}_Component_data.csv'.format(monthname,year))"
   ]
  },
  {
   "cell_type": "code",
   "execution_count": null,
   "id": "1a0f6536",
   "metadata": {},
   "outputs": [],
   "source": []
  }
 ],
 "metadata": {
  "kernelspec": {
   "display_name": "Python 3 (ipykernel)",
   "language": "python",
   "name": "python3"
  },
  "language_info": {
   "codemirror_mode": {
    "name": "ipython",
    "version": 3
   },
   "file_extension": ".py",
   "mimetype": "text/x-python",
   "name": "python",
   "nbconvert_exporter": "python",
   "pygments_lexer": "ipython3",
   "version": "3.9.13"
  }
 },
 "nbformat": 4,
 "nbformat_minor": 5
}
