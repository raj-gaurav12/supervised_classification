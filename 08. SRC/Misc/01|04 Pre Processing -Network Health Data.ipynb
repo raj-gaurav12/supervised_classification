{
 "cells": [
  {
   "cell_type": "code",
   "execution_count": 1,
   "id": "a39bb698",
   "metadata": {},
   "outputs": [],
   "source": [
    "import os\n",
    "import re\n",
    "import glob\n",
    "import pickle\n",
    "import numpy as np\n",
    "import pandas as pd\n",
    "import pandas.io.common\n",
    "import warnings\n",
    "warnings.filterwarnings('ignore')"
   ]
  },
  {
   "cell_type": "code",
   "execution_count": 42,
   "id": "222e3710",
   "metadata": {},
   "outputs": [],
   "source": [
    "#### File Path and Variables\n",
    "loc_path = r'/Users/ritik.pareek/Desktop/' \n",
    "path = loc_path + r'/Causal Model/01. Raw Data/04. Network Health Data/'\n",
    "pickle_path = loc_path + 'Causal Model/02. Processed Data/04. Network Health Data/'\n",
    "### Input for the Circle \n",
    "Circle= 'bihar'\n",
    "\n",
    "monthname = \"Feb\"\n",
    "year = \"2023\""
   ]
  },
  {
   "cell_type": "code",
   "execution_count": 7,
   "id": "b5c287e0",
   "metadata": {},
   "outputs": [],
   "source": [
    "#### Collating Files \n",
    "# currently we have colated file but in future run we have to colate the files\n",
    "\n",
    "\n",
    "allFiles = glob.glob(path + \"*/*.parquet\")\n",
    "lst=[]\n",
    "df_master=pd.DataFrame()\n",
    "for i in allFiles:\n",
    "    df=pd.read_parquet(i,engine='pyarrow')\n",
    "    #print(df.shape)\n",
    "    df_master=df_master.append(df)\n",
    "    #print(df_master.shape)"
   ]
  },
  {
   "cell_type": "code",
   "execution_count": 8,
   "id": "b16913b5",
   "metadata": {},
   "outputs": [
    {
     "data": {
      "text/plain": [
       "(995120, 6)"
      ]
     },
     "execution_count": 8,
     "metadata": {},
     "output_type": "execute_result"
    }
   ],
   "source": [
    "df_master.shape"
   ]
  },
  {
   "cell_type": "code",
   "execution_count": 9,
   "id": "ad687c4e",
   "metadata": {},
   "outputs": [
    {
     "data": {
      "text/plain": [
       "Index(['partition_date', 'city', 'component', 'hour', 'avg_bad_hsi_pct',\n",
       "       'avg_bad_voice_pct'],\n",
       "      dtype='object')"
      ]
     },
     "execution_count": 9,
     "metadata": {},
     "output_type": "execute_result"
    }
   ],
   "source": [
    "df_master.columns"
   ]
  },
  {
   "cell_type": "markdown",
   "id": "c1f4b2d1",
   "metadata": {},
   "source": [
    "# Removing rows where hour is null"
   ]
  },
  {
   "cell_type": "code",
   "execution_count": 10,
   "id": "11992e0b",
   "metadata": {},
   "outputs": [
    {
     "data": {
      "text/plain": [
       "array([ 5, 19, 18, 22, 21, 23, 13,  3,  9, 11,  0, 16, 14, 15,  7,  4, 20,\n",
       "       17, 12,  8,  2, 10,  1,  6], dtype=int32)"
      ]
     },
     "execution_count": 10,
     "metadata": {},
     "output_type": "execute_result"
    }
   ],
   "source": [
    "df_master['hour'].unique()"
   ]
  },
  {
   "cell_type": "code",
   "execution_count": 11,
   "id": "2b0388e8",
   "metadata": {},
   "outputs": [
    {
     "data": {
      "text/plain": [
       "0"
      ]
     },
     "execution_count": 11,
     "metadata": {},
     "output_type": "execute_result"
    }
   ],
   "source": [
    "# Null count\n",
    "df_master[df_master['hour'].isnull()].shape[0]"
   ]
  },
  {
   "cell_type": "code",
   "execution_count": 18,
   "id": "10645b9b",
   "metadata": {},
   "outputs": [],
   "source": [
    "# dropping the null values\n",
    "df_master.dropna(subset=['hour','city','component'], how='any', inplace=True)"
   ]
  },
  {
   "cell_type": "code",
   "execution_count": 20,
   "id": "426df016",
   "metadata": {},
   "outputs": [],
   "source": [
    "# index reseting\n",
    "df_master.reset_index(inplace=True, drop=True)"
   ]
  },
  {
   "cell_type": "code",
   "execution_count": 21,
   "id": "c34fd58f",
   "metadata": {},
   "outputs": [
    {
     "data": {
      "text/plain": [
       "(994952, 6)"
      ]
     },
     "execution_count": 21,
     "metadata": {},
     "output_type": "execute_result"
    }
   ],
   "source": [
    "df_master.shape"
   ]
  },
  {
   "cell_type": "code",
   "execution_count": 22,
   "id": "4f4c9855",
   "metadata": {},
   "outputs": [
    {
     "data": {
      "text/plain": [
       "partition_date           0\n",
       "city                     0\n",
       "component                0\n",
       "hour                     0\n",
       "avg_bad_hsi_pct      95693\n",
       "avg_bad_voice_pct      689\n",
       "dtype: int64"
      ]
     },
     "execution_count": 22,
     "metadata": {},
     "output_type": "execute_result"
    }
   ],
   "source": [
    "## Null count\n",
    "df_master.isnull().sum()"
   ]
  },
  {
   "cell_type": "code",
   "execution_count": 23,
   "id": "925459cb",
   "metadata": {},
   "outputs": [
    {
     "data": {
      "text/html": [
       "<div>\n",
       "<style scoped>\n",
       "    .dataframe tbody tr th:only-of-type {\n",
       "        vertical-align: middle;\n",
       "    }\n",
       "\n",
       "    .dataframe tbody tr th {\n",
       "        vertical-align: top;\n",
       "    }\n",
       "\n",
       "    .dataframe thead th {\n",
       "        text-align: right;\n",
       "    }\n",
       "</style>\n",
       "<table border=\"1\" class=\"dataframe\">\n",
       "  <thead>\n",
       "    <tr style=\"text-align: right;\">\n",
       "      <th></th>\n",
       "      <th>partition_date</th>\n",
       "      <th>city</th>\n",
       "      <th>component</th>\n",
       "      <th>hour</th>\n",
       "      <th>avg_bad_hsi_pct</th>\n",
       "      <th>avg_bad_voice_pct</th>\n",
       "    </tr>\n",
       "  </thead>\n",
       "  <tbody>\n",
       "    <tr>\n",
       "      <th>0</th>\n",
       "      <td>2022-11-03</td>\n",
       "      <td>motihari</td>\n",
       "      <td>151.0</td>\n",
       "      <td>5</td>\n",
       "      <td>8.054286</td>\n",
       "      <td>22.754500</td>\n",
       "    </tr>\n",
       "    <tr>\n",
       "      <th>1</th>\n",
       "      <td>2022-11-03</td>\n",
       "      <td>sasaram</td>\n",
       "      <td>1.0</td>\n",
       "      <td>5</td>\n",
       "      <td>16.767143</td>\n",
       "      <td>15.845909</td>\n",
       "    </tr>\n",
       "    <tr>\n",
       "      <th>2</th>\n",
       "      <td>2022-11-03</td>\n",
       "      <td>samastipur</td>\n",
       "      <td>72.0</td>\n",
       "      <td>19</td>\n",
       "      <td>24.924286</td>\n",
       "      <td>10.074286</td>\n",
       "    </tr>\n",
       "    <tr>\n",
       "      <th>3</th>\n",
       "      <td>2022-11-03</td>\n",
       "      <td>muzaffarpur</td>\n",
       "      <td>54.0</td>\n",
       "      <td>18</td>\n",
       "      <td>7.685000</td>\n",
       "      <td>20.361809</td>\n",
       "    </tr>\n",
       "    <tr>\n",
       "      <th>4</th>\n",
       "      <td>2022-11-03</td>\n",
       "      <td>ranchi</td>\n",
       "      <td>122.0</td>\n",
       "      <td>22</td>\n",
       "      <td>14.585333</td>\n",
       "      <td>20.151000</td>\n",
       "    </tr>\n",
       "  </tbody>\n",
       "</table>\n",
       "</div>"
      ],
      "text/plain": [
       "  partition_date         city  component  hour  avg_bad_hsi_pct  \\\n",
       "0     2022-11-03     motihari      151.0     5         8.054286   \n",
       "1     2022-11-03      sasaram        1.0     5        16.767143   \n",
       "2     2022-11-03   samastipur       72.0    19        24.924286   \n",
       "3     2022-11-03  muzaffarpur       54.0    18         7.685000   \n",
       "4     2022-11-03       ranchi      122.0    22        14.585333   \n",
       "\n",
       "   avg_bad_voice_pct  \n",
       "0          22.754500  \n",
       "1          15.845909  \n",
       "2          10.074286  \n",
       "3          20.361809  \n",
       "4          20.151000  "
      ]
     },
     "execution_count": 23,
     "metadata": {},
     "output_type": "execute_result"
    }
   ],
   "source": [
    "df_master.head()"
   ]
  },
  {
   "cell_type": "markdown",
   "id": "c1359e86",
   "metadata": {},
   "source": [
    "# Defining the data types"
   ]
  },
  {
   "cell_type": "code",
   "execution_count": 25,
   "id": "18d7c259",
   "metadata": {},
   "outputs": [],
   "source": [
    "df_master['circle']=\"bihar\""
   ]
  },
  {
   "cell_type": "code",
   "execution_count": 26,
   "id": "f212f70a",
   "metadata": {},
   "outputs": [
    {
     "data": {
      "text/plain": [
       "partition_date        object\n",
       "city                  object\n",
       "component            float64\n",
       "hour                   int32\n",
       "avg_bad_hsi_pct      float64\n",
       "avg_bad_voice_pct    float64\n",
       "circle                object\n",
       "dtype: object"
      ]
     },
     "execution_count": 26,
     "metadata": {},
     "output_type": "execute_result"
    }
   ],
   "source": [
    "df_master.dtypes"
   ]
  },
  {
   "cell_type": "code",
   "execution_count": 27,
   "id": "5309ef8d",
   "metadata": {},
   "outputs": [],
   "source": [
    "df_master[\"partition_date\"] =  pd.to_datetime(df_master[\"partition_date\"], format=\"%Y-%m-%d\")\n",
    "df_master['circle'] = df_master['circle'].astype('object')\n",
    "df_master['city'] = df_master['city'].astype('object')\n",
    "df_master['component'] = df_master['component'].astype('Int64')\n",
    "df_master['hour'] = df_master['hour'].astype('Int64')\n",
    "df_master['avg_bad_hsi_pct'] = df_master['avg_bad_hsi_pct'].astype('float64')\n",
    "df_master['avg_bad_voice_pct'] = df_master['avg_bad_voice_pct'].astype('float64')"
   ]
  },
  {
   "cell_type": "code",
   "execution_count": 28,
   "id": "9c8fd309",
   "metadata": {},
   "outputs": [
    {
     "data": {
      "text/html": [
       "<div>\n",
       "<style scoped>\n",
       "    .dataframe tbody tr th:only-of-type {\n",
       "        vertical-align: middle;\n",
       "    }\n",
       "\n",
       "    .dataframe tbody tr th {\n",
       "        vertical-align: top;\n",
       "    }\n",
       "\n",
       "    .dataframe thead th {\n",
       "        text-align: right;\n",
       "    }\n",
       "</style>\n",
       "<table border=\"1\" class=\"dataframe\">\n",
       "  <thead>\n",
       "    <tr style=\"text-align: right;\">\n",
       "      <th></th>\n",
       "      <th>partition_date</th>\n",
       "      <th>city</th>\n",
       "      <th>component</th>\n",
       "      <th>hour</th>\n",
       "      <th>avg_bad_hsi_pct</th>\n",
       "      <th>avg_bad_voice_pct</th>\n",
       "      <th>circle</th>\n",
       "    </tr>\n",
       "  </thead>\n",
       "  <tbody>\n",
       "    <tr>\n",
       "      <th>0</th>\n",
       "      <td>2022-11-03</td>\n",
       "      <td>motihari</td>\n",
       "      <td>151</td>\n",
       "      <td>5</td>\n",
       "      <td>8.054286</td>\n",
       "      <td>22.754500</td>\n",
       "      <td>bihar</td>\n",
       "    </tr>\n",
       "    <tr>\n",
       "      <th>1</th>\n",
       "      <td>2022-11-03</td>\n",
       "      <td>sasaram</td>\n",
       "      <td>1</td>\n",
       "      <td>5</td>\n",
       "      <td>16.767143</td>\n",
       "      <td>15.845909</td>\n",
       "      <td>bihar</td>\n",
       "    </tr>\n",
       "    <tr>\n",
       "      <th>2</th>\n",
       "      <td>2022-11-03</td>\n",
       "      <td>samastipur</td>\n",
       "      <td>72</td>\n",
       "      <td>19</td>\n",
       "      <td>24.924286</td>\n",
       "      <td>10.074286</td>\n",
       "      <td>bihar</td>\n",
       "    </tr>\n",
       "    <tr>\n",
       "      <th>3</th>\n",
       "      <td>2022-11-03</td>\n",
       "      <td>muzaffarpur</td>\n",
       "      <td>54</td>\n",
       "      <td>18</td>\n",
       "      <td>7.685000</td>\n",
       "      <td>20.361809</td>\n",
       "      <td>bihar</td>\n",
       "    </tr>\n",
       "    <tr>\n",
       "      <th>4</th>\n",
       "      <td>2022-11-03</td>\n",
       "      <td>ranchi</td>\n",
       "      <td>122</td>\n",
       "      <td>22</td>\n",
       "      <td>14.585333</td>\n",
       "      <td>20.151000</td>\n",
       "      <td>bihar</td>\n",
       "    </tr>\n",
       "  </tbody>\n",
       "</table>\n",
       "</div>"
      ],
      "text/plain": [
       "  partition_date         city  component  hour  avg_bad_hsi_pct  \\\n",
       "0     2022-11-03     motihari        151     5         8.054286   \n",
       "1     2022-11-03      sasaram          1     5        16.767143   \n",
       "2     2022-11-03   samastipur         72    19        24.924286   \n",
       "3     2022-11-03  muzaffarpur         54    18         7.685000   \n",
       "4     2022-11-03       ranchi        122    22        14.585333   \n",
       "\n",
       "   avg_bad_voice_pct circle  \n",
       "0          22.754500  bihar  \n",
       "1          15.845909  bihar  \n",
       "2          10.074286  bihar  \n",
       "3          20.361809  bihar  \n",
       "4          20.151000  bihar  "
      ]
     },
     "execution_count": 28,
     "metadata": {},
     "output_type": "execute_result"
    }
   ],
   "source": [
    "df_master.head()"
   ]
  },
  {
   "cell_type": "markdown",
   "id": "c785fb77",
   "metadata": {},
   "source": [
    "# Rounding off the data"
   ]
  },
  {
   "cell_type": "code",
   "execution_count": 29,
   "id": "d133a934",
   "metadata": {},
   "outputs": [],
   "source": [
    "df_master=df_master.round(2)"
   ]
  },
  {
   "cell_type": "code",
   "execution_count": 30,
   "id": "bebcc455",
   "metadata": {},
   "outputs": [
    {
     "data": {
      "text/html": [
       "<div>\n",
       "<style scoped>\n",
       "    .dataframe tbody tr th:only-of-type {\n",
       "        vertical-align: middle;\n",
       "    }\n",
       "\n",
       "    .dataframe tbody tr th {\n",
       "        vertical-align: top;\n",
       "    }\n",
       "\n",
       "    .dataframe thead th {\n",
       "        text-align: right;\n",
       "    }\n",
       "</style>\n",
       "<table border=\"1\" class=\"dataframe\">\n",
       "  <thead>\n",
       "    <tr style=\"text-align: right;\">\n",
       "      <th></th>\n",
       "      <th>partition_date</th>\n",
       "      <th>city</th>\n",
       "      <th>component</th>\n",
       "      <th>hour</th>\n",
       "      <th>avg_bad_hsi_pct</th>\n",
       "      <th>avg_bad_voice_pct</th>\n",
       "      <th>circle</th>\n",
       "    </tr>\n",
       "  </thead>\n",
       "  <tbody>\n",
       "    <tr>\n",
       "      <th>0</th>\n",
       "      <td>2022-11-03</td>\n",
       "      <td>motihari</td>\n",
       "      <td>151</td>\n",
       "      <td>5</td>\n",
       "      <td>8.05</td>\n",
       "      <td>22.75</td>\n",
       "      <td>bihar</td>\n",
       "    </tr>\n",
       "    <tr>\n",
       "      <th>1</th>\n",
       "      <td>2022-11-03</td>\n",
       "      <td>sasaram</td>\n",
       "      <td>1</td>\n",
       "      <td>5</td>\n",
       "      <td>16.77</td>\n",
       "      <td>15.85</td>\n",
       "      <td>bihar</td>\n",
       "    </tr>\n",
       "    <tr>\n",
       "      <th>2</th>\n",
       "      <td>2022-11-03</td>\n",
       "      <td>samastipur</td>\n",
       "      <td>72</td>\n",
       "      <td>19</td>\n",
       "      <td>24.92</td>\n",
       "      <td>10.07</td>\n",
       "      <td>bihar</td>\n",
       "    </tr>\n",
       "    <tr>\n",
       "      <th>3</th>\n",
       "      <td>2022-11-03</td>\n",
       "      <td>muzaffarpur</td>\n",
       "      <td>54</td>\n",
       "      <td>18</td>\n",
       "      <td>7.68</td>\n",
       "      <td>20.36</td>\n",
       "      <td>bihar</td>\n",
       "    </tr>\n",
       "    <tr>\n",
       "      <th>4</th>\n",
       "      <td>2022-11-03</td>\n",
       "      <td>ranchi</td>\n",
       "      <td>122</td>\n",
       "      <td>22</td>\n",
       "      <td>14.59</td>\n",
       "      <td>20.15</td>\n",
       "      <td>bihar</td>\n",
       "    </tr>\n",
       "  </tbody>\n",
       "</table>\n",
       "</div>"
      ],
      "text/plain": [
       "  partition_date         city  component  hour  avg_bad_hsi_pct  \\\n",
       "0     2022-11-03     motihari        151     5             8.05   \n",
       "1     2022-11-03      sasaram          1     5            16.77   \n",
       "2     2022-11-03   samastipur         72    19            24.92   \n",
       "3     2022-11-03  muzaffarpur         54    18             7.68   \n",
       "4     2022-11-03       ranchi        122    22            14.59   \n",
       "\n",
       "   avg_bad_voice_pct circle  \n",
       "0              22.75  bihar  \n",
       "1              15.85  bihar  \n",
       "2              10.07  bihar  \n",
       "3              20.36  bihar  \n",
       "4              20.15  bihar  "
      ]
     },
     "execution_count": 30,
     "metadata": {},
     "output_type": "execute_result"
    }
   ],
   "source": [
    "df_master.head()"
   ]
  },
  {
   "cell_type": "markdown",
   "id": "bafc9c73",
   "metadata": {},
   "source": [
    "# Setting the column seq"
   ]
  },
  {
   "cell_type": "code",
   "execution_count": 31,
   "id": "35814c6b",
   "metadata": {},
   "outputs": [
    {
     "name": "stdout",
     "output_type": "stream",
     "text": [
      "(994952, 7)\n",
      "Index(['partition_date', 'city', 'component', 'hour', 'avg_bad_hsi_pct',\n",
      "       'avg_bad_voice_pct', 'circle'],\n",
      "      dtype='object')\n"
     ]
    }
   ],
   "source": [
    "print(df_master.shape)\n",
    "print(df_master.columns)"
   ]
  },
  {
   "cell_type": "code",
   "execution_count": 32,
   "id": "c71fb4f6",
   "metadata": {},
   "outputs": [],
   "source": [
    "df_master=df_master[['partition_date','circle','city', 'component', 'hour', 'avg_bad_hsi_pct', 'avg_bad_voice_pct']]"
   ]
  },
  {
   "cell_type": "code",
   "execution_count": 33,
   "id": "56b20f2b",
   "metadata": {},
   "outputs": [
    {
     "data": {
      "text/html": [
       "<div>\n",
       "<style scoped>\n",
       "    .dataframe tbody tr th:only-of-type {\n",
       "        vertical-align: middle;\n",
       "    }\n",
       "\n",
       "    .dataframe tbody tr th {\n",
       "        vertical-align: top;\n",
       "    }\n",
       "\n",
       "    .dataframe thead th {\n",
       "        text-align: right;\n",
       "    }\n",
       "</style>\n",
       "<table border=\"1\" class=\"dataframe\">\n",
       "  <thead>\n",
       "    <tr style=\"text-align: right;\">\n",
       "      <th></th>\n",
       "      <th>partition_date</th>\n",
       "      <th>circle</th>\n",
       "      <th>city</th>\n",
       "      <th>component</th>\n",
       "      <th>hour</th>\n",
       "      <th>avg_bad_hsi_pct</th>\n",
       "      <th>avg_bad_voice_pct</th>\n",
       "    </tr>\n",
       "  </thead>\n",
       "  <tbody>\n",
       "    <tr>\n",
       "      <th>0</th>\n",
       "      <td>2022-11-03</td>\n",
       "      <td>bihar</td>\n",
       "      <td>motihari</td>\n",
       "      <td>151</td>\n",
       "      <td>5</td>\n",
       "      <td>8.05</td>\n",
       "      <td>22.75</td>\n",
       "    </tr>\n",
       "    <tr>\n",
       "      <th>1</th>\n",
       "      <td>2022-11-03</td>\n",
       "      <td>bihar</td>\n",
       "      <td>sasaram</td>\n",
       "      <td>1</td>\n",
       "      <td>5</td>\n",
       "      <td>16.77</td>\n",
       "      <td>15.85</td>\n",
       "    </tr>\n",
       "    <tr>\n",
       "      <th>2</th>\n",
       "      <td>2022-11-03</td>\n",
       "      <td>bihar</td>\n",
       "      <td>samastipur</td>\n",
       "      <td>72</td>\n",
       "      <td>19</td>\n",
       "      <td>24.92</td>\n",
       "      <td>10.07</td>\n",
       "    </tr>\n",
       "    <tr>\n",
       "      <th>3</th>\n",
       "      <td>2022-11-03</td>\n",
       "      <td>bihar</td>\n",
       "      <td>muzaffarpur</td>\n",
       "      <td>54</td>\n",
       "      <td>18</td>\n",
       "      <td>7.68</td>\n",
       "      <td>20.36</td>\n",
       "    </tr>\n",
       "    <tr>\n",
       "      <th>4</th>\n",
       "      <td>2022-11-03</td>\n",
       "      <td>bihar</td>\n",
       "      <td>ranchi</td>\n",
       "      <td>122</td>\n",
       "      <td>22</td>\n",
       "      <td>14.59</td>\n",
       "      <td>20.15</td>\n",
       "    </tr>\n",
       "  </tbody>\n",
       "</table>\n",
       "</div>"
      ],
      "text/plain": [
       "  partition_date circle         city  component  hour  avg_bad_hsi_pct  \\\n",
       "0     2022-11-03  bihar     motihari        151     5             8.05   \n",
       "1     2022-11-03  bihar      sasaram          1     5            16.77   \n",
       "2     2022-11-03  bihar   samastipur         72    19            24.92   \n",
       "3     2022-11-03  bihar  muzaffarpur         54    18             7.68   \n",
       "4     2022-11-03  bihar       ranchi        122    22            14.59   \n",
       "\n",
       "   avg_bad_voice_pct  \n",
       "0              22.75  \n",
       "1              15.85  \n",
       "2              10.07  \n",
       "3              20.36  \n",
       "4              20.15  "
      ]
     },
     "execution_count": 33,
     "metadata": {},
     "output_type": "execute_result"
    }
   ],
   "source": [
    "df_master.head()"
   ]
  },
  {
   "cell_type": "markdown",
   "id": "5a298bfe",
   "metadata": {},
   "source": [
    "# Removing right Spaces from the columns"
   ]
  },
  {
   "cell_type": "code",
   "execution_count": 34,
   "id": "db332108",
   "metadata": {},
   "outputs": [
    {
     "name": "stdout",
     "output_type": "stream",
     "text": [
      "Removing right Spaces from the columns\n"
     ]
    }
   ],
   "source": [
    "print('Removing right Spaces from the columns')\n",
    "df_master.columns = df_master.columns.str.rstrip()\n",
    "df_master.columns = df_master.columns.str.lstrip()\n",
    "df_master.columns = df_master.columns.str.capitalize()"
   ]
  },
  {
   "cell_type": "markdown",
   "id": "e85acbeb",
   "metadata": {},
   "source": [
    "# Remove white space and Drop duplicates"
   ]
  },
  {
   "cell_type": "code",
   "execution_count": 35,
   "id": "bb272a8a",
   "metadata": {},
   "outputs": [],
   "source": [
    "## Pre Processing\n",
    "def remove_whitespaces(df):\n",
    "    df_obj = df.select_dtypes(['object'])\n",
    "    df[df_obj.columns] = df_obj.apply(lambda x: x.str.strip())\n",
    "    df.columns = df.columns.str.strip()\n",
    "    return df\n",
    "\n",
    "def drop_duplicate_records(df):\n",
    "    df.drop_duplicates()\n",
    "    return df"
   ]
  },
  {
   "cell_type": "code",
   "execution_count": 36,
   "id": "6df4b584",
   "metadata": {},
   "outputs": [],
   "source": [
    "df_master=remove_whitespaces(df_master)\n",
    "df_master=drop_duplicate_records(df_master)"
   ]
  },
  {
   "cell_type": "code",
   "execution_count": 37,
   "id": "21009d98",
   "metadata": {},
   "outputs": [
    {
     "data": {
      "text/html": [
       "<div>\n",
       "<style scoped>\n",
       "    .dataframe tbody tr th:only-of-type {\n",
       "        vertical-align: middle;\n",
       "    }\n",
       "\n",
       "    .dataframe tbody tr th {\n",
       "        vertical-align: top;\n",
       "    }\n",
       "\n",
       "    .dataframe thead th {\n",
       "        text-align: right;\n",
       "    }\n",
       "</style>\n",
       "<table border=\"1\" class=\"dataframe\">\n",
       "  <thead>\n",
       "    <tr style=\"text-align: right;\">\n",
       "      <th></th>\n",
       "      <th>Partition_date</th>\n",
       "      <th>Circle</th>\n",
       "      <th>City</th>\n",
       "      <th>Component</th>\n",
       "      <th>Hour</th>\n",
       "      <th>Avg_bad_hsi_pct</th>\n",
       "      <th>Avg_bad_voice_pct</th>\n",
       "    </tr>\n",
       "  </thead>\n",
       "  <tbody>\n",
       "    <tr>\n",
       "      <th>0</th>\n",
       "      <td>2022-11-03</td>\n",
       "      <td>bihar</td>\n",
       "      <td>motihari</td>\n",
       "      <td>151</td>\n",
       "      <td>5</td>\n",
       "      <td>8.05</td>\n",
       "      <td>22.75</td>\n",
       "    </tr>\n",
       "    <tr>\n",
       "      <th>1</th>\n",
       "      <td>2022-11-03</td>\n",
       "      <td>bihar</td>\n",
       "      <td>sasaram</td>\n",
       "      <td>1</td>\n",
       "      <td>5</td>\n",
       "      <td>16.77</td>\n",
       "      <td>15.85</td>\n",
       "    </tr>\n",
       "    <tr>\n",
       "      <th>2</th>\n",
       "      <td>2022-11-03</td>\n",
       "      <td>bihar</td>\n",
       "      <td>samastipur</td>\n",
       "      <td>72</td>\n",
       "      <td>19</td>\n",
       "      <td>24.92</td>\n",
       "      <td>10.07</td>\n",
       "    </tr>\n",
       "    <tr>\n",
       "      <th>3</th>\n",
       "      <td>2022-11-03</td>\n",
       "      <td>bihar</td>\n",
       "      <td>muzaffarpur</td>\n",
       "      <td>54</td>\n",
       "      <td>18</td>\n",
       "      <td>7.68</td>\n",
       "      <td>20.36</td>\n",
       "    </tr>\n",
       "    <tr>\n",
       "      <th>4</th>\n",
       "      <td>2022-11-03</td>\n",
       "      <td>bihar</td>\n",
       "      <td>ranchi</td>\n",
       "      <td>122</td>\n",
       "      <td>22</td>\n",
       "      <td>14.59</td>\n",
       "      <td>20.15</td>\n",
       "    </tr>\n",
       "  </tbody>\n",
       "</table>\n",
       "</div>"
      ],
      "text/plain": [
       "  Partition_date Circle         City  Component  Hour  Avg_bad_hsi_pct  \\\n",
       "0     2022-11-03  bihar     motihari        151     5             8.05   \n",
       "1     2022-11-03  bihar      sasaram          1     5            16.77   \n",
       "2     2022-11-03  bihar   samastipur         72    19            24.92   \n",
       "3     2022-11-03  bihar  muzaffarpur         54    18             7.68   \n",
       "4     2022-11-03  bihar       ranchi        122    22            14.59   \n",
       "\n",
       "   Avg_bad_voice_pct  \n",
       "0              22.75  \n",
       "1              15.85  \n",
       "2              10.07  \n",
       "3              20.36  \n",
       "4              20.15  "
      ]
     },
     "execution_count": 37,
     "metadata": {},
     "output_type": "execute_result"
    }
   ],
   "source": [
    "df_master.head()"
   ]
  },
  {
   "cell_type": "code",
   "execution_count": 38,
   "id": "78402628",
   "metadata": {},
   "outputs": [
    {
     "data": {
      "text/plain": [
       "array(['motihari', 'sasaram', 'samastipur', 'muzaffarpur', 'ranchi',\n",
       "       'bokaro_steel_city', 'ramgarh', 'gaya', 'patna', 'bihar_sharif',\n",
       "       'sahibganj', 'darbhanga', 'madhubani', 'hajipur', 'khagaria',\n",
       "       'bhagalpur', 'araria', 'daltonganj', 'jamui', 'arrah', 'katihar',\n",
       "       'dhanbad', 'kishanganj', 'jamshedpur', 'supaul', 'chaibasa',\n",
       "       'buxar', 'nawada', 'begusarai', 'saunda', 'jehanabad',\n",
       "       'lakhisarai', 'deoghar', 'mokameh', 'hazaribag', 'saharsa',\n",
       "       'aurangabad_bi', 'chirkunda', 'giridih', 'chapra', 'siwan',\n",
       "       'bagaha', 'munger', 'bettiah', 'jamalpur', 'dehri', 'dumka',\n",
       "       'sitamarhi', 'phusro', 'gopalganj', 'rajgir', 'jhumri_tilaiya',\n",
       "       'chakradharpur', 'barauni'], dtype=object)"
      ]
     },
     "execution_count": 38,
     "metadata": {},
     "output_type": "execute_result"
    }
   ],
   "source": [
    "# no of unique cities\n",
    "df_master['City'].unique()"
   ]
  },
  {
   "cell_type": "code",
   "execution_count": 39,
   "id": "1b08265e",
   "metadata": {},
   "outputs": [
    {
     "data": {
      "text/html": [
       "<div>\n",
       "<style scoped>\n",
       "    .dataframe tbody tr th:only-of-type {\n",
       "        vertical-align: middle;\n",
       "    }\n",
       "\n",
       "    .dataframe tbody tr th {\n",
       "        vertical-align: top;\n",
       "    }\n",
       "\n",
       "    .dataframe thead th {\n",
       "        text-align: right;\n",
       "    }\n",
       "</style>\n",
       "<table border=\"1\" class=\"dataframe\">\n",
       "  <thead>\n",
       "    <tr style=\"text-align: right;\">\n",
       "      <th></th>\n",
       "      <th>Component</th>\n",
       "    </tr>\n",
       "    <tr>\n",
       "      <th>City</th>\n",
       "      <th></th>\n",
       "    </tr>\n",
       "  </thead>\n",
       "  <tbody>\n",
       "    <tr>\n",
       "      <th>araria</th>\n",
       "      <td>80</td>\n",
       "    </tr>\n",
       "    <tr>\n",
       "      <th>arrah</th>\n",
       "      <td>123</td>\n",
       "    </tr>\n",
       "    <tr>\n",
       "      <th>aurangabad_bi</th>\n",
       "      <td>70</td>\n",
       "    </tr>\n",
       "    <tr>\n",
       "      <th>bagaha</th>\n",
       "      <td>47</td>\n",
       "    </tr>\n",
       "    <tr>\n",
       "      <th>barauni</th>\n",
       "      <td>82</td>\n",
       "    </tr>\n",
       "    <tr>\n",
       "      <th>begusarai</th>\n",
       "      <td>142</td>\n",
       "    </tr>\n",
       "    <tr>\n",
       "      <th>bettiah</th>\n",
       "      <td>110</td>\n",
       "    </tr>\n",
       "    <tr>\n",
       "      <th>bhagalpur</th>\n",
       "      <td>234</td>\n",
       "    </tr>\n",
       "    <tr>\n",
       "      <th>bihar_sharif</th>\n",
       "      <td>130</td>\n",
       "    </tr>\n",
       "    <tr>\n",
       "      <th>bokaro_steel_city</th>\n",
       "      <td>143</td>\n",
       "    </tr>\n",
       "    <tr>\n",
       "      <th>buxar</th>\n",
       "      <td>118</td>\n",
       "    </tr>\n",
       "    <tr>\n",
       "      <th>chaibasa</th>\n",
       "      <td>62</td>\n",
       "    </tr>\n",
       "    <tr>\n",
       "      <th>chakradharpur</th>\n",
       "      <td>45</td>\n",
       "    </tr>\n",
       "    <tr>\n",
       "      <th>chapra</th>\n",
       "      <td>250</td>\n",
       "    </tr>\n",
       "    <tr>\n",
       "      <th>chirkunda</th>\n",
       "      <td>74</td>\n",
       "    </tr>\n",
       "    <tr>\n",
       "      <th>daltonganj</th>\n",
       "      <td>129</td>\n",
       "    </tr>\n",
       "    <tr>\n",
       "      <th>darbhanga</th>\n",
       "      <td>150</td>\n",
       "    </tr>\n",
       "    <tr>\n",
       "      <th>dehri</th>\n",
       "      <td>55</td>\n",
       "    </tr>\n",
       "    <tr>\n",
       "      <th>deoghar</th>\n",
       "      <td>70</td>\n",
       "    </tr>\n",
       "    <tr>\n",
       "      <th>dhanbad</th>\n",
       "      <td>134</td>\n",
       "    </tr>\n",
       "    <tr>\n",
       "      <th>dumka</th>\n",
       "      <td>84</td>\n",
       "    </tr>\n",
       "    <tr>\n",
       "      <th>gaya</th>\n",
       "      <td>125</td>\n",
       "    </tr>\n",
       "    <tr>\n",
       "      <th>giridih</th>\n",
       "      <td>89</td>\n",
       "    </tr>\n",
       "    <tr>\n",
       "      <th>gopalganj</th>\n",
       "      <td>95</td>\n",
       "    </tr>\n",
       "    <tr>\n",
       "      <th>hajipur</th>\n",
       "      <td>153</td>\n",
       "    </tr>\n",
       "    <tr>\n",
       "      <th>hazaribag</th>\n",
       "      <td>119</td>\n",
       "    </tr>\n",
       "    <tr>\n",
       "      <th>jamalpur</th>\n",
       "      <td>69</td>\n",
       "    </tr>\n",
       "    <tr>\n",
       "      <th>jamshedpur</th>\n",
       "      <td>223</td>\n",
       "    </tr>\n",
       "    <tr>\n",
       "      <th>jamui</th>\n",
       "      <td>65</td>\n",
       "    </tr>\n",
       "    <tr>\n",
       "      <th>jehanabad</th>\n",
       "      <td>55</td>\n",
       "    </tr>\n",
       "    <tr>\n",
       "      <th>jhumri_tilaiya</th>\n",
       "      <td>67</td>\n",
       "    </tr>\n",
       "    <tr>\n",
       "      <th>katihar</th>\n",
       "      <td>137</td>\n",
       "    </tr>\n",
       "    <tr>\n",
       "      <th>khagaria</th>\n",
       "      <td>95</td>\n",
       "    </tr>\n",
       "    <tr>\n",
       "      <th>kishanganj</th>\n",
       "      <td>55</td>\n",
       "    </tr>\n",
       "    <tr>\n",
       "      <th>lakhisarai</th>\n",
       "      <td>69</td>\n",
       "    </tr>\n",
       "    <tr>\n",
       "      <th>madhubani</th>\n",
       "      <td>131</td>\n",
       "    </tr>\n",
       "    <tr>\n",
       "      <th>mokameh</th>\n",
       "      <td>118</td>\n",
       "    </tr>\n",
       "    <tr>\n",
       "      <th>motihari</th>\n",
       "      <td>173</td>\n",
       "    </tr>\n",
       "    <tr>\n",
       "      <th>munger</th>\n",
       "      <td>25</td>\n",
       "    </tr>\n",
       "    <tr>\n",
       "      <th>muzaffarpur</th>\n",
       "      <td>157</td>\n",
       "    </tr>\n",
       "    <tr>\n",
       "      <th>nawada</th>\n",
       "      <td>60</td>\n",
       "    </tr>\n",
       "    <tr>\n",
       "      <th>patna</th>\n",
       "      <td>236</td>\n",
       "    </tr>\n",
       "    <tr>\n",
       "      <th>phusro</th>\n",
       "      <td>76</td>\n",
       "    </tr>\n",
       "    <tr>\n",
       "      <th>rajgir</th>\n",
       "      <td>51</td>\n",
       "    </tr>\n",
       "    <tr>\n",
       "      <th>ramgarh</th>\n",
       "      <td>115</td>\n",
       "    </tr>\n",
       "    <tr>\n",
       "      <th>ranchi</th>\n",
       "      <td>233</td>\n",
       "    </tr>\n",
       "    <tr>\n",
       "      <th>saharsa</th>\n",
       "      <td>65</td>\n",
       "    </tr>\n",
       "    <tr>\n",
       "      <th>sahibganj</th>\n",
       "      <td>40</td>\n",
       "    </tr>\n",
       "    <tr>\n",
       "      <th>samastipur</th>\n",
       "      <td>209</td>\n",
       "    </tr>\n",
       "    <tr>\n",
       "      <th>sasaram</th>\n",
       "      <td>69</td>\n",
       "    </tr>\n",
       "    <tr>\n",
       "      <th>saunda</th>\n",
       "      <td>125</td>\n",
       "    </tr>\n",
       "    <tr>\n",
       "      <th>sitamarhi</th>\n",
       "      <td>109</td>\n",
       "    </tr>\n",
       "    <tr>\n",
       "      <th>siwan</th>\n",
       "      <td>105</td>\n",
       "    </tr>\n",
       "    <tr>\n",
       "      <th>supaul</th>\n",
       "      <td>88</td>\n",
       "    </tr>\n",
       "  </tbody>\n",
       "</table>\n",
       "</div>"
      ],
      "text/plain": [
       "                   Component\n",
       "City                        \n",
       "araria                    80\n",
       "arrah                    123\n",
       "aurangabad_bi             70\n",
       "bagaha                    47\n",
       "barauni                   82\n",
       "begusarai                142\n",
       "bettiah                  110\n",
       "bhagalpur                234\n",
       "bihar_sharif             130\n",
       "bokaro_steel_city        143\n",
       "buxar                    118\n",
       "chaibasa                  62\n",
       "chakradharpur             45\n",
       "chapra                   250\n",
       "chirkunda                 74\n",
       "daltonganj               129\n",
       "darbhanga                150\n",
       "dehri                     55\n",
       "deoghar                   70\n",
       "dhanbad                  134\n",
       "dumka                     84\n",
       "gaya                     125\n",
       "giridih                   89\n",
       "gopalganj                 95\n",
       "hajipur                  153\n",
       "hazaribag                119\n",
       "jamalpur                  69\n",
       "jamshedpur               223\n",
       "jamui                     65\n",
       "jehanabad                 55\n",
       "jhumri_tilaiya            67\n",
       "katihar                  137\n",
       "khagaria                  95\n",
       "kishanganj                55\n",
       "lakhisarai                69\n",
       "madhubani                131\n",
       "mokameh                  118\n",
       "motihari                 173\n",
       "munger                    25\n",
       "muzaffarpur              157\n",
       "nawada                    60\n",
       "patna                    236\n",
       "phusro                    76\n",
       "rajgir                    51\n",
       "ramgarh                  115\n",
       "ranchi                   233\n",
       "saharsa                   65\n",
       "sahibganj                 40\n",
       "samastipur               209\n",
       "sasaram                   69\n",
       "saunda                   125\n",
       "sitamarhi                109\n",
       "siwan                    105\n",
       "supaul                    88"
      ]
     },
     "execution_count": 39,
     "metadata": {},
     "output_type": "execute_result"
    }
   ],
   "source": [
    "# no of comp in each city\n",
    "df_master[['City','Component']].groupby('City').nunique()"
   ]
  },
  {
   "cell_type": "code",
   "execution_count": 40,
   "id": "373e4e61",
   "metadata": {},
   "outputs": [
    {
     "data": {
      "text/plain": [
       "Partition_date           0\n",
       "Circle                   0\n",
       "City                     0\n",
       "Component                0\n",
       "Hour                     0\n",
       "Avg_bad_hsi_pct      95693\n",
       "Avg_bad_voice_pct      689\n",
       "dtype: int64"
      ]
     },
     "execution_count": 40,
     "metadata": {},
     "output_type": "execute_result"
    }
   ],
   "source": [
    "## Null count\n",
    "df_master.isnull().sum()"
   ]
  },
  {
   "cell_type": "code",
   "execution_count": 41,
   "id": "b0e9bbac",
   "metadata": {},
   "outputs": [
    {
     "data": {
      "text/html": [
       "<div>\n",
       "<style scoped>\n",
       "    .dataframe tbody tr th:only-of-type {\n",
       "        vertical-align: middle;\n",
       "    }\n",
       "\n",
       "    .dataframe tbody tr th {\n",
       "        vertical-align: top;\n",
       "    }\n",
       "\n",
       "    .dataframe thead th {\n",
       "        text-align: right;\n",
       "    }\n",
       "</style>\n",
       "<table border=\"1\" class=\"dataframe\">\n",
       "  <thead>\n",
       "    <tr style=\"text-align: right;\">\n",
       "      <th></th>\n",
       "      <th>Avg_bad_hsi_pct</th>\n",
       "      <th>Avg_bad_voice_pct</th>\n",
       "    </tr>\n",
       "  </thead>\n",
       "  <tbody>\n",
       "    <tr>\n",
       "      <th>count</th>\n",
       "      <td>899259.000000</td>\n",
       "      <td>994263.000000</td>\n",
       "    </tr>\n",
       "    <tr>\n",
       "      <th>mean</th>\n",
       "      <td>12.017138</td>\n",
       "      <td>18.358149</td>\n",
       "    </tr>\n",
       "    <tr>\n",
       "      <th>std</th>\n",
       "      <td>8.706622</td>\n",
       "      <td>7.661196</td>\n",
       "    </tr>\n",
       "    <tr>\n",
       "      <th>min</th>\n",
       "      <td>0.000000</td>\n",
       "      <td>0.000000</td>\n",
       "    </tr>\n",
       "    <tr>\n",
       "      <th>25%</th>\n",
       "      <td>6.070000</td>\n",
       "      <td>13.320000</td>\n",
       "    </tr>\n",
       "    <tr>\n",
       "      <th>50%</th>\n",
       "      <td>9.910000</td>\n",
       "      <td>17.180000</td>\n",
       "    </tr>\n",
       "    <tr>\n",
       "      <th>75%</th>\n",
       "      <td>15.710000</td>\n",
       "      <td>22.050000</td>\n",
       "    </tr>\n",
       "    <tr>\n",
       "      <th>max</th>\n",
       "      <td>100.000000</td>\n",
       "      <td>100.000000</td>\n",
       "    </tr>\n",
       "  </tbody>\n",
       "</table>\n",
       "</div>"
      ],
      "text/plain": [
       "       Avg_bad_hsi_pct  Avg_bad_voice_pct\n",
       "count    899259.000000      994263.000000\n",
       "mean         12.017138          18.358149\n",
       "std           8.706622           7.661196\n",
       "min           0.000000           0.000000\n",
       "25%           6.070000          13.320000\n",
       "50%           9.910000          17.180000\n",
       "75%          15.710000          22.050000\n",
       "max         100.000000         100.000000"
      ]
     },
     "execution_count": 41,
     "metadata": {},
     "output_type": "execute_result"
    }
   ],
   "source": [
    "df_master[['Avg_bad_hsi_pct','Avg_bad_voice_pct']].describe()"
   ]
  },
  {
   "cell_type": "code",
   "execution_count": 45,
   "id": "ea57e25f",
   "metadata": {},
   "outputs": [
    {
     "name": "stdout",
     "output_type": "stream",
     "text": [
      "Data succesfully stored in: /Users/ritik.pareek/Desktop/Causal Model/02. Processed Data/04. Network Health Data/Feb2023_Network_Health_data.csv\n"
     ]
    }
   ],
   "source": [
    "### Saving in Pre Processing Folder\n",
    "df_master.to_pickle(pickle_path+'{}{}_Network_Health_data.csv'.format(monthname,year))\n",
    "print('Data succesfully stored in:',pickle_path+'{}{}_Network_Health_data.csv'.format(monthname,year))"
   ]
  },
  {
   "cell_type": "code",
   "execution_count": null,
   "id": "1362f49e",
   "metadata": {},
   "outputs": [],
   "source": []
  }
 ],
 "metadata": {
  "kernelspec": {
   "display_name": "Python 3 (ipykernel)",
   "language": "python",
   "name": "python3"
  },
  "language_info": {
   "codemirror_mode": {
    "name": "ipython",
    "version": 3
   },
   "file_extension": ".py",
   "mimetype": "text/x-python",
   "name": "python",
   "nbconvert_exporter": "python",
   "pygments_lexer": "ipython3",
   "version": "3.11.1"
  }
 },
 "nbformat": 4,
 "nbformat_minor": 5
}
