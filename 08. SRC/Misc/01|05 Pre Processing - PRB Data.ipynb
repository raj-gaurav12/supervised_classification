{
 "cells": [
  {
   "cell_type": "code",
   "execution_count": 1,
   "id": "b315963c",
   "metadata": {},
   "outputs": [],
   "source": [
    "import os\n",
    "import re\n",
    "import glob\n",
    "import pickle\n",
    "import numpy as np\n",
    "import pandas as pd\n",
    "import pandas.io.common\n",
    "import warnings\n",
    "warnings.filterwarnings('ignore')"
   ]
  },
  {
   "cell_type": "code",
   "execution_count": 47,
   "id": "d06a53b4",
   "metadata": {},
   "outputs": [],
   "source": [
    "#### File Path and Variables\n",
    "loc_path = r'/Users/ritik.pareek/Desktop/' \n",
    "path = loc_path + r'/Causal Model/01. Raw Data/05. PRB Data/'\n",
    "pickle_path = loc_path + 'Causal Model/02. Processed Data/05. PRB Data/'\n",
    "### Input for the Circle \n",
    "Circle= 'bihar'\n",
    "\n",
    "monthname = \"Feb\"\n",
    "year = \"2023\""
   ]
  },
  {
   "cell_type": "code",
   "execution_count": 4,
   "id": "928f8759",
   "metadata": {},
   "outputs": [],
   "source": [
    "#### Collating Files \n",
    "# currently we have colated file but in future run we have to colate the files\n",
    "\n",
    "\n",
    "allFiles = glob.glob(path + \"/*.parquet\")\n",
    "lst=[]\n",
    "df_master=pd.DataFrame()\n",
    "for i in allFiles:\n",
    "    df=pd.read_parquet(i,engine='pyarrow')\n",
    "    #print(df.shape)\n",
    "    df_master=df_master.append(df)\n",
    "    #print(df_master.shape)"
   ]
  },
  {
   "cell_type": "code",
   "execution_count": 5,
   "id": "36d38569",
   "metadata": {},
   "outputs": [
    {
     "data": {
      "text/plain": [
       "(964536, 11)"
      ]
     },
     "execution_count": 5,
     "metadata": {},
     "output_type": "execute_result"
    }
   ],
   "source": [
    "df_master.shape"
   ]
  },
  {
   "cell_type": "code",
   "execution_count": 6,
   "id": "e1d80db8",
   "metadata": {},
   "outputs": [
    {
     "data": {
      "text/plain": [
       "Index(['city', 'component', 'hour', 'prb_20', 'prb_70_90', 'prb_90',\n",
       "       'ph_mean_prb_dl', 'totprbdlmin_perc', 'totprbdlmax_perc',\n",
       "       'totprbdltot_perc', 'totprbdlcnt_cnt'],\n",
       "      dtype='object')"
      ]
     },
     "execution_count": 6,
     "metadata": {},
     "output_type": "execute_result"
    }
   ],
   "source": [
    "df_master.columns"
   ]
  },
  {
   "cell_type": "markdown",
   "id": "6db28939",
   "metadata": {},
   "source": [
    "# Removing rows where hour is null"
   ]
  },
  {
   "cell_type": "code",
   "execution_count": 7,
   "id": "4b92f489",
   "metadata": {},
   "outputs": [
    {
     "data": {
      "text/plain": [
       "array([19.,  6.,  5., 20., 11., 23., 21., 16., 18., 14.,  7., 13., 12.,\n",
       "        2.,  3.,  4.,  8., 15., 17.,  0.,  9., 22., 10.,  1., nan])"
      ]
     },
     "execution_count": 7,
     "metadata": {},
     "output_type": "execute_result"
    }
   ],
   "source": [
    "df_master['hour'].unique()"
   ]
  },
  {
   "cell_type": "code",
   "execution_count": 11,
   "id": "57b7f4e1",
   "metadata": {},
   "outputs": [
    {
     "data": {
      "text/plain": [
       "336"
      ]
     },
     "execution_count": 11,
     "metadata": {},
     "output_type": "execute_result"
    }
   ],
   "source": [
    "# Null count\n",
    "df_master[df_master['hour'].isnull()].shape[0]"
   ]
  },
  {
   "cell_type": "code",
   "execution_count": 12,
   "id": "ce7c252f",
   "metadata": {},
   "outputs": [],
   "source": [
    "# dropping the null values\n",
    "df_master.dropna(subset=['hour'], how='all', inplace=True)"
   ]
  },
  {
   "cell_type": "code",
   "execution_count": 25,
   "id": "d2cedbc8",
   "metadata": {},
   "outputs": [],
   "source": [
    "# index reseting\n",
    "df_master.reset_index(inplace=True, drop=True)"
   ]
  },
  {
   "cell_type": "code",
   "execution_count": 13,
   "id": "31c2460b",
   "metadata": {},
   "outputs": [
    {
     "data": {
      "text/plain": [
       "array([19.,  6.,  5., 20., 11., 23., 21., 16., 18., 14.,  7., 13., 12.,\n",
       "        2.,  3.,  4.,  8., 15., 17.,  0.,  9., 22., 10.,  1.])"
      ]
     },
     "execution_count": 13,
     "metadata": {},
     "output_type": "execute_result"
    }
   ],
   "source": [
    "df_master['hour'].unique()"
   ]
  },
  {
   "cell_type": "code",
   "execution_count": 14,
   "id": "6d116c55",
   "metadata": {},
   "outputs": [
    {
     "data": {
      "text/plain": [
       "(964200, 11)"
      ]
     },
     "execution_count": 14,
     "metadata": {},
     "output_type": "execute_result"
    }
   ],
   "source": [
    "df_master.shape"
   ]
  },
  {
   "cell_type": "markdown",
   "id": "1284e7ea",
   "metadata": {},
   "source": [
    "# Defining the data types"
   ]
  },
  {
   "cell_type": "code",
   "execution_count": 15,
   "id": "682b0986",
   "metadata": {},
   "outputs": [],
   "source": [
    "df_master['city'] = df_master['city'].astype('object')\n",
    "df_master['component'] = df_master['component'].astype('int64')\n",
    "df_master['hour'] = df_master['hour'].astype('int64')\n",
    "df_master['prb_20'] = df_master['prb_20'].astype('int64')\n",
    "df_master['prb_70_90'] = df_master['prb_70_90'].astype('int64')\n",
    "df_master['prb_90'] = df_master['prb_90'].astype('int64')\n",
    "df_master['ph_mean_prb_dl'] = df_master['ph_mean_prb_dl'].astype('float64')\n",
    "df_master['totprbdlmin_perc'] = df_master['totprbdlmin_perc'].astype('float64')\n",
    "df_master['totprbdlmax_perc'] = df_master['totprbdlmax_perc'].astype('float64')\n",
    "df_master['totprbdltot_perc'] = df_master['totprbdltot_perc'].astype('float64')\n",
    "df_master['totprbdlcnt_cnt'] = df_master['totprbdlcnt_cnt'].astype('float64')"
   ]
  },
  {
   "cell_type": "code",
   "execution_count": 16,
   "id": "b0f0622d",
   "metadata": {},
   "outputs": [
    {
     "data": {
      "text/plain": [
       "city                 object\n",
       "component             int64\n",
       "hour                  int64\n",
       "prb_20                int64\n",
       "prb_70_90             int64\n",
       "prb_90                int64\n",
       "ph_mean_prb_dl      float64\n",
       "totprbdlmin_perc    float64\n",
       "totprbdlmax_perc    float64\n",
       "totprbdltot_perc    float64\n",
       "totprbdlcnt_cnt     float64\n",
       "dtype: object"
      ]
     },
     "execution_count": 16,
     "metadata": {},
     "output_type": "execute_result"
    }
   ],
   "source": [
    "df_master.dtypes"
   ]
  },
  {
   "cell_type": "markdown",
   "id": "f93269b0",
   "metadata": {},
   "source": [
    "# Rounding off the data"
   ]
  },
  {
   "cell_type": "code",
   "execution_count": 17,
   "id": "e3f0a55e",
   "metadata": {},
   "outputs": [],
   "source": [
    "df_master=df_master.round(2)"
   ]
  },
  {
   "cell_type": "code",
   "execution_count": 18,
   "id": "8d8a58b0",
   "metadata": {},
   "outputs": [
    {
     "data": {
      "text/html": [
       "<div>\n",
       "<style scoped>\n",
       "    .dataframe tbody tr th:only-of-type {\n",
       "        vertical-align: middle;\n",
       "    }\n",
       "\n",
       "    .dataframe tbody tr th {\n",
       "        vertical-align: top;\n",
       "    }\n",
       "\n",
       "    .dataframe thead th {\n",
       "        text-align: right;\n",
       "    }\n",
       "</style>\n",
       "<table border=\"1\" class=\"dataframe\">\n",
       "  <thead>\n",
       "    <tr style=\"text-align: right;\">\n",
       "      <th></th>\n",
       "      <th>city</th>\n",
       "      <th>component</th>\n",
       "      <th>hour</th>\n",
       "      <th>prb_20</th>\n",
       "      <th>prb_70_90</th>\n",
       "      <th>prb_90</th>\n",
       "      <th>ph_mean_prb_dl</th>\n",
       "      <th>totprbdlmin_perc</th>\n",
       "      <th>totprbdlmax_perc</th>\n",
       "      <th>totprbdltot_perc</th>\n",
       "      <th>totprbdlcnt_cnt</th>\n",
       "    </tr>\n",
       "  </thead>\n",
       "  <tbody>\n",
       "    <tr>\n",
       "      <th>0</th>\n",
       "      <td>darbhanga</td>\n",
       "      <td>3</td>\n",
       "      <td>19</td>\n",
       "      <td>1</td>\n",
       "      <td>14</td>\n",
       "      <td>15</td>\n",
       "      <td>78.07</td>\n",
       "      <td>29.75</td>\n",
       "      <td>97.83</td>\n",
       "      <td>12541.18</td>\n",
       "      <td>175.80</td>\n",
       "    </tr>\n",
       "    <tr>\n",
       "      <th>1</th>\n",
       "      <td>gaya</td>\n",
       "      <td>15</td>\n",
       "      <td>6</td>\n",
       "      <td>15</td>\n",
       "      <td>1</td>\n",
       "      <td>0</td>\n",
       "      <td>20.54</td>\n",
       "      <td>3.67</td>\n",
       "      <td>63.21</td>\n",
       "      <td>2516.73</td>\n",
       "      <td>175.75</td>\n",
       "    </tr>\n",
       "    <tr>\n",
       "      <th>2</th>\n",
       "      <td>patna</td>\n",
       "      <td>195</td>\n",
       "      <td>5</td>\n",
       "      <td>36</td>\n",
       "      <td>0</td>\n",
       "      <td>0</td>\n",
       "      <td>9.55</td>\n",
       "      <td>2.60</td>\n",
       "      <td>38.91</td>\n",
       "      <td>1236.47</td>\n",
       "      <td>174.19</td>\n",
       "    </tr>\n",
       "    <tr>\n",
       "      <th>3</th>\n",
       "      <td>lakhisarai</td>\n",
       "      <td>24</td>\n",
       "      <td>20</td>\n",
       "      <td>0</td>\n",
       "      <td>5</td>\n",
       "      <td>3</td>\n",
       "      <td>77.74</td>\n",
       "      <td>30.35</td>\n",
       "      <td>96.65</td>\n",
       "      <td>12445.37</td>\n",
       "      <td>175.82</td>\n",
       "    </tr>\n",
       "    <tr>\n",
       "      <th>4</th>\n",
       "      <td>gopalganj</td>\n",
       "      <td>20</td>\n",
       "      <td>11</td>\n",
       "      <td>0</td>\n",
       "      <td>6</td>\n",
       "      <td>4</td>\n",
       "      <td>66.61</td>\n",
       "      <td>19.70</td>\n",
       "      <td>97.13</td>\n",
       "      <td>10485.31</td>\n",
       "      <td>175.79</td>\n",
       "    </tr>\n",
       "  </tbody>\n",
       "</table>\n",
       "</div>"
      ],
      "text/plain": [
       "         city  component  hour  prb_20  prb_70_90  prb_90  ph_mean_prb_dl  \\\n",
       "0   darbhanga          3    19       1         14      15           78.07   \n",
       "1        gaya         15     6      15          1       0           20.54   \n",
       "2       patna        195     5      36          0       0            9.55   \n",
       "3  lakhisarai         24    20       0          5       3           77.74   \n",
       "4   gopalganj         20    11       0          6       4           66.61   \n",
       "\n",
       "   totprbdlmin_perc  totprbdlmax_perc  totprbdltot_perc  totprbdlcnt_cnt  \n",
       "0             29.75             97.83          12541.18           175.80  \n",
       "1              3.67             63.21           2516.73           175.75  \n",
       "2              2.60             38.91           1236.47           174.19  \n",
       "3             30.35             96.65          12445.37           175.82  \n",
       "4             19.70             97.13          10485.31           175.79  "
      ]
     },
     "execution_count": 18,
     "metadata": {},
     "output_type": "execute_result"
    }
   ],
   "source": [
    "df_master.head()"
   ]
  },
  {
   "cell_type": "markdown",
   "id": "41887012",
   "metadata": {},
   "source": [
    "# Setting the column seq"
   ]
  },
  {
   "cell_type": "code",
   "execution_count": 19,
   "id": "0fa08afe",
   "metadata": {},
   "outputs": [
    {
     "name": "stdout",
     "output_type": "stream",
     "text": [
      "(964200, 11)\n",
      "Index(['city', 'component', 'hour', 'prb_20', 'prb_70_90', 'prb_90',\n",
      "       'ph_mean_prb_dl', 'totprbdlmin_perc', 'totprbdlmax_perc',\n",
      "       'totprbdltot_perc', 'totprbdlcnt_cnt'],\n",
      "      dtype='object')\n"
     ]
    }
   ],
   "source": [
    "print(df_master.shape)\n",
    "print(df_master.columns)"
   ]
  },
  {
   "cell_type": "code",
   "execution_count": 20,
   "id": "b9ca2f37",
   "metadata": {},
   "outputs": [],
   "source": [
    "df_master=df_master[['city', 'component', 'hour', 'prb_20', 'prb_70_90', 'prb_90',\n",
    "       'ph_mean_prb_dl', 'totprbdlmin_perc', 'totprbdlmax_perc',\n",
    "       'totprbdltot_perc', 'totprbdlcnt_cnt']]"
   ]
  },
  {
   "cell_type": "markdown",
   "id": "2d381f99",
   "metadata": {},
   "source": [
    "# Removing right Spaces from the columns"
   ]
  },
  {
   "cell_type": "code",
   "execution_count": 21,
   "id": "b58853a3",
   "metadata": {},
   "outputs": [
    {
     "name": "stdout",
     "output_type": "stream",
     "text": [
      "Removing right Spaces from the columns\n"
     ]
    }
   ],
   "source": [
    "print('Removing right Spaces from the columns')\n",
    "df_master.columns = df_master.columns.str.rstrip()\n",
    "df_master.columns = df_master.columns.str.lstrip()\n",
    "df_master.columns = df_master.columns.str.capitalize()"
   ]
  },
  {
   "cell_type": "markdown",
   "id": "cf6cd575",
   "metadata": {},
   "source": [
    "# Remove white space and Drop duplicates"
   ]
  },
  {
   "cell_type": "code",
   "execution_count": 22,
   "id": "25ed73bb",
   "metadata": {},
   "outputs": [],
   "source": [
    "## Pre Processing\n",
    "def remove_whitespaces(df):\n",
    "    df_obj = df.select_dtypes(['object'])\n",
    "    df[df_obj.columns] = df_obj.apply(lambda x: x.str.strip())\n",
    "    df.columns = df.columns.str.strip()\n",
    "    return df\n",
    "\n",
    "def drop_duplicate_records(df):\n",
    "    df.drop_duplicates()\n",
    "    return df"
   ]
  },
  {
   "cell_type": "code",
   "execution_count": 23,
   "id": "326f39cc",
   "metadata": {},
   "outputs": [],
   "source": [
    "df_master=remove_whitespaces(df_master)\n",
    "df_master=drop_duplicate_records(df_master)"
   ]
  },
  {
   "cell_type": "code",
   "execution_count": 28,
   "id": "19841508",
   "metadata": {},
   "outputs": [
    {
     "data": {
      "text/html": [
       "<div>\n",
       "<style scoped>\n",
       "    .dataframe tbody tr th:only-of-type {\n",
       "        vertical-align: middle;\n",
       "    }\n",
       "\n",
       "    .dataframe tbody tr th {\n",
       "        vertical-align: top;\n",
       "    }\n",
       "\n",
       "    .dataframe thead th {\n",
       "        text-align: right;\n",
       "    }\n",
       "</style>\n",
       "<table border=\"1\" class=\"dataframe\">\n",
       "  <thead>\n",
       "    <tr style=\"text-align: right;\">\n",
       "      <th></th>\n",
       "      <th>City</th>\n",
       "      <th>Component</th>\n",
       "      <th>Hour</th>\n",
       "      <th>Prb_20</th>\n",
       "      <th>Prb_70_90</th>\n",
       "      <th>Prb_90</th>\n",
       "      <th>Ph_mean_prb_dl</th>\n",
       "      <th>Totprbdlmin_perc</th>\n",
       "      <th>Totprbdlmax_perc</th>\n",
       "      <th>Totprbdltot_perc</th>\n",
       "      <th>Totprbdlcnt_cnt</th>\n",
       "    </tr>\n",
       "  </thead>\n",
       "  <tbody>\n",
       "    <tr>\n",
       "      <th>0</th>\n",
       "      <td>darbhanga</td>\n",
       "      <td>3</td>\n",
       "      <td>19</td>\n",
       "      <td>1</td>\n",
       "      <td>14</td>\n",
       "      <td>15</td>\n",
       "      <td>78.07</td>\n",
       "      <td>29.75</td>\n",
       "      <td>97.83</td>\n",
       "      <td>12541.18</td>\n",
       "      <td>175.80</td>\n",
       "    </tr>\n",
       "    <tr>\n",
       "      <th>1</th>\n",
       "      <td>gaya</td>\n",
       "      <td>15</td>\n",
       "      <td>6</td>\n",
       "      <td>15</td>\n",
       "      <td>1</td>\n",
       "      <td>0</td>\n",
       "      <td>20.54</td>\n",
       "      <td>3.67</td>\n",
       "      <td>63.21</td>\n",
       "      <td>2516.73</td>\n",
       "      <td>175.75</td>\n",
       "    </tr>\n",
       "    <tr>\n",
       "      <th>2</th>\n",
       "      <td>patna</td>\n",
       "      <td>195</td>\n",
       "      <td>5</td>\n",
       "      <td>36</td>\n",
       "      <td>0</td>\n",
       "      <td>0</td>\n",
       "      <td>9.55</td>\n",
       "      <td>2.60</td>\n",
       "      <td>38.91</td>\n",
       "      <td>1236.47</td>\n",
       "      <td>174.19</td>\n",
       "    </tr>\n",
       "    <tr>\n",
       "      <th>3</th>\n",
       "      <td>lakhisarai</td>\n",
       "      <td>24</td>\n",
       "      <td>20</td>\n",
       "      <td>0</td>\n",
       "      <td>5</td>\n",
       "      <td>3</td>\n",
       "      <td>77.74</td>\n",
       "      <td>30.35</td>\n",
       "      <td>96.65</td>\n",
       "      <td>12445.37</td>\n",
       "      <td>175.82</td>\n",
       "    </tr>\n",
       "    <tr>\n",
       "      <th>4</th>\n",
       "      <td>gopalganj</td>\n",
       "      <td>20</td>\n",
       "      <td>11</td>\n",
       "      <td>0</td>\n",
       "      <td>6</td>\n",
       "      <td>4</td>\n",
       "      <td>66.61</td>\n",
       "      <td>19.70</td>\n",
       "      <td>97.13</td>\n",
       "      <td>10485.31</td>\n",
       "      <td>175.79</td>\n",
       "    </tr>\n",
       "  </tbody>\n",
       "</table>\n",
       "</div>"
      ],
      "text/plain": [
       "         City  Component  Hour  Prb_20  Prb_70_90  Prb_90  Ph_mean_prb_dl  \\\n",
       "0   darbhanga          3    19       1         14      15           78.07   \n",
       "1        gaya         15     6      15          1       0           20.54   \n",
       "2       patna        195     5      36          0       0            9.55   \n",
       "3  lakhisarai         24    20       0          5       3           77.74   \n",
       "4   gopalganj         20    11       0          6       4           66.61   \n",
       "\n",
       "   Totprbdlmin_perc  Totprbdlmax_perc  Totprbdltot_perc  Totprbdlcnt_cnt  \n",
       "0             29.75             97.83          12541.18           175.80  \n",
       "1              3.67             63.21           2516.73           175.75  \n",
       "2              2.60             38.91           1236.47           174.19  \n",
       "3             30.35             96.65          12445.37           175.82  \n",
       "4             19.70             97.13          10485.31           175.79  "
      ]
     },
     "execution_count": 28,
     "metadata": {},
     "output_type": "execute_result"
    }
   ],
   "source": [
    "df_master.head()"
   ]
  },
  {
   "cell_type": "code",
   "execution_count": 38,
   "id": "e8dc0c77",
   "metadata": {},
   "outputs": [
    {
     "data": {
      "text/plain": [
       "array(['darbhanga', 'gaya', 'patna', 'lakhisarai', 'gopalganj', 'chapra',\n",
       "       'dhanbad', 'jamshedpur', 'bokaro_steel_city', 'giridih', 'barauni',\n",
       "       'motihari', 'ranchi', 'katihar', 'buxar', 'arrah', 'madhubani',\n",
       "       'mokameh', 'kishanganj', 'sitamarhi', 'jhumri_tilaiya',\n",
       "       'samastipur', 'bihar_sharif', 'hazaribag', 'saharsa',\n",
       "       'muzaffarpur', 'begusarai', 'dumka', 'bettiah', 'bhagalpur',\n",
       "       'sahibganj', 'hajipur', 'ramgarh', 'supaul', 'jamui', 'saunda',\n",
       "       'dehri', 'sasaram', 'aurangabad_bi', 'deoghar', 'daltonganj',\n",
       "       'jamalpur', 'khagaria', 'phusro', 'siwan', 'chaibasa', 'bagaha',\n",
       "       'jehanabad', 'araria', 'rajgir', 'munger', 'chirkunda', 'nawada',\n",
       "       'chakradharpur'], dtype=object)"
      ]
     },
     "execution_count": 38,
     "metadata": {},
     "output_type": "execute_result"
    }
   ],
   "source": [
    "# no of unique cities\n",
    "df_master['City'].unique()"
   ]
  },
  {
   "cell_type": "code",
   "execution_count": 52,
   "id": "cec4bfa4",
   "metadata": {},
   "outputs": [
    {
     "data": {
      "text/html": [
       "<div>\n",
       "<style scoped>\n",
       "    .dataframe tbody tr th:only-of-type {\n",
       "        vertical-align: middle;\n",
       "    }\n",
       "\n",
       "    .dataframe tbody tr th {\n",
       "        vertical-align: top;\n",
       "    }\n",
       "\n",
       "    .dataframe thead th {\n",
       "        text-align: right;\n",
       "    }\n",
       "</style>\n",
       "<table border=\"1\" class=\"dataframe\">\n",
       "  <thead>\n",
       "    <tr style=\"text-align: right;\">\n",
       "      <th></th>\n",
       "      <th>Component</th>\n",
       "    </tr>\n",
       "    <tr>\n",
       "      <th>City</th>\n",
       "      <th></th>\n",
       "    </tr>\n",
       "  </thead>\n",
       "  <tbody>\n",
       "    <tr>\n",
       "      <th>araria</th>\n",
       "      <td>80</td>\n",
       "    </tr>\n",
       "    <tr>\n",
       "      <th>arrah</th>\n",
       "      <td>123</td>\n",
       "    </tr>\n",
       "    <tr>\n",
       "      <th>aurangabad_bi</th>\n",
       "      <td>70</td>\n",
       "    </tr>\n",
       "    <tr>\n",
       "      <th>bagaha</th>\n",
       "      <td>47</td>\n",
       "    </tr>\n",
       "    <tr>\n",
       "      <th>barauni</th>\n",
       "      <td>105</td>\n",
       "    </tr>\n",
       "    <tr>\n",
       "      <th>begusarai</th>\n",
       "      <td>142</td>\n",
       "    </tr>\n",
       "    <tr>\n",
       "      <th>bettiah</th>\n",
       "      <td>110</td>\n",
       "    </tr>\n",
       "    <tr>\n",
       "      <th>bhagalpur</th>\n",
       "      <td>234</td>\n",
       "    </tr>\n",
       "    <tr>\n",
       "      <th>bihar_sharif</th>\n",
       "      <td>130</td>\n",
       "    </tr>\n",
       "    <tr>\n",
       "      <th>bokaro_steel_city</th>\n",
       "      <td>143</td>\n",
       "    </tr>\n",
       "    <tr>\n",
       "      <th>buxar</th>\n",
       "      <td>118</td>\n",
       "    </tr>\n",
       "    <tr>\n",
       "      <th>chaibasa</th>\n",
       "      <td>62</td>\n",
       "    </tr>\n",
       "    <tr>\n",
       "      <th>chakradharpur</th>\n",
       "      <td>45</td>\n",
       "    </tr>\n",
       "    <tr>\n",
       "      <th>chapra</th>\n",
       "      <td>250</td>\n",
       "    </tr>\n",
       "    <tr>\n",
       "      <th>chirkunda</th>\n",
       "      <td>74</td>\n",
       "    </tr>\n",
       "    <tr>\n",
       "      <th>daltonganj</th>\n",
       "      <td>129</td>\n",
       "    </tr>\n",
       "    <tr>\n",
       "      <th>darbhanga</th>\n",
       "      <td>150</td>\n",
       "    </tr>\n",
       "    <tr>\n",
       "      <th>dehri</th>\n",
       "      <td>55</td>\n",
       "    </tr>\n",
       "    <tr>\n",
       "      <th>deoghar</th>\n",
       "      <td>70</td>\n",
       "    </tr>\n",
       "    <tr>\n",
       "      <th>dhanbad</th>\n",
       "      <td>134</td>\n",
       "    </tr>\n",
       "    <tr>\n",
       "      <th>dumka</th>\n",
       "      <td>90</td>\n",
       "    </tr>\n",
       "    <tr>\n",
       "      <th>gaya</th>\n",
       "      <td>125</td>\n",
       "    </tr>\n",
       "    <tr>\n",
       "      <th>giridih</th>\n",
       "      <td>89</td>\n",
       "    </tr>\n",
       "    <tr>\n",
       "      <th>gopalganj</th>\n",
       "      <td>95</td>\n",
       "    </tr>\n",
       "    <tr>\n",
       "      <th>hajipur</th>\n",
       "      <td>172</td>\n",
       "    </tr>\n",
       "    <tr>\n",
       "      <th>hazaribag</th>\n",
       "      <td>119</td>\n",
       "    </tr>\n",
       "    <tr>\n",
       "      <th>jamalpur</th>\n",
       "      <td>69</td>\n",
       "    </tr>\n",
       "    <tr>\n",
       "      <th>jamshedpur</th>\n",
       "      <td>227</td>\n",
       "    </tr>\n",
       "    <tr>\n",
       "      <th>jamui</th>\n",
       "      <td>65</td>\n",
       "    </tr>\n",
       "    <tr>\n",
       "      <th>jehanabad</th>\n",
       "      <td>55</td>\n",
       "    </tr>\n",
       "    <tr>\n",
       "      <th>jhumri_tilaiya</th>\n",
       "      <td>67</td>\n",
       "    </tr>\n",
       "    <tr>\n",
       "      <th>katihar</th>\n",
       "      <td>137</td>\n",
       "    </tr>\n",
       "    <tr>\n",
       "      <th>khagaria</th>\n",
       "      <td>95</td>\n",
       "    </tr>\n",
       "    <tr>\n",
       "      <th>kishanganj</th>\n",
       "      <td>55</td>\n",
       "    </tr>\n",
       "    <tr>\n",
       "      <th>lakhisarai</th>\n",
       "      <td>69</td>\n",
       "    </tr>\n",
       "    <tr>\n",
       "      <th>madhubani</th>\n",
       "      <td>131</td>\n",
       "    </tr>\n",
       "    <tr>\n",
       "      <th>mokameh</th>\n",
       "      <td>118</td>\n",
       "    </tr>\n",
       "    <tr>\n",
       "      <th>motihari</th>\n",
       "      <td>173</td>\n",
       "    </tr>\n",
       "    <tr>\n",
       "      <th>munger</th>\n",
       "      <td>25</td>\n",
       "    </tr>\n",
       "    <tr>\n",
       "      <th>muzaffarpur</th>\n",
       "      <td>157</td>\n",
       "    </tr>\n",
       "    <tr>\n",
       "      <th>nawada</th>\n",
       "      <td>60</td>\n",
       "    </tr>\n",
       "    <tr>\n",
       "      <th>patna</th>\n",
       "      <td>236</td>\n",
       "    </tr>\n",
       "    <tr>\n",
       "      <th>phusro</th>\n",
       "      <td>76</td>\n",
       "    </tr>\n",
       "    <tr>\n",
       "      <th>rajgir</th>\n",
       "      <td>51</td>\n",
       "    </tr>\n",
       "    <tr>\n",
       "      <th>ramgarh</th>\n",
       "      <td>115</td>\n",
       "    </tr>\n",
       "    <tr>\n",
       "      <th>ranchi</th>\n",
       "      <td>233</td>\n",
       "    </tr>\n",
       "    <tr>\n",
       "      <th>saharsa</th>\n",
       "      <td>65</td>\n",
       "    </tr>\n",
       "    <tr>\n",
       "      <th>sahibganj</th>\n",
       "      <td>40</td>\n",
       "    </tr>\n",
       "    <tr>\n",
       "      <th>samastipur</th>\n",
       "      <td>209</td>\n",
       "    </tr>\n",
       "    <tr>\n",
       "      <th>sasaram</th>\n",
       "      <td>69</td>\n",
       "    </tr>\n",
       "    <tr>\n",
       "      <th>saunda</th>\n",
       "      <td>125</td>\n",
       "    </tr>\n",
       "    <tr>\n",
       "      <th>sitamarhi</th>\n",
       "      <td>109</td>\n",
       "    </tr>\n",
       "    <tr>\n",
       "      <th>siwan</th>\n",
       "      <td>105</td>\n",
       "    </tr>\n",
       "    <tr>\n",
       "      <th>supaul</th>\n",
       "      <td>88</td>\n",
       "    </tr>\n",
       "  </tbody>\n",
       "</table>\n",
       "</div>"
      ],
      "text/plain": [
       "                   Component\n",
       "City                        \n",
       "araria                    80\n",
       "arrah                    123\n",
       "aurangabad_bi             70\n",
       "bagaha                    47\n",
       "barauni                  105\n",
       "begusarai                142\n",
       "bettiah                  110\n",
       "bhagalpur                234\n",
       "bihar_sharif             130\n",
       "bokaro_steel_city        143\n",
       "buxar                    118\n",
       "chaibasa                  62\n",
       "chakradharpur             45\n",
       "chapra                   250\n",
       "chirkunda                 74\n",
       "daltonganj               129\n",
       "darbhanga                150\n",
       "dehri                     55\n",
       "deoghar                   70\n",
       "dhanbad                  134\n",
       "dumka                     90\n",
       "gaya                     125\n",
       "giridih                   89\n",
       "gopalganj                 95\n",
       "hajipur                  172\n",
       "hazaribag                119\n",
       "jamalpur                  69\n",
       "jamshedpur               227\n",
       "jamui                     65\n",
       "jehanabad                 55\n",
       "jhumri_tilaiya            67\n",
       "katihar                  137\n",
       "khagaria                  95\n",
       "kishanganj                55\n",
       "lakhisarai                69\n",
       "madhubani                131\n",
       "mokameh                  118\n",
       "motihari                 173\n",
       "munger                    25\n",
       "muzaffarpur              157\n",
       "nawada                    60\n",
       "patna                    236\n",
       "phusro                    76\n",
       "rajgir                    51\n",
       "ramgarh                  115\n",
       "ranchi                   233\n",
       "saharsa                   65\n",
       "sahibganj                 40\n",
       "samastipur               209\n",
       "sasaram                   69\n",
       "saunda                   125\n",
       "sitamarhi                109\n",
       "siwan                    105\n",
       "supaul                    88"
      ]
     },
     "execution_count": 52,
     "metadata": {},
     "output_type": "execute_result"
    }
   ],
   "source": [
    "# no of comp in each city\n",
    "df_master[['City','Component']].groupby('City').nunique()"
   ]
  },
  {
   "cell_type": "code",
   "execution_count": 31,
   "id": "d18373b1",
   "metadata": {},
   "outputs": [
    {
     "data": {
      "text/plain": [
       "City                0\n",
       "Component           0\n",
       "Hour                0\n",
       "Prb_20              0\n",
       "Prb_70_90           0\n",
       "Prb_90              0\n",
       "Ph_mean_prb_dl      0\n",
       "Totprbdlmin_perc    0\n",
       "Totprbdlmax_perc    0\n",
       "Totprbdltot_perc    0\n",
       "Totprbdlcnt_cnt     0\n",
       "dtype: int64"
      ]
     },
     "execution_count": 31,
     "metadata": {},
     "output_type": "execute_result"
    }
   ],
   "source": [
    "## Null count\n",
    "df_master.isnull().sum()"
   ]
  },
  {
   "cell_type": "code",
   "execution_count": 37,
   "id": "16adab3d",
   "metadata": {},
   "outputs": [
    {
     "data": {
      "text/html": [
       "<div>\n",
       "<style scoped>\n",
       "    .dataframe tbody tr th:only-of-type {\n",
       "        vertical-align: middle;\n",
       "    }\n",
       "\n",
       "    .dataframe tbody tr th {\n",
       "        vertical-align: top;\n",
       "    }\n",
       "\n",
       "    .dataframe thead th {\n",
       "        text-align: right;\n",
       "    }\n",
       "</style>\n",
       "<table border=\"1\" class=\"dataframe\">\n",
       "  <thead>\n",
       "    <tr style=\"text-align: right;\">\n",
       "      <th></th>\n",
       "      <th>Ph_mean_prb_dl</th>\n",
       "      <th>Totprbdlmin_perc</th>\n",
       "      <th>Totprbdlmax_perc</th>\n",
       "      <th>Totprbdltot_perc</th>\n",
       "      <th>Totprbdlcnt_cnt</th>\n",
       "    </tr>\n",
       "  </thead>\n",
       "  <tbody>\n",
       "    <tr>\n",
       "      <th>count</th>\n",
       "      <td>964200.000000</td>\n",
       "      <td>964200.000000</td>\n",
       "      <td>964200.000000</td>\n",
       "      <td>964200.000000</td>\n",
       "      <td>964200.000000</td>\n",
       "    </tr>\n",
       "    <tr>\n",
       "      <th>mean</th>\n",
       "      <td>42.431351</td>\n",
       "      <td>10.707335</td>\n",
       "      <td>77.284738</td>\n",
       "      <td>6193.779468</td>\n",
       "      <td>168.440480</td>\n",
       "    </tr>\n",
       "    <tr>\n",
       "      <th>std</th>\n",
       "      <td>22.069760</td>\n",
       "      <td>9.099064</td>\n",
       "      <td>21.751449</td>\n",
       "      <td>3625.430014</td>\n",
       "      <td>19.131511</td>\n",
       "    </tr>\n",
       "    <tr>\n",
       "      <th>min</th>\n",
       "      <td>0.000000</td>\n",
       "      <td>0.000000</td>\n",
       "      <td>0.000000</td>\n",
       "      <td>0.000000</td>\n",
       "      <td>0.000000</td>\n",
       "    </tr>\n",
       "    <tr>\n",
       "      <th>25%</th>\n",
       "      <td>23.440000</td>\n",
       "      <td>3.580000</td>\n",
       "      <td>66.680000</td>\n",
       "      <td>2927.585000</td>\n",
       "      <td>175.750000</td>\n",
       "    </tr>\n",
       "    <tr>\n",
       "      <th>50%</th>\n",
       "      <td>43.780000</td>\n",
       "      <td>8.380000</td>\n",
       "      <td>86.480000</td>\n",
       "      <td>6244.575000</td>\n",
       "      <td>175.750000</td>\n",
       "    </tr>\n",
       "    <tr>\n",
       "      <th>75%</th>\n",
       "      <td>58.780000</td>\n",
       "      <td>14.510000</td>\n",
       "      <td>93.590000</td>\n",
       "      <td>8782.720000</td>\n",
       "      <td>175.790000</td>\n",
       "    </tr>\n",
       "    <tr>\n",
       "      <th>max</th>\n",
       "      <td>98.560000</td>\n",
       "      <td>93.280000</td>\n",
       "      <td>99.080000</td>\n",
       "      <td>17246.240000</td>\n",
       "      <td>185.520000</td>\n",
       "    </tr>\n",
       "  </tbody>\n",
       "</table>\n",
       "</div>"
      ],
      "text/plain": [
       "       Ph_mean_prb_dl  Totprbdlmin_perc  Totprbdlmax_perc  Totprbdltot_perc  \\\n",
       "count   964200.000000     964200.000000     964200.000000     964200.000000   \n",
       "mean        42.431351         10.707335         77.284738       6193.779468   \n",
       "std         22.069760          9.099064         21.751449       3625.430014   \n",
       "min          0.000000          0.000000          0.000000          0.000000   \n",
       "25%         23.440000          3.580000         66.680000       2927.585000   \n",
       "50%         43.780000          8.380000         86.480000       6244.575000   \n",
       "75%         58.780000         14.510000         93.590000       8782.720000   \n",
       "max         98.560000         93.280000         99.080000      17246.240000   \n",
       "\n",
       "       Totprbdlcnt_cnt  \n",
       "count    964200.000000  \n",
       "mean        168.440480  \n",
       "std          19.131511  \n",
       "min           0.000000  \n",
       "25%         175.750000  \n",
       "50%         175.750000  \n",
       "75%         175.790000  \n",
       "max         185.520000  "
      ]
     },
     "execution_count": 37,
     "metadata": {},
     "output_type": "execute_result"
    }
   ],
   "source": [
    "df_master[['Ph_mean_prb_dl','Totprbdlmin_perc','Totprbdlmax_perc','Totprbdltot_perc','Totprbdlcnt_cnt']].describe()"
   ]
  },
  {
   "cell_type": "code",
   "execution_count": 48,
   "id": "3c9018eb",
   "metadata": {},
   "outputs": [
    {
     "name": "stdout",
     "output_type": "stream",
     "text": [
      "Data succesfully stored in: /Users/ritik.pareek/Desktop/Causal Model/02. Processed Data/05. PRB Data/Feb2023_PRB_data.csv\n"
     ]
    }
   ],
   "source": [
    "### Saving in Pre Processing Folder\n",
    "df_master.to_pickle(pickle_path+'{}{}_PRB_data.csv'.format(monthname,year))\n",
    "print('Data succesfully stored in:',pickle_path+'{}{}_PRB_data.csv'.format(monthname,year))"
   ]
  },
  {
   "cell_type": "code",
   "execution_count": null,
   "id": "c84dc272",
   "metadata": {},
   "outputs": [],
   "source": []
  }
 ],
 "metadata": {
  "kernelspec": {
   "display_name": "Python 3 (ipykernel)",
   "language": "python",
   "name": "python3"
  },
  "language_info": {
   "codemirror_mode": {
    "name": "ipython",
    "version": 3
   },
   "file_extension": ".py",
   "mimetype": "text/x-python",
   "name": "python",
   "nbconvert_exporter": "python",
   "pygments_lexer": "ipython3",
   "version": "3.11.1"
  }
 },
 "nbformat": 4,
 "nbformat_minor": 5
}
