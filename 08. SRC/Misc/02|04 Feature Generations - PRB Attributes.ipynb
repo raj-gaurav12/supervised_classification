{
 "cells": [
  {
   "cell_type": "code",
   "execution_count": 14,
   "id": "11fad80a",
   "metadata": {},
   "outputs": [],
   "source": [
    "import os\n",
    "import re\n",
    "import glob\n",
    "import pickle\n",
    "import numpy as np\n",
    "import pandas as pd\n",
    "import pandas.io.common\n",
    "pd.set_option('display.max_columns', None)"
   ]
  },
  {
   "cell_type": "code",
   "execution_count": 18,
   "id": "0d35eb1e",
   "metadata": {},
   "outputs": [
    {
     "data": {
      "text/plain": [
       "['/Users/raj2.gaurav/Desktop//Causal Model/03. Collated Data/05. PRB Data/Collated_PRB_data.parquet']"
      ]
     },
     "execution_count": 18,
     "metadata": {},
     "output_type": "execute_result"
    }
   ],
   "source": [
    "#### File Path and Variables\n",
    "loc_path = r'/Users/raj2.gaurav/Desktop/' \n",
    "path = loc_path + r'/Causal Model/03. Collated Data/05. PRB Data/'\n",
    "features_path = loc_path + 'Causal Model/04. Feature Store/04. PRB Features/'\n",
    "### Input for the Circle \n",
    "Circle= 'bihar'\n",
    "monthname='Nov'\n",
    "year = '2022'\n",
    "Files = glob.glob(path + \"/*.parquet\")\n",
    "Files"
   ]
  },
  {
   "cell_type": "code",
   "execution_count": 19,
   "id": "07601a3e",
   "metadata": {},
   "outputs": [],
   "source": [
    "### Reading the Data\n",
    "df=pd.read_parquet(Files[0])"
   ]
  },
  {
   "cell_type": "code",
   "execution_count": 21,
   "id": "aa4bade5",
   "metadata": {},
   "outputs": [
    {
     "data": {
      "text/plain": [
       "array(['2023-02-01', '2023-02-02', '2023-02-03', '2023-02-04',\n",
       "       '2023-02-05', '2023-02-06', '2023-02-07'], dtype=object)"
      ]
     },
     "execution_count": 21,
     "metadata": {},
     "output_type": "execute_result"
    }
   ],
   "source": [
    "df['Partition_date'].unique()"
   ]
  },
  {
   "cell_type": "code",
   "execution_count": 23,
   "id": "0249bcb8",
   "metadata": {},
   "outputs": [
    {
     "name": "stdout",
     "output_type": "stream",
     "text": [
      "Shape of Prb Attribute Dataset After Collation: (964200, 12)\n"
     ]
    }
   ],
   "source": [
    "print(\"Shape of Prb Attribute Dataset After Collation:\", df.shape)\n",
    "df.to_parquet(features_path + 'Prb_features.parquet')"
   ]
  },
  {
   "cell_type": "code",
   "execution_count": null,
   "id": "28950c8d",
   "metadata": {},
   "outputs": [],
   "source": []
  }
 ],
 "metadata": {
  "kernelspec": {
   "display_name": "Python 3 (ipykernel)",
   "language": "python",
   "name": "python3"
  },
  "language_info": {
   "codemirror_mode": {
    "name": "ipython",
    "version": 3
   },
   "file_extension": ".py",
   "mimetype": "text/x-python",
   "name": "python",
   "nbconvert_exporter": "python",
   "pygments_lexer": "ipython3",
   "version": "3.9.13"
  }
 },
 "nbformat": 4,
 "nbformat_minor": 5
}
