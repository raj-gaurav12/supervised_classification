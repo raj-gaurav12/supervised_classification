{
 "cells": [
  {
   "cell_type": "code",
   "execution_count": 1,
   "id": "3f4b27c8",
   "metadata": {},
   "outputs": [],
   "source": [
    "import os\n",
    "import re\n",
    "import glob\n",
    "import pickle\n",
    "import numpy as np\n",
    "import pandas as pd\n",
    "import pandas.io.common"
   ]
  },
  {
   "cell_type": "code",
   "execution_count": 2,
   "id": "868185d3",
   "metadata": {},
   "outputs": [],
   "source": [
    "#### File Path and Variables\n",
    "loc_path = r'/Users/raj2.gaurav/Desktop/' \n",
    "path = loc_path + r'/Causal Model/03. Raw Data/01. LSR Data/'\n",
    "pickle_path = loc_path + 'Causal Model/02. Processed Data/03. LSR Data/'\n",
    "### Input for the Circle \n",
    "Circle= 'bihar'\n",
    "monthname='Nov'\n",
    "year = '2022'"
   ]
  },
  {
   "cell_type": "code",
   "execution_count": 3,
   "id": "a0d291bf",
   "metadata": {},
   "outputs": [],
   "source": [
    "## Pre Processing\n",
    "def remove_whitespaces(df):\n",
    "    df_obj = df.select_dtypes(['object'])\n",
    "    df[df_obj.columns] = df_obj.apply(lambda x: x.str.strip())\n",
    "    df.columns = df.columns.str.strip()\n",
    "    return df\n",
    "\n",
    "def drop_duplicate_records(df):\n",
    "    df.drop_duplicates()\n",
    "    return df\n",
    "\n",
    "#### Collating Files \n",
    "\n",
    "\n",
    "allFiles = glob.glob(path + \"/*.xlsx\")\n",
    "lst=[]\n",
    "df_master=pd.DataFrame()\n",
    "for i in allFiles:\n",
    "    df=pd.read_parquet(i)\n",
    "    #print(df.shape)\n",
    "    df_master=df_master.append(df)\n",
    "    #print(df_master.shape)"
   ]
  },
  {
   "cell_type": "code",
   "execution_count": null,
   "id": "77ee817b",
   "metadata": {},
   "outputs": [],
   "source": []
  }
 ],
 "metadata": {
  "kernelspec": {
   "display_name": "Python 3 (ipykernel)",
   "language": "python",
   "name": "python3"
  },
  "language_info": {
   "codemirror_mode": {
    "name": "ipython",
    "version": 3
   },
   "file_extension": ".py",
   "mimetype": "text/x-python",
   "name": "python",
   "nbconvert_exporter": "python",
   "pygments_lexer": "ipython3",
   "version": "3.9.13"
  }
 },
 "nbformat": 4,
 "nbformat_minor": 5
}
