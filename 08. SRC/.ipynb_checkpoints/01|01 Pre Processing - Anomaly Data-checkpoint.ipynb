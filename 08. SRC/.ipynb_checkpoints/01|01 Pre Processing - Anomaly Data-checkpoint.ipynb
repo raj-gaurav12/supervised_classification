{
 "cells": [
  {
   "cell_type": "code",
   "execution_count": 3,
   "id": "8a7dcd67",
   "metadata": {},
   "outputs": [],
   "source": [
    "import os\n",
    "import re\n",
    "import glob\n",
    "import pickle\n",
    "import numpy as np\n",
    "import pandas as pd\n",
    "import pandas.io.common"
   ]
  },
  {
   "cell_type": "code",
   "execution_count": 4,
   "id": "f08e72c2",
   "metadata": {},
   "outputs": [],
   "source": [
    "#### File Path and Variables\n",
    "loc_path = r'/Users/raj2.gaurav/Desktop/' \n",
    "path = loc_path + r'/Causal Model/01. Raw Data/01. Anomaly Report/'\n",
    "pickle_path = loc_path + 'Causal Model/02. Processed Data/01. Anomaly Data/'\n",
    "### Input for the Circle \n",
    "Circle= 'bihar'\n",
    "monthname='Nov'\n",
    "year = '2022'"
   ]
  },
  {
   "cell_type": "code",
   "execution_count": null,
   "id": "c4fd9454",
   "metadata": {},
   "outputs": [
    {
     "name": "stderr",
     "output_type": "stream",
     "text": [
      "/var/folders/3p/7q9_hy6x4q58xrz02_n9tvv0fryx5_/T/ipykernel_18435/26641898.py:21: FutureWarning: The frame.append method is deprecated and will be removed from pandas in a future version. Use pandas.concat instead.\n",
      "  df_master=df_master.append(df)\n",
      "/var/folders/3p/7q9_hy6x4q58xrz02_n9tvv0fryx5_/T/ipykernel_18435/26641898.py:21: FutureWarning: The frame.append method is deprecated and will be removed from pandas in a future version. Use pandas.concat instead.\n",
      "  df_master=df_master.append(df)\n",
      "/var/folders/3p/7q9_hy6x4q58xrz02_n9tvv0fryx5_/T/ipykernel_18435/26641898.py:21: FutureWarning: The frame.append method is deprecated and will be removed from pandas in a future version. Use pandas.concat instead.\n",
      "  df_master=df_master.append(df)\n"
     ]
    }
   ],
   "source": [
    "## Pre Processing\n",
    "def remove_whitespaces(df):\n",
    "    df_obj = df.select_dtypes(['object'])\n",
    "    df[df_obj.columns] = df_obj.apply(lambda x: x.str.strip())\n",
    "    df.columns = df.columns.str.strip()\n",
    "    return df\n",
    "\n",
    "def drop_duplicate_records(df):\n",
    "    df.drop_duplicates()\n",
    "    return df\n",
    "\n",
    "#### Collating Files \n",
    "\n",
    "\n",
    "allFiles = glob.glob(path + \"/*.xlsx\")\n",
    "lst=[]\n",
    "df_master=pd.DataFrame()\n",
    "for i in allFiles:\n",
    "    df=pd.read_excel(i)\n",
    "    #print(df.shape)\n",
    "    df_master=df_master.append(df)\n",
    "    #print(df_master.shape)"
   ]
  },
  {
   "cell_type": "code",
   "execution_count": 6,
   "id": "34742be0",
   "metadata": {},
   "outputs": [
    {
     "data": {
      "text/html": [
       "<div>\n",
       "<style scoped>\n",
       "    .dataframe tbody tr th:only-of-type {\n",
       "        vertical-align: middle;\n",
       "    }\n",
       "\n",
       "    .dataframe tbody tr th {\n",
       "        vertical-align: top;\n",
       "    }\n",
       "\n",
       "    .dataframe thead th {\n",
       "        text-align: right;\n",
       "    }\n",
       "</style>\n",
       "<table border=\"1\" class=\"dataframe\">\n",
       "  <thead>\n",
       "    <tr style=\"text-align: right;\">\n",
       "      <th></th>\n",
       "      <th>Circle</th>\n",
       "      <th>City</th>\n",
       "      <th>Component</th>\n",
       "      <th>Date</th>\n",
       "      <th>Hour</th>\n",
       "      <th>Total Customers</th>\n",
       "      <th>Anomaly</th>\n",
       "      <th>Ratio Data</th>\n",
       "      <th>Ratio Voice</th>\n",
       "      <th>Ratio HSI</th>\n",
       "      <th>...</th>\n",
       "      <th>num_sectors</th>\n",
       "      <th>Indoor Frqeqency % 850</th>\n",
       "      <th>Indoor Frqeqency % 1800</th>\n",
       "      <th>Indoor Frqeqency % 2300</th>\n",
       "      <th>prb_10</th>\n",
       "      <th>prb_10_25</th>\n",
       "      <th>prb_25_70</th>\n",
       "      <th>prb_70_90</th>\n",
       "      <th>prb_90</th>\n",
       "      <th>Consistency</th>\n",
       "    </tr>\n",
       "  </thead>\n",
       "  <tbody>\n",
       "    <tr>\n",
       "      <th>0</th>\n",
       "      <td>kolkata</td>\n",
       "      <td>kolkata</td>\n",
       "      <td>1226</td>\n",
       "      <td>2022-11-01</td>\n",
       "      <td>13</td>\n",
       "      <td>44014</td>\n",
       "      <td>Voice - HSI</td>\n",
       "      <td>2</td>\n",
       "      <td>3</td>\n",
       "      <td>5</td>\n",
       "      <td>...</td>\n",
       "      <td>30</td>\n",
       "      <td>23</td>\n",
       "      <td>33</td>\n",
       "      <td>42</td>\n",
       "      <td>1.0</td>\n",
       "      <td>8.0</td>\n",
       "      <td>30.0</td>\n",
       "      <td>40.0</td>\n",
       "      <td>15.0</td>\n",
       "      <td>NaN</td>\n",
       "    </tr>\n",
       "    <tr>\n",
       "      <th>1</th>\n",
       "      <td>kolkata</td>\n",
       "      <td>kolkata</td>\n",
       "      <td>1226</td>\n",
       "      <td>2022-11-01</td>\n",
       "      <td>12</td>\n",
       "      <td>42214</td>\n",
       "      <td>Voice - HSI</td>\n",
       "      <td>3</td>\n",
       "      <td>3</td>\n",
       "      <td>5</td>\n",
       "      <td>...</td>\n",
       "      <td>30</td>\n",
       "      <td>24</td>\n",
       "      <td>31</td>\n",
       "      <td>43</td>\n",
       "      <td>2.0</td>\n",
       "      <td>11.0</td>\n",
       "      <td>37.0</td>\n",
       "      <td>31.0</td>\n",
       "      <td>14.0</td>\n",
       "      <td>NaN</td>\n",
       "    </tr>\n",
       "    <tr>\n",
       "      <th>2</th>\n",
       "      <td>kolkata</td>\n",
       "      <td>kolkata</td>\n",
       "      <td>1226</td>\n",
       "      <td>2022-11-01</td>\n",
       "      <td>11</td>\n",
       "      <td>40135</td>\n",
       "      <td>HSI</td>\n",
       "      <td>3</td>\n",
       "      <td>3</td>\n",
       "      <td>6</td>\n",
       "      <td>...</td>\n",
       "      <td>30</td>\n",
       "      <td>24</td>\n",
       "      <td>32</td>\n",
       "      <td>43</td>\n",
       "      <td>1.0</td>\n",
       "      <td>13.0</td>\n",
       "      <td>44.0</td>\n",
       "      <td>25.0</td>\n",
       "      <td>12.0</td>\n",
       "      <td>NaN</td>\n",
       "    </tr>\n",
       "    <tr>\n",
       "      <th>3</th>\n",
       "      <td>karnataka</td>\n",
       "      <td>bangalore</td>\n",
       "      <td>946</td>\n",
       "      <td>2022-11-01</td>\n",
       "      <td>18</td>\n",
       "      <td>24834</td>\n",
       "      <td>Data - Voice - HSI</td>\n",
       "      <td>7</td>\n",
       "      <td>7</td>\n",
       "      <td>10</td>\n",
       "      <td>...</td>\n",
       "      <td>37</td>\n",
       "      <td>28</td>\n",
       "      <td>29</td>\n",
       "      <td>42</td>\n",
       "      <td>5.0</td>\n",
       "      <td>9.0</td>\n",
       "      <td>59.0</td>\n",
       "      <td>29.0</td>\n",
       "      <td>15.0</td>\n",
       "      <td>NaN</td>\n",
       "    </tr>\n",
       "    <tr>\n",
       "      <th>4</th>\n",
       "      <td>bihar</td>\n",
       "      <td>patna</td>\n",
       "      <td>75</td>\n",
       "      <td>2022-11-01</td>\n",
       "      <td>11</td>\n",
       "      <td>20370</td>\n",
       "      <td>Data - Voice</td>\n",
       "      <td>7</td>\n",
       "      <td>8</td>\n",
       "      <td>2</td>\n",
       "      <td>...</td>\n",
       "      <td>34</td>\n",
       "      <td>29</td>\n",
       "      <td>35</td>\n",
       "      <td>35</td>\n",
       "      <td>3.0</td>\n",
       "      <td>10.0</td>\n",
       "      <td>86.0</td>\n",
       "      <td>12.0</td>\n",
       "      <td>0.0</td>\n",
       "      <td>NaN</td>\n",
       "    </tr>\n",
       "  </tbody>\n",
       "</table>\n",
       "<p>5 rows × 38 columns</p>\n",
       "</div>"
      ],
      "text/plain": [
       "      Circle       City  Component       Date  Hour  Total Customers  \\\n",
       "0    kolkata    kolkata       1226 2022-11-01    13            44014   \n",
       "1    kolkata    kolkata       1226 2022-11-01    12            42214   \n",
       "2    kolkata    kolkata       1226 2022-11-01    11            40135   \n",
       "3  karnataka  bangalore        946 2022-11-01    18            24834   \n",
       "4      bihar      patna         75 2022-11-01    11            20370   \n",
       "\n",
       "               Anomaly  Ratio Data  Ratio Voice  Ratio HSI  ... num_sectors  \\\n",
       "0         Voice - HSI            2            3          5  ...          30   \n",
       "1         Voice - HSI            3            3          5  ...          30   \n",
       "2                 HSI            3            3          6  ...          30   \n",
       "3  Data - Voice - HSI            7            7         10  ...          37   \n",
       "4        Data - Voice            7            8          2  ...          34   \n",
       "\n",
       "   Indoor Frqeqency % 850  Indoor Frqeqency % 1800  Indoor Frqeqency % 2300  \\\n",
       "0                      23                       33                       42   \n",
       "1                      24                       31                       43   \n",
       "2                      24                       32                       43   \n",
       "3                      28                       29                       42   \n",
       "4                      29                       35                       35   \n",
       "\n",
       "   prb_10  prb_10_25  prb_25_70  prb_70_90  prb_90  Consistency  \n",
       "0     1.0        8.0       30.0       40.0    15.0          NaN  \n",
       "1     2.0       11.0       37.0       31.0    14.0          NaN  \n",
       "2     1.0       13.0       44.0       25.0    12.0          NaN  \n",
       "3     5.0        9.0       59.0       29.0    15.0          NaN  \n",
       "4     3.0       10.0       86.0       12.0     0.0          NaN  \n",
       "\n",
       "[5 rows x 38 columns]"
      ]
     },
     "execution_count": 6,
     "metadata": {},
     "output_type": "execute_result"
    }
   ],
   "source": [
    "df_master.head()"
   ]
  },
  {
   "cell_type": "markdown",
   "id": "34012bbb",
   "metadata": {},
   "source": [
    "### Pre Process"
   ]
  },
  {
   "cell_type": "code",
   "execution_count": 8,
   "id": "88c960c3",
   "metadata": {},
   "outputs": [
    {
     "name": "stdout",
     "output_type": "stream",
     "text": [
      "(30792, 38)\n",
      "Index(['Circle', 'City', 'Component', 'Date', 'Hour', 'Total Customers',\n",
      "       'Anomaly', 'Ratio Data', 'Ratio Voice', 'Ratio HSI', 'cluster_issue',\n",
      "       'Data Volume', 'Data Volume Formula', 'Data Volume mean',\n",
      "       'Data Volume std', 'Voice Affected Users',\n",
      "       'Voice Affected Users Formula', 'Voice Affected Users mean',\n",
      "       'Voice Affected Users std', 'HSI Affected Users',\n",
      "       'HSI Affected Users Formula', 'HSI Affected Users mean',\n",
      "       'HSI Affected Users std', 'Data % Change', 'Voice % Change',\n",
      "       'HSI % Change', 'num_grids', 'num_cells', 'num_sectors',\n",
      "       'Indoor Frqeqency % 850', 'Indoor Frqeqency % 1800',\n",
      "       'Indoor Frqeqency % 2300', 'prb_10', 'prb_10_25', 'prb_25_70',\n",
      "       'prb_70_90', 'prb_90', 'Consistency'],\n",
      "      dtype='object')\n"
     ]
    }
   ],
   "source": [
    "print(df_master.shape)\n",
    "print(df_master.columns)"
   ]
  },
  {
   "cell_type": "code",
   "execution_count": 22,
   "id": "6f3321f7",
   "metadata": {},
   "outputs": [],
   "source": [
    "df_master=df_master[['Circle', 'City', 'Component', 'Date', 'Hour', 'Total Customers',\n",
    "       'Anomaly', 'Ratio Data', 'Ratio Voice', 'Ratio HSI', 'cluster_issue',\n",
    "       'Data Volume', 'Data Volume Formula', 'Data Volume mean',\n",
    "       'Data Volume std', 'Voice Affected Users',\n",
    "       'Voice Affected Users Formula', 'Voice Affected Users mean',\n",
    "       'Voice Affected Users std', 'HSI Affected Users',\n",
    "       'HSI Affected Users Formula', 'HSI Affected Users mean',\n",
    "       'HSI Affected Users std', 'num_grids', 'num_cells', 'num_sectors',\n",
    "       'Indoor Frqeqency % 850', 'Indoor Frqeqency % 1800',\n",
    "       'Indoor Frqeqency % 2300', 'prb_10', 'prb_10_25', 'prb_25_70',\n",
    "       'prb_70_90', 'prb_90']]"
   ]
  },
  {
   "cell_type": "code",
   "execution_count": 12,
   "id": "fb52ae85",
   "metadata": {},
   "outputs": [
    {
     "name": "stdout",
     "output_type": "stream",
     "text": [
      "Removing right Spaces from the columns\n"
     ]
    }
   ],
   "source": [
    "print('Removing right Spaces from the columns')\n",
    "df_master.columns = df_master.columns.str.rstrip()\n",
    "df_master.columns = df_master.columns.str.lstrip()\n",
    "df_master.columns = df_master.columns.str.capitalize()"
   ]
  },
  {
   "cell_type": "code",
   "execution_count": 13,
   "id": "954ea2d8",
   "metadata": {},
   "outputs": [
    {
     "name": "stdout",
     "output_type": "stream",
     "text": [
      "Size of the Raw Data  (30792, 34)\n",
      "-------------------------------\n",
      "-------------------------------\n",
      "Data types of the features in article master\n",
      "Circle                                  object\n",
      "City                                    object\n",
      "Component                                int64\n",
      "Date                            datetime64[ns]\n",
      "Hour                                     int64\n",
      "Total customers                          int64\n",
      "Anomaly                                 object\n",
      "Ratio data                               int64\n",
      "Ratio voice                              int64\n",
      "Ratio hsi                                int64\n",
      "Cluster_issue                           object\n",
      "Data volume                              int64\n",
      "Data volume formula                      int64\n",
      "Data volume mean                         int64\n",
      "Data volume std                          int64\n",
      "Voice affected users                     int64\n",
      "Voice affected users formula             int64\n",
      "Voice affected users mean                int64\n",
      "Voice affected users std                 int64\n",
      "Hsi affected users                       int64\n",
      "Hsi affected users formula               int64\n",
      "Hsi affected users mean                  int64\n",
      "Hsi affected users std                   int64\n",
      "Num_grids                                int64\n",
      "Num_cells                                int64\n",
      "Num_sectors                              int64\n",
      "Indoor frqeqency % 850                   int64\n",
      "Indoor frqeqency % 1800                  int64\n",
      "Indoor frqeqency % 2300                  int64\n",
      "Prb_10                                   int64\n",
      "Prb_10_25                                int64\n",
      "Prb_25_70                                int64\n",
      "Prb_70_90                                int64\n",
      "Prb_90                                   int64\n",
      "dtype: object\n",
      "-------------------------------\n",
      "-------------------------------\n"
     ]
    }
   ],
   "source": [
    "print('Size of the Raw Data ',df.shape)\n",
    "print('-------------------------------')\n",
    "print('-------------------------------')\n",
    "print('Data types of the features in article master')\n",
    "print(df_master.dtypes)\n",
    "print('-------------------------------')\n",
    "print('-------------------------------')"
   ]
  },
  {
   "cell_type": "code",
   "execution_count": 14,
   "id": "2d24c709",
   "metadata": {},
   "outputs": [
    {
     "name": "stderr",
     "output_type": "stream",
     "text": [
      "/var/folders/3p/7q9_hy6x4q58xrz02_n9tvv0fryx5_/T/ipykernel_59366/26641898.py:4: SettingWithCopyWarning: \n",
      "A value is trying to be set on a copy of a slice from a DataFrame.\n",
      "Try using .loc[row_indexer,col_indexer] = value instead\n",
      "\n",
      "See the caveats in the documentation: https://pandas.pydata.org/pandas-docs/stable/user_guide/indexing.html#returning-a-view-versus-a-copy\n",
      "  df[df_obj.columns] = df_obj.apply(lambda x: x.str.strip())\n"
     ]
    }
   ],
   "source": [
    "df_master=remove_whitespaces(df_master)\n",
    "df_master=drop_duplicate_records(df_master)"
   ]
  },
  {
   "cell_type": "code",
   "execution_count": 16,
   "id": "d93102a1",
   "metadata": {},
   "outputs": [
    {
     "data": {
      "text/plain": [
       "Index(['Circle', 'City', 'Component', 'Date', 'Hour', 'Total customers',\n",
       "       'Anomaly', 'Ratio data', 'Ratio voice', 'Ratio hsi', 'Cluster_issue',\n",
       "       'Data volume', 'Data volume formula', 'Data volume mean',\n",
       "       'Data volume std', 'Voice affected users',\n",
       "       'Voice affected users formula', 'Voice affected users mean',\n",
       "       'Voice affected users std', 'Hsi affected users',\n",
       "       'Hsi affected users formula', 'Hsi affected users mean',\n",
       "       'Hsi affected users std', 'Num_grids', 'Num_cells', 'Num_sectors',\n",
       "       'Indoor frqeqency % 850', 'Indoor frqeqency % 1800',\n",
       "       'Indoor frqeqency % 2300', 'Prb_10', 'Prb_10_25', 'Prb_25_70',\n",
       "       'Prb_70_90', 'Prb_90'],\n",
       "      dtype='object')"
      ]
     },
     "execution_count": 16,
     "metadata": {},
     "output_type": "execute_result"
    }
   ],
   "source": [
    "df_master.columns"
   ]
  },
  {
   "cell_type": "code",
   "execution_count": 20,
   "id": "93eed826",
   "metadata": {},
   "outputs": [
    {
     "name": "stdout",
     "output_type": "stream",
     "text": [
      "No of Unique Circle  ['mumbai' 'haryana' 'gujarat' 'delhi' 'punjab' 'kolkata' 'karnataka'\n",
      " 'maharashtra' 'odisha' 'rajasthan' 'kerala' 'assam' 'bihar']\n",
      "-----------------------------\n",
      "No of Cities in the circle              City\n",
      "Circle           \n",
      "assam          22\n",
      "bihar          48\n",
      "delhi           2\n",
      "gujarat        47\n",
      "haryana        33\n",
      "karnataka      34\n",
      "kerala         31\n",
      "kolkata         1\n",
      "maharashtra    55\n",
      "mumbai          1\n",
      "odisha         26\n",
      "punjab         32\n",
      "rajasthan      32\n",
      "-----------------------------\n",
      "No of Component in the circle              Component\n",
      "Circle                \n",
      "assam              154\n",
      "bihar              219\n",
      "delhi              110\n",
      "gujarat            253\n",
      "haryana            107\n",
      "karnataka          334\n",
      "kerala             209\n",
      "kolkata            104\n",
      "maharashtra        281\n",
      "mumbai             102\n",
      "odisha             142\n",
      "punjab             186\n",
      "rajasthan          176\n",
      "-----------------------------\n",
      "Unique Anomaly ['Data - HSI' 'Data' 'HSI' 'Voice - HSI' 'Voice' 'Data - Voice'\n",
      " 'Data - Voice - HSI']\n",
      "-----------------------------\n",
      "Unique Cluster Issue ['high_prb' nan 'high_indoor_sessions'\n",
      " 'high_interference-high_indoor_sessions' 'high_interference'\n",
      " 'high_prb-high_interference' 'high_interference-high_ta'\n",
      " 'high_prb-high_interference-high_indoor_sessions'\n",
      " 'high_prb-high_interference-high_ta' 'high_ta' 'high_prb-high_ta'\n",
      " 'high_prb-high_indoor_sessions' 'high_indoor_sessions-high_ta'\n",
      " 'high_interference-high_indoor_sessions-high_ta'\n",
      " 'high_interference-low_rsrp' 'high_prb-high_interference-low_rsrp'\n",
      " 'high_interference-high_indoor_sessions-low_rsrp-high_ta'\n",
      " 'high_interference-low_rsrp-high_ta'\n",
      " 'high_prb-high_interference-high_indoor_sessions-high_ta'\n",
      " 'high_prb-high_interference-high_indoor_sessions-low_rsrp'\n",
      " 'high_interference-high_indoor_sessions-low_rsrp'\n",
      " 'high_prb-high_interference-low_rsrp-high_ta'\n",
      " 'high_prb-high_interference-high_indoor_sessions-low_rsrp-high_ta']\n"
     ]
    }
   ],
   "source": [
    "### Basic QC's Check\n",
    "print('No of Unique Circle ', df_master['Circle'].unique())\n",
    "print('-----------------------------')\n",
    "print('No of Cities in the circle',df_master[['Circle','City']].groupby('Circle').nunique())\n",
    "print('-----------------------------')\n",
    "print('No of Component in the circle',df_master[['Circle','Component']].groupby('Circle').nunique())\n",
    "print('-----------------------------')\n",
    "print('Unique Anomaly',df_master['Anomaly'].unique())\n",
    "print('-----------------------------')\n",
    "print('Unique Cluster Issue',df_master['Cluster_issue'].unique())"
   ]
  },
  {
   "cell_type": "code",
   "execution_count": 23,
   "id": "6c392b73",
   "metadata": {},
   "outputs": [
    {
     "data": {
      "text/plain": [
       "Circle                               0\n",
       "City                                 0\n",
       "Component                            0\n",
       "Date                                 0\n",
       "Hour                                 0\n",
       "Total Customers                      0\n",
       "Anomaly                              0\n",
       "Ratio Data                           0\n",
       "Ratio Voice                          0\n",
       "Ratio HSI                            0\n",
       "cluster_issue                   104165\n",
       "Data Volume                          0\n",
       "Data Volume Formula                  0\n",
       "Data Volume mean                     0\n",
       "Data Volume std                      0\n",
       "Voice Affected Users                 0\n",
       "Voice Affected Users Formula         0\n",
       "Voice Affected Users mean            0\n",
       "Voice Affected Users std             0\n",
       "HSI Affected Users                   0\n",
       "HSI Affected Users Formula           0\n",
       "HSI Affected Users mean              0\n",
       "HSI Affected Users std               0\n",
       "num_grids                            0\n",
       "num_cells                            0\n",
       "num_sectors                          0\n",
       "Indoor Frqeqency % 850               0\n",
       "Indoor Frqeqency % 1800              0\n",
       "Indoor Frqeqency % 2300              0\n",
       "prb_10                              39\n",
       "prb_10_25                           39\n",
       "prb_25_70                           39\n",
       "prb_70_90                           39\n",
       "prb_90                              39\n",
       "dtype: int64"
      ]
     },
     "execution_count": 23,
     "metadata": {},
     "output_type": "execute_result"
    }
   ],
   "source": [
    "df_master.isnull().sum()"
   ]
  },
  {
   "cell_type": "code",
   "execution_count": 29,
   "id": "bf248dfa",
   "metadata": {},
   "outputs": [
    {
     "name": "stdout",
     "output_type": "stream",
     "text": [
      "Data succesfully stored in: /Users/raj2.gaurav/Desktop/Causal Model/02. Processed Data/01. Anomaly Data/Nov2022_promo_data.csv\n"
     ]
    }
   ],
   "source": [
    "### Saving in Pre Processing Folder\n",
    "df_master.to_pickle(pickle_path+'{}{}_Anomaly_data.csv'.format(monthname,year))\n",
    "print('Data succesfully stored in:',pickle_path+'{}{}_promo_data.csv'.format(monthname,year))"
   ]
  },
  {
   "cell_type": "code",
   "execution_count": null,
   "id": "ad89585b",
   "metadata": {},
   "outputs": [],
   "source": []
  }
 ],
 "metadata": {
  "kernelspec": {
   "display_name": "Python 3 (ipykernel)",
   "language": "python",
   "name": "python3"
  },
  "language_info": {
   "codemirror_mode": {
    "name": "ipython",
    "version": 3
   },
   "file_extension": ".py",
   "mimetype": "text/x-python",
   "name": "python",
   "nbconvert_exporter": "python",
   "pygments_lexer": "ipython3",
   "version": "3.9.13"
  }
 },
 "nbformat": 4,
 "nbformat_minor": 5
}
