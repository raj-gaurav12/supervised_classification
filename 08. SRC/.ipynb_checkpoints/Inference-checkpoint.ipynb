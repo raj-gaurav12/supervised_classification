{
 "cells": [
  {
   "cell_type": "code",
   "execution_count": 1,
   "id": "426cb107",
   "metadata": {},
   "outputs": [],
   "source": [
    "import pycaret\n",
    "import pandas as pd\n",
    "# import pycaret classification and init setup\n",
    "from pycaret.classification import *"
   ]
  },
  {
   "cell_type": "code",
   "execution_count": 2,
   "id": "d874b758",
   "metadata": {},
   "outputs": [],
   "source": [
    "import config_model_prediction as config"
   ]
  },
  {
   "cell_type": "code",
   "execution_count": 3,
   "id": "2f55f9e5",
   "metadata": {},
   "outputs": [],
   "source": [
    "path=config.scoring_data_path"
   ]
  },
  {
   "cell_type": "code",
   "execution_count": 5,
   "id": "4c775132",
   "metadata": {},
   "outputs": [],
   "source": [
    "pred_data=pd.read_pickle(f'{path}Scoring_dataset.pickle')"
   ]
  },
  {
   "cell_type": "code",
   "execution_count": 3,
   "id": "9fe52596",
   "metadata": {},
   "outputs": [
    {
     "data": {
      "text/plain": [
       "Index(['entity_cell_id', 'hour_of_day', 'entity_geohash',\n",
       "       'context_environment', 'avg_last_rrc_measurement_earfcn',\n",
       "       'num_distinct_imsi', 'mute_call_gap_indicator', 'num_mute_calls',\n",
       "       'avg_cqi', 'min_cqi',\n",
       "       ...\n",
       "       'env_indoor_pct', 'env_outdoor_pct', 'env_mobile_pct',\n",
       "       'env_unknown_pct', 'service_type_data_only_pct',\n",
       "       'service_type_voice_and_data_pct', 'service_type_unknown_pct',\n",
       "       'qci_9_tp', 'data_date', 'Target_Variable'],\n",
       "      dtype='object', length=217)"
      ]
     },
     "execution_count": 3,
     "metadata": {},
     "output_type": "execute_result"
    }
   ],
   "source": [
    "pred_data.columns"
   ]
  },
  {
   "cell_type": "code",
   "execution_count": 7,
   "id": "a57587e3",
   "metadata": {},
   "outputs": [],
   "source": [
    "Ignore_features = config.Ignore_features"
   ]
  },
  {
   "cell_type": "code",
   "execution_count": 9,
   "id": "b5a97458",
   "metadata": {},
   "outputs": [],
   "source": [
    "pred_data.drop(Ignore_features,inplace=True,axis=1)"
   ]
  },
  {
   "cell_type": "code",
   "execution_count": 10,
   "id": "31b5a5f0",
   "metadata": {},
   "outputs": [
    {
     "data": {
      "text/plain": [
       "(157448, 208)"
      ]
     },
     "execution_count": 10,
     "metadata": {},
     "output_type": "execute_result"
    }
   ],
   "source": [
    "pred_data.shape"
   ]
  },
  {
   "cell_type": "code",
   "execution_count": 13,
   "id": "d1b52e65",
   "metadata": {},
   "outputs": [
    {
     "data": {
      "text/plain": [
       "'/Users/ritik.pareek/Desktop/Causal Model/Code/pycaret'"
      ]
     },
     "execution_count": 13,
     "metadata": {},
     "output_type": "execute_result"
    }
   ],
   "source": [
    "pwd"
   ]
  },
  {
   "cell_type": "code",
   "execution_count": 14,
   "id": "d1ffa00b",
   "metadata": {},
   "outputs": [
    {
     "name": "stdout",
     "output_type": "stream",
     "text": [
      "Transformation Pipeline and Model Successfully Loaded\n"
     ]
    }
   ],
   "source": [
    "lgbm = load_model('/Users/ritik.pareek/Desktop/Causal Model/Model Result/lgbm_model')"
   ]
  },
  {
   "cell_type": "code",
   "execution_count": 15,
   "id": "92c4f1c9",
   "metadata": {},
   "outputs": [],
   "source": [
    "pred_result=predict_model(lgbm, data=pred_data)"
   ]
  },
  {
   "cell_type": "code",
   "execution_count": 16,
   "id": "0167aaee",
   "metadata": {},
   "outputs": [
    {
     "data": {
      "text/html": [
       "<div>\n",
       "<style scoped>\n",
       "    .dataframe tbody tr th:only-of-type {\n",
       "        vertical-align: middle;\n",
       "    }\n",
       "\n",
       "    .dataframe tbody tr th {\n",
       "        vertical-align: top;\n",
       "    }\n",
       "\n",
       "    .dataframe thead th {\n",
       "        text-align: right;\n",
       "    }\n",
       "</style>\n",
       "<table border=\"1\" class=\"dataframe\">\n",
       "  <thead>\n",
       "    <tr style=\"text-align: right;\">\n",
       "      <th></th>\n",
       "      <th>hour_of_day</th>\n",
       "      <th>context_environment</th>\n",
       "      <th>avg_last_rrc_measurement_earfcn</th>\n",
       "      <th>num_distinct_imsi</th>\n",
       "      <th>mute_call_gap_indicator</th>\n",
       "      <th>num_mute_calls</th>\n",
       "      <th>avg_cqi</th>\n",
       "      <th>min_cqi</th>\n",
       "      <th>max_cqi</th>\n",
       "      <th>p05_cqi</th>\n",
       "      <th>...</th>\n",
       "      <th>lhd_Handover_Canceled_pct</th>\n",
       "      <th>env_indoor_pct</th>\n",
       "      <th>env_outdoor_pct</th>\n",
       "      <th>env_mobile_pct</th>\n",
       "      <th>env_unknown_pct</th>\n",
       "      <th>service_type_data_only_pct</th>\n",
       "      <th>service_type_voice_and_data_pct</th>\n",
       "      <th>service_type_unknown_pct</th>\n",
       "      <th>prediction_label</th>\n",
       "      <th>prediction_score</th>\n",
       "    </tr>\n",
       "  </thead>\n",
       "  <tbody>\n",
       "    <tr>\n",
       "      <th>0</th>\n",
       "      <td>15</td>\n",
       "      <td>Indoor</td>\n",
       "      <td>26716.000000</td>\n",
       "      <td>5</td>\n",
       "      <td>0</td>\n",
       "      <td>0</td>\n",
       "      <td>7.833</td>\n",
       "      <td>3</td>\n",
       "      <td>10</td>\n",
       "      <td>4.0</td>\n",
       "      <td>...</td>\n",
       "      <td>0.0</td>\n",
       "      <td>1.0</td>\n",
       "      <td>0.0</td>\n",
       "      <td>0.0</td>\n",
       "      <td>0.0</td>\n",
       "      <td>0.333333</td>\n",
       "      <td>0.666667</td>\n",
       "      <td>0.0</td>\n",
       "      <td>1</td>\n",
       "      <td>0.9990</td>\n",
       "    </tr>\n",
       "    <tr>\n",
       "      <th>1</th>\n",
       "      <td>15</td>\n",
       "      <td>Indoor</td>\n",
       "      <td>26528.667969</td>\n",
       "      <td>6</td>\n",
       "      <td>0</td>\n",
       "      <td>0</td>\n",
       "      <td>7.833</td>\n",
       "      <td>5</td>\n",
       "      <td>10</td>\n",
       "      <td>5.5</td>\n",
       "      <td>...</td>\n",
       "      <td>0.0</td>\n",
       "      <td>1.0</td>\n",
       "      <td>0.0</td>\n",
       "      <td>0.0</td>\n",
       "      <td>0.0</td>\n",
       "      <td>1.000000</td>\n",
       "      <td>0.000000</td>\n",
       "      <td>0.0</td>\n",
       "      <td>1</td>\n",
       "      <td>1.0000</td>\n",
       "    </tr>\n",
       "    <tr>\n",
       "      <th>2</th>\n",
       "      <td>15</td>\n",
       "      <td>Outdoor Stationary</td>\n",
       "      <td>23953.404297</td>\n",
       "      <td>1</td>\n",
       "      <td>0</td>\n",
       "      <td>0</td>\n",
       "      <td>5.000</td>\n",
       "      <td>5</td>\n",
       "      <td>5</td>\n",
       "      <td>5.0</td>\n",
       "      <td>...</td>\n",
       "      <td>0.0</td>\n",
       "      <td>0.0</td>\n",
       "      <td>1.0</td>\n",
       "      <td>0.0</td>\n",
       "      <td>0.0</td>\n",
       "      <td>1.000000</td>\n",
       "      <td>0.000000</td>\n",
       "      <td>0.0</td>\n",
       "      <td>1</td>\n",
       "      <td>0.9997</td>\n",
       "    </tr>\n",
       "    <tr>\n",
       "      <th>3</th>\n",
       "      <td>15</td>\n",
       "      <td>Indoor</td>\n",
       "      <td>38948.000000</td>\n",
       "      <td>1</td>\n",
       "      <td>0</td>\n",
       "      <td>0</td>\n",
       "      <td>5.000</td>\n",
       "      <td>5</td>\n",
       "      <td>5</td>\n",
       "      <td>5.0</td>\n",
       "      <td>...</td>\n",
       "      <td>0.0</td>\n",
       "      <td>1.0</td>\n",
       "      <td>0.0</td>\n",
       "      <td>0.0</td>\n",
       "      <td>0.0</td>\n",
       "      <td>0.000000</td>\n",
       "      <td>1.000000</td>\n",
       "      <td>0.0</td>\n",
       "      <td>1</td>\n",
       "      <td>1.0000</td>\n",
       "    </tr>\n",
       "    <tr>\n",
       "      <th>4</th>\n",
       "      <td>15</td>\n",
       "      <td>Indoor</td>\n",
       "      <td>20000.500000</td>\n",
       "      <td>2</td>\n",
       "      <td>0</td>\n",
       "      <td>0</td>\n",
       "      <td>4.000</td>\n",
       "      <td>4</td>\n",
       "      <td>4</td>\n",
       "      <td>4.0</td>\n",
       "      <td>...</td>\n",
       "      <td>0.0</td>\n",
       "      <td>1.0</td>\n",
       "      <td>0.0</td>\n",
       "      <td>0.0</td>\n",
       "      <td>0.0</td>\n",
       "      <td>0.500000</td>\n",
       "      <td>0.500000</td>\n",
       "      <td>0.0</td>\n",
       "      <td>1</td>\n",
       "      <td>1.0000</td>\n",
       "    </tr>\n",
       "  </tbody>\n",
       "</table>\n",
       "<p>5 rows × 210 columns</p>\n",
       "</div>"
      ],
      "text/plain": [
       "   hour_of_day context_environment  avg_last_rrc_measurement_earfcn  \\\n",
       "0           15              Indoor                     26716.000000   \n",
       "1           15              Indoor                     26528.667969   \n",
       "2           15  Outdoor Stationary                     23953.404297   \n",
       "3           15              Indoor                     38948.000000   \n",
       "4           15              Indoor                     20000.500000   \n",
       "\n",
       "   num_distinct_imsi  mute_call_gap_indicator  num_mute_calls  avg_cqi  \\\n",
       "0                  5                        0               0    7.833   \n",
       "1                  6                        0               0    7.833   \n",
       "2                  1                        0               0    5.000   \n",
       "3                  1                        0               0    5.000   \n",
       "4                  2                        0               0    4.000   \n",
       "\n",
       "   min_cqi  max_cqi  p05_cqi  ...  lhd_Handover_Canceled_pct  env_indoor_pct  \\\n",
       "0        3       10      4.0  ...                        0.0             1.0   \n",
       "1        5       10      5.5  ...                        0.0             1.0   \n",
       "2        5        5      5.0  ...                        0.0             0.0   \n",
       "3        5        5      5.0  ...                        0.0             1.0   \n",
       "4        4        4      4.0  ...                        0.0             1.0   \n",
       "\n",
       "   env_outdoor_pct  env_mobile_pct  env_unknown_pct  \\\n",
       "0              0.0             0.0              0.0   \n",
       "1              0.0             0.0              0.0   \n",
       "2              1.0             0.0              0.0   \n",
       "3              0.0             0.0              0.0   \n",
       "4              0.0             0.0              0.0   \n",
       "\n",
       "   service_type_data_only_pct  service_type_voice_and_data_pct  \\\n",
       "0                    0.333333                         0.666667   \n",
       "1                    1.000000                         0.000000   \n",
       "2                    1.000000                         0.000000   \n",
       "3                    0.000000                         1.000000   \n",
       "4                    0.500000                         0.500000   \n",
       "\n",
       "   service_type_unknown_pct  prediction_label  prediction_score  \n",
       "0                       0.0                 1            0.9990  \n",
       "1                       0.0                 1            1.0000  \n",
       "2                       0.0                 1            0.9997  \n",
       "3                       0.0                 1            1.0000  \n",
       "4                       0.0                 1            1.0000  \n",
       "\n",
       "[5 rows x 210 columns]"
      ]
     },
     "execution_count": 16,
     "metadata": {},
     "output_type": "execute_result"
    }
   ],
   "source": [
    "pred_result.head()"
   ]
  },
  {
   "cell_type": "code",
   "execution_count": 17,
   "id": "00bf2a6d",
   "metadata": {},
   "outputs": [],
   "source": [
    "pred_result.to_csv('/Users/ritik.pareek/Desktop/Causal Model/Prediction Result/prediction.csv')"
   ]
  },
  {
   "cell_type": "code",
   "execution_count": null,
   "id": "9f230c45",
   "metadata": {},
   "outputs": [],
   "source": []
  }
 ],
 "metadata": {
  "kernelspec": {
   "display_name": "Python 3 (ipykernel)",
   "language": "python",
   "name": "python3"
  },
  "language_info": {
   "codemirror_mode": {
    "name": "ipython",
    "version": 3
   },
   "file_extension": ".py",
   "mimetype": "text/x-python",
   "name": "python",
   "nbconvert_exporter": "python",
   "pygments_lexer": "ipython3",
   "version": "3.9.13"
  }
 },
 "nbformat": 4,
 "nbformat_minor": 5
}
