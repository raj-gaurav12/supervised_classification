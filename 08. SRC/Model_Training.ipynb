{
 "cells": [
  {
   "cell_type": "code",
   "execution_count": 1,
   "id": "caa230a2",
   "metadata": {},
   "outputs": [],
   "source": [
    "import pycaret\n",
    "import pandas as pd\n",
    "import os\n",
    "import sys \n",
    "import shutil"
   ]
  },
  {
   "cell_type": "code",
   "execution_count": 36,
   "id": "56bd099a",
   "metadata": {},
   "outputs": [],
   "source": [
    "sys.path.append(os.path.abspath(\"/Users/raj2.gaurav/Desktop/Git/Causal_Model/09. Config\"))\n",
    "import config"
   ]
  },
  {
   "cell_type": "code",
   "execution_count": 3,
   "id": "f2a4015d",
   "metadata": {},
   "outputs": [],
   "source": [
    "# import pycaret classification and init setup\n",
    "from pycaret.classification import *"
   ]
  },
  {
   "cell_type": "code",
   "execution_count": 4,
   "id": "74d23f20",
   "metadata": {},
   "outputs": [],
   "source": [
    "path=config.train_data_path"
   ]
  },
  {
   "cell_type": "code",
   "execution_count": 5,
   "id": "4de2f3fe",
   "metadata": {},
   "outputs": [],
   "source": [
    "data=pd.read_pickle(path)"
   ]
  },
  {
   "cell_type": "code",
   "execution_count": 6,
   "id": "46d0dc42",
   "metadata": {},
   "outputs": [
    {
     "data": {
      "text/plain": [
       "(343124, 217)"
      ]
     },
     "execution_count": 6,
     "metadata": {},
     "output_type": "execute_result"
    }
   ],
   "source": [
    "data.shape"
   ]
  },
  {
   "cell_type": "code",
   "execution_count": 7,
   "id": "9493f675",
   "metadata": {},
   "outputs": [
    {
     "data": {
      "text/plain": [
       "Index(['entity_cell_id', 'hour_of_day', 'entity_geohash',\n",
       "       'context_environment', 'avg_last_rrc_measurement_earfcn',\n",
       "       'num_distinct_imsi', 'mute_call_gap_indicator', 'num_mute_calls',\n",
       "       'avg_cqi', 'min_cqi',\n",
       "       ...\n",
       "       'env_indoor_pct', 'env_outdoor_pct', 'env_mobile_pct',\n",
       "       'env_unknown_pct', 'service_type_data_only_pct',\n",
       "       'service_type_voice_and_data_pct', 'service_type_unknown_pct',\n",
       "       'qci_9_tp', 'data_date', 'Target_Variable'],\n",
       "      dtype='object', length=217)"
      ]
     },
     "execution_count": 7,
     "metadata": {},
     "output_type": "execute_result"
    }
   ],
   "source": [
    "data.columns"
   ]
  },
  {
   "cell_type": "code",
   "execution_count": 8,
   "id": "3a37b544",
   "metadata": {},
   "outputs": [],
   "source": [
    "Target = config.Target\n",
    "Train_size = config.Train_size\n",
    "Ignore_features = config.Ignore_features\n",
    "Preprocess = config.Preprocess\n",
    "Imputation_type = config.Imputation_type\n",
    "numeric_imputation = config.numeric_imputation\n",
    "categorical_imputation = config.categorical_imputation\n",
    "remove_outliers = config.remove_outliers\n",
    "outliers_method = config.outliers_method\n",
    "outliers_threshold = config.outliers_threshold\n",
    "fix_imbalance = config.fix_imbalance\n",
    "fix_imbalance_method = config.fix_imbalance_method\n",
    "normalize = config.normalize\n",
    "normalize_method = config.normalize_method"
   ]
  },
  {
   "cell_type": "code",
   "execution_count": 9,
   "id": "bd6b27d5",
   "metadata": {},
   "outputs": [
    {
     "data": {
      "text/html": [
       "<style type=\"text/css\">\n",
       "#T_05466_row11_col1, #T_05466_row17_col1, #T_05466_row19_col1, #T_05466_row21_col1 {\n",
       "  background-color: lightgreen;\n",
       "}\n",
       "</style>\n",
       "<table id=\"T_05466\">\n",
       "  <thead>\n",
       "    <tr>\n",
       "      <th class=\"blank level0\" >&nbsp;</th>\n",
       "      <th id=\"T_05466_level0_col0\" class=\"col_heading level0 col0\" >Description</th>\n",
       "      <th id=\"T_05466_level0_col1\" class=\"col_heading level0 col1\" >Value</th>\n",
       "    </tr>\n",
       "  </thead>\n",
       "  <tbody>\n",
       "    <tr>\n",
       "      <th id=\"T_05466_level0_row0\" class=\"row_heading level0 row0\" >0</th>\n",
       "      <td id=\"T_05466_row0_col0\" class=\"data row0 col0\" >Session id</td>\n",
       "      <td id=\"T_05466_row0_col1\" class=\"data row0 col1\" >2593</td>\n",
       "    </tr>\n",
       "    <tr>\n",
       "      <th id=\"T_05466_level0_row1\" class=\"row_heading level0 row1\" >1</th>\n",
       "      <td id=\"T_05466_row1_col0\" class=\"data row1 col0\" >Target</td>\n",
       "      <td id=\"T_05466_row1_col1\" class=\"data row1 col1\" >Target_Variable</td>\n",
       "    </tr>\n",
       "    <tr>\n",
       "      <th id=\"T_05466_level0_row2\" class=\"row_heading level0 row2\" >2</th>\n",
       "      <td id=\"T_05466_row2_col0\" class=\"data row2 col0\" >Target type</td>\n",
       "      <td id=\"T_05466_row2_col1\" class=\"data row2 col1\" >Binary</td>\n",
       "    </tr>\n",
       "    <tr>\n",
       "      <th id=\"T_05466_level0_row3\" class=\"row_heading level0 row3\" >3</th>\n",
       "      <td id=\"T_05466_row3_col0\" class=\"data row3 col0\" >Original data shape</td>\n",
       "      <td id=\"T_05466_row3_col1\" class=\"data row3 col1\" >(343124, 217)</td>\n",
       "    </tr>\n",
       "    <tr>\n",
       "      <th id=\"T_05466_level0_row4\" class=\"row_heading level0 row4\" >4</th>\n",
       "      <td id=\"T_05466_row4_col0\" class=\"data row4 col0\" >Transformed data shape</td>\n",
       "      <td id=\"T_05466_row4_col1\" class=\"data row4 col1\" >(300214, 211)</td>\n",
       "    </tr>\n",
       "    <tr>\n",
       "      <th id=\"T_05466_level0_row5\" class=\"row_heading level0 row5\" >5</th>\n",
       "      <td id=\"T_05466_row5_col0\" class=\"data row5 col0\" >Transformed train set shape</td>\n",
       "      <td id=\"T_05466_row5_col1\" class=\"data row5 col1\" >(197276, 211)</td>\n",
       "    </tr>\n",
       "    <tr>\n",
       "      <th id=\"T_05466_level0_row6\" class=\"row_heading level0 row6\" >6</th>\n",
       "      <td id=\"T_05466_row6_col0\" class=\"data row6 col0\" >Transformed test set shape</td>\n",
       "      <td id=\"T_05466_row6_col1\" class=\"data row6 col1\" >(102938, 211)</td>\n",
       "    </tr>\n",
       "    <tr>\n",
       "      <th id=\"T_05466_level0_row7\" class=\"row_heading level0 row7\" >7</th>\n",
       "      <td id=\"T_05466_row7_col0\" class=\"data row7 col0\" >Ignore features</td>\n",
       "      <td id=\"T_05466_row7_col1\" class=\"data row7 col1\" >8</td>\n",
       "    </tr>\n",
       "    <tr>\n",
       "      <th id=\"T_05466_level0_row8\" class=\"row_heading level0 row8\" >8</th>\n",
       "      <td id=\"T_05466_row8_col0\" class=\"data row8 col0\" >Numeric features</td>\n",
       "      <td id=\"T_05466_row8_col1\" class=\"data row8 col1\" >207</td>\n",
       "    </tr>\n",
       "    <tr>\n",
       "      <th id=\"T_05466_level0_row9\" class=\"row_heading level0 row9\" >9</th>\n",
       "      <td id=\"T_05466_row9_col0\" class=\"data row9 col0\" >Categorical features</td>\n",
       "      <td id=\"T_05466_row9_col1\" class=\"data row9 col1\" >1</td>\n",
       "    </tr>\n",
       "    <tr>\n",
       "      <th id=\"T_05466_level0_row10\" class=\"row_heading level0 row10\" >10</th>\n",
       "      <td id=\"T_05466_row10_col0\" class=\"data row10 col0\" >Rows with missing values</td>\n",
       "      <td id=\"T_05466_row10_col1\" class=\"data row10 col1\" >0.0%</td>\n",
       "    </tr>\n",
       "    <tr>\n",
       "      <th id=\"T_05466_level0_row11\" class=\"row_heading level0 row11\" >11</th>\n",
       "      <td id=\"T_05466_row11_col0\" class=\"data row11 col0\" >Preprocess</td>\n",
       "      <td id=\"T_05466_row11_col1\" class=\"data row11 col1\" >True</td>\n",
       "    </tr>\n",
       "    <tr>\n",
       "      <th id=\"T_05466_level0_row12\" class=\"row_heading level0 row12\" >12</th>\n",
       "      <td id=\"T_05466_row12_col0\" class=\"data row12 col0\" >Imputation type</td>\n",
       "      <td id=\"T_05466_row12_col1\" class=\"data row12 col1\" >simple</td>\n",
       "    </tr>\n",
       "    <tr>\n",
       "      <th id=\"T_05466_level0_row13\" class=\"row_heading level0 row13\" >13</th>\n",
       "      <td id=\"T_05466_row13_col0\" class=\"data row13 col0\" >Numeric imputation</td>\n",
       "      <td id=\"T_05466_row13_col1\" class=\"data row13 col1\" >mean</td>\n",
       "    </tr>\n",
       "    <tr>\n",
       "      <th id=\"T_05466_level0_row14\" class=\"row_heading level0 row14\" >14</th>\n",
       "      <td id=\"T_05466_row14_col0\" class=\"data row14 col0\" >Categorical imputation</td>\n",
       "      <td id=\"T_05466_row14_col1\" class=\"data row14 col1\" >mode</td>\n",
       "    </tr>\n",
       "    <tr>\n",
       "      <th id=\"T_05466_level0_row15\" class=\"row_heading level0 row15\" >15</th>\n",
       "      <td id=\"T_05466_row15_col0\" class=\"data row15 col0\" >Maximum one-hot encoding</td>\n",
       "      <td id=\"T_05466_row15_col1\" class=\"data row15 col1\" >25</td>\n",
       "    </tr>\n",
       "    <tr>\n",
       "      <th id=\"T_05466_level0_row16\" class=\"row_heading level0 row16\" >16</th>\n",
       "      <td id=\"T_05466_row16_col0\" class=\"data row16 col0\" >Encoding method</td>\n",
       "      <td id=\"T_05466_row16_col1\" class=\"data row16 col1\" >None</td>\n",
       "    </tr>\n",
       "    <tr>\n",
       "      <th id=\"T_05466_level0_row17\" class=\"row_heading level0 row17\" >17</th>\n",
       "      <td id=\"T_05466_row17_col0\" class=\"data row17 col0\" >Remove outliers</td>\n",
       "      <td id=\"T_05466_row17_col1\" class=\"data row17 col1\" >True</td>\n",
       "    </tr>\n",
       "    <tr>\n",
       "      <th id=\"T_05466_level0_row18\" class=\"row_heading level0 row18\" >18</th>\n",
       "      <td id=\"T_05466_row18_col0\" class=\"data row18 col0\" >Outliers threshold</td>\n",
       "      <td id=\"T_05466_row18_col1\" class=\"data row18 col1\" >0.500000</td>\n",
       "    </tr>\n",
       "    <tr>\n",
       "      <th id=\"T_05466_level0_row19\" class=\"row_heading level0 row19\" >19</th>\n",
       "      <td id=\"T_05466_row19_col0\" class=\"data row19 col0\" >Fix imbalance</td>\n",
       "      <td id=\"T_05466_row19_col1\" class=\"data row19 col1\" >True</td>\n",
       "    </tr>\n",
       "    <tr>\n",
       "      <th id=\"T_05466_level0_row20\" class=\"row_heading level0 row20\" >20</th>\n",
       "      <td id=\"T_05466_row20_col0\" class=\"data row20 col0\" >Fix imbalance method</td>\n",
       "      <td id=\"T_05466_row20_col1\" class=\"data row20 col1\" >SMOTE</td>\n",
       "    </tr>\n",
       "    <tr>\n",
       "      <th id=\"T_05466_level0_row21\" class=\"row_heading level0 row21\" >21</th>\n",
       "      <td id=\"T_05466_row21_col0\" class=\"data row21 col0\" >Normalize</td>\n",
       "      <td id=\"T_05466_row21_col1\" class=\"data row21 col1\" >True</td>\n",
       "    </tr>\n",
       "    <tr>\n",
       "      <th id=\"T_05466_level0_row22\" class=\"row_heading level0 row22\" >22</th>\n",
       "      <td id=\"T_05466_row22_col0\" class=\"data row22 col0\" >Normalize method</td>\n",
       "      <td id=\"T_05466_row22_col1\" class=\"data row22 col1\" >minmax</td>\n",
       "    </tr>\n",
       "    <tr>\n",
       "      <th id=\"T_05466_level0_row23\" class=\"row_heading level0 row23\" >23</th>\n",
       "      <td id=\"T_05466_row23_col0\" class=\"data row23 col0\" >Fold Generator</td>\n",
       "      <td id=\"T_05466_row23_col1\" class=\"data row23 col1\" >StratifiedKFold</td>\n",
       "    </tr>\n",
       "    <tr>\n",
       "      <th id=\"T_05466_level0_row24\" class=\"row_heading level0 row24\" >24</th>\n",
       "      <td id=\"T_05466_row24_col0\" class=\"data row24 col0\" >Fold Number</td>\n",
       "      <td id=\"T_05466_row24_col1\" class=\"data row24 col1\" >10</td>\n",
       "    </tr>\n",
       "    <tr>\n",
       "      <th id=\"T_05466_level0_row25\" class=\"row_heading level0 row25\" >25</th>\n",
       "      <td id=\"T_05466_row25_col0\" class=\"data row25 col0\" >CPU Jobs</td>\n",
       "      <td id=\"T_05466_row25_col1\" class=\"data row25 col1\" >-1</td>\n",
       "    </tr>\n",
       "    <tr>\n",
       "      <th id=\"T_05466_level0_row26\" class=\"row_heading level0 row26\" >26</th>\n",
       "      <td id=\"T_05466_row26_col0\" class=\"data row26 col0\" >Use GPU</td>\n",
       "      <td id=\"T_05466_row26_col1\" class=\"data row26 col1\" >False</td>\n",
       "    </tr>\n",
       "    <tr>\n",
       "      <th id=\"T_05466_level0_row27\" class=\"row_heading level0 row27\" >27</th>\n",
       "      <td id=\"T_05466_row27_col0\" class=\"data row27 col0\" >Log Experiment</td>\n",
       "      <td id=\"T_05466_row27_col1\" class=\"data row27 col1\" >False</td>\n",
       "    </tr>\n",
       "    <tr>\n",
       "      <th id=\"T_05466_level0_row28\" class=\"row_heading level0 row28\" >28</th>\n",
       "      <td id=\"T_05466_row28_col0\" class=\"data row28 col0\" >Experiment Name</td>\n",
       "      <td id=\"T_05466_row28_col1\" class=\"data row28 col1\" >clf-default-name</td>\n",
       "    </tr>\n",
       "    <tr>\n",
       "      <th id=\"T_05466_level0_row29\" class=\"row_heading level0 row29\" >29</th>\n",
       "      <td id=\"T_05466_row29_col0\" class=\"data row29 col0\" >USI</td>\n",
       "      <td id=\"T_05466_row29_col1\" class=\"data row29 col1\" >9c7b</td>\n",
       "    </tr>\n",
       "  </tbody>\n",
       "</table>\n"
      ],
      "text/plain": [
       "<pandas.io.formats.style.Styler at 0x7f7ec136eee0>"
      ]
     },
     "metadata": {},
     "output_type": "display_data"
    }
   ],
   "source": [
    "s = setup(data, target = Target, train_size = Train_size, ignore_features = Ignore_features,\n",
    "          preprocess = Preprocess,imputation_type = Imputation_type, numeric_imputation = numeric_imputation,\n",
    "         categorical_imputation = categorical_imputation, remove_outliers = remove_outliers, \n",
    "          outliers_method = outliers_method, outliers_threshold = outliers_threshold,\n",
    "         fix_imbalance = fix_imbalance, fix_imbalance_method = fix_imbalance_method,\n",
    "         normalize = normalize, normalize_method = normalize_method)"
   ]
  },
  {
   "cell_type": "code",
   "execution_count": 10,
   "id": "84d64be4",
   "metadata": {},
   "outputs": [],
   "source": [
    "report=pull()"
   ]
  },
  {
   "cell_type": "code",
   "execution_count": 15,
   "id": "3cbfc2e5",
   "metadata": {},
   "outputs": [],
   "source": [
    "Data_Sense=report.iloc[1:10]"
   ]
  },
  {
   "cell_type": "code",
   "execution_count": 12,
   "id": "7d8424e1",
   "metadata": {},
   "outputs": [],
   "source": [
    "models = config.models"
   ]
  },
  {
   "cell_type": "code",
   "execution_count": 14,
   "id": "ad98c23b",
   "metadata": {},
   "outputs": [
    {
     "data": {
      "text/html": [],
      "text/plain": [
       "<IPython.core.display.HTML object>"
      ]
     },
     "metadata": {},
     "output_type": "display_data"
    },
    {
     "data": {
      "text/html": [
       "<style type=\"text/css\">\n",
       "#T_99b4e th {\n",
       "  text-align: left;\n",
       "}\n",
       "#T_99b4e_row0_col0, #T_99b4e_row1_col0, #T_99b4e_row1_col1, #T_99b4e_row1_col2, #T_99b4e_row1_col3, #T_99b4e_row1_col4, #T_99b4e_row1_col5, #T_99b4e_row1_col6, #T_99b4e_row1_col7, #T_99b4e_row2_col0, #T_99b4e_row2_col1, #T_99b4e_row2_col2, #T_99b4e_row2_col3, #T_99b4e_row2_col4, #T_99b4e_row2_col5, #T_99b4e_row2_col6, #T_99b4e_row2_col7, #T_99b4e_row3_col0, #T_99b4e_row3_col1, #T_99b4e_row3_col2, #T_99b4e_row3_col3, #T_99b4e_row3_col4, #T_99b4e_row3_col5, #T_99b4e_row3_col6, #T_99b4e_row3_col7, #T_99b4e_row4_col0, #T_99b4e_row4_col1, #T_99b4e_row4_col2, #T_99b4e_row4_col3, #T_99b4e_row4_col4, #T_99b4e_row4_col5, #T_99b4e_row4_col6, #T_99b4e_row4_col7, #T_99b4e_row5_col0, #T_99b4e_row5_col1, #T_99b4e_row5_col2, #T_99b4e_row5_col3, #T_99b4e_row5_col4, #T_99b4e_row5_col5, #T_99b4e_row5_col6, #T_99b4e_row5_col7, #T_99b4e_row6_col0, #T_99b4e_row6_col1, #T_99b4e_row6_col2, #T_99b4e_row6_col3, #T_99b4e_row6_col4, #T_99b4e_row6_col5, #T_99b4e_row6_col6, #T_99b4e_row6_col7 {\n",
       "  text-align: left;\n",
       "}\n",
       "#T_99b4e_row0_col1, #T_99b4e_row0_col2, #T_99b4e_row0_col3, #T_99b4e_row0_col4, #T_99b4e_row0_col5, #T_99b4e_row0_col6, #T_99b4e_row0_col7 {\n",
       "  text-align: left;\n",
       "  background-color: yellow;\n",
       "}\n",
       "#T_99b4e_row0_col8, #T_99b4e_row1_col8, #T_99b4e_row2_col8, #T_99b4e_row4_col8, #T_99b4e_row5_col8, #T_99b4e_row6_col8 {\n",
       "  text-align: left;\n",
       "  background-color: lightgrey;\n",
       "}\n",
       "#T_99b4e_row3_col8 {\n",
       "  text-align: left;\n",
       "  background-color: yellow;\n",
       "  background-color: lightgrey;\n",
       "}\n",
       "</style>\n",
       "<table id=\"T_99b4e\">\n",
       "  <thead>\n",
       "    <tr>\n",
       "      <th class=\"blank level0\" >&nbsp;</th>\n",
       "      <th id=\"T_99b4e_level0_col0\" class=\"col_heading level0 col0\" >Model</th>\n",
       "      <th id=\"T_99b4e_level0_col1\" class=\"col_heading level0 col1\" >Accuracy</th>\n",
       "      <th id=\"T_99b4e_level0_col2\" class=\"col_heading level0 col2\" >AUC</th>\n",
       "      <th id=\"T_99b4e_level0_col3\" class=\"col_heading level0 col3\" >Recall</th>\n",
       "      <th id=\"T_99b4e_level0_col4\" class=\"col_heading level0 col4\" >Prec.</th>\n",
       "      <th id=\"T_99b4e_level0_col5\" class=\"col_heading level0 col5\" >F1</th>\n",
       "      <th id=\"T_99b4e_level0_col6\" class=\"col_heading level0 col6\" >Kappa</th>\n",
       "      <th id=\"T_99b4e_level0_col7\" class=\"col_heading level0 col7\" >MCC</th>\n",
       "      <th id=\"T_99b4e_level0_col8\" class=\"col_heading level0 col8\" >TT (Sec)</th>\n",
       "    </tr>\n",
       "  </thead>\n",
       "  <tbody>\n",
       "    <tr>\n",
       "      <th id=\"T_99b4e_level0_row0\" class=\"row_heading level0 row0\" >lightgbm</th>\n",
       "      <td id=\"T_99b4e_row0_col0\" class=\"data row0 col0\" >Light Gradient Boosting Machine</td>\n",
       "      <td id=\"T_99b4e_row0_col1\" class=\"data row0 col1\" >0.9915</td>\n",
       "      <td id=\"T_99b4e_row0_col2\" class=\"data row0 col2\" >0.9995</td>\n",
       "      <td id=\"T_99b4e_row0_col3\" class=\"data row0 col3\" >0.9948</td>\n",
       "      <td id=\"T_99b4e_row0_col4\" class=\"data row0 col4\" >0.9950</td>\n",
       "      <td id=\"T_99b4e_row0_col5\" class=\"data row0 col5\" >0.9949</td>\n",
       "      <td id=\"T_99b4e_row0_col6\" class=\"data row0 col6\" >0.9696</td>\n",
       "      <td id=\"T_99b4e_row0_col7\" class=\"data row0 col7\" >0.9696</td>\n",
       "      <td id=\"T_99b4e_row0_col8\" class=\"data row0 col8\" >59.8290</td>\n",
       "    </tr>\n",
       "    <tr>\n",
       "      <th id=\"T_99b4e_level0_row1\" class=\"row_heading level0 row1\" >rf</th>\n",
       "      <td id=\"T_99b4e_row1_col0\" class=\"data row1 col0\" >Random Forest Classifier</td>\n",
       "      <td id=\"T_99b4e_row1_col1\" class=\"data row1 col1\" >0.9695</td>\n",
       "      <td id=\"T_99b4e_row1_col2\" class=\"data row1 col2\" >0.9944</td>\n",
       "      <td id=\"T_99b4e_row1_col3\" class=\"data row1 col3\" >0.9851</td>\n",
       "      <td id=\"T_99b4e_row1_col4\" class=\"data row1 col4\" >0.9785</td>\n",
       "      <td id=\"T_99b4e_row1_col5\" class=\"data row1 col5\" >0.9818</td>\n",
       "      <td id=\"T_99b4e_row1_col6\" class=\"data row1 col6\" >0.8893</td>\n",
       "      <td id=\"T_99b4e_row1_col7\" class=\"data row1 col7\" >0.8895</td>\n",
       "      <td id=\"T_99b4e_row1_col8\" class=\"data row1 col8\" >17.8380</td>\n",
       "    </tr>\n",
       "    <tr>\n",
       "      <th id=\"T_99b4e_level0_row2\" class=\"row_heading level0 row2\" >gbc</th>\n",
       "      <td id=\"T_99b4e_row2_col0\" class=\"data row2 col0\" >Gradient Boosting Classifier</td>\n",
       "      <td id=\"T_99b4e_row2_col1\" class=\"data row2 col1\" >0.9686</td>\n",
       "      <td id=\"T_99b4e_row2_col2\" class=\"data row2 col2\" >0.9933</td>\n",
       "      <td id=\"T_99b4e_row2_col3\" class=\"data row2 col3\" >0.9808</td>\n",
       "      <td id=\"T_99b4e_row2_col4\" class=\"data row2 col4\" >0.9815</td>\n",
       "      <td id=\"T_99b4e_row2_col5\" class=\"data row2 col5\" >0.9811</td>\n",
       "      <td id=\"T_99b4e_row2_col6\" class=\"data row2 col6\" >0.8876</td>\n",
       "      <td id=\"T_99b4e_row2_col7\" class=\"data row2 col7\" >0.8876</td>\n",
       "      <td id=\"T_99b4e_row2_col8\" class=\"data row2 col8\" >64.3820</td>\n",
       "    </tr>\n",
       "    <tr>\n",
       "      <th id=\"T_99b4e_level0_row3\" class=\"row_heading level0 row3\" >dt</th>\n",
       "      <td id=\"T_99b4e_row3_col0\" class=\"data row3 col0\" >Decision Tree Classifier</td>\n",
       "      <td id=\"T_99b4e_row3_col1\" class=\"data row3 col1\" >0.9582</td>\n",
       "      <td id=\"T_99b4e_row3_col2\" class=\"data row3 col2\" >0.9268</td>\n",
       "      <td id=\"T_99b4e_row3_col3\" class=\"data row3 col3\" >0.9741</td>\n",
       "      <td id=\"T_99b4e_row3_col4\" class=\"data row3 col4\" >0.9757</td>\n",
       "      <td id=\"T_99b4e_row3_col5\" class=\"data row3 col5\" >0.9749</td>\n",
       "      <td id=\"T_99b4e_row3_col6\" class=\"data row3 col6\" >0.8507</td>\n",
       "      <td id=\"T_99b4e_row3_col7\" class=\"data row3 col7\" >0.8508</td>\n",
       "      <td id=\"T_99b4e_row3_col8\" class=\"data row3 col8\" >8.3190</td>\n",
       "    </tr>\n",
       "    <tr>\n",
       "      <th id=\"T_99b4e_level0_row4\" class=\"row_heading level0 row4\" >ada</th>\n",
       "      <td id=\"T_99b4e_row4_col0\" class=\"data row4 col0\" >Ada Boost Classifier</td>\n",
       "      <td id=\"T_99b4e_row4_col1\" class=\"data row4 col1\" >0.9277</td>\n",
       "      <td id=\"T_99b4e_row4_col2\" class=\"data row4 col2\" >0.9723</td>\n",
       "      <td id=\"T_99b4e_row4_col3\" class=\"data row4 col3\" >0.9517</td>\n",
       "      <td id=\"T_99b4e_row4_col4\" class=\"data row4 col4\" >0.9610</td>\n",
       "      <td id=\"T_99b4e_row4_col5\" class=\"data row4 col5\" >0.9563</td>\n",
       "      <td id=\"T_99b4e_row4_col6\" class=\"data row4 col6\" >0.7453</td>\n",
       "      <td id=\"T_99b4e_row4_col7\" class=\"data row4 col7\" >0.7457</td>\n",
       "      <td id=\"T_99b4e_row4_col8\" class=\"data row4 col8\" >105.5260</td>\n",
       "    </tr>\n",
       "    <tr>\n",
       "      <th id=\"T_99b4e_level0_row5\" class=\"row_heading level0 row5\" >lr</th>\n",
       "      <td id=\"T_99b4e_row5_col0\" class=\"data row5 col0\" >Logistic Regression</td>\n",
       "      <td id=\"T_99b4e_row5_col1\" class=\"data row5 col1\" >0.8987</td>\n",
       "      <td id=\"T_99b4e_row5_col2\" class=\"data row5 col2\" >0.9703</td>\n",
       "      <td id=\"T_99b4e_row5_col3\" class=\"data row5 col3\" >0.8891</td>\n",
       "      <td id=\"T_99b4e_row5_col4\" class=\"data row5 col4\" >0.9880</td>\n",
       "      <td id=\"T_99b4e_row5_col5\" class=\"data row5 col5\" >0.9360</td>\n",
       "      <td id=\"T_99b4e_row5_col6\" class=\"data row5 col6\" >0.6970</td>\n",
       "      <td id=\"T_99b4e_row5_col7\" class=\"data row5 col7\" >0.7197</td>\n",
       "      <td id=\"T_99b4e_row5_col8\" class=\"data row5 col8\" >74.6910</td>\n",
       "    </tr>\n",
       "    <tr>\n",
       "      <th id=\"T_99b4e_level0_row6\" class=\"row_heading level0 row6\" >svm</th>\n",
       "      <td id=\"T_99b4e_row6_col0\" class=\"data row6 col0\" >SVM - Linear Kernel</td>\n",
       "      <td id=\"T_99b4e_row6_col1\" class=\"data row6 col1\" >0.8552</td>\n",
       "      <td id=\"T_99b4e_row6_col2\" class=\"data row6 col2\" >0.0000</td>\n",
       "      <td id=\"T_99b4e_row6_col3\" class=\"data row6 col3\" >0.8350</td>\n",
       "      <td id=\"T_99b4e_row6_col4\" class=\"data row6 col4\" >0.9895</td>\n",
       "      <td id=\"T_99b4e_row6_col5\" class=\"data row6 col5\" >0.9055</td>\n",
       "      <td id=\"T_99b4e_row6_col6\" class=\"data row6 col6\" >0.6045</td>\n",
       "      <td id=\"T_99b4e_row6_col7\" class=\"data row6 col7\" >0.6469</td>\n",
       "      <td id=\"T_99b4e_row6_col8\" class=\"data row6 col8\" >82.3880</td>\n",
       "    </tr>\n",
       "  </tbody>\n",
       "</table>\n"
      ],
      "text/plain": [
       "<pandas.io.formats.style.Styler at 0x7f7ed07040d0>"
      ]
     },
     "metadata": {},
     "output_type": "display_data"
    },
    {
     "data": {
      "application/vnd.jupyter.widget-view+json": {
       "model_id": "",
       "version_major": 2,
       "version_minor": 0
      },
      "text/plain": [
       "Processing:   0%|          | 0/33 [00:00<?, ?it/s]"
      ]
     },
     "metadata": {},
     "output_type": "display_data"
    }
   ],
   "source": [
    "best_model = compare_models(include = models)"
   ]
  },
  {
   "cell_type": "code",
   "execution_count": 16,
   "id": "0d012bb9",
   "metadata": {},
   "outputs": [],
   "source": [
    "Compare_Model_Report=pull()"
   ]
  },
  {
   "cell_type": "code",
   "execution_count": 19,
   "id": "cf182b53",
   "metadata": {},
   "outputs": [],
   "source": [
    "if not os.path.exists(config.data_hygeine_path):\n",
    "    os.makedirs(config.data_hygeine_path)\n",
    "writer2 = pd.ExcelWriter(config.data_hygeibe_report_file)\n",
    "Data_Sense.to_excel(writer2, sheet_name = config.data_hygeibe_report_file_sheet1, index = False)\n",
    "Compare_Model_Report.to_excel(writer2, sheet_name = config.data_hygeibe_report_file_sheet2, index = False)\n",
    "writer2.close()"
   ]
  },
  {
   "cell_type": "code",
   "execution_count": 21,
   "id": "c25b6815",
   "metadata": {},
   "outputs": [],
   "source": [
    "best_5=Compare_Model_Report.head()"
   ]
  },
  {
   "cell_type": "code",
   "execution_count": 23,
   "id": "f18ecc9e",
   "metadata": {},
   "outputs": [
    {
     "data": {
      "text/html": [],
      "text/plain": [
       "<IPython.core.display.HTML object>"
      ]
     },
     "metadata": {},
     "output_type": "display_data"
    },
    {
     "data": {
      "text/html": [
       "<style type=\"text/css\">\n",
       "#T_015df_row5_col0, #T_015df_row5_col1, #T_015df_row5_col2, #T_015df_row5_col3, #T_015df_row5_col4, #T_015df_row5_col5, #T_015df_row5_col6 {\n",
       "  background: yellow;\n",
       "}\n",
       "</style>\n",
       "<table id=\"T_015df\">\n",
       "  <thead>\n",
       "    <tr>\n",
       "      <th class=\"blank level0\" >&nbsp;</th>\n",
       "      <th id=\"T_015df_level0_col0\" class=\"col_heading level0 col0\" >Accuracy</th>\n",
       "      <th id=\"T_015df_level0_col1\" class=\"col_heading level0 col1\" >AUC</th>\n",
       "      <th id=\"T_015df_level0_col2\" class=\"col_heading level0 col2\" >Recall</th>\n",
       "      <th id=\"T_015df_level0_col3\" class=\"col_heading level0 col3\" >Prec.</th>\n",
       "      <th id=\"T_015df_level0_col4\" class=\"col_heading level0 col4\" >F1</th>\n",
       "      <th id=\"T_015df_level0_col5\" class=\"col_heading level0 col5\" >Kappa</th>\n",
       "      <th id=\"T_015df_level0_col6\" class=\"col_heading level0 col6\" >MCC</th>\n",
       "    </tr>\n",
       "    <tr>\n",
       "      <th class=\"index_name level0\" >Fold</th>\n",
       "      <th class=\"blank col0\" >&nbsp;</th>\n",
       "      <th class=\"blank col1\" >&nbsp;</th>\n",
       "      <th class=\"blank col2\" >&nbsp;</th>\n",
       "      <th class=\"blank col3\" >&nbsp;</th>\n",
       "      <th class=\"blank col4\" >&nbsp;</th>\n",
       "      <th class=\"blank col5\" >&nbsp;</th>\n",
       "      <th class=\"blank col6\" >&nbsp;</th>\n",
       "    </tr>\n",
       "  </thead>\n",
       "  <tbody>\n",
       "    <tr>\n",
       "      <th id=\"T_015df_level0_row0\" class=\"row_heading level0 row0\" >0</th>\n",
       "      <td id=\"T_015df_row0_col0\" class=\"data row0 col0\" >0.9910</td>\n",
       "      <td id=\"T_015df_row0_col1\" class=\"data row0 col1\" >0.9994</td>\n",
       "      <td id=\"T_015df_row0_col2\" class=\"data row0 col2\" >0.9947</td>\n",
       "      <td id=\"T_015df_row0_col3\" class=\"data row0 col3\" >0.9944</td>\n",
       "      <td id=\"T_015df_row0_col4\" class=\"data row0 col4\" >0.9946</td>\n",
       "      <td id=\"T_015df_row0_col5\" class=\"data row0 col5\" >0.9676</td>\n",
       "      <td id=\"T_015df_row0_col6\" class=\"data row0 col6\" >0.9676</td>\n",
       "    </tr>\n",
       "    <tr>\n",
       "      <th id=\"T_015df_level0_row1\" class=\"row_heading level0 row1\" >1</th>\n",
       "      <td id=\"T_015df_row1_col0\" class=\"data row1 col0\" >0.9916</td>\n",
       "      <td id=\"T_015df_row1_col1\" class=\"data row1 col1\" >0.9995</td>\n",
       "      <td id=\"T_015df_row1_col2\" class=\"data row1 col2\" >0.9948</td>\n",
       "      <td id=\"T_015df_row1_col3\" class=\"data row1 col3\" >0.9952</td>\n",
       "      <td id=\"T_015df_row1_col4\" class=\"data row1 col4\" >0.9950</td>\n",
       "      <td id=\"T_015df_row1_col5\" class=\"data row1 col5\" >0.9700</td>\n",
       "      <td id=\"T_015df_row1_col6\" class=\"data row1 col6\" >0.9700</td>\n",
       "    </tr>\n",
       "    <tr>\n",
       "      <th id=\"T_015df_level0_row2\" class=\"row_heading level0 row2\" >2</th>\n",
       "      <td id=\"T_015df_row2_col0\" class=\"data row2 col0\" >0.9909</td>\n",
       "      <td id=\"T_015df_row2_col1\" class=\"data row2 col1\" >0.9995</td>\n",
       "      <td id=\"T_015df_row2_col2\" class=\"data row2 col2\" >0.9949</td>\n",
       "      <td id=\"T_015df_row2_col3\" class=\"data row2 col3\" >0.9942</td>\n",
       "      <td id=\"T_015df_row2_col4\" class=\"data row2 col4\" >0.9945</td>\n",
       "      <td id=\"T_015df_row2_col5\" class=\"data row2 col5\" >0.9672</td>\n",
       "      <td id=\"T_015df_row2_col6\" class=\"data row2 col6\" >0.9672</td>\n",
       "    </tr>\n",
       "    <tr>\n",
       "      <th id=\"T_015df_level0_row3\" class=\"row_heading level0 row3\" >3</th>\n",
       "      <td id=\"T_015df_row3_col0\" class=\"data row3 col0\" >0.9915</td>\n",
       "      <td id=\"T_015df_row3_col1\" class=\"data row3 col1\" >0.9995</td>\n",
       "      <td id=\"T_015df_row3_col2\" class=\"data row3 col2\" >0.9951</td>\n",
       "      <td id=\"T_015df_row3_col3\" class=\"data row3 col3\" >0.9947</td>\n",
       "      <td id=\"T_015df_row3_col4\" class=\"data row3 col4\" >0.9949</td>\n",
       "      <td id=\"T_015df_row3_col5\" class=\"data row3 col5\" >0.9696</td>\n",
       "      <td id=\"T_015df_row3_col6\" class=\"data row3 col6\" >0.9696</td>\n",
       "    </tr>\n",
       "    <tr>\n",
       "      <th id=\"T_015df_level0_row4\" class=\"row_heading level0 row4\" >4</th>\n",
       "      <td id=\"T_015df_row4_col0\" class=\"data row4 col0\" >0.9916</td>\n",
       "      <td id=\"T_015df_row4_col1\" class=\"data row4 col1\" >0.9995</td>\n",
       "      <td id=\"T_015df_row4_col2\" class=\"data row4 col2\" >0.9951</td>\n",
       "      <td id=\"T_015df_row4_col3\" class=\"data row4 col3\" >0.9948</td>\n",
       "      <td id=\"T_015df_row4_col4\" class=\"data row4 col4\" >0.9950</td>\n",
       "      <td id=\"T_015df_row4_col5\" class=\"data row4 col5\" >0.9700</td>\n",
       "      <td id=\"T_015df_row4_col6\" class=\"data row4 col6\" >0.9700</td>\n",
       "    </tr>\n",
       "    <tr>\n",
       "      <th id=\"T_015df_level0_row5\" class=\"row_heading level0 row5\" >Mean</th>\n",
       "      <td id=\"T_015df_row5_col0\" class=\"data row5 col0\" >0.9913</td>\n",
       "      <td id=\"T_015df_row5_col1\" class=\"data row5 col1\" >0.9995</td>\n",
       "      <td id=\"T_015df_row5_col2\" class=\"data row5 col2\" >0.9949</td>\n",
       "      <td id=\"T_015df_row5_col3\" class=\"data row5 col3\" >0.9946</td>\n",
       "      <td id=\"T_015df_row5_col4\" class=\"data row5 col4\" >0.9948</td>\n",
       "      <td id=\"T_015df_row5_col5\" class=\"data row5 col5\" >0.9689</td>\n",
       "      <td id=\"T_015df_row5_col6\" class=\"data row5 col6\" >0.9689</td>\n",
       "    </tr>\n",
       "    <tr>\n",
       "      <th id=\"T_015df_level0_row6\" class=\"row_heading level0 row6\" >Std</th>\n",
       "      <td id=\"T_015df_row6_col0\" class=\"data row6 col0\" >0.0003</td>\n",
       "      <td id=\"T_015df_row6_col1\" class=\"data row6 col1\" >0.0001</td>\n",
       "      <td id=\"T_015df_row6_col2\" class=\"data row6 col2\" >0.0002</td>\n",
       "      <td id=\"T_015df_row6_col3\" class=\"data row6 col3\" >0.0003</td>\n",
       "      <td id=\"T_015df_row6_col4\" class=\"data row6 col4\" >0.0002</td>\n",
       "      <td id=\"T_015df_row6_col5\" class=\"data row6 col5\" >0.0012</td>\n",
       "      <td id=\"T_015df_row6_col6\" class=\"data row6 col6\" >0.0012</td>\n",
       "    </tr>\n",
       "  </tbody>\n",
       "</table>\n"
      ],
      "text/plain": [
       "<pandas.io.formats.style.Styler at 0x7f7ef55b0100>"
      ]
     },
     "metadata": {},
     "output_type": "display_data"
    },
    {
     "data": {
      "application/vnd.jupyter.widget-view+json": {
       "model_id": "",
       "version_major": 2,
       "version_minor": 0
      },
      "text/plain": [
       "Processing:   0%|          | 0/4 [00:00<?, ?it/s]"
      ]
     },
     "metadata": {},
     "output_type": "display_data"
    }
   ],
   "source": [
    "model1=create_model(best_5.index[0],fold=config.fold_n)"
   ]
  },
  {
   "cell_type": "code",
   "execution_count": 24,
   "id": "dc951bfc",
   "metadata": {},
   "outputs": [],
   "source": [
    "Model1_Report=pull()"
   ]
  },
  {
   "cell_type": "code",
   "execution_count": 26,
   "id": "9c5e96c8",
   "metadata": {},
   "outputs": [
    {
     "data": {
      "text/html": [],
      "text/plain": [
       "<IPython.core.display.HTML object>"
      ]
     },
     "metadata": {},
     "output_type": "display_data"
    },
    {
     "data": {
      "text/html": [
       "<style type=\"text/css\">\n",
       "#T_fdf48_row5_col0, #T_fdf48_row5_col1, #T_fdf48_row5_col2, #T_fdf48_row5_col3, #T_fdf48_row5_col4, #T_fdf48_row5_col5, #T_fdf48_row5_col6 {\n",
       "  background: yellow;\n",
       "}\n",
       "</style>\n",
       "<table id=\"T_fdf48\">\n",
       "  <thead>\n",
       "    <tr>\n",
       "      <th class=\"blank level0\" >&nbsp;</th>\n",
       "      <th id=\"T_fdf48_level0_col0\" class=\"col_heading level0 col0\" >Accuracy</th>\n",
       "      <th id=\"T_fdf48_level0_col1\" class=\"col_heading level0 col1\" >AUC</th>\n",
       "      <th id=\"T_fdf48_level0_col2\" class=\"col_heading level0 col2\" >Recall</th>\n",
       "      <th id=\"T_fdf48_level0_col3\" class=\"col_heading level0 col3\" >Prec.</th>\n",
       "      <th id=\"T_fdf48_level0_col4\" class=\"col_heading level0 col4\" >F1</th>\n",
       "      <th id=\"T_fdf48_level0_col5\" class=\"col_heading level0 col5\" >Kappa</th>\n",
       "      <th id=\"T_fdf48_level0_col6\" class=\"col_heading level0 col6\" >MCC</th>\n",
       "    </tr>\n",
       "    <tr>\n",
       "      <th class=\"index_name level0\" >Fold</th>\n",
       "      <th class=\"blank col0\" >&nbsp;</th>\n",
       "      <th class=\"blank col1\" >&nbsp;</th>\n",
       "      <th class=\"blank col2\" >&nbsp;</th>\n",
       "      <th class=\"blank col3\" >&nbsp;</th>\n",
       "      <th class=\"blank col4\" >&nbsp;</th>\n",
       "      <th class=\"blank col5\" >&nbsp;</th>\n",
       "      <th class=\"blank col6\" >&nbsp;</th>\n",
       "    </tr>\n",
       "  </thead>\n",
       "  <tbody>\n",
       "    <tr>\n",
       "      <th id=\"T_fdf48_level0_row0\" class=\"row_heading level0 row0\" >0</th>\n",
       "      <td id=\"T_fdf48_row0_col0\" class=\"data row0 col0\" >0.9932</td>\n",
       "      <td id=\"T_fdf48_row0_col1\" class=\"data row0 col1\" >0.9997</td>\n",
       "      <td id=\"T_fdf48_row0_col2\" class=\"data row0 col2\" >0.9970</td>\n",
       "      <td id=\"T_fdf48_row0_col3\" class=\"data row0 col3\" >0.9948</td>\n",
       "      <td id=\"T_fdf48_row0_col4\" class=\"data row0 col4\" >0.9959</td>\n",
       "      <td id=\"T_fdf48_row0_col5\" class=\"data row0 col5\" >0.9755</td>\n",
       "      <td id=\"T_fdf48_row0_col6\" class=\"data row0 col6\" >0.9755</td>\n",
       "    </tr>\n",
       "    <tr>\n",
       "      <th id=\"T_fdf48_level0_row1\" class=\"row_heading level0 row1\" >1</th>\n",
       "      <td id=\"T_fdf48_row1_col0\" class=\"data row1 col0\" >0.9942</td>\n",
       "      <td id=\"T_fdf48_row1_col1\" class=\"data row1 col1\" >0.9998</td>\n",
       "      <td id=\"T_fdf48_row1_col2\" class=\"data row1 col2\" >0.9970</td>\n",
       "      <td id=\"T_fdf48_row1_col3\" class=\"data row1 col3\" >0.9960</td>\n",
       "      <td id=\"T_fdf48_row1_col4\" class=\"data row1 col4\" >0.9965</td>\n",
       "      <td id=\"T_fdf48_row1_col5\" class=\"data row1 col5\" >0.9790</td>\n",
       "      <td id=\"T_fdf48_row1_col6\" class=\"data row1 col6\" >0.9791</td>\n",
       "    </tr>\n",
       "    <tr>\n",
       "      <th id=\"T_fdf48_level0_row2\" class=\"row_heading level0 row2\" >2</th>\n",
       "      <td id=\"T_fdf48_row2_col0\" class=\"data row2 col0\" >0.9939</td>\n",
       "      <td id=\"T_fdf48_row2_col1\" class=\"data row2 col1\" >0.9998</td>\n",
       "      <td id=\"T_fdf48_row2_col2\" class=\"data row2 col2\" >0.9969</td>\n",
       "      <td id=\"T_fdf48_row2_col3\" class=\"data row2 col3\" >0.9958</td>\n",
       "      <td id=\"T_fdf48_row2_col4\" class=\"data row2 col4\" >0.9964</td>\n",
       "      <td id=\"T_fdf48_row2_col5\" class=\"data row2 col5\" >0.9781</td>\n",
       "      <td id=\"T_fdf48_row2_col6\" class=\"data row2 col6\" >0.9781</td>\n",
       "    </tr>\n",
       "    <tr>\n",
       "      <th id=\"T_fdf48_level0_row3\" class=\"row_heading level0 row3\" >3</th>\n",
       "      <td id=\"T_fdf48_row3_col0\" class=\"data row3 col0\" >0.9934</td>\n",
       "      <td id=\"T_fdf48_row3_col1\" class=\"data row3 col1\" >0.9997</td>\n",
       "      <td id=\"T_fdf48_row3_col2\" class=\"data row3 col2\" >0.9963</td>\n",
       "      <td id=\"T_fdf48_row3_col3\" class=\"data row3 col3\" >0.9958</td>\n",
       "      <td id=\"T_fdf48_row3_col4\" class=\"data row3 col4\" >0.9960</td>\n",
       "      <td id=\"T_fdf48_row3_col5\" class=\"data row3 col5\" >0.9763</td>\n",
       "      <td id=\"T_fdf48_row3_col6\" class=\"data row3 col6\" >0.9763</td>\n",
       "    </tr>\n",
       "    <tr>\n",
       "      <th id=\"T_fdf48_level0_row4\" class=\"row_heading level0 row4\" >4</th>\n",
       "      <td id=\"T_fdf48_row4_col0\" class=\"data row4 col0\" >0.9943</td>\n",
       "      <td id=\"T_fdf48_row4_col1\" class=\"data row4 col1\" >0.9998</td>\n",
       "      <td id=\"T_fdf48_row4_col2\" class=\"data row4 col2\" >0.9969</td>\n",
       "      <td id=\"T_fdf48_row4_col3\" class=\"data row4 col3\" >0.9963</td>\n",
       "      <td id=\"T_fdf48_row4_col4\" class=\"data row4 col4\" >0.9966</td>\n",
       "      <td id=\"T_fdf48_row4_col5\" class=\"data row4 col5\" >0.9797</td>\n",
       "      <td id=\"T_fdf48_row4_col6\" class=\"data row4 col6\" >0.9797</td>\n",
       "    </tr>\n",
       "    <tr>\n",
       "      <th id=\"T_fdf48_level0_row5\" class=\"row_heading level0 row5\" >Mean</th>\n",
       "      <td id=\"T_fdf48_row5_col0\" class=\"data row5 col0\" >0.9938</td>\n",
       "      <td id=\"T_fdf48_row5_col1\" class=\"data row5 col1\" >0.9998</td>\n",
       "      <td id=\"T_fdf48_row5_col2\" class=\"data row5 col2\" >0.9968</td>\n",
       "      <td id=\"T_fdf48_row5_col3\" class=\"data row5 col3\" >0.9957</td>\n",
       "      <td id=\"T_fdf48_row5_col4\" class=\"data row5 col4\" >0.9963</td>\n",
       "      <td id=\"T_fdf48_row5_col5\" class=\"data row5 col5\" >0.9777</td>\n",
       "      <td id=\"T_fdf48_row5_col6\" class=\"data row5 col6\" >0.9777</td>\n",
       "    </tr>\n",
       "    <tr>\n",
       "      <th id=\"T_fdf48_level0_row6\" class=\"row_heading level0 row6\" >Std</th>\n",
       "      <td id=\"T_fdf48_row6_col0\" class=\"data row6 col0\" >0.0004</td>\n",
       "      <td id=\"T_fdf48_row6_col1\" class=\"data row6 col1\" >0.0000</td>\n",
       "      <td id=\"T_fdf48_row6_col2\" class=\"data row6 col2\" >0.0003</td>\n",
       "      <td id=\"T_fdf48_row6_col3\" class=\"data row6 col3\" >0.0005</td>\n",
       "      <td id=\"T_fdf48_row6_col4\" class=\"data row6 col4\" >0.0003</td>\n",
       "      <td id=\"T_fdf48_row6_col5\" class=\"data row6 col5\" >0.0016</td>\n",
       "      <td id=\"T_fdf48_row6_col6\" class=\"data row6 col6\" >0.0016</td>\n",
       "    </tr>\n",
       "  </tbody>\n",
       "</table>\n"
      ],
      "text/plain": [
       "<pandas.io.formats.style.Styler at 0x7f7ed0e7efd0>"
      ]
     },
     "metadata": {},
     "output_type": "display_data"
    },
    {
     "data": {
      "application/vnd.jupyter.widget-view+json": {
       "model_id": "",
       "version_major": 2,
       "version_minor": 0
      },
      "text/plain": [
       "Processing:   0%|          | 0/7 [00:00<?, ?it/s]"
      ]
     },
     "metadata": {},
     "output_type": "display_data"
    },
    {
     "name": "stdout",
     "output_type": "stream",
     "text": [
      "Fitting 5 folds for each of 10 candidates, totalling 50 fits\n",
      "[LightGBM] [Warning] bagging_freq is set=5, subsample_freq=0 will be ignored. Current value: bagging_freq=5\n",
      "[LightGBM] [Warning] feature_fraction is set=1.0, colsample_bytree=1.0 will be ignored. Current value: feature_fraction=1.0\n",
      "[LightGBM] [Warning] bagging_fraction is set=0.5, subsample=1.0 will be ignored. Current value: bagging_fraction=0.5\n",
      "[LightGBM] [Warning] bagging_freq is set=6, subsample_freq=0 will be ignored. Current value: bagging_freq=6\n",
      "[LightGBM] [Warning] feature_fraction is set=0.8, colsample_bytree=1.0 will be ignored. Current value: feature_fraction=0.8\n",
      "[LightGBM] [Warning] bagging_fraction is set=0.4, subsample=1.0 will be ignored. Current value: bagging_fraction=0.4\n",
      "[LightGBM] [Warning] bagging_freq is set=4, subsample_freq=0 will be ignored. Current value: bagging_freq=4\n",
      "[LightGBM] [Warning] feature_fraction is set=0.8, colsample_bytree=1.0 will be ignored. Current value: feature_fraction=0.8\n",
      "[LightGBM] [Warning] bagging_fraction is set=0.9, subsample=1.0 will be ignored. Current value: bagging_fraction=0.9\n",
      "[LightGBM] [Warning] bagging_freq is set=0, subsample_freq=0 will be ignored. Current value: bagging_freq=0\n",
      "[LightGBM] [Warning] feature_fraction is set=0.7, colsample_bytree=1.0 will be ignored. Current value: feature_fraction=0.7\n",
      "[LightGBM] [Warning] bagging_fraction is set=0.9, subsample=1.0 will be ignored. Current value: bagging_fraction=0.9\n"
     ]
    }
   ],
   "source": [
    "tuned_model = tune_model(model1,fold=config.fold_tuned_n)"
   ]
  },
  {
   "cell_type": "code",
   "execution_count": 27,
   "id": "ad3b149f",
   "metadata": {},
   "outputs": [
    {
     "name": "stdout",
     "output_type": "stream",
     "text": [
      "[LightGBM] [Warning] bagging_freq is set=4, subsample_freq=0 will be ignored. Current value: bagging_freq=4\n",
      "[LightGBM] [Warning] feature_fraction is set=0.8, colsample_bytree=1.0 will be ignored. Current value: feature_fraction=0.8\n",
      "[LightGBM] [Warning] bagging_fraction is set=0.9, subsample=1.0 will be ignored. Current value: bagging_fraction=0.9\n",
      "[LightGBM] [Warning] bagging_freq is set=0, subsample_freq=0 will be ignored. Current value: bagging_freq=0\n",
      "[LightGBM] [Warning] feature_fraction is set=0.7, colsample_bytree=1.0 will be ignored. Current value: feature_fraction=0.7\n",
      "[LightGBM] [Warning] bagging_fraction is set=0.9, subsample=1.0 will be ignored. Current value: bagging_fraction=0.9\n"
     ]
    }
   ],
   "source": [
    "Model1_Tuned_Report=pull()"
   ]
  },
  {
   "cell_type": "code",
   "execution_count": 39,
   "id": "979c52b1",
   "metadata": {},
   "outputs": [],
   "source": [
    "Hyper_para=str(tuned_model)\n",
    "Model1_Hyperparamters=pd.DataFrame(Hyper_para.split('(')[1].split())"
   ]
  },
  {
   "cell_type": "code",
   "execution_count": 29,
   "id": "d821741b",
   "metadata": {},
   "outputs": [],
   "source": [
    "model_name = best_5['Model'][0]"
   ]
  },
  {
   "cell_type": "code",
   "execution_count": 40,
   "id": "3db8ac5b",
   "metadata": {},
   "outputs": [],
   "source": [
    "if not os.path.exists(eval(config.model_hygeine_path)):\n",
    "    os.makedirs(eval(config.model_hygeine_path))\n",
    "writer2 = pd.ExcelWriter(eval(config.model_hygeine_report_file))\n",
    "Model1_Report.to_excel(writer2, sheet_name = config.model_hygeibe_report_file_sheet1, index = False)\n",
    "Model1_Tuned_Report.to_excel(writer2, sheet_name = config.model_hygeibe_report_file_sheet2, index = False)\n",
    "Model1_Hyperparamters.to_excel(writer2, sheet_name = config.model_hygeibe_report_file_sheet3, index = False)\n",
    "writer2.close()"
   ]
  },
  {
   "cell_type": "code",
   "execution_count": null,
   "id": "1981962d",
   "metadata": {},
   "outputs": [],
   "source": [
    "### Accuracy results"
   ]
  },
  {
   "cell_type": "code",
   "execution_count": 44,
   "id": "4a280387",
   "metadata": {},
   "outputs": [
    {
     "data": {
      "text/html": [],
      "text/plain": [
       "<IPython.core.display.HTML object>"
      ]
     },
     "metadata": {},
     "output_type": "display_data"
    },
    {
     "data": {
      "text/html": [],
      "text/plain": [
       "<IPython.core.display.HTML object>"
      ]
     },
     "metadata": {},
     "output_type": "display_data"
    },
    {
     "data": {
      "text/html": [],
      "text/plain": [
       "<IPython.core.display.HTML object>"
      ]
     },
     "metadata": {},
     "output_type": "display_data"
    }
   ],
   "source": [
    "lst_plot=config.plot_lst\n",
    "for i in lst_plot:\n",
    "    plot_model(tuned_model, plot = i,save=True) "
   ]
  },
  {
   "cell_type": "code",
   "execution_count": 46,
   "id": "eb1d9249",
   "metadata": {},
   "outputs": [],
   "source": [
    "if not os.path.exists(eval(config.plot_path)):\n",
    "    os.makedirs(eval(config.plot_path))\n",
    "\n",
    "\n",
    "source = os.path.join(config.plot_soruce_path)\n",
    "sort = os.path.join(eval(config.plot_path))\n",
    "\n",
    "for f in os.listdir(source):\n",
    "    if f.endswith(config.plot_format):\n",
    "        shutil.move(os.path.join(source, f), sort)"
   ]
  },
  {
   "cell_type": "code",
   "execution_count": 47,
   "id": "8440e17f",
   "metadata": {},
   "outputs": [
    {
     "data": {
      "text/plain": [
       "Pipeline(memory=FastMemory(location=/var/folders/3p/7q9_hy6x4q58xrz02_n9tvv0fryx5_/T/joblib),\n",
       "         steps=[('numerical_imputer',\n",
       "                 TransformerWrapper(exclude=None,\n",
       "                                    include=['hour_of_day',\n",
       "                                             'avg_last_rrc_measurement_earfcn',\n",
       "                                             'num_distinct_imsi',\n",
       "                                             'mute_call_gap_indicator',\n",
       "                                             'num_mute_calls', 'avg_cqi',\n",
       "                                             'min_cqi', 'max_cqi', 'p05_cqi',\n",
       "                                             'p10_cqi', 'p50_cqi', 'p90_cqi',\n",
       "                                             'p95_cq...\n",
       "                                boosting_type='gbdt', class_weight=None,\n",
       "                                colsample_bytree=1.0, feature_fraction=0.7,\n",
       "                                importance_type='split', learning_rate=0.2,\n",
       "                                max_depth=-1, min_child_samples=61,\n",
       "                                min_child_weight=0.001, min_split_gain=0.1,\n",
       "                                n_estimators=150, n_jobs=-1, num_leaves=40,\n",
       "                                objective=None, random_state=2593,\n",
       "                                reg_alpha=0.1, reg_lambda=3, silent='warn',\n",
       "                                subsample=1.0, subsample_for_bin=200000,\n",
       "                                subsample_freq=0))],\n",
       "         verbose=False)"
      ]
     },
     "execution_count": 47,
     "metadata": {},
     "output_type": "execute_result"
    }
   ],
   "source": [
    "finalize_model(tuned_model)"
   ]
  },
  {
   "cell_type": "code",
   "execution_count": 48,
   "id": "c496d4f6",
   "metadata": {},
   "outputs": [],
   "source": [
    "if not os.path.exists(eval(config.save_model_path)):\n",
    "    os.makedirs(eval(config.save_model_path))"
   ]
  },
  {
   "cell_type": "code",
   "execution_count": 50,
   "id": "7c865e67",
   "metadata": {},
   "outputs": [
    {
     "name": "stdout",
     "output_type": "stream",
     "text": [
      "Transformation Pipeline and Model Successfully Saved\n"
     ]
    },
    {
     "data": {
      "text/plain": [
       "(Pipeline(memory=FastMemory(location=/var/folders/3p/7q9_hy6x4q58xrz02_n9tvv0fryx5_/T/joblib),\n",
       "          steps=[('numerical_imputer',\n",
       "                  TransformerWrapper(exclude=None,\n",
       "                                     include=['hour_of_day',\n",
       "                                              'avg_last_rrc_measurement_earfcn',\n",
       "                                              'num_distinct_imsi',\n",
       "                                              'mute_call_gap_indicator',\n",
       "                                              'num_mute_calls', 'avg_cqi',\n",
       "                                              'min_cqi', 'max_cqi', 'p05_cqi',\n",
       "                                              'p10_cqi', 'p50_cqi', 'p90_cqi',\n",
       "                                              'p95_cq...\n",
       "                                 boosting_type='gbdt', class_weight=None,\n",
       "                                 colsample_bytree=1.0, feature_fraction=0.7,\n",
       "                                 importance_type='split', learning_rate=0.2,\n",
       "                                 max_depth=-1, min_child_samples=61,\n",
       "                                 min_child_weight=0.001, min_split_gain=0.1,\n",
       "                                 n_estimators=150, n_jobs=-1, num_leaves=40,\n",
       "                                 objective=None, random_state=2593,\n",
       "                                 reg_alpha=0.1, reg_lambda=3, silent='warn',\n",
       "                                 subsample=1.0, subsample_for_bin=200000,\n",
       "                                 subsample_freq=0))],\n",
       "          verbose=False),\n",
       " '/Users/raj2.gaurav/Desktop/Git/Causal_Model/07. Model/Light Gradient Boosting Machine/Model_Results/Model_Objects/lightgbm.pkl')"
      ]
     },
     "execution_count": 50,
     "metadata": {},
     "output_type": "execute_result"
    }
   ],
   "source": [
    "save_model(tuned_model, f'{eval(config.save_model_path)}/{best_5.index[0]}', verbose=True)"
   ]
  },
  {
   "cell_type": "code",
   "execution_count": 51,
   "id": "7f2b6666",
   "metadata": {},
   "outputs": [
    {
     "data": {
      "text/plain": [
       "LGBMClassifier(bagging_fraction=0.9, bagging_freq=0, boosting_type='gbdt',\n",
       "               class_weight=None, colsample_bytree=1.0, feature_fraction=0.7,\n",
       "               importance_type='split', learning_rate=0.2, max_depth=-1,\n",
       "               min_child_samples=61, min_child_weight=0.001, min_split_gain=0.1,\n",
       "               n_estimators=150, n_jobs=-1, num_leaves=40, objective=None,\n",
       "               random_state=2593, reg_alpha=0.1, reg_lambda=3, silent='warn',\n",
       "               subsample=1.0, subsample_for_bin=200000, subsample_freq=0)"
      ]
     },
     "execution_count": 51,
     "metadata": {},
     "output_type": "execute_result"
    }
   ],
   "source": [
    "tuned_model"
   ]
  },
  {
   "cell_type": "code",
   "execution_count": 52,
   "id": "f641b654",
   "metadata": {},
   "outputs": [
    {
     "data": {
      "text/plain": [
       "'/Users/raj2.gaurav/Desktop/Git/Causal_Model/07. Model/Light Gradient Boosting Machine/Model_Results/Model_Objects/lightgbm'"
      ]
     },
     "execution_count": 52,
     "metadata": {},
     "output_type": "execute_result"
    }
   ],
   "source": [
    " f'{eval(config.save_model_path)}/{best_5.index[0]}'"
   ]
  },
  {
   "cell_type": "code",
   "execution_count": 57,
   "id": "0841ef02",
   "metadata": {},
   "outputs": [],
   "source": [
    "# loading library\n",
    "import pickle\n",
    "# create an iterator object with write permission - model.pkl\n",
    "with open( f'{eval(config.save_model_path)}/{best_5.index[0]}.pickle', 'wb') as files:\n",
    "    pickle.dump(tuned_model, files)"
   ]
  },
  {
   "cell_type": "code",
   "execution_count": 56,
   "id": "6c5f08b8",
   "metadata": {},
   "outputs": [
    {
     "data": {
      "text/plain": [
       "['/Users/raj2.gaurav/Desktop/Git/Causal_Model/07. Model/Light Gradient Boosting Machine/Model_Results/Model_Objects/lightgbm.pkl']"
      ]
     },
     "execution_count": 56,
     "metadata": {},
     "output_type": "execute_result"
    }
   ],
   "source": [
    "from joblib import Parallel, delayed\n",
    "\n",
    "import joblib\n",
    "\n",
    "# Save the model as a pickle in a file\n",
    "\n",
    "joblib.dump(tuned_model,  f'{eval(config.save_model_path)}/{best_5.index[0]}.pkl')"
   ]
  },
  {
   "cell_type": "code",
   "execution_count": null,
   "id": "961857ef",
   "metadata": {},
   "outputs": [],
   "source": []
  }
 ],
 "metadata": {
  "kernelspec": {
   "display_name": "Python 3 (ipykernel)",
   "language": "python",
   "name": "python3"
  },
  "language_info": {
   "codemirror_mode": {
    "name": "ipython",
    "version": 3
   },
   "file_extension": ".py",
   "mimetype": "text/x-python",
   "name": "python",
   "nbconvert_exporter": "python",
   "pygments_lexer": "ipython3",
   "version": "3.9.13"
  }
 },
 "nbformat": 4,
 "nbformat_minor": 5
}
