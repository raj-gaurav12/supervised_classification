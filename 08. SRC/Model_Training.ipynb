{
 "cells": [
  {
   "cell_type": "code",
   "execution_count": 33,
   "id": "caa230a2",
   "metadata": {},
   "outputs": [],
   "source": [
    "import pycaret\n",
    "import pandas as pd\n",
    "import os\n",
    "import sys \n",
    "import shutil\n",
    "import pickle"
   ]
  },
  {
   "cell_type": "code",
   "execution_count": 10,
   "id": "56bd099a",
   "metadata": {},
   "outputs": [],
   "source": [
    "sys.path.append(os.path.abspath(\"/Users/raj2.gaurav/Desktop/supervised_classification/09. Config\"))\n",
    "import config"
   ]
  },
  {
   "cell_type": "code",
   "execution_count": 11,
   "id": "f2a4015d",
   "metadata": {},
   "outputs": [],
   "source": [
    "# import pycaret classification and init setup\n",
    "from pycaret.classification import *"
   ]
  },
  {
   "cell_type": "code",
   "execution_count": 12,
   "id": "74d23f20",
   "metadata": {},
   "outputs": [],
   "source": [
    "path=config.train_data_path"
   ]
  },
  {
   "cell_type": "code",
   "execution_count": 13,
   "id": "4de2f3fe",
   "metadata": {},
   "outputs": [],
   "source": [
    "data=pd.read_pickle(path)"
   ]
  },
  {
   "cell_type": "code",
   "execution_count": 14,
   "id": "46d0dc42",
   "metadata": {},
   "outputs": [
    {
     "data": {
      "text/plain": [
       "(100000, 28)"
      ]
     },
     "execution_count": 14,
     "metadata": {},
     "output_type": "execute_result"
    }
   ],
   "source": [
    "data.shape"
   ]
  },
  {
   "cell_type": "code",
   "execution_count": 15,
   "id": "9493f675",
   "metadata": {},
   "outputs": [
    {
     "data": {
      "text/plain": [
       "Index(['ID', 'Customer_ID', 'Month', 'Name', 'Age', 'SSN', 'Occupation',\n",
       "       'Annual_Income', 'Monthly_Inhand_Salary', 'Num_Bank_Accounts',\n",
       "       'Num_Credit_Card', 'Interest_Rate', 'Num_of_Loan', 'Type_of_Loan',\n",
       "       'Delay_from_due_date', 'Num_of_Delayed_Payment', 'Changed_Credit_Limit',\n",
       "       'Num_Credit_Inquiries', 'Credit_Mix', 'Outstanding_Debt',\n",
       "       'Credit_Utilization_Ratio', 'Credit_History_Age',\n",
       "       'Payment_of_Min_Amount', 'Total_EMI_per_month',\n",
       "       'Amount_invested_monthly', 'Payment_Behaviour', 'Monthly_Balance',\n",
       "       'Credit_Score'],\n",
       "      dtype='object')"
      ]
     },
     "execution_count": 15,
     "metadata": {},
     "output_type": "execute_result"
    }
   ],
   "source": [
    "data.columns"
   ]
  },
  {
   "cell_type": "code",
   "execution_count": 16,
   "id": "3a37b544",
   "metadata": {},
   "outputs": [],
   "source": [
    "Target = config.Target\n",
    "Train_size = config.Train_size\n",
    "Ignore_features = config.Ignore_features\n",
    "Preprocess = config.Preprocess\n",
    "Imputation_type = config.Imputation_type\n",
    "numeric_imputation = config.numeric_imputation\n",
    "categorical_imputation = config.categorical_imputation\n",
    "remove_outliers = config.remove_outliers\n",
    "outliers_method = config.outliers_method\n",
    "outliers_threshold = config.outliers_threshold\n",
    "fix_imbalance = config.fix_imbalance\n",
    "fix_imbalance_method = config.fix_imbalance_method\n",
    "normalize = config.normalize\n",
    "normalize_method = config.normalize_method"
   ]
  },
  {
   "cell_type": "code",
   "execution_count": 17,
   "id": "bd6b27d5",
   "metadata": {},
   "outputs": [
    {
     "data": {
      "text/html": [
       "<style type=\"text/css\">\n",
       "#T_7cf64_row11_col1, #T_7cf64_row17_col1, #T_7cf64_row19_col1, #T_7cf64_row21_col1 {\n",
       "  background-color: lightgreen;\n",
       "}\n",
       "</style>\n",
       "<table id=\"T_7cf64\">\n",
       "  <thead>\n",
       "    <tr>\n",
       "      <th class=\"blank level0\" >&nbsp;</th>\n",
       "      <th id=\"T_7cf64_level0_col0\" class=\"col_heading level0 col0\" >Description</th>\n",
       "      <th id=\"T_7cf64_level0_col1\" class=\"col_heading level0 col1\" >Value</th>\n",
       "    </tr>\n",
       "  </thead>\n",
       "  <tbody>\n",
       "    <tr>\n",
       "      <th id=\"T_7cf64_level0_row0\" class=\"row_heading level0 row0\" >0</th>\n",
       "      <td id=\"T_7cf64_row0_col0\" class=\"data row0 col0\" >Session id</td>\n",
       "      <td id=\"T_7cf64_row0_col1\" class=\"data row0 col1\" >8216</td>\n",
       "    </tr>\n",
       "    <tr>\n",
       "      <th id=\"T_7cf64_level0_row1\" class=\"row_heading level0 row1\" >1</th>\n",
       "      <td id=\"T_7cf64_row1_col0\" class=\"data row1 col0\" >Target</td>\n",
       "      <td id=\"T_7cf64_row1_col1\" class=\"data row1 col1\" >Credit_Score</td>\n",
       "    </tr>\n",
       "    <tr>\n",
       "      <th id=\"T_7cf64_level0_row2\" class=\"row_heading level0 row2\" >2</th>\n",
       "      <td id=\"T_7cf64_row2_col0\" class=\"data row2 col0\" >Target type</td>\n",
       "      <td id=\"T_7cf64_row2_col1\" class=\"data row2 col1\" >Binary</td>\n",
       "    </tr>\n",
       "    <tr>\n",
       "      <th id=\"T_7cf64_level0_row3\" class=\"row_heading level0 row3\" >3</th>\n",
       "      <td id=\"T_7cf64_row3_col0\" class=\"data row3 col0\" >Original data shape</td>\n",
       "      <td id=\"T_7cf64_row3_col1\" class=\"data row3 col1\" >(100000, 28)</td>\n",
       "    </tr>\n",
       "    <tr>\n",
       "      <th id=\"T_7cf64_level0_row4\" class=\"row_heading level0 row4\" >4</th>\n",
       "      <td id=\"T_7cf64_row4_col0\" class=\"data row4 col0\" >Transformed data shape</td>\n",
       "      <td id=\"T_7cf64_row4_col1\" class=\"data row4 col1\" >(87558, 49)</td>\n",
       "    </tr>\n",
       "    <tr>\n",
       "      <th id=\"T_7cf64_level0_row5\" class=\"row_heading level0 row5\" >5</th>\n",
       "      <td id=\"T_7cf64_row5_col0\" class=\"data row5 col0\" >Transformed train set shape</td>\n",
       "      <td id=\"T_7cf64_row5_col1\" class=\"data row5 col1\" >(57558, 49)</td>\n",
       "    </tr>\n",
       "    <tr>\n",
       "      <th id=\"T_7cf64_level0_row6\" class=\"row_heading level0 row6\" >6</th>\n",
       "      <td id=\"T_7cf64_row6_col0\" class=\"data row6 col0\" >Transformed test set shape</td>\n",
       "      <td id=\"T_7cf64_row6_col1\" class=\"data row6 col1\" >(30000, 49)</td>\n",
       "    </tr>\n",
       "    <tr>\n",
       "      <th id=\"T_7cf64_level0_row7\" class=\"row_heading level0 row7\" >7</th>\n",
       "      <td id=\"T_7cf64_row7_col0\" class=\"data row7 col0\" >Ignore features</td>\n",
       "      <td id=\"T_7cf64_row7_col1\" class=\"data row7 col1\" >5</td>\n",
       "    </tr>\n",
       "    <tr>\n",
       "      <th id=\"T_7cf64_level0_row8\" class=\"row_heading level0 row8\" >8</th>\n",
       "      <td id=\"T_7cf64_row8_col0\" class=\"data row8 col0\" >Numeric features</td>\n",
       "      <td id=\"T_7cf64_row8_col1\" class=\"data row8 col1\" >13</td>\n",
       "    </tr>\n",
       "    <tr>\n",
       "      <th id=\"T_7cf64_level0_row9\" class=\"row_heading level0 row9\" >9</th>\n",
       "      <td id=\"T_7cf64_row9_col0\" class=\"data row9 col0\" >Categorical features</td>\n",
       "      <td id=\"T_7cf64_row9_col1\" class=\"data row9 col1\" >9</td>\n",
       "    </tr>\n",
       "    <tr>\n",
       "      <th id=\"T_7cf64_level0_row10\" class=\"row_heading level0 row10\" >10</th>\n",
       "      <td id=\"T_7cf64_row10_col0\" class=\"data row10 col0\" >Rows with missing values</td>\n",
       "      <td id=\"T_7cf64_row10_col1\" class=\"data row10 col1\" >36.4%</td>\n",
       "    </tr>\n",
       "    <tr>\n",
       "      <th id=\"T_7cf64_level0_row11\" class=\"row_heading level0 row11\" >11</th>\n",
       "      <td id=\"T_7cf64_row11_col0\" class=\"data row11 col0\" >Preprocess</td>\n",
       "      <td id=\"T_7cf64_row11_col1\" class=\"data row11 col1\" >True</td>\n",
       "    </tr>\n",
       "    <tr>\n",
       "      <th id=\"T_7cf64_level0_row12\" class=\"row_heading level0 row12\" >12</th>\n",
       "      <td id=\"T_7cf64_row12_col0\" class=\"data row12 col0\" >Imputation type</td>\n",
       "      <td id=\"T_7cf64_row12_col1\" class=\"data row12 col1\" >simple</td>\n",
       "    </tr>\n",
       "    <tr>\n",
       "      <th id=\"T_7cf64_level0_row13\" class=\"row_heading level0 row13\" >13</th>\n",
       "      <td id=\"T_7cf64_row13_col0\" class=\"data row13 col0\" >Numeric imputation</td>\n",
       "      <td id=\"T_7cf64_row13_col1\" class=\"data row13 col1\" >mean</td>\n",
       "    </tr>\n",
       "    <tr>\n",
       "      <th id=\"T_7cf64_level0_row14\" class=\"row_heading level0 row14\" >14</th>\n",
       "      <td id=\"T_7cf64_row14_col0\" class=\"data row14 col0\" >Categorical imputation</td>\n",
       "      <td id=\"T_7cf64_row14_col1\" class=\"data row14 col1\" >mode</td>\n",
       "    </tr>\n",
       "    <tr>\n",
       "      <th id=\"T_7cf64_level0_row15\" class=\"row_heading level0 row15\" >15</th>\n",
       "      <td id=\"T_7cf64_row15_col0\" class=\"data row15 col0\" >Maximum one-hot encoding</td>\n",
       "      <td id=\"T_7cf64_row15_col1\" class=\"data row15 col1\" >25</td>\n",
       "    </tr>\n",
       "    <tr>\n",
       "      <th id=\"T_7cf64_level0_row16\" class=\"row_heading level0 row16\" >16</th>\n",
       "      <td id=\"T_7cf64_row16_col0\" class=\"data row16 col0\" >Encoding method</td>\n",
       "      <td id=\"T_7cf64_row16_col1\" class=\"data row16 col1\" >None</td>\n",
       "    </tr>\n",
       "    <tr>\n",
       "      <th id=\"T_7cf64_level0_row17\" class=\"row_heading level0 row17\" >17</th>\n",
       "      <td id=\"T_7cf64_row17_col0\" class=\"data row17 col0\" >Remove outliers</td>\n",
       "      <td id=\"T_7cf64_row17_col1\" class=\"data row17 col1\" >True</td>\n",
       "    </tr>\n",
       "    <tr>\n",
       "      <th id=\"T_7cf64_level0_row18\" class=\"row_heading level0 row18\" >18</th>\n",
       "      <td id=\"T_7cf64_row18_col0\" class=\"data row18 col0\" >Outliers threshold</td>\n",
       "      <td id=\"T_7cf64_row18_col1\" class=\"data row18 col1\" >0.500000</td>\n",
       "    </tr>\n",
       "    <tr>\n",
       "      <th id=\"T_7cf64_level0_row19\" class=\"row_heading level0 row19\" >19</th>\n",
       "      <td id=\"T_7cf64_row19_col0\" class=\"data row19 col0\" >Fix imbalance</td>\n",
       "      <td id=\"T_7cf64_row19_col1\" class=\"data row19 col1\" >True</td>\n",
       "    </tr>\n",
       "    <tr>\n",
       "      <th id=\"T_7cf64_level0_row20\" class=\"row_heading level0 row20\" >20</th>\n",
       "      <td id=\"T_7cf64_row20_col0\" class=\"data row20 col0\" >Fix imbalance method</td>\n",
       "      <td id=\"T_7cf64_row20_col1\" class=\"data row20 col1\" >SMOTE</td>\n",
       "    </tr>\n",
       "    <tr>\n",
       "      <th id=\"T_7cf64_level0_row21\" class=\"row_heading level0 row21\" >21</th>\n",
       "      <td id=\"T_7cf64_row21_col0\" class=\"data row21 col0\" >Normalize</td>\n",
       "      <td id=\"T_7cf64_row21_col1\" class=\"data row21 col1\" >True</td>\n",
       "    </tr>\n",
       "    <tr>\n",
       "      <th id=\"T_7cf64_level0_row22\" class=\"row_heading level0 row22\" >22</th>\n",
       "      <td id=\"T_7cf64_row22_col0\" class=\"data row22 col0\" >Normalize method</td>\n",
       "      <td id=\"T_7cf64_row22_col1\" class=\"data row22 col1\" >minmax</td>\n",
       "    </tr>\n",
       "    <tr>\n",
       "      <th id=\"T_7cf64_level0_row23\" class=\"row_heading level0 row23\" >23</th>\n",
       "      <td id=\"T_7cf64_row23_col0\" class=\"data row23 col0\" >Fold Generator</td>\n",
       "      <td id=\"T_7cf64_row23_col1\" class=\"data row23 col1\" >StratifiedKFold</td>\n",
       "    </tr>\n",
       "    <tr>\n",
       "      <th id=\"T_7cf64_level0_row24\" class=\"row_heading level0 row24\" >24</th>\n",
       "      <td id=\"T_7cf64_row24_col0\" class=\"data row24 col0\" >Fold Number</td>\n",
       "      <td id=\"T_7cf64_row24_col1\" class=\"data row24 col1\" >10</td>\n",
       "    </tr>\n",
       "    <tr>\n",
       "      <th id=\"T_7cf64_level0_row25\" class=\"row_heading level0 row25\" >25</th>\n",
       "      <td id=\"T_7cf64_row25_col0\" class=\"data row25 col0\" >CPU Jobs</td>\n",
       "      <td id=\"T_7cf64_row25_col1\" class=\"data row25 col1\" >-1</td>\n",
       "    </tr>\n",
       "    <tr>\n",
       "      <th id=\"T_7cf64_level0_row26\" class=\"row_heading level0 row26\" >26</th>\n",
       "      <td id=\"T_7cf64_row26_col0\" class=\"data row26 col0\" >Use GPU</td>\n",
       "      <td id=\"T_7cf64_row26_col1\" class=\"data row26 col1\" >False</td>\n",
       "    </tr>\n",
       "    <tr>\n",
       "      <th id=\"T_7cf64_level0_row27\" class=\"row_heading level0 row27\" >27</th>\n",
       "      <td id=\"T_7cf64_row27_col0\" class=\"data row27 col0\" >Log Experiment</td>\n",
       "      <td id=\"T_7cf64_row27_col1\" class=\"data row27 col1\" >False</td>\n",
       "    </tr>\n",
       "    <tr>\n",
       "      <th id=\"T_7cf64_level0_row28\" class=\"row_heading level0 row28\" >28</th>\n",
       "      <td id=\"T_7cf64_row28_col0\" class=\"data row28 col0\" >Experiment Name</td>\n",
       "      <td id=\"T_7cf64_row28_col1\" class=\"data row28 col1\" >clf-default-name</td>\n",
       "    </tr>\n",
       "    <tr>\n",
       "      <th id=\"T_7cf64_level0_row29\" class=\"row_heading level0 row29\" >29</th>\n",
       "      <td id=\"T_7cf64_row29_col0\" class=\"data row29 col0\" >USI</td>\n",
       "      <td id=\"T_7cf64_row29_col1\" class=\"data row29 col1\" >f2ad</td>\n",
       "    </tr>\n",
       "  </tbody>\n",
       "</table>\n"
      ],
      "text/plain": [
       "<pandas.io.formats.style.Styler at 0x7fd736d14c10>"
      ]
     },
     "metadata": {},
     "output_type": "display_data"
    }
   ],
   "source": [
    "s = setup(data, target = Target, train_size = Train_size, ignore_features = Ignore_features,\n",
    "          preprocess = Preprocess,imputation_type = Imputation_type, numeric_imputation = numeric_imputation,\n",
    "         categorical_imputation = categorical_imputation, remove_outliers = remove_outliers, \n",
    "          outliers_method = outliers_method, outliers_threshold = outliers_threshold,\n",
    "         fix_imbalance = fix_imbalance, fix_imbalance_method = fix_imbalance_method,\n",
    "         normalize = normalize, normalize_method = normalize_method)"
   ]
  },
  {
   "cell_type": "code",
   "execution_count": 39,
   "id": "0f66f1cb",
   "metadata": {},
   "outputs": [
    {
     "data": {
      "text/html": [
       "<div>\n",
       "<style scoped>\n",
       "    .dataframe tbody tr th:only-of-type {\n",
       "        vertical-align: middle;\n",
       "    }\n",
       "\n",
       "    .dataframe tbody tr th {\n",
       "        vertical-align: top;\n",
       "    }\n",
       "\n",
       "    .dataframe thead th {\n",
       "        text-align: right;\n",
       "    }\n",
       "</style>\n",
       "<table border=\"1\" class=\"dataframe\">\n",
       "  <thead>\n",
       "    <tr style=\"text-align: right;\">\n",
       "      <th></th>\n",
       "      <th>Age</th>\n",
       "      <th>Occupation</th>\n",
       "      <th>Annual_Income</th>\n",
       "      <th>Monthly_Inhand_Salary</th>\n",
       "      <th>Num_Bank_Accounts</th>\n",
       "      <th>Num_Credit_Card</th>\n",
       "      <th>Interest_Rate</th>\n",
       "      <th>Num_of_Loan</th>\n",
       "      <th>Type_of_Loan</th>\n",
       "      <th>Delay_from_due_date</th>\n",
       "      <th>...</th>\n",
       "      <th>Num_Credit_Inquiries</th>\n",
       "      <th>Credit_Mix</th>\n",
       "      <th>Outstanding_Debt</th>\n",
       "      <th>Credit_Utilization_Ratio</th>\n",
       "      <th>Credit_History_Age</th>\n",
       "      <th>Payment_of_Min_Amount</th>\n",
       "      <th>Total_EMI_per_month</th>\n",
       "      <th>Amount_invested_monthly</th>\n",
       "      <th>Payment_Behaviour</th>\n",
       "      <th>Monthly_Balance</th>\n",
       "    </tr>\n",
       "  </thead>\n",
       "  <tbody>\n",
       "    <tr>\n",
       "      <th>12135</th>\n",
       "      <td>49</td>\n",
       "      <td>Entrepreneur</td>\n",
       "      <td>123299.117188</td>\n",
       "      <td>4194.170898</td>\n",
       "      <td>2</td>\n",
       "      <td>2</td>\n",
       "      <td>8</td>\n",
       "      <td>100</td>\n",
       "      <td>Not Specified, Credit-Builder Loan, and Credit...</td>\n",
       "      <td>10</td>\n",
       "      <td>...</td>\n",
       "      <td>7.0</td>\n",
       "      <td>Good</td>\n",
       "      <td>845.469971</td>\n",
       "      <td>32.322124</td>\n",
       "      <td>NaN</td>\n",
       "      <td>No</td>\n",
       "      <td>289.4723048639328</td>\n",
       "      <td>NaN</td>\n",
       "      <td>High_spent_Large_value_payments</td>\n",
       "      <td>851.332825</td>\n",
       "    </tr>\n",
       "    <tr>\n",
       "      <th>46110</th>\n",
       "      <td>37</td>\n",
       "      <td>Engineer</td>\n",
       "      <td>57227.039062</td>\n",
       "      <td>4561.919922</td>\n",
       "      <td>9</td>\n",
       "      <td>9</td>\n",
       "      <td>16</td>\n",
       "      <td>7</td>\n",
       "      <td>Not Specified, Credit-Builder Loan, Auto Loan,...</td>\n",
       "      <td>39</td>\n",
       "      <td>...</td>\n",
       "      <td>9.0</td>\n",
       "      <td>Bad</td>\n",
       "      <td>3902.969971</td>\n",
       "      <td>37.820419</td>\n",
       "      <td>101.0</td>\n",
       "      <td>Yes</td>\n",
       "      <td>220.27681374800392</td>\n",
       "      <td>182.419662</td>\n",
       "      <td>Low_spent_Large_value_payments</td>\n",
       "      <td>323.495514</td>\n",
       "    </tr>\n",
       "    <tr>\n",
       "      <th>68528</th>\n",
       "      <td>35</td>\n",
       "      <td>Engineer</td>\n",
       "      <td>9743.959961</td>\n",
       "      <td>889.996643</td>\n",
       "      <td>8</td>\n",
       "      <td>7</td>\n",
       "      <td>4</td>\n",
       "      <td>4</td>\n",
       "      <td>Payday Loan, Debt Consolidation Loan, Not Spec...</td>\n",
       "      <td>20</td>\n",
       "      <td>...</td>\n",
       "      <td>0.0</td>\n",
       "      <td>_</td>\n",
       "      <td>625.729980</td>\n",
       "      <td>28.733507</td>\n",
       "      <td>196.0</td>\n",
       "      <td>No</td>\n",
       "      <td>18.85845156233991</td>\n",
       "      <td>66.285095</td>\n",
       "      <td>Low_spent_Small_value_payments</td>\n",
       "      <td>293.856110</td>\n",
       "    </tr>\n",
       "    <tr>\n",
       "      <th>48736</th>\n",
       "      <td>17</td>\n",
       "      <td>Journalist</td>\n",
       "      <td>8205.139648</td>\n",
       "      <td>962.761658</td>\n",
       "      <td>9</td>\n",
       "      <td>9</td>\n",
       "      <td>34</td>\n",
       "      <td>8</td>\n",
       "      <td>Auto Loan, Auto Loan, Payday Loan, Home Equity...</td>\n",
       "      <td>36</td>\n",
       "      <td>...</td>\n",
       "      <td>6.0</td>\n",
       "      <td>Bad</td>\n",
       "      <td>3176.860107</td>\n",
       "      <td>36.307137</td>\n",
       "      <td>2.0</td>\n",
       "      <td>Yes</td>\n",
       "      <td>53.99910271431013</td>\n",
       "      <td>86.661674</td>\n",
       "      <td>Low_spent_Medium_value_payments</td>\n",
       "      <td>235.615387</td>\n",
       "    </tr>\n",
       "    <tr>\n",
       "      <th>694</th>\n",
       "      <td>22</td>\n",
       "      <td>_______</td>\n",
       "      <td>66105.398438</td>\n",
       "      <td>5653.783203</td>\n",
       "      <td>6</td>\n",
       "      <td>8</td>\n",
       "      <td>31</td>\n",
       "      <td>5</td>\n",
       "      <td>Mortgage Loan, Auto Loan, Not Specified, Stude...</td>\n",
       "      <td>26</td>\n",
       "      <td>...</td>\n",
       "      <td>12.0</td>\n",
       "      <td>Bad</td>\n",
       "      <td>1549.560059</td>\n",
       "      <td>38.648224</td>\n",
       "      <td>140.0</td>\n",
       "      <td>NM</td>\n",
       "      <td>214.07212305606225</td>\n",
       "      <td>274.572662</td>\n",
       "      <td>Low_spent_Small_value_payments</td>\n",
       "      <td>366.733551</td>\n",
       "    </tr>\n",
       "    <tr>\n",
       "      <th>...</th>\n",
       "      <td>...</td>\n",
       "      <td>...</td>\n",
       "      <td>...</td>\n",
       "      <td>...</td>\n",
       "      <td>...</td>\n",
       "      <td>...</td>\n",
       "      <td>...</td>\n",
       "      <td>...</td>\n",
       "      <td>...</td>\n",
       "      <td>...</td>\n",
       "      <td>...</td>\n",
       "      <td>...</td>\n",
       "      <td>...</td>\n",
       "      <td>...</td>\n",
       "      <td>...</td>\n",
       "      <td>...</td>\n",
       "      <td>...</td>\n",
       "      <td>...</td>\n",
       "      <td>...</td>\n",
       "      <td>...</td>\n",
       "      <td>...</td>\n",
       "    </tr>\n",
       "    <tr>\n",
       "      <th>97149</th>\n",
       "      <td>34</td>\n",
       "      <td>Manager</td>\n",
       "      <td>24873.099609</td>\n",
       "      <td>1848.758301</td>\n",
       "      <td>3</td>\n",
       "      <td>6</td>\n",
       "      <td>8</td>\n",
       "      <td>3</td>\n",
       "      <td>Auto Loan, Mortgage Loan, and Not Specified</td>\n",
       "      <td>23</td>\n",
       "      <td>...</td>\n",
       "      <td>6.0</td>\n",
       "      <td>_</td>\n",
       "      <td>30.309999</td>\n",
       "      <td>29.124367</td>\n",
       "      <td>67.0</td>\n",
       "      <td>Yes</td>\n",
       "      <td>39.84069977161735</td>\n",
       "      <td>56.810616</td>\n",
       "      <td>Low_spent_Medium_value_payments</td>\n",
       "      <td>368.224518</td>\n",
       "    </tr>\n",
       "    <tr>\n",
       "      <th>89704</th>\n",
       "      <td>38</td>\n",
       "      <td>Entrepreneur</td>\n",
       "      <td>76519.296875</td>\n",
       "      <td>6277.608398</td>\n",
       "      <td>5</td>\n",
       "      <td>7</td>\n",
       "      <td>10</td>\n",
       "      <td>4</td>\n",
       "      <td>Student Loan, Home Equity Loan, Auto Loan, and...</td>\n",
       "      <td>5</td>\n",
       "      <td>...</td>\n",
       "      <td>3.0</td>\n",
       "      <td>Good</td>\n",
       "      <td>260.850006</td>\n",
       "      <td>36.584496</td>\n",
       "      <td>380.0</td>\n",
       "      <td>No</td>\n",
       "      <td>228.5434193935592</td>\n",
       "      <td>189.472275</td>\n",
       "      <td>High_spent_Medium_value_payments</td>\n",
       "      <td>459.745148</td>\n",
       "    </tr>\n",
       "    <tr>\n",
       "      <th>7724</th>\n",
       "      <td>50</td>\n",
       "      <td>Doctor</td>\n",
       "      <td>24667.160156</td>\n",
       "      <td>2284.596680</td>\n",
       "      <td>8</td>\n",
       "      <td>6</td>\n",
       "      <td>16</td>\n",
       "      <td>3</td>\n",
       "      <td>Debt Consolidation Loan, Mortgage Loan, and Ho...</td>\n",
       "      <td>8</td>\n",
       "      <td>...</td>\n",
       "      <td>5.0</td>\n",
       "      <td>Standard</td>\n",
       "      <td>722.020020</td>\n",
       "      <td>27.607992</td>\n",
       "      <td>235.0</td>\n",
       "      <td>Yes</td>\n",
       "      <td>49.23739807081449</td>\n",
       "      <td>67.565186</td>\n",
       "      <td>High_spent_Medium_value_payments</td>\n",
       "      <td>361.657074</td>\n",
       "    </tr>\n",
       "    <tr>\n",
       "      <th>45557</th>\n",
       "      <td>21</td>\n",
       "      <td>Developer</td>\n",
       "      <td>17137.570312</td>\n",
       "      <td>1617.130859</td>\n",
       "      <td>8</td>\n",
       "      <td>7</td>\n",
       "      <td>34</td>\n",
       "      <td>9</td>\n",
       "      <td>Debt Consolidation Loan, Student Loan, Debt Co...</td>\n",
       "      <td>22</td>\n",
       "      <td>...</td>\n",
       "      <td>16.0</td>\n",
       "      <td>_</td>\n",
       "      <td>3680.600098</td>\n",
       "      <td>30.934248</td>\n",
       "      <td>110.0</td>\n",
       "      <td>Yes</td>\n",
       "      <td>119.5320319672674</td>\n",
       "      <td>122.757576</td>\n",
       "      <td>Low_spent_Small_value_payments</td>\n",
       "      <td>209.423477</td>\n",
       "    </tr>\n",
       "    <tr>\n",
       "      <th>72271</th>\n",
       "      <td>33</td>\n",
       "      <td>Scientist</td>\n",
       "      <td>16218.320312</td>\n",
       "      <td>1098.526611</td>\n",
       "      <td>6</td>\n",
       "      <td>6</td>\n",
       "      <td>21</td>\n",
       "      <td>5</td>\n",
       "      <td>Mortgage Loan, Home Equity Loan, Credit-Builde...</td>\n",
       "      <td>48</td>\n",
       "      <td>...</td>\n",
       "      <td>10.0</td>\n",
       "      <td>Bad</td>\n",
       "      <td>4466.330078</td>\n",
       "      <td>32.977642</td>\n",
       "      <td>104.0</td>\n",
       "      <td>Yes</td>\n",
       "      <td>64.5331137101069</td>\n",
       "      <td>52.077778</td>\n",
       "      <td>Low_spent_Small_value_payments</td>\n",
       "      <td>283.241791</td>\n",
       "    </tr>\n",
       "  </tbody>\n",
       "</table>\n",
       "<p>70000 rows × 22 columns</p>\n",
       "</div>"
      ],
      "text/plain": [
       "      Age    Occupation  Annual_Income  Monthly_Inhand_Salary  \\\n",
       "12135  49  Entrepreneur  123299.117188            4194.170898   \n",
       "46110  37      Engineer   57227.039062            4561.919922   \n",
       "68528  35      Engineer    9743.959961             889.996643   \n",
       "48736  17    Journalist    8205.139648             962.761658   \n",
       "694    22       _______   66105.398438            5653.783203   \n",
       "...    ..           ...            ...                    ...   \n",
       "97149  34       Manager   24873.099609            1848.758301   \n",
       "89704  38  Entrepreneur   76519.296875            6277.608398   \n",
       "7724   50        Doctor   24667.160156            2284.596680   \n",
       "45557  21     Developer   17137.570312            1617.130859   \n",
       "72271  33     Scientist   16218.320312            1098.526611   \n",
       "\n",
       "       Num_Bank_Accounts  Num_Credit_Card  Interest_Rate  Num_of_Loan  \\\n",
       "12135                  2                2              8          100   \n",
       "46110                  9                9             16            7   \n",
       "68528                  8                7              4            4   \n",
       "48736                  9                9             34            8   \n",
       "694                    6                8             31            5   \n",
       "...                  ...              ...            ...          ...   \n",
       "97149                  3                6              8            3   \n",
       "89704                  5                7             10            4   \n",
       "7724                   8                6             16            3   \n",
       "45557                  8                7             34            9   \n",
       "72271                  6                6             21            5   \n",
       "\n",
       "                                            Type_of_Loan Delay_from_due_date  \\\n",
       "12135  Not Specified, Credit-Builder Loan, and Credit...                  10   \n",
       "46110  Not Specified, Credit-Builder Loan, Auto Loan,...                  39   \n",
       "68528  Payday Loan, Debt Consolidation Loan, Not Spec...                  20   \n",
       "48736  Auto Loan, Auto Loan, Payday Loan, Home Equity...                  36   \n",
       "694    Mortgage Loan, Auto Loan, Not Specified, Stude...                  26   \n",
       "...                                                  ...                 ...   \n",
       "97149        Auto Loan, Mortgage Loan, and Not Specified                  23   \n",
       "89704  Student Loan, Home Equity Loan, Auto Loan, and...                   5   \n",
       "7724   Debt Consolidation Loan, Mortgage Loan, and Ho...                   8   \n",
       "45557  Debt Consolidation Loan, Student Loan, Debt Co...                  22   \n",
       "72271  Mortgage Loan, Home Equity Loan, Credit-Builde...                  48   \n",
       "\n",
       "       ...  Num_Credit_Inquiries Credit_Mix  Outstanding_Debt  \\\n",
       "12135  ...                   7.0       Good        845.469971   \n",
       "46110  ...                   9.0        Bad       3902.969971   \n",
       "68528  ...                   0.0          _        625.729980   \n",
       "48736  ...                   6.0        Bad       3176.860107   \n",
       "694    ...                  12.0        Bad       1549.560059   \n",
       "...    ...                   ...        ...               ...   \n",
       "97149  ...                   6.0          _         30.309999   \n",
       "89704  ...                   3.0       Good        260.850006   \n",
       "7724   ...                   5.0   Standard        722.020020   \n",
       "45557  ...                  16.0          _       3680.600098   \n",
       "72271  ...                  10.0        Bad       4466.330078   \n",
       "\n",
       "      Credit_Utilization_Ratio  Credit_History_Age  Payment_of_Min_Amount  \\\n",
       "12135                32.322124                 NaN                     No   \n",
       "46110                37.820419               101.0                    Yes   \n",
       "68528                28.733507               196.0                     No   \n",
       "48736                36.307137                 2.0                    Yes   \n",
       "694                  38.648224               140.0                     NM   \n",
       "...                        ...                 ...                    ...   \n",
       "97149                29.124367                67.0                    Yes   \n",
       "89704                36.584496               380.0                     No   \n",
       "7724                 27.607992               235.0                    Yes   \n",
       "45557                30.934248               110.0                    Yes   \n",
       "72271                32.977642               104.0                    Yes   \n",
       "\n",
       "       Total_EMI_per_month Amount_invested_monthly  \\\n",
       "12135    289.4723048639328                     NaN   \n",
       "46110   220.27681374800392              182.419662   \n",
       "68528    18.85845156233991               66.285095   \n",
       "48736    53.99910271431013               86.661674   \n",
       "694     214.07212305606225              274.572662   \n",
       "...                    ...                     ...   \n",
       "97149    39.84069977161735               56.810616   \n",
       "89704    228.5434193935592              189.472275   \n",
       "7724     49.23739807081449               67.565186   \n",
       "45557    119.5320319672674              122.757576   \n",
       "72271     64.5331137101069               52.077778   \n",
       "\n",
       "                      Payment_Behaviour  Monthly_Balance  \n",
       "12135   High_spent_Large_value_payments       851.332825  \n",
       "46110    Low_spent_Large_value_payments       323.495514  \n",
       "68528    Low_spent_Small_value_payments       293.856110  \n",
       "48736   Low_spent_Medium_value_payments       235.615387  \n",
       "694      Low_spent_Small_value_payments       366.733551  \n",
       "...                                 ...              ...  \n",
       "97149   Low_spent_Medium_value_payments       368.224518  \n",
       "89704  High_spent_Medium_value_payments       459.745148  \n",
       "7724   High_spent_Medium_value_payments       361.657074  \n",
       "45557    Low_spent_Small_value_payments       209.423477  \n",
       "72271    Low_spent_Small_value_payments       283.241791  \n",
       "\n",
       "[70000 rows x 22 columns]"
      ]
     },
     "execution_count": 39,
     "metadata": {},
     "output_type": "execute_result"
    }
   ],
   "source": [
    "get_config('X_train')"
   ]
  },
  {
   "cell_type": "code",
   "execution_count": 18,
   "id": "84d64be4",
   "metadata": {},
   "outputs": [],
   "source": [
    "report=pull()"
   ]
  },
  {
   "cell_type": "code",
   "execution_count": 19,
   "id": "3cbfc2e5",
   "metadata": {},
   "outputs": [],
   "source": [
    "Data_Sense=report.iloc[1:10]"
   ]
  },
  {
   "cell_type": "code",
   "execution_count": 20,
   "id": "7d8424e1",
   "metadata": {},
   "outputs": [],
   "source": [
    "models = config.models"
   ]
  },
  {
   "cell_type": "code",
   "execution_count": 21,
   "id": "ad98c23b",
   "metadata": {},
   "outputs": [
    {
     "data": {
      "text/html": [],
      "text/plain": [
       "<IPython.core.display.HTML object>"
      ]
     },
     "metadata": {},
     "output_type": "display_data"
    },
    {
     "data": {
      "text/html": [
       "<style type=\"text/css\">\n",
       "#T_b32d0 th {\n",
       "  text-align: left;\n",
       "}\n",
       "#T_b32d0_row0_col0, #T_b32d0_row0_col3, #T_b32d0_row1_col0, #T_b32d0_row1_col1, #T_b32d0_row1_col2, #T_b32d0_row1_col4, #T_b32d0_row1_col5, #T_b32d0_row1_col6, #T_b32d0_row1_col7, #T_b32d0_row2_col0, #T_b32d0_row2_col1, #T_b32d0_row2_col2, #T_b32d0_row2_col3, #T_b32d0_row2_col4, #T_b32d0_row2_col5, #T_b32d0_row2_col6, #T_b32d0_row2_col7, #T_b32d0_row3_col0, #T_b32d0_row3_col1, #T_b32d0_row3_col2, #T_b32d0_row3_col3, #T_b32d0_row3_col4, #T_b32d0_row3_col5, #T_b32d0_row3_col6, #T_b32d0_row3_col7, #T_b32d0_row4_col0, #T_b32d0_row4_col1, #T_b32d0_row4_col2, #T_b32d0_row4_col3, #T_b32d0_row4_col4, #T_b32d0_row4_col5, #T_b32d0_row4_col6, #T_b32d0_row4_col7 {\n",
       "  text-align: left;\n",
       "}\n",
       "#T_b32d0_row0_col1, #T_b32d0_row0_col2, #T_b32d0_row0_col4, #T_b32d0_row0_col5, #T_b32d0_row0_col6, #T_b32d0_row0_col7, #T_b32d0_row1_col3 {\n",
       "  text-align: left;\n",
       "  background-color: yellow;\n",
       "}\n",
       "#T_b32d0_row0_col8, #T_b32d0_row1_col8, #T_b32d0_row2_col8, #T_b32d0_row3_col8 {\n",
       "  text-align: left;\n",
       "  background-color: lightgrey;\n",
       "}\n",
       "#T_b32d0_row4_col8 {\n",
       "  text-align: left;\n",
       "  background-color: yellow;\n",
       "  background-color: lightgrey;\n",
       "}\n",
       "</style>\n",
       "<table id=\"T_b32d0\">\n",
       "  <thead>\n",
       "    <tr>\n",
       "      <th class=\"blank level0\" >&nbsp;</th>\n",
       "      <th id=\"T_b32d0_level0_col0\" class=\"col_heading level0 col0\" >Model</th>\n",
       "      <th id=\"T_b32d0_level0_col1\" class=\"col_heading level0 col1\" >Accuracy</th>\n",
       "      <th id=\"T_b32d0_level0_col2\" class=\"col_heading level0 col2\" >AUC</th>\n",
       "      <th id=\"T_b32d0_level0_col3\" class=\"col_heading level0 col3\" >Recall</th>\n",
       "      <th id=\"T_b32d0_level0_col4\" class=\"col_heading level0 col4\" >Prec.</th>\n",
       "      <th id=\"T_b32d0_level0_col5\" class=\"col_heading level0 col5\" >F1</th>\n",
       "      <th id=\"T_b32d0_level0_col6\" class=\"col_heading level0 col6\" >Kappa</th>\n",
       "      <th id=\"T_b32d0_level0_col7\" class=\"col_heading level0 col7\" >MCC</th>\n",
       "      <th id=\"T_b32d0_level0_col8\" class=\"col_heading level0 col8\" >TT (Sec)</th>\n",
       "    </tr>\n",
       "  </thead>\n",
       "  <tbody>\n",
       "    <tr>\n",
       "      <th id=\"T_b32d0_level0_row0\" class=\"row_heading level0 row0\" >rf</th>\n",
       "      <td id=\"T_b32d0_row0_col0\" class=\"data row0 col0\" >Random Forest Classifier</td>\n",
       "      <td id=\"T_b32d0_row0_col1\" class=\"data row0 col1\" >0.8803</td>\n",
       "      <td id=\"T_b32d0_row0_col2\" class=\"data row0 col2\" >0.9273</td>\n",
       "      <td id=\"T_b32d0_row0_col3\" class=\"data row0 col3\" >0.8319</td>\n",
       "      <td id=\"T_b32d0_row0_col4\" class=\"data row0 col4\" >0.7729</td>\n",
       "      <td id=\"T_b32d0_row0_col5\" class=\"data row0 col5\" >0.8012</td>\n",
       "      <td id=\"T_b32d0_row0_col6\" class=\"data row0 col6\" >0.7158</td>\n",
       "      <td id=\"T_b32d0_row0_col7\" class=\"data row0 col7\" >0.7168</td>\n",
       "      <td id=\"T_b32d0_row0_col8\" class=\"data row0 col8\" >1.5330</td>\n",
       "    </tr>\n",
       "    <tr>\n",
       "      <th id=\"T_b32d0_level0_row1\" class=\"row_heading level0 row1\" >lr</th>\n",
       "      <td id=\"T_b32d0_row1_col0\" class=\"data row1 col0\" >Logistic Regression</td>\n",
       "      <td id=\"T_b32d0_row1_col1\" class=\"data row1 col1\" >0.8622</td>\n",
       "      <td id=\"T_b32d0_row1_col2\" class=\"data row1 col2\" >0.9246</td>\n",
       "      <td id=\"T_b32d0_row1_col3\" class=\"data row1 col3\" >0.9003</td>\n",
       "      <td id=\"T_b32d0_row1_col4\" class=\"data row1 col4\" >0.7061</td>\n",
       "      <td id=\"T_b32d0_row1_col5\" class=\"data row1 col5\" >0.7913</td>\n",
       "      <td id=\"T_b32d0_row1_col6\" class=\"data row1 col6\" >0.6907</td>\n",
       "      <td id=\"T_b32d0_row1_col7\" class=\"data row1 col7\" >0.7023</td>\n",
       "      <td id=\"T_b32d0_row1_col8\" class=\"data row1 col8\" >1.5550</td>\n",
       "    </tr>\n",
       "    <tr>\n",
       "      <th id=\"T_b32d0_level0_row2\" class=\"row_heading level0 row2\" >ada</th>\n",
       "      <td id=\"T_b32d0_row2_col0\" class=\"data row2 col0\" >Ada Boost Classifier</td>\n",
       "      <td id=\"T_b32d0_row2_col1\" class=\"data row2 col1\" >0.8511</td>\n",
       "      <td id=\"T_b32d0_row2_col2\" class=\"data row2 col2\" >0.9150</td>\n",
       "      <td id=\"T_b32d0_row2_col3\" class=\"data row2 col3\" >0.8948</td>\n",
       "      <td id=\"T_b32d0_row2_col4\" class=\"data row2 col4\" >0.6925</td>\n",
       "      <td id=\"T_b32d0_row2_col5\" class=\"data row2 col5\" >0.7788</td>\n",
       "      <td id=\"T_b32d0_row2_col6\" class=\"data row2 col6\" >0.6701</td>\n",
       "      <td id=\"T_b32d0_row2_col7\" class=\"data row2 col7\" >0.6846</td>\n",
       "      <td id=\"T_b32d0_row2_col8\" class=\"data row2 col8\" >1.2560</td>\n",
       "    </tr>\n",
       "    <tr>\n",
       "      <th id=\"T_b32d0_level0_row3\" class=\"row_heading level0 row3\" >lightgbm</th>\n",
       "      <td id=\"T_b32d0_row3_col0\" class=\"data row3 col0\" >Light Gradient Boosting Machine</td>\n",
       "      <td id=\"T_b32d0_row3_col1\" class=\"data row3 col1\" >0.8144</td>\n",
       "      <td id=\"T_b32d0_row3_col2\" class=\"data row3 col2\" >0.8658</td>\n",
       "      <td id=\"T_b32d0_row3_col3\" class=\"data row3 col3\" >0.7070</td>\n",
       "      <td id=\"T_b32d0_row3_col4\" class=\"data row3 col4\" >0.6730</td>\n",
       "      <td id=\"T_b32d0_row3_col5\" class=\"data row3 col5\" >0.6880</td>\n",
       "      <td id=\"T_b32d0_row3_col6\" class=\"data row3 col6\" >0.5563</td>\n",
       "      <td id=\"T_b32d0_row3_col7\" class=\"data row3 col7\" >0.5580</td>\n",
       "      <td id=\"T_b32d0_row3_col8\" class=\"data row3 col8\" >0.4170</td>\n",
       "    </tr>\n",
       "    <tr>\n",
       "      <th id=\"T_b32d0_level0_row4\" class=\"row_heading level0 row4\" >dt</th>\n",
       "      <td id=\"T_b32d0_row4_col0\" class=\"data row4 col0\" >Decision Tree Classifier</td>\n",
       "      <td id=\"T_b32d0_row4_col1\" class=\"data row4 col1\" >0.7806</td>\n",
       "      <td id=\"T_b32d0_row4_col2\" class=\"data row4 col2\" >0.7327</td>\n",
       "      <td id=\"T_b32d0_row4_col3\" class=\"data row4 col3\" >0.6186</td>\n",
       "      <td id=\"T_b32d0_row4_col4\" class=\"data row4 col4\" >0.6358</td>\n",
       "      <td id=\"T_b32d0_row4_col5\" class=\"data row4 col5\" >0.6225</td>\n",
       "      <td id=\"T_b32d0_row4_col6\" class=\"data row4 col6\" >0.4689</td>\n",
       "      <td id=\"T_b32d0_row4_col7\" class=\"data row4 col7\" >0.4724</td>\n",
       "      <td id=\"T_b32d0_row4_col8\" class=\"data row4 col8\" >0.4120</td>\n",
       "    </tr>\n",
       "  </tbody>\n",
       "</table>\n"
      ],
      "text/plain": [
       "<pandas.io.formats.style.Styler at 0x7fd7406ee1f0>"
      ]
     },
     "metadata": {},
     "output_type": "display_data"
    },
    {
     "data": {
      "application/vnd.jupyter.widget-view+json": {
       "model_id": "",
       "version_major": 2,
       "version_minor": 0
      },
      "text/plain": [
       "Processing:   0%|          | 0/25 [00:00<?, ?it/s]"
      ]
     },
     "metadata": {},
     "output_type": "display_data"
    }
   ],
   "source": [
    "best_model = compare_models(include = models)"
   ]
  },
  {
   "cell_type": "code",
   "execution_count": 22,
   "id": "0d012bb9",
   "metadata": {},
   "outputs": [],
   "source": [
    "Compare_Model_Report=pull()"
   ]
  },
  {
   "cell_type": "code",
   "execution_count": 23,
   "id": "cf182b53",
   "metadata": {},
   "outputs": [],
   "source": [
    "if not os.path.exists(config.data_hygeine_path):\n",
    "    os.makedirs(config.data_hygeine_path)\n",
    "writer2 = pd.ExcelWriter(config.data_hygeibe_report_file)\n",
    "Data_Sense.to_excel(writer2, sheet_name = config.data_hygeibe_report_file_sheet1, index = False)\n",
    "Compare_Model_Report.to_excel(writer2, sheet_name = config.data_hygeibe_report_file_sheet2, index = False)\n",
    "writer2.close()"
   ]
  },
  {
   "cell_type": "code",
   "execution_count": 24,
   "id": "c25b6815",
   "metadata": {},
   "outputs": [],
   "source": [
    "best_5=Compare_Model_Report.head()"
   ]
  },
  {
   "cell_type": "code",
   "execution_count": 29,
   "id": "516508b9",
   "metadata": {},
   "outputs": [
    {
     "data": {
      "text/html": [
       "<div>\n",
       "<style scoped>\n",
       "    .dataframe tbody tr th:only-of-type {\n",
       "        vertical-align: middle;\n",
       "    }\n",
       "\n",
       "    .dataframe tbody tr th {\n",
       "        vertical-align: top;\n",
       "    }\n",
       "\n",
       "    .dataframe thead th {\n",
       "        text-align: right;\n",
       "    }\n",
       "</style>\n",
       "<table border=\"1\" class=\"dataframe\">\n",
       "  <thead>\n",
       "    <tr style=\"text-align: right;\">\n",
       "      <th></th>\n",
       "      <th>Model</th>\n",
       "      <th>Accuracy</th>\n",
       "      <th>AUC</th>\n",
       "      <th>Recall</th>\n",
       "      <th>Prec.</th>\n",
       "      <th>F1</th>\n",
       "      <th>Kappa</th>\n",
       "      <th>MCC</th>\n",
       "      <th>TT (Sec)</th>\n",
       "    </tr>\n",
       "  </thead>\n",
       "  <tbody>\n",
       "    <tr>\n",
       "      <th>rf</th>\n",
       "      <td>Random Forest Classifier</td>\n",
       "      <td>0.8803</td>\n",
       "      <td>0.9273</td>\n",
       "      <td>0.8319</td>\n",
       "      <td>0.7729</td>\n",
       "      <td>0.8012</td>\n",
       "      <td>0.7158</td>\n",
       "      <td>0.7168</td>\n",
       "      <td>1.533</td>\n",
       "    </tr>\n",
       "    <tr>\n",
       "      <th>lr</th>\n",
       "      <td>Logistic Regression</td>\n",
       "      <td>0.8622</td>\n",
       "      <td>0.9246</td>\n",
       "      <td>0.9003</td>\n",
       "      <td>0.7061</td>\n",
       "      <td>0.7913</td>\n",
       "      <td>0.6907</td>\n",
       "      <td>0.7023</td>\n",
       "      <td>1.555</td>\n",
       "    </tr>\n",
       "    <tr>\n",
       "      <th>ada</th>\n",
       "      <td>Ada Boost Classifier</td>\n",
       "      <td>0.8511</td>\n",
       "      <td>0.9150</td>\n",
       "      <td>0.8948</td>\n",
       "      <td>0.6925</td>\n",
       "      <td>0.7788</td>\n",
       "      <td>0.6701</td>\n",
       "      <td>0.6846</td>\n",
       "      <td>1.256</td>\n",
       "    </tr>\n",
       "    <tr>\n",
       "      <th>lightgbm</th>\n",
       "      <td>Light Gradient Boosting Machine</td>\n",
       "      <td>0.8144</td>\n",
       "      <td>0.8658</td>\n",
       "      <td>0.7070</td>\n",
       "      <td>0.6730</td>\n",
       "      <td>0.6880</td>\n",
       "      <td>0.5563</td>\n",
       "      <td>0.5580</td>\n",
       "      <td>0.417</td>\n",
       "    </tr>\n",
       "    <tr>\n",
       "      <th>dt</th>\n",
       "      <td>Decision Tree Classifier</td>\n",
       "      <td>0.7806</td>\n",
       "      <td>0.7327</td>\n",
       "      <td>0.6186</td>\n",
       "      <td>0.6358</td>\n",
       "      <td>0.6225</td>\n",
       "      <td>0.4689</td>\n",
       "      <td>0.4724</td>\n",
       "      <td>0.412</td>\n",
       "    </tr>\n",
       "  </tbody>\n",
       "</table>\n",
       "</div>"
      ],
      "text/plain": [
       "                                    Model  Accuracy     AUC  Recall   Prec.  \\\n",
       "rf               Random Forest Classifier    0.8803  0.9273  0.8319  0.7729   \n",
       "lr                    Logistic Regression    0.8622  0.9246  0.9003  0.7061   \n",
       "ada                  Ada Boost Classifier    0.8511  0.9150  0.8948  0.6925   \n",
       "lightgbm  Light Gradient Boosting Machine    0.8144  0.8658  0.7070  0.6730   \n",
       "dt               Decision Tree Classifier    0.7806  0.7327  0.6186  0.6358   \n",
       "\n",
       "              F1   Kappa     MCC  TT (Sec)  \n",
       "rf        0.8012  0.7158  0.7168     1.533  \n",
       "lr        0.7913  0.6907  0.7023     1.555  \n",
       "ada       0.7788  0.6701  0.6846     1.256  \n",
       "lightgbm  0.6880  0.5563  0.5580     0.417  \n",
       "dt        0.6225  0.4689  0.4724     0.412  "
      ]
     },
     "execution_count": 29,
     "metadata": {},
     "output_type": "execute_result"
    }
   ],
   "source": [
    "best_5"
   ]
  },
  {
   "cell_type": "code",
   "execution_count": 40,
   "id": "b2d073d3",
   "metadata": {},
   "outputs": [
    {
     "name": "stdout",
     "output_type": "stream",
     "text": [
      "lr\n"
     ]
    },
    {
     "data": {
      "text/html": [],
      "text/plain": [
       "<IPython.core.display.HTML object>"
      ]
     },
     "metadata": {},
     "output_type": "display_data"
    },
    {
     "data": {
      "text/html": [
       "<style type=\"text/css\">\n",
       "#T_cd469_row5_col0, #T_cd469_row5_col1, #T_cd469_row5_col2, #T_cd469_row5_col3, #T_cd469_row5_col4, #T_cd469_row5_col5, #T_cd469_row5_col6 {\n",
       "  background: yellow;\n",
       "}\n",
       "</style>\n",
       "<table id=\"T_cd469\">\n",
       "  <thead>\n",
       "    <tr>\n",
       "      <th class=\"blank level0\" >&nbsp;</th>\n",
       "      <th id=\"T_cd469_level0_col0\" class=\"col_heading level0 col0\" >Accuracy</th>\n",
       "      <th id=\"T_cd469_level0_col1\" class=\"col_heading level0 col1\" >AUC</th>\n",
       "      <th id=\"T_cd469_level0_col2\" class=\"col_heading level0 col2\" >Recall</th>\n",
       "      <th id=\"T_cd469_level0_col3\" class=\"col_heading level0 col3\" >Prec.</th>\n",
       "      <th id=\"T_cd469_level0_col4\" class=\"col_heading level0 col4\" >F1</th>\n",
       "      <th id=\"T_cd469_level0_col5\" class=\"col_heading level0 col5\" >Kappa</th>\n",
       "      <th id=\"T_cd469_level0_col6\" class=\"col_heading level0 col6\" >MCC</th>\n",
       "    </tr>\n",
       "    <tr>\n",
       "      <th class=\"index_name level0\" >Fold</th>\n",
       "      <th class=\"blank col0\" >&nbsp;</th>\n",
       "      <th class=\"blank col1\" >&nbsp;</th>\n",
       "      <th class=\"blank col2\" >&nbsp;</th>\n",
       "      <th class=\"blank col3\" >&nbsp;</th>\n",
       "      <th class=\"blank col4\" >&nbsp;</th>\n",
       "      <th class=\"blank col5\" >&nbsp;</th>\n",
       "      <th class=\"blank col6\" >&nbsp;</th>\n",
       "    </tr>\n",
       "  </thead>\n",
       "  <tbody>\n",
       "    <tr>\n",
       "      <th id=\"T_cd469_level0_row0\" class=\"row_heading level0 row0\" >0</th>\n",
       "      <td id=\"T_cd469_row0_col0\" class=\"data row0 col0\" >0.8584</td>\n",
       "      <td id=\"T_cd469_row0_col1\" class=\"data row0 col1\" >0.9249</td>\n",
       "      <td id=\"T_cd469_row0_col2\" class=\"data row0 col2\" >0.8965</td>\n",
       "      <td id=\"T_cd469_row0_col3\" class=\"data row0 col3\" >0.6997</td>\n",
       "      <td id=\"T_cd469_row0_col4\" class=\"data row0 col4\" >0.7860</td>\n",
       "      <td id=\"T_cd469_row0_col5\" class=\"data row0 col5\" >0.6826</td>\n",
       "      <td id=\"T_cd469_row0_col6\" class=\"data row0 col6\" >0.6943</td>\n",
       "    </tr>\n",
       "    <tr>\n",
       "      <th id=\"T_cd469_level0_row1\" class=\"row_heading level0 row1\" >1</th>\n",
       "      <td id=\"T_cd469_row1_col0\" class=\"data row1 col0\" >0.8541</td>\n",
       "      <td id=\"T_cd469_row1_col1\" class=\"data row1 col1\" >0.9214</td>\n",
       "      <td id=\"T_cd469_row1_col2\" class=\"data row1 col2\" >0.8958</td>\n",
       "      <td id=\"T_cd469_row1_col3\" class=\"data row1 col3\" >0.6920</td>\n",
       "      <td id=\"T_cd469_row1_col4\" class=\"data row1 col4\" >0.7808</td>\n",
       "      <td id=\"T_cd469_row1_col5\" class=\"data row1 col5\" >0.6742</td>\n",
       "      <td id=\"T_cd469_row1_col6\" class=\"data row1 col6\" >0.6868</td>\n",
       "    </tr>\n",
       "    <tr>\n",
       "      <th id=\"T_cd469_level0_row2\" class=\"row_heading level0 row2\" >2</th>\n",
       "      <td id=\"T_cd469_row2_col0\" class=\"data row2 col0\" >0.8359</td>\n",
       "      <td id=\"T_cd469_row2_col1\" class=\"data row2 col1\" >0.9130</td>\n",
       "      <td id=\"T_cd469_row2_col2\" class=\"data row2 col2\" >0.9096</td>\n",
       "      <td id=\"T_cd469_row2_col3\" class=\"data row2 col3\" >0.6567</td>\n",
       "      <td id=\"T_cd469_row2_col4\" class=\"data row2 col4\" >0.7627</td>\n",
       "      <td id=\"T_cd469_row2_col5\" class=\"data row2 col5\" >0.6422</td>\n",
       "      <td id=\"T_cd469_row2_col6\" class=\"data row2 col6\" >0.6621</td>\n",
       "    </tr>\n",
       "    <tr>\n",
       "      <th id=\"T_cd469_level0_row3\" class=\"row_heading level0 row3\" >3</th>\n",
       "      <td id=\"T_cd469_row3_col0\" class=\"data row3 col0\" >0.8411</td>\n",
       "      <td id=\"T_cd469_row3_col1\" class=\"data row3 col1\" >0.9111</td>\n",
       "      <td id=\"T_cd469_row3_col2\" class=\"data row3 col2\" >0.9047</td>\n",
       "      <td id=\"T_cd469_row3_col3\" class=\"data row3 col3\" >0.6665</td>\n",
       "      <td id=\"T_cd469_row3_col4\" class=\"data row3 col4\" >0.7675</td>\n",
       "      <td id=\"T_cd469_row3_col5\" class=\"data row3 col5\" >0.6510</td>\n",
       "      <td id=\"T_cd469_row3_col6\" class=\"data row3 col6\" >0.6685</td>\n",
       "    </tr>\n",
       "    <tr>\n",
       "      <th id=\"T_cd469_level0_row4\" class=\"row_heading level0 row4\" >4</th>\n",
       "      <td id=\"T_cd469_row4_col0\" class=\"data row4 col0\" >0.8532</td>\n",
       "      <td id=\"T_cd469_row4_col1\" class=\"data row4 col1\" >0.9246</td>\n",
       "      <td id=\"T_cd469_row4_col2\" class=\"data row4 col2\" >0.9128</td>\n",
       "      <td id=\"T_cd469_row4_col3\" class=\"data row4 col3\" >0.6854</td>\n",
       "      <td id=\"T_cd469_row4_col4\" class=\"data row4 col4\" >0.7829</td>\n",
       "      <td id=\"T_cd469_row4_col5\" class=\"data row4 col5\" >0.6754</td>\n",
       "      <td id=\"T_cd469_row4_col6\" class=\"data row4 col6\" >0.6912</td>\n",
       "    </tr>\n",
       "    <tr>\n",
       "      <th id=\"T_cd469_level0_row5\" class=\"row_heading level0 row5\" >Mean</th>\n",
       "      <td id=\"T_cd469_row5_col0\" class=\"data row5 col0\" >0.8485</td>\n",
       "      <td id=\"T_cd469_row5_col1\" class=\"data row5 col1\" >0.9190</td>\n",
       "      <td id=\"T_cd469_row5_col2\" class=\"data row5 col2\" >0.9039</td>\n",
       "      <td id=\"T_cd469_row5_col3\" class=\"data row5 col3\" >0.6800</td>\n",
       "      <td id=\"T_cd469_row5_col4\" class=\"data row5 col4\" >0.7760</td>\n",
       "      <td id=\"T_cd469_row5_col5\" class=\"data row5 col5\" >0.6651</td>\n",
       "      <td id=\"T_cd469_row5_col6\" class=\"data row5 col6\" >0.6806</td>\n",
       "    </tr>\n",
       "    <tr>\n",
       "      <th id=\"T_cd469_level0_row6\" class=\"row_heading level0 row6\" >Std</th>\n",
       "      <td id=\"T_cd469_row6_col0\" class=\"data row6 col0\" >0.0086</td>\n",
       "      <td id=\"T_cd469_row6_col1\" class=\"data row6 col1\" >0.0058</td>\n",
       "      <td id=\"T_cd469_row6_col2\" class=\"data row6 col2\" >0.0068</td>\n",
       "      <td id=\"T_cd469_row6_col3\" class=\"data row6 col3\" >0.0160</td>\n",
       "      <td id=\"T_cd469_row6_col4\" class=\"data row6 col4\" >0.0092</td>\n",
       "      <td id=\"T_cd469_row6_col5\" class=\"data row6 col5\" >0.0156</td>\n",
       "      <td id=\"T_cd469_row6_col6\" class=\"data row6 col6\" >0.0129</td>\n",
       "    </tr>\n",
       "  </tbody>\n",
       "</table>\n"
      ],
      "text/plain": [
       "<pandas.io.formats.style.Styler at 0x7fd714857940>"
      ]
     },
     "metadata": {},
     "output_type": "display_data"
    },
    {
     "data": {
      "application/vnd.jupyter.widget-view+json": {
       "model_id": "",
       "version_major": 2,
       "version_minor": 0
      },
      "text/plain": [
       "Processing:   0%|          | 0/4 [00:00<?, ?it/s]"
      ]
     },
     "metadata": {},
     "output_type": "display_data"
    },
    {
     "data": {
      "text/html": [],
      "text/plain": [
       "<IPython.core.display.HTML object>"
      ]
     },
     "metadata": {},
     "output_type": "display_data"
    },
    {
     "data": {
      "text/html": [
       "<style type=\"text/css\">\n",
       "#T_4136f_row5_col0, #T_4136f_row5_col1, #T_4136f_row5_col2, #T_4136f_row5_col3, #T_4136f_row5_col4, #T_4136f_row5_col5, #T_4136f_row5_col6 {\n",
       "  background: yellow;\n",
       "}\n",
       "</style>\n",
       "<table id=\"T_4136f\">\n",
       "  <thead>\n",
       "    <tr>\n",
       "      <th class=\"blank level0\" >&nbsp;</th>\n",
       "      <th id=\"T_4136f_level0_col0\" class=\"col_heading level0 col0\" >Accuracy</th>\n",
       "      <th id=\"T_4136f_level0_col1\" class=\"col_heading level0 col1\" >AUC</th>\n",
       "      <th id=\"T_4136f_level0_col2\" class=\"col_heading level0 col2\" >Recall</th>\n",
       "      <th id=\"T_4136f_level0_col3\" class=\"col_heading level0 col3\" >Prec.</th>\n",
       "      <th id=\"T_4136f_level0_col4\" class=\"col_heading level0 col4\" >F1</th>\n",
       "      <th id=\"T_4136f_level0_col5\" class=\"col_heading level0 col5\" >Kappa</th>\n",
       "      <th id=\"T_4136f_level0_col6\" class=\"col_heading level0 col6\" >MCC</th>\n",
       "    </tr>\n",
       "    <tr>\n",
       "      <th class=\"index_name level0\" >Fold</th>\n",
       "      <th class=\"blank col0\" >&nbsp;</th>\n",
       "      <th class=\"blank col1\" >&nbsp;</th>\n",
       "      <th class=\"blank col2\" >&nbsp;</th>\n",
       "      <th class=\"blank col3\" >&nbsp;</th>\n",
       "      <th class=\"blank col4\" >&nbsp;</th>\n",
       "      <th class=\"blank col5\" >&nbsp;</th>\n",
       "      <th class=\"blank col6\" >&nbsp;</th>\n",
       "    </tr>\n",
       "  </thead>\n",
       "  <tbody>\n",
       "    <tr>\n",
       "      <th id=\"T_4136f_level0_row0\" class=\"row_heading level0 row0\" >0</th>\n",
       "      <td id=\"T_4136f_row0_col0\" class=\"data row0 col0\" >0.8614</td>\n",
       "      <td id=\"T_4136f_row0_col1\" class=\"data row0 col1\" >0.9261</td>\n",
       "      <td id=\"T_4136f_row0_col2\" class=\"data row0 col2\" >0.8985</td>\n",
       "      <td id=\"T_4136f_row0_col3\" class=\"data row0 col3\" >0.7047</td>\n",
       "      <td id=\"T_4136f_row0_col4\" class=\"data row0 col4\" >0.7899</td>\n",
       "      <td id=\"T_4136f_row0_col5\" class=\"data row0 col5\" >0.6888</td>\n",
       "      <td id=\"T_4136f_row0_col6\" class=\"data row0 col6\" >0.7001</td>\n",
       "    </tr>\n",
       "    <tr>\n",
       "      <th id=\"T_4136f_level0_row1\" class=\"row_heading level0 row1\" >1</th>\n",
       "      <td id=\"T_4136f_row1_col0\" class=\"data row1 col0\" >0.8593</td>\n",
       "      <td id=\"T_4136f_row1_col1\" class=\"data row1 col1\" >0.9223</td>\n",
       "      <td id=\"T_4136f_row1_col2\" class=\"data row1 col2\" >0.8961</td>\n",
       "      <td id=\"T_4136f_row1_col3\" class=\"data row1 col3\" >0.7015</td>\n",
       "      <td id=\"T_4136f_row1_col4\" class=\"data row1 col4\" >0.7869</td>\n",
       "      <td id=\"T_4136f_row1_col5\" class=\"data row1 col5\" >0.6842</td>\n",
       "      <td id=\"T_4136f_row1_col6\" class=\"data row1 col6\" >0.6956</td>\n",
       "    </tr>\n",
       "    <tr>\n",
       "      <th id=\"T_4136f_level0_row2\" class=\"row_heading level0 row2\" >2</th>\n",
       "      <td id=\"T_4136f_row2_col0\" class=\"data row2 col0\" >0.8444</td>\n",
       "      <td id=\"T_4136f_row2_col1\" class=\"data row2 col1\" >0.9140</td>\n",
       "      <td id=\"T_4136f_row2_col2\" class=\"data row2 col2\" >0.9064</td>\n",
       "      <td id=\"T_4136f_row2_col3\" class=\"data row2 col3\" >0.6717</td>\n",
       "      <td id=\"T_4136f_row2_col4\" class=\"data row2 col4\" >0.7716</td>\n",
       "      <td id=\"T_4136f_row2_col5\" class=\"data row2 col5\" >0.6575</td>\n",
       "      <td id=\"T_4136f_row2_col6\" class=\"data row2 col6\" >0.6744</td>\n",
       "    </tr>\n",
       "    <tr>\n",
       "      <th id=\"T_4136f_level0_row3\" class=\"row_heading level0 row3\" >3</th>\n",
       "      <td id=\"T_4136f_row3_col0\" class=\"data row3 col0\" >0.8456</td>\n",
       "      <td id=\"T_4136f_row3_col1\" class=\"data row3 col1\" >0.9112</td>\n",
       "      <td id=\"T_4136f_row3_col2\" class=\"data row3 col2\" >0.9010</td>\n",
       "      <td id=\"T_4136f_row3_col3\" class=\"data row3 col3\" >0.6752</td>\n",
       "      <td id=\"T_4136f_row3_col4\" class=\"data row3 col4\" >0.7719</td>\n",
       "      <td id=\"T_4136f_row3_col5\" class=\"data row3 col5\" >0.6588</td>\n",
       "      <td id=\"T_4136f_row3_col6\" class=\"data row3 col6\" >0.6744</td>\n",
       "    </tr>\n",
       "    <tr>\n",
       "      <th id=\"T_4136f_level0_row4\" class=\"row_heading level0 row4\" >4</th>\n",
       "      <td id=\"T_4136f_row4_col0\" class=\"data row4 col0\" >0.8576</td>\n",
       "      <td id=\"T_4136f_row4_col1\" class=\"data row4 col1\" >0.9251</td>\n",
       "      <td id=\"T_4136f_row4_col2\" class=\"data row4 col2\" >0.9111</td>\n",
       "      <td id=\"T_4136f_row4_col3\" class=\"data row4 col3\" >0.6939</td>\n",
       "      <td id=\"T_4136f_row4_col4\" class=\"data row4 col4\" >0.7878</td>\n",
       "      <td id=\"T_4136f_row4_col5\" class=\"data row4 col5\" >0.6836</td>\n",
       "      <td id=\"T_4136f_row4_col6\" class=\"data row4 col6\" >0.6980</td>\n",
       "    </tr>\n",
       "    <tr>\n",
       "      <th id=\"T_4136f_level0_row5\" class=\"row_heading level0 row5\" >Mean</th>\n",
       "      <td id=\"T_4136f_row5_col0\" class=\"data row5 col0\" >0.8537</td>\n",
       "      <td id=\"T_4136f_row5_col1\" class=\"data row5 col1\" >0.9197</td>\n",
       "      <td id=\"T_4136f_row5_col2\" class=\"data row5 col2\" >0.9026</td>\n",
       "      <td id=\"T_4136f_row5_col3\" class=\"data row5 col3\" >0.6894</td>\n",
       "      <td id=\"T_4136f_row5_col4\" class=\"data row5 col4\" >0.7816</td>\n",
       "      <td id=\"T_4136f_row5_col5\" class=\"data row5 col5\" >0.6746</td>\n",
       "      <td id=\"T_4136f_row5_col6\" class=\"data row5 col6\" >0.6885</td>\n",
       "    </tr>\n",
       "    <tr>\n",
       "      <th id=\"T_4136f_level0_row6\" class=\"row_heading level0 row6\" >Std</th>\n",
       "      <td id=\"T_4136f_row6_col0\" class=\"data row6 col0\" >0.0072</td>\n",
       "      <td id=\"T_4136f_row6_col1\" class=\"data row6 col1\" >0.0061</td>\n",
       "      <td id=\"T_4136f_row6_col2\" class=\"data row6 col2\" >0.0055</td>\n",
       "      <td id=\"T_4136f_row6_col3\" class=\"data row6 col3\" >0.0136</td>\n",
       "      <td id=\"T_4136f_row6_col4\" class=\"data row6 col4\" >0.0081</td>\n",
       "      <td id=\"T_4136f_row6_col5\" class=\"data row6 col5\" >0.0136</td>\n",
       "      <td id=\"T_4136f_row6_col6\" class=\"data row6 col6\" >0.0116</td>\n",
       "    </tr>\n",
       "  </tbody>\n",
       "</table>\n"
      ],
      "text/plain": [
       "<pandas.io.formats.style.Styler at 0x7fd6e2cddd90>"
      ]
     },
     "metadata": {},
     "output_type": "display_data"
    },
    {
     "data": {
      "application/vnd.jupyter.widget-view+json": {
       "model_id": "",
       "version_major": 2,
       "version_minor": 0
      },
      "text/plain": [
       "Processing:   0%|          | 0/7 [00:00<?, ?it/s]"
      ]
     },
     "metadata": {},
     "output_type": "display_data"
    },
    {
     "name": "stdout",
     "output_type": "stream",
     "text": [
      "Fitting 5 folds for each of 10 candidates, totalling 50 fits\n"
     ]
    },
    {
     "data": {
      "text/html": [],
      "text/plain": [
       "<IPython.core.display.HTML object>"
      ]
     },
     "metadata": {},
     "output_type": "display_data"
    },
    {
     "data": {
      "text/html": [],
      "text/plain": [
       "<IPython.core.display.HTML object>"
      ]
     },
     "metadata": {},
     "output_type": "display_data"
    },
    {
     "data": {
      "text/html": [],
      "text/plain": [
       "<IPython.core.display.HTML object>"
      ]
     },
     "metadata": {},
     "output_type": "display_data"
    },
    {
     "name": "stdout",
     "output_type": "stream",
     "text": [
      "Transformation Pipeline and Model Successfully Saved\n",
      "dt\n"
     ]
    },
    {
     "data": {
      "text/html": [],
      "text/plain": [
       "<IPython.core.display.HTML object>"
      ]
     },
     "metadata": {},
     "output_type": "display_data"
    },
    {
     "data": {
      "text/html": [
       "<style type=\"text/css\">\n",
       "#T_5adc1_row5_col0, #T_5adc1_row5_col1, #T_5adc1_row5_col2, #T_5adc1_row5_col3, #T_5adc1_row5_col4, #T_5adc1_row5_col5, #T_5adc1_row5_col6 {\n",
       "  background: yellow;\n",
       "}\n",
       "</style>\n",
       "<table id=\"T_5adc1\">\n",
       "  <thead>\n",
       "    <tr>\n",
       "      <th class=\"blank level0\" >&nbsp;</th>\n",
       "      <th id=\"T_5adc1_level0_col0\" class=\"col_heading level0 col0\" >Accuracy</th>\n",
       "      <th id=\"T_5adc1_level0_col1\" class=\"col_heading level0 col1\" >AUC</th>\n",
       "      <th id=\"T_5adc1_level0_col2\" class=\"col_heading level0 col2\" >Recall</th>\n",
       "      <th id=\"T_5adc1_level0_col3\" class=\"col_heading level0 col3\" >Prec.</th>\n",
       "      <th id=\"T_5adc1_level0_col4\" class=\"col_heading level0 col4\" >F1</th>\n",
       "      <th id=\"T_5adc1_level0_col5\" class=\"col_heading level0 col5\" >Kappa</th>\n",
       "      <th id=\"T_5adc1_level0_col6\" class=\"col_heading level0 col6\" >MCC</th>\n",
       "    </tr>\n",
       "    <tr>\n",
       "      <th class=\"index_name level0\" >Fold</th>\n",
       "      <th class=\"blank col0\" >&nbsp;</th>\n",
       "      <th class=\"blank col1\" >&nbsp;</th>\n",
       "      <th class=\"blank col2\" >&nbsp;</th>\n",
       "      <th class=\"blank col3\" >&nbsp;</th>\n",
       "      <th class=\"blank col4\" >&nbsp;</th>\n",
       "      <th class=\"blank col5\" >&nbsp;</th>\n",
       "      <th class=\"blank col6\" >&nbsp;</th>\n",
       "    </tr>\n",
       "  </thead>\n",
       "  <tbody>\n",
       "    <tr>\n",
       "      <th id=\"T_5adc1_level0_row0\" class=\"row_heading level0 row0\" >0</th>\n",
       "      <td id=\"T_5adc1_row0_col0\" class=\"data row0 col0\" >0.8035</td>\n",
       "      <td id=\"T_5adc1_row0_col1\" class=\"data row0 col1\" >0.7458</td>\n",
       "      <td id=\"T_5adc1_row0_col2\" class=\"data row0 col2\" >0.6085</td>\n",
       "      <td id=\"T_5adc1_row0_col3\" class=\"data row0 col3\" >0.6801</td>\n",
       "      <td id=\"T_5adc1_row0_col4\" class=\"data row0 col4\" >0.6423</td>\n",
       "      <td id=\"T_5adc1_row0_col5\" class=\"data row0 col5\" >0.5074</td>\n",
       "      <td id=\"T_5adc1_row0_col6\" class=\"data row0 col6\" >0.5089</td>\n",
       "    </tr>\n",
       "    <tr>\n",
       "      <th id=\"T_5adc1_level0_row1\" class=\"row_heading level0 row1\" >1</th>\n",
       "      <td id=\"T_5adc1_row1_col0\" class=\"data row1 col0\" >0.7966</td>\n",
       "      <td id=\"T_5adc1_row1_col1\" class=\"data row1 col1\" >0.7340</td>\n",
       "      <td id=\"T_5adc1_row1_col2\" class=\"data row1 col2\" >0.5847</td>\n",
       "      <td id=\"T_5adc1_row1_col3\" class=\"data row1 col3\" >0.6716</td>\n",
       "      <td id=\"T_5adc1_row1_col4\" class=\"data row1 col4\" >0.6251</td>\n",
       "      <td id=\"T_5adc1_row1_col5\" class=\"data row1 col5\" >0.4865</td>\n",
       "      <td id=\"T_5adc1_row1_col6\" class=\"data row1 col6\" >0.4887</td>\n",
       "    </tr>\n",
       "    <tr>\n",
       "      <th id=\"T_5adc1_level0_row2\" class=\"row_heading level0 row2\" >2</th>\n",
       "      <td id=\"T_5adc1_row2_col0\" class=\"data row2 col0\" >0.7980</td>\n",
       "      <td id=\"T_5adc1_row2_col1\" class=\"data row2 col1\" >0.7399</td>\n",
       "      <td id=\"T_5adc1_row2_col2\" class=\"data row2 col2\" >0.6015</td>\n",
       "      <td id=\"T_5adc1_row2_col3\" class=\"data row2 col3\" >0.6687</td>\n",
       "      <td id=\"T_5adc1_row2_col4\" class=\"data row2 col4\" >0.6333</td>\n",
       "      <td id=\"T_5adc1_row2_col5\" class=\"data row2 col5\" >0.4944</td>\n",
       "      <td id=\"T_5adc1_row2_col6\" class=\"data row2 col6\" >0.4958</td>\n",
       "    </tr>\n",
       "    <tr>\n",
       "      <th id=\"T_5adc1_level0_row3\" class=\"row_heading level0 row3\" >3</th>\n",
       "      <td id=\"T_5adc1_row3_col0\" class=\"data row3 col0\" >0.8011</td>\n",
       "      <td id=\"T_5adc1_row3_col1\" class=\"data row3 col1\" >0.7422</td>\n",
       "      <td id=\"T_5adc1_row3_col2\" class=\"data row3 col2\" >0.6017</td>\n",
       "      <td id=\"T_5adc1_row3_col3\" class=\"data row3 col3\" >0.6767</td>\n",
       "      <td id=\"T_5adc1_row3_col4\" class=\"data row3 col4\" >0.6370</td>\n",
       "      <td id=\"T_5adc1_row3_col5\" class=\"data row3 col5\" >0.5007</td>\n",
       "      <td id=\"T_5adc1_row3_col6\" class=\"data row3 col6\" >0.5024</td>\n",
       "    </tr>\n",
       "    <tr>\n",
       "      <th id=\"T_5adc1_level0_row4\" class=\"row_heading level0 row4\" >4</th>\n",
       "      <td id=\"T_5adc1_row4_col0\" class=\"data row4 col0\" >0.7155</td>\n",
       "      <td id=\"T_5adc1_row4_col1\" class=\"data row4 col1\" >0.6918</td>\n",
       "      <td id=\"T_5adc1_row4_col2\" class=\"data row4 col2\" >0.6352</td>\n",
       "      <td id=\"T_5adc1_row4_col3\" class=\"data row4 col3\" >0.5076</td>\n",
       "      <td id=\"T_5adc1_row4_col4\" class=\"data row4 col4\" >0.5643</td>\n",
       "      <td id=\"T_5adc1_row4_col5\" class=\"data row4 col5\" >0.3570</td>\n",
       "      <td id=\"T_5adc1_row4_col6\" class=\"data row4 col6\" >0.3619</td>\n",
       "    </tr>\n",
       "    <tr>\n",
       "      <th id=\"T_5adc1_level0_row5\" class=\"row_heading level0 row5\" >Mean</th>\n",
       "      <td id=\"T_5adc1_row5_col0\" class=\"data row5 col0\" >0.7830</td>\n",
       "      <td id=\"T_5adc1_row5_col1\" class=\"data row5 col1\" >0.7307</td>\n",
       "      <td id=\"T_5adc1_row5_col2\" class=\"data row5 col2\" >0.6063</td>\n",
       "      <td id=\"T_5adc1_row5_col3\" class=\"data row5 col3\" >0.6409</td>\n",
       "      <td id=\"T_5adc1_row5_col4\" class=\"data row5 col4\" >0.6204</td>\n",
       "      <td id=\"T_5adc1_row5_col5\" class=\"data row5 col5\" >0.4692</td>\n",
       "      <td id=\"T_5adc1_row5_col6\" class=\"data row5 col6\" >0.4715</td>\n",
       "    </tr>\n",
       "    <tr>\n",
       "      <th id=\"T_5adc1_level0_row6\" class=\"row_heading level0 row6\" >Std</th>\n",
       "      <td id=\"T_5adc1_row6_col0\" class=\"data row6 col0\" >0.0338</td>\n",
       "      <td id=\"T_5adc1_row6_col1\" class=\"data row6 col1\" >0.0199</td>\n",
       "      <td id=\"T_5adc1_row6_col2\" class=\"data row6 col2\" >0.0164</td>\n",
       "      <td id=\"T_5adc1_row6_col3\" class=\"data row6 col3\" >0.0668</td>\n",
       "      <td id=\"T_5adc1_row6_col4\" class=\"data row6 col4\" >0.0286</td>\n",
       "      <td id=\"T_5adc1_row6_col5\" class=\"data row6 col5\" >0.0566</td>\n",
       "      <td id=\"T_5adc1_row6_col6\" class=\"data row6 col6\" >0.0552</td>\n",
       "    </tr>\n",
       "  </tbody>\n",
       "</table>\n"
      ],
      "text/plain": [
       "<pandas.io.formats.style.Styler at 0x7fd6e8e1df40>"
      ]
     },
     "metadata": {},
     "output_type": "display_data"
    },
    {
     "data": {
      "application/vnd.jupyter.widget-view+json": {
       "model_id": "",
       "version_major": 2,
       "version_minor": 0
      },
      "text/plain": [
       "Processing:   0%|          | 0/4 [00:00<?, ?it/s]"
      ]
     },
     "metadata": {},
     "output_type": "display_data"
    },
    {
     "data": {
      "text/html": [],
      "text/plain": [
       "<IPython.core.display.HTML object>"
      ]
     },
     "metadata": {},
     "output_type": "display_data"
    },
    {
     "data": {
      "text/html": [
       "<style type=\"text/css\">\n",
       "#T_f047f_row5_col0, #T_f047f_row5_col1, #T_f047f_row5_col2, #T_f047f_row5_col3, #T_f047f_row5_col4, #T_f047f_row5_col5, #T_f047f_row5_col6 {\n",
       "  background: yellow;\n",
       "}\n",
       "</style>\n",
       "<table id=\"T_f047f\">\n",
       "  <thead>\n",
       "    <tr>\n",
       "      <th class=\"blank level0\" >&nbsp;</th>\n",
       "      <th id=\"T_f047f_level0_col0\" class=\"col_heading level0 col0\" >Accuracy</th>\n",
       "      <th id=\"T_f047f_level0_col1\" class=\"col_heading level0 col1\" >AUC</th>\n",
       "      <th id=\"T_f047f_level0_col2\" class=\"col_heading level0 col2\" >Recall</th>\n",
       "      <th id=\"T_f047f_level0_col3\" class=\"col_heading level0 col3\" >Prec.</th>\n",
       "      <th id=\"T_f047f_level0_col4\" class=\"col_heading level0 col4\" >F1</th>\n",
       "      <th id=\"T_f047f_level0_col5\" class=\"col_heading level0 col5\" >Kappa</th>\n",
       "      <th id=\"T_f047f_level0_col6\" class=\"col_heading level0 col6\" >MCC</th>\n",
       "    </tr>\n",
       "    <tr>\n",
       "      <th class=\"index_name level0\" >Fold</th>\n",
       "      <th class=\"blank col0\" >&nbsp;</th>\n",
       "      <th class=\"blank col1\" >&nbsp;</th>\n",
       "      <th class=\"blank col2\" >&nbsp;</th>\n",
       "      <th class=\"blank col3\" >&nbsp;</th>\n",
       "      <th class=\"blank col4\" >&nbsp;</th>\n",
       "      <th class=\"blank col5\" >&nbsp;</th>\n",
       "      <th class=\"blank col6\" >&nbsp;</th>\n",
       "    </tr>\n",
       "  </thead>\n",
       "  <tbody>\n",
       "    <tr>\n",
       "      <th id=\"T_f047f_level0_row0\" class=\"row_heading level0 row0\" >0</th>\n",
       "      <td id=\"T_f047f_row0_col0\" class=\"data row0 col0\" >0.8552</td>\n",
       "      <td id=\"T_f047f_row0_col1\" class=\"data row0 col1\" >0.8591</td>\n",
       "      <td id=\"T_f047f_row0_col2\" class=\"data row0 col2\" >0.7793</td>\n",
       "      <td id=\"T_f047f_row0_col3\" class=\"data row0 col3\" >0.7366</td>\n",
       "      <td id=\"T_f047f_row0_col4\" class=\"data row0 col4\" >0.7573</td>\n",
       "      <td id=\"T_f047f_row0_col5\" class=\"data row0 col5\" >0.6543</td>\n",
       "      <td id=\"T_f047f_row0_col6\" class=\"data row0 col6\" >0.6548</td>\n",
       "    </tr>\n",
       "    <tr>\n",
       "      <th id=\"T_f047f_level0_row1\" class=\"row_heading level0 row1\" >1</th>\n",
       "      <td id=\"T_f047f_row1_col0\" class=\"data row1 col0\" >0.8474</td>\n",
       "      <td id=\"T_f047f_row1_col1\" class=\"data row1 col1\" >0.8561</td>\n",
       "      <td id=\"T_f047f_row1_col2\" class=\"data row1 col2\" >0.7638</td>\n",
       "      <td id=\"T_f047f_row1_col3\" class=\"data row1 col3\" >0.7249</td>\n",
       "      <td id=\"T_f047f_row1_col4\" class=\"data row1 col4\" >0.7438</td>\n",
       "      <td id=\"T_f047f_row1_col5\" class=\"data row1 col5\" >0.6353</td>\n",
       "      <td id=\"T_f047f_row1_col6\" class=\"data row1 col6\" >0.6357</td>\n",
       "    </tr>\n",
       "    <tr>\n",
       "      <th id=\"T_f047f_level0_row2\" class=\"row_heading level0 row2\" >2</th>\n",
       "      <td id=\"T_f047f_row2_col0\" class=\"data row2 col0\" >0.8429</td>\n",
       "      <td id=\"T_f047f_row2_col1\" class=\"data row2 col1\" >0.8395</td>\n",
       "      <td id=\"T_f047f_row2_col2\" class=\"data row2 col2\" >0.7379</td>\n",
       "      <td id=\"T_f047f_row2_col3\" class=\"data row2 col3\" >0.7251</td>\n",
       "      <td id=\"T_f047f_row2_col4\" class=\"data row2 col4\" >0.7314</td>\n",
       "      <td id=\"T_f047f_row2_col5\" class=\"data row2 col5\" >0.6204</td>\n",
       "      <td id=\"T_f047f_row2_col6\" class=\"data row2 col6\" >0.6204</td>\n",
       "    </tr>\n",
       "    <tr>\n",
       "      <th id=\"T_f047f_level0_row3\" class=\"row_heading level0 row3\" >3</th>\n",
       "      <td id=\"T_f047f_row3_col0\" class=\"data row3 col0\" >0.8451</td>\n",
       "      <td id=\"T_f047f_row3_col1\" class=\"data row3 col1\" >0.8206</td>\n",
       "      <td id=\"T_f047f_row3_col2\" class=\"data row3 col2\" >0.7342</td>\n",
       "      <td id=\"T_f047f_row3_col3\" class=\"data row3 col3\" >0.7324</td>\n",
       "      <td id=\"T_f047f_row3_col4\" class=\"data row3 col4\" >0.7333</td>\n",
       "      <td id=\"T_f047f_row3_col5\" class=\"data row3 col5\" >0.6242</td>\n",
       "      <td id=\"T_f047f_row3_col6\" class=\"data row3 col6\" >0.6242</td>\n",
       "    </tr>\n",
       "    <tr>\n",
       "      <th id=\"T_f047f_level0_row4\" class=\"row_heading level0 row4\" >4</th>\n",
       "      <td id=\"T_f047f_row4_col0\" class=\"data row4 col0\" >0.7669</td>\n",
       "      <td id=\"T_f047f_row4_col1\" class=\"data row4 col1\" >0.7644</td>\n",
       "      <td id=\"T_f047f_row4_col2\" class=\"data row4 col2\" >0.7909</td>\n",
       "      <td id=\"T_f047f_row4_col3\" class=\"data row4 col3\" >0.5708</td>\n",
       "      <td id=\"T_f047f_row4_col4\" class=\"data row4 col4\" >0.6631</td>\n",
       "      <td id=\"T_f047f_row4_col5\" class=\"data row4 col5\" >0.4919</td>\n",
       "      <td id=\"T_f047f_row4_col6\" class=\"data row4 col6\" >0.5072</td>\n",
       "    </tr>\n",
       "    <tr>\n",
       "      <th id=\"T_f047f_level0_row5\" class=\"row_heading level0 row5\" >Mean</th>\n",
       "      <td id=\"T_f047f_row5_col0\" class=\"data row5 col0\" >0.8315</td>\n",
       "      <td id=\"T_f047f_row5_col1\" class=\"data row5 col1\" >0.8280</td>\n",
       "      <td id=\"T_f047f_row5_col2\" class=\"data row5 col2\" >0.7612</td>\n",
       "      <td id=\"T_f047f_row5_col3\" class=\"data row5 col3\" >0.6980</td>\n",
       "      <td id=\"T_f047f_row5_col4\" class=\"data row5 col4\" >0.7258</td>\n",
       "      <td id=\"T_f047f_row5_col5\" class=\"data row5 col5\" >0.6052</td>\n",
       "      <td id=\"T_f047f_row5_col6\" class=\"data row5 col6\" >0.6085</td>\n",
       "    </tr>\n",
       "    <tr>\n",
       "      <th id=\"T_f047f_level0_row6\" class=\"row_heading level0 row6\" >Std</th>\n",
       "      <td id=\"T_f047f_row6_col0\" class=\"data row6 col0\" >0.0326</td>\n",
       "      <td id=\"T_f047f_row6_col1\" class=\"data row6 col1\" >0.0346</td>\n",
       "      <td id=\"T_f047f_row6_col2\" class=\"data row6 col2\" >0.0223</td>\n",
       "      <td id=\"T_f047f_row6_col3\" class=\"data row6 col3\" >0.0637</td>\n",
       "      <td id=\"T_f047f_row6_col4\" class=\"data row6 col4\" >0.0327</td>\n",
       "      <td id=\"T_f047f_row6_col5\" class=\"data row6 col5\" >0.0579</td>\n",
       "      <td id=\"T_f047f_row6_col6\" class=\"data row6 col6\" >0.0520</td>\n",
       "    </tr>\n",
       "  </tbody>\n",
       "</table>\n"
      ],
      "text/plain": [
       "<pandas.io.formats.style.Styler at 0x7fd6f0471580>"
      ]
     },
     "metadata": {},
     "output_type": "display_data"
    },
    {
     "data": {
      "application/vnd.jupyter.widget-view+json": {
       "model_id": "",
       "version_major": 2,
       "version_minor": 0
      },
      "text/plain": [
       "Processing:   0%|          | 0/7 [00:00<?, ?it/s]"
      ]
     },
     "metadata": {},
     "output_type": "display_data"
    },
    {
     "name": "stdout",
     "output_type": "stream",
     "text": [
      "Fitting 5 folds for each of 10 candidates, totalling 50 fits\n"
     ]
    },
    {
     "data": {
      "text/html": [],
      "text/plain": [
       "<IPython.core.display.HTML object>"
      ]
     },
     "metadata": {},
     "output_type": "display_data"
    },
    {
     "data": {
      "text/html": [],
      "text/plain": [
       "<IPython.core.display.HTML object>"
      ]
     },
     "metadata": {},
     "output_type": "display_data"
    },
    {
     "data": {
      "text/html": [],
      "text/plain": [
       "<IPython.core.display.HTML object>"
      ]
     },
     "metadata": {},
     "output_type": "display_data"
    },
    {
     "name": "stdout",
     "output_type": "stream",
     "text": [
      "Transformation Pipeline and Model Successfully Saved\n",
      "rf\n"
     ]
    },
    {
     "data": {
      "text/html": [],
      "text/plain": [
       "<IPython.core.display.HTML object>"
      ]
     },
     "metadata": {},
     "output_type": "display_data"
    },
    {
     "data": {
      "text/html": [
       "<style type=\"text/css\">\n",
       "#T_b82be_row5_col0, #T_b82be_row5_col1, #T_b82be_row5_col2, #T_b82be_row5_col3, #T_b82be_row5_col4, #T_b82be_row5_col5, #T_b82be_row5_col6 {\n",
       "  background: yellow;\n",
       "}\n",
       "</style>\n",
       "<table id=\"T_b82be\">\n",
       "  <thead>\n",
       "    <tr>\n",
       "      <th class=\"blank level0\" >&nbsp;</th>\n",
       "      <th id=\"T_b82be_level0_col0\" class=\"col_heading level0 col0\" >Accuracy</th>\n",
       "      <th id=\"T_b82be_level0_col1\" class=\"col_heading level0 col1\" >AUC</th>\n",
       "      <th id=\"T_b82be_level0_col2\" class=\"col_heading level0 col2\" >Recall</th>\n",
       "      <th id=\"T_b82be_level0_col3\" class=\"col_heading level0 col3\" >Prec.</th>\n",
       "      <th id=\"T_b82be_level0_col4\" class=\"col_heading level0 col4\" >F1</th>\n",
       "      <th id=\"T_b82be_level0_col5\" class=\"col_heading level0 col5\" >Kappa</th>\n",
       "      <th id=\"T_b82be_level0_col6\" class=\"col_heading level0 col6\" >MCC</th>\n",
       "    </tr>\n",
       "    <tr>\n",
       "      <th class=\"index_name level0\" >Fold</th>\n",
       "      <th class=\"blank col0\" >&nbsp;</th>\n",
       "      <th class=\"blank col1\" >&nbsp;</th>\n",
       "      <th class=\"blank col2\" >&nbsp;</th>\n",
       "      <th class=\"blank col3\" >&nbsp;</th>\n",
       "      <th class=\"blank col4\" >&nbsp;</th>\n",
       "      <th class=\"blank col5\" >&nbsp;</th>\n",
       "      <th class=\"blank col6\" >&nbsp;</th>\n",
       "    </tr>\n",
       "  </thead>\n",
       "  <tbody>\n",
       "    <tr>\n",
       "      <th id=\"T_b82be_level0_row0\" class=\"row_heading level0 row0\" >0</th>\n",
       "      <td id=\"T_b82be_row0_col0\" class=\"data row0 col0\" >0.8801</td>\n",
       "      <td id=\"T_b82be_row0_col1\" class=\"data row0 col1\" >0.9254</td>\n",
       "      <td id=\"T_b82be_row0_col2\" class=\"data row0 col2\" >0.8305</td>\n",
       "      <td id=\"T_b82be_row0_col3\" class=\"data row0 col3\" >0.7730</td>\n",
       "      <td id=\"T_b82be_row0_col4\" class=\"data row0 col4\" >0.8007</td>\n",
       "      <td id=\"T_b82be_row0_col5\" class=\"data row0 col5\" >0.7152</td>\n",
       "      <td id=\"T_b82be_row0_col6\" class=\"data row0 col6\" >0.7161</td>\n",
       "    </tr>\n",
       "    <tr>\n",
       "      <th id=\"T_b82be_level0_row1\" class=\"row_heading level0 row1\" >1</th>\n",
       "      <td id=\"T_b82be_row1_col0\" class=\"data row1 col0\" >0.8815</td>\n",
       "      <td id=\"T_b82be_row1_col1\" class=\"data row1 col1\" >0.9249</td>\n",
       "      <td id=\"T_b82be_row1_col2\" class=\"data row1 col2\" >0.8458</td>\n",
       "      <td id=\"T_b82be_row1_col3\" class=\"data row1 col3\" >0.7687</td>\n",
       "      <td id=\"T_b82be_row1_col4\" class=\"data row1 col4\" >0.8054</td>\n",
       "      <td id=\"T_b82be_row1_col5\" class=\"data row1 col5\" >0.7205</td>\n",
       "      <td id=\"T_b82be_row1_col6\" class=\"data row1 col6\" >0.7222</td>\n",
       "    </tr>\n",
       "    <tr>\n",
       "      <th id=\"T_b82be_level0_row2\" class=\"row_heading level0 row2\" >2</th>\n",
       "      <td id=\"T_b82be_row2_col0\" class=\"data row2 col0\" >0.8740</td>\n",
       "      <td id=\"T_b82be_row2_col1\" class=\"data row2 col1\" >0.9205</td>\n",
       "      <td id=\"T_b82be_row2_col2\" class=\"data row2 col2\" >0.8323</td>\n",
       "      <td id=\"T_b82be_row2_col3\" class=\"data row2 col3\" >0.7573</td>\n",
       "      <td id=\"T_b82be_row2_col4\" class=\"data row2 col4\" >0.7930</td>\n",
       "      <td id=\"T_b82be_row2_col5\" class=\"data row2 col5\" >0.7027</td>\n",
       "      <td id=\"T_b82be_row2_col6\" class=\"data row2 col6\" >0.7044</td>\n",
       "    </tr>\n",
       "    <tr>\n",
       "      <th id=\"T_b82be_level0_row3\" class=\"row_heading level0 row3\" >3</th>\n",
       "      <td id=\"T_b82be_row3_col0\" class=\"data row3 col0\" >0.8779</td>\n",
       "      <td id=\"T_b82be_row3_col1\" class=\"data row3 col1\" >0.9251</td>\n",
       "      <td id=\"T_b82be_row3_col2\" class=\"data row3 col2\" >0.8313</td>\n",
       "      <td id=\"T_b82be_row3_col3\" class=\"data row3 col3\" >0.7670</td>\n",
       "      <td id=\"T_b82be_row3_col4\" class=\"data row3 col4\" >0.7979</td>\n",
       "      <td id=\"T_b82be_row3_col5\" class=\"data row3 col5\" >0.7106</td>\n",
       "      <td id=\"T_b82be_row3_col6\" class=\"data row3 col6\" >0.7117</td>\n",
       "    </tr>\n",
       "    <tr>\n",
       "      <th id=\"T_b82be_level0_row4\" class=\"row_heading level0 row4\" >4</th>\n",
       "      <td id=\"T_b82be_row4_col0\" class=\"data row4 col0\" >0.8817</td>\n",
       "      <td id=\"T_b82be_row4_col1\" class=\"data row4 col1\" >0.9279</td>\n",
       "      <td id=\"T_b82be_row4_col2\" class=\"data row4 col2\" >0.8379</td>\n",
       "      <td id=\"T_b82be_row4_col3\" class=\"data row4 col3\" >0.7732</td>\n",
       "      <td id=\"T_b82be_row4_col4\" class=\"data row4 col4\" >0.8043</td>\n",
       "      <td id=\"T_b82be_row4_col5\" class=\"data row4 col5\" >0.7197</td>\n",
       "      <td id=\"T_b82be_row4_col6\" class=\"data row4 col6\" >0.7209</td>\n",
       "    </tr>\n",
       "    <tr>\n",
       "      <th id=\"T_b82be_level0_row5\" class=\"row_heading level0 row5\" >Mean</th>\n",
       "      <td id=\"T_b82be_row5_col0\" class=\"data row5 col0\" >0.8790</td>\n",
       "      <td id=\"T_b82be_row5_col1\" class=\"data row5 col1\" >0.9248</td>\n",
       "      <td id=\"T_b82be_row5_col2\" class=\"data row5 col2\" >0.8356</td>\n",
       "      <td id=\"T_b82be_row5_col3\" class=\"data row5 col3\" >0.7678</td>\n",
       "      <td id=\"T_b82be_row5_col4\" class=\"data row5 col4\" >0.8003</td>\n",
       "      <td id=\"T_b82be_row5_col5\" class=\"data row5 col5\" >0.7137</td>\n",
       "      <td id=\"T_b82be_row5_col6\" class=\"data row5 col6\" >0.7151</td>\n",
       "    </tr>\n",
       "    <tr>\n",
       "      <th id=\"T_b82be_level0_row6\" class=\"row_heading level0 row6\" >Std</th>\n",
       "      <td id=\"T_b82be_row6_col0\" class=\"data row6 col0\" >0.0029</td>\n",
       "      <td id=\"T_b82be_row6_col1\" class=\"data row6 col1\" >0.0024</td>\n",
       "      <td id=\"T_b82be_row6_col2\" class=\"data row6 col2\" >0.0058</td>\n",
       "      <td id=\"T_b82be_row6_col3\" class=\"data row6 col3\" >0.0058</td>\n",
       "      <td id=\"T_b82be_row6_col4\" class=\"data row6 col4\" >0.0045</td>\n",
       "      <td id=\"T_b82be_row6_col5\" class=\"data row6 col5\" >0.0066</td>\n",
       "      <td id=\"T_b82be_row6_col6\" class=\"data row6 col6\" >0.0065</td>\n",
       "    </tr>\n",
       "  </tbody>\n",
       "</table>\n"
      ],
      "text/plain": [
       "<pandas.io.formats.style.Styler at 0x7fd7368abbe0>"
      ]
     },
     "metadata": {},
     "output_type": "display_data"
    },
    {
     "data": {
      "application/vnd.jupyter.widget-view+json": {
       "model_id": "",
       "version_major": 2,
       "version_minor": 0
      },
      "text/plain": [
       "Processing:   0%|          | 0/4 [00:00<?, ?it/s]"
      ]
     },
     "metadata": {},
     "output_type": "display_data"
    },
    {
     "data": {
      "text/html": [],
      "text/plain": [
       "<IPython.core.display.HTML object>"
      ]
     },
     "metadata": {},
     "output_type": "display_data"
    },
    {
     "data": {
      "text/html": [
       "<style type=\"text/css\">\n",
       "#T_249f7_row5_col0, #T_249f7_row5_col1, #T_249f7_row5_col2, #T_249f7_row5_col3, #T_249f7_row5_col4, #T_249f7_row5_col5, #T_249f7_row5_col6 {\n",
       "  background: yellow;\n",
       "}\n",
       "</style>\n",
       "<table id=\"T_249f7\">\n",
       "  <thead>\n",
       "    <tr>\n",
       "      <th class=\"blank level0\" >&nbsp;</th>\n",
       "      <th id=\"T_249f7_level0_col0\" class=\"col_heading level0 col0\" >Accuracy</th>\n",
       "      <th id=\"T_249f7_level0_col1\" class=\"col_heading level0 col1\" >AUC</th>\n",
       "      <th id=\"T_249f7_level0_col2\" class=\"col_heading level0 col2\" >Recall</th>\n",
       "      <th id=\"T_249f7_level0_col3\" class=\"col_heading level0 col3\" >Prec.</th>\n",
       "      <th id=\"T_249f7_level0_col4\" class=\"col_heading level0 col4\" >F1</th>\n",
       "      <th id=\"T_249f7_level0_col5\" class=\"col_heading level0 col5\" >Kappa</th>\n",
       "      <th id=\"T_249f7_level0_col6\" class=\"col_heading level0 col6\" >MCC</th>\n",
       "    </tr>\n",
       "    <tr>\n",
       "      <th class=\"index_name level0\" >Fold</th>\n",
       "      <th class=\"blank col0\" >&nbsp;</th>\n",
       "      <th class=\"blank col1\" >&nbsp;</th>\n",
       "      <th class=\"blank col2\" >&nbsp;</th>\n",
       "      <th class=\"blank col3\" >&nbsp;</th>\n",
       "      <th class=\"blank col4\" >&nbsp;</th>\n",
       "      <th class=\"blank col5\" >&nbsp;</th>\n",
       "      <th class=\"blank col6\" >&nbsp;</th>\n",
       "    </tr>\n",
       "  </thead>\n",
       "  <tbody>\n",
       "    <tr>\n",
       "      <th id=\"T_249f7_level0_row0\" class=\"row_heading level0 row0\" >0</th>\n",
       "      <td id=\"T_249f7_row0_col0\" class=\"data row0 col0\" >0.8700</td>\n",
       "      <td id=\"T_249f7_row0_col1\" class=\"data row0 col1\" >0.9233</td>\n",
       "      <td id=\"T_249f7_row0_col2\" class=\"data row0 col2\" >0.8500</td>\n",
       "      <td id=\"T_249f7_row0_col3\" class=\"data row0 col3\" >0.7402</td>\n",
       "      <td id=\"T_249f7_row0_col4\" class=\"data row0 col4\" >0.7913</td>\n",
       "      <td id=\"T_249f7_row0_col5\" class=\"data row0 col5\" >0.6975</td>\n",
       "      <td id=\"T_249f7_row0_col6\" class=\"data row0 col6\" >0.7011</td>\n",
       "    </tr>\n",
       "    <tr>\n",
       "      <th id=\"T_249f7_level0_row1\" class=\"row_heading level0 row1\" >1</th>\n",
       "      <td id=\"T_249f7_row1_col0\" class=\"data row1 col0\" >0.8715</td>\n",
       "      <td id=\"T_249f7_row1_col1\" class=\"data row1 col1\" >0.9196</td>\n",
       "      <td id=\"T_249f7_row1_col2\" class=\"data row1 col2\" >0.8889</td>\n",
       "      <td id=\"T_249f7_row1_col3\" class=\"data row1 col3\" >0.7281</td>\n",
       "      <td id=\"T_249f7_row1_col4\" class=\"data row1 col4\" >0.8005</td>\n",
       "      <td id=\"T_249f7_row1_col5\" class=\"data row1 col5\" >0.7071</td>\n",
       "      <td id=\"T_249f7_row1_col6\" class=\"data row1 col6\" >0.7148</td>\n",
       "    </tr>\n",
       "    <tr>\n",
       "      <th id=\"T_249f7_level0_row2\" class=\"row_heading level0 row2\" >2</th>\n",
       "      <td id=\"T_249f7_row2_col0\" class=\"data row2 col0\" >0.8681</td>\n",
       "      <td id=\"T_249f7_row2_col1\" class=\"data row2 col1\" >0.9184</td>\n",
       "      <td id=\"T_249f7_row2_col2\" class=\"data row2 col2\" >0.8660</td>\n",
       "      <td id=\"T_249f7_row2_col3\" class=\"data row2 col3\" >0.7298</td>\n",
       "      <td id=\"T_249f7_row2_col4\" class=\"data row2 col4\" >0.7921</td>\n",
       "      <td id=\"T_249f7_row2_col5\" class=\"data row2 col5\" >0.6966</td>\n",
       "      <td id=\"T_249f7_row2_col6\" class=\"data row2 col6\" >0.7020</td>\n",
       "    </tr>\n",
       "    <tr>\n",
       "      <th id=\"T_249f7_level0_row3\" class=\"row_heading level0 row3\" >3</th>\n",
       "      <td id=\"T_249f7_row3_col0\" class=\"data row3 col0\" >0.8656</td>\n",
       "      <td id=\"T_249f7_row3_col1\" class=\"data row3 col1\" >0.9192</td>\n",
       "      <td id=\"T_249f7_row3_col2\" class=\"data row3 col2\" >0.8682</td>\n",
       "      <td id=\"T_249f7_row3_col3\" class=\"data row3 col3\" >0.7235</td>\n",
       "      <td id=\"T_249f7_row3_col4\" class=\"data row3 col4\" >0.7893</td>\n",
       "      <td id=\"T_249f7_row3_col5\" class=\"data row3 col5\" >0.6918</td>\n",
       "      <td id=\"T_249f7_row3_col6\" class=\"data row3 col6\" >0.6980</td>\n",
       "    </tr>\n",
       "    <tr>\n",
       "      <th id=\"T_249f7_level0_row4\" class=\"row_heading level0 row4\" >4</th>\n",
       "      <td id=\"T_249f7_row4_col0\" class=\"data row4 col0\" >0.8747</td>\n",
       "      <td id=\"T_249f7_row4_col1\" class=\"data row4 col1\" >0.9237</td>\n",
       "      <td id=\"T_249f7_row4_col2\" class=\"data row4 col2\" >0.8776</td>\n",
       "      <td id=\"T_249f7_row4_col3\" class=\"data row4 col3\" >0.7392</td>\n",
       "      <td id=\"T_249f7_row4_col4\" class=\"data row4 col4\" >0.8025</td>\n",
       "      <td id=\"T_249f7_row4_col5\" class=\"data row4 col5\" >0.7117</td>\n",
       "      <td id=\"T_249f7_row4_col6\" class=\"data row4 col6\" >0.7173</td>\n",
       "    </tr>\n",
       "    <tr>\n",
       "      <th id=\"T_249f7_level0_row5\" class=\"row_heading level0 row5\" >Mean</th>\n",
       "      <td id=\"T_249f7_row5_col0\" class=\"data row5 col0\" >0.8700</td>\n",
       "      <td id=\"T_249f7_row5_col1\" class=\"data row5 col1\" >0.9208</td>\n",
       "      <td id=\"T_249f7_row5_col2\" class=\"data row5 col2\" >0.8701</td>\n",
       "      <td id=\"T_249f7_row5_col3\" class=\"data row5 col3\" >0.7321</td>\n",
       "      <td id=\"T_249f7_row5_col4\" class=\"data row5 col4\" >0.7951</td>\n",
       "      <td id=\"T_249f7_row5_col5\" class=\"data row5 col5\" >0.7009</td>\n",
       "      <td id=\"T_249f7_row5_col6\" class=\"data row5 col6\" >0.7066</td>\n",
       "    </tr>\n",
       "    <tr>\n",
       "      <th id=\"T_249f7_level0_row6\" class=\"row_heading level0 row6\" >Std</th>\n",
       "      <td id=\"T_249f7_row6_col0\" class=\"data row6 col0\" >0.0031</td>\n",
       "      <td id=\"T_249f7_row6_col1\" class=\"data row6 col1\" >0.0022</td>\n",
       "      <td id=\"T_249f7_row6_col2\" class=\"data row6 col2\" >0.0129</td>\n",
       "      <td id=\"T_249f7_row6_col3\" class=\"data row6 col3\" >0.0065</td>\n",
       "      <td id=\"T_249f7_row6_col4\" class=\"data row6 col4\" >0.0053</td>\n",
       "      <td id=\"T_249f7_row6_col5\" class=\"data row6 col5\" >0.0073</td>\n",
       "      <td id=\"T_249f7_row6_col6\" class=\"data row6 col6\" >0.0078</td>\n",
       "    </tr>\n",
       "  </tbody>\n",
       "</table>\n"
      ],
      "text/plain": [
       "<pandas.io.formats.style.Styler at 0x7fd6c2dfce80>"
      ]
     },
     "metadata": {},
     "output_type": "display_data"
    },
    {
     "data": {
      "application/vnd.jupyter.widget-view+json": {
       "model_id": "",
       "version_major": 2,
       "version_minor": 0
      },
      "text/plain": [
       "Processing:   0%|          | 0/7 [00:00<?, ?it/s]"
      ]
     },
     "metadata": {},
     "output_type": "display_data"
    },
    {
     "name": "stdout",
     "output_type": "stream",
     "text": [
      "Fitting 5 folds for each of 10 candidates, totalling 50 fits\n",
      "Original model was better than the tuned model, hence it will be returned. NOTE: The display metrics are for the tuned model (not the original one).\n"
     ]
    },
    {
     "data": {
      "text/html": [],
      "text/plain": [
       "<IPython.core.display.HTML object>"
      ]
     },
     "metadata": {},
     "output_type": "display_data"
    },
    {
     "data": {
      "text/html": [],
      "text/plain": [
       "<IPython.core.display.HTML object>"
      ]
     },
     "metadata": {},
     "output_type": "display_data"
    },
    {
     "data": {
      "text/html": [],
      "text/plain": [
       "<IPython.core.display.HTML object>"
      ]
     },
     "metadata": {},
     "output_type": "display_data"
    },
    {
     "name": "stdout",
     "output_type": "stream",
     "text": [
      "Transformation Pipeline and Model Successfully Saved\n",
      "ada\n"
     ]
    },
    {
     "data": {
      "text/html": [],
      "text/plain": [
       "<IPython.core.display.HTML object>"
      ]
     },
     "metadata": {},
     "output_type": "display_data"
    },
    {
     "data": {
      "text/html": [
       "<style type=\"text/css\">\n",
       "#T_37f80_row5_col0, #T_37f80_row5_col1, #T_37f80_row5_col2, #T_37f80_row5_col3, #T_37f80_row5_col4, #T_37f80_row5_col5, #T_37f80_row5_col6 {\n",
       "  background: yellow;\n",
       "}\n",
       "</style>\n",
       "<table id=\"T_37f80\">\n",
       "  <thead>\n",
       "    <tr>\n",
       "      <th class=\"blank level0\" >&nbsp;</th>\n",
       "      <th id=\"T_37f80_level0_col0\" class=\"col_heading level0 col0\" >Accuracy</th>\n",
       "      <th id=\"T_37f80_level0_col1\" class=\"col_heading level0 col1\" >AUC</th>\n",
       "      <th id=\"T_37f80_level0_col2\" class=\"col_heading level0 col2\" >Recall</th>\n",
       "      <th id=\"T_37f80_level0_col3\" class=\"col_heading level0 col3\" >Prec.</th>\n",
       "      <th id=\"T_37f80_level0_col4\" class=\"col_heading level0 col4\" >F1</th>\n",
       "      <th id=\"T_37f80_level0_col5\" class=\"col_heading level0 col5\" >Kappa</th>\n",
       "      <th id=\"T_37f80_level0_col6\" class=\"col_heading level0 col6\" >MCC</th>\n",
       "    </tr>\n",
       "    <tr>\n",
       "      <th class=\"index_name level0\" >Fold</th>\n",
       "      <th class=\"blank col0\" >&nbsp;</th>\n",
       "      <th class=\"blank col1\" >&nbsp;</th>\n",
       "      <th class=\"blank col2\" >&nbsp;</th>\n",
       "      <th class=\"blank col3\" >&nbsp;</th>\n",
       "      <th class=\"blank col4\" >&nbsp;</th>\n",
       "      <th class=\"blank col5\" >&nbsp;</th>\n",
       "      <th class=\"blank col6\" >&nbsp;</th>\n",
       "    </tr>\n",
       "  </thead>\n",
       "  <tbody>\n",
       "    <tr>\n",
       "      <th id=\"T_37f80_level0_row0\" class=\"row_heading level0 row0\" >0</th>\n",
       "      <td id=\"T_37f80_row0_col0\" class=\"data row0 col0\" >0.8651</td>\n",
       "      <td id=\"T_37f80_row0_col1\" class=\"data row0 col1\" >0.9222</td>\n",
       "      <td id=\"T_37f80_row0_col2\" class=\"data row0 col2\" >0.8842</td>\n",
       "      <td id=\"T_37f80_row0_col3\" class=\"data row0 col3\" >0.7168</td>\n",
       "      <td id=\"T_37f80_row0_col4\" class=\"data row0 col4\" >0.7917</td>\n",
       "      <td id=\"T_37f80_row0_col5\" class=\"data row0 col5\" >0.6936</td>\n",
       "      <td id=\"T_37f80_row0_col6\" class=\"data row0 col6\" >0.7020</td>\n",
       "    </tr>\n",
       "    <tr>\n",
       "      <th id=\"T_37f80_level0_row1\" class=\"row_heading level0 row1\" >1</th>\n",
       "      <td id=\"T_37f80_row1_col0\" class=\"data row1 col0\" >0.8604</td>\n",
       "      <td id=\"T_37f80_row1_col1\" class=\"data row1 col1\" >0.9164</td>\n",
       "      <td id=\"T_37f80_row1_col2\" class=\"data row1 col2\" >0.8855</td>\n",
       "      <td id=\"T_37f80_row1_col3\" class=\"data row1 col3\" >0.7071</td>\n",
       "      <td id=\"T_37f80_row1_col4\" class=\"data row1 col4\" >0.7863</td>\n",
       "      <td id=\"T_37f80_row1_col5\" class=\"data row1 col5\" >0.6846</td>\n",
       "      <td id=\"T_37f80_row1_col6\" class=\"data row1 col6\" >0.6941</td>\n",
       "    </tr>\n",
       "    <tr>\n",
       "      <th id=\"T_37f80_level0_row2\" class=\"row_heading level0 row2\" >2</th>\n",
       "      <td id=\"T_37f80_row2_col0\" class=\"data row2 col0\" >0.8592</td>\n",
       "      <td id=\"T_37f80_row2_col1\" class=\"data row2 col1\" >0.9164</td>\n",
       "      <td id=\"T_37f80_row2_col2\" class=\"data row2 col2\" >0.8813</td>\n",
       "      <td id=\"T_37f80_row2_col3\" class=\"data row2 col3\" >0.7061</td>\n",
       "      <td id=\"T_37f80_row2_col4\" class=\"data row2 col4\" >0.7840</td>\n",
       "      <td id=\"T_37f80_row2_col5\" class=\"data row2 col5\" >0.6815</td>\n",
       "      <td id=\"T_37f80_row2_col6\" class=\"data row2 col6\" >0.6907</td>\n",
       "    </tr>\n",
       "    <tr>\n",
       "      <th id=\"T_37f80_level0_row3\" class=\"row_heading level0 row3\" >3</th>\n",
       "      <td id=\"T_37f80_row3_col0\" class=\"data row3 col0\" >0.8629</td>\n",
       "      <td id=\"T_37f80_row3_col1\" class=\"data row3 col1\" >0.9116</td>\n",
       "      <td id=\"T_37f80_row3_col2\" class=\"data row3 col2\" >0.8672</td>\n",
       "      <td id=\"T_37f80_row3_col3\" class=\"data row3 col3\" >0.7183</td>\n",
       "      <td id=\"T_37f80_row3_col4\" class=\"data row3 col4\" >0.7858</td>\n",
       "      <td id=\"T_37f80_row3_col5\" class=\"data row3 col5\" >0.6862</td>\n",
       "      <td id=\"T_37f80_row3_col6\" class=\"data row3 col6\" >0.6928</td>\n",
       "    </tr>\n",
       "    <tr>\n",
       "      <th id=\"T_37f80_level0_row4\" class=\"row_heading level0 row4\" >4</th>\n",
       "      <td id=\"T_37f80_row4_col0\" class=\"data row4 col0\" >0.7904</td>\n",
       "      <td id=\"T_37f80_row4_col1\" class=\"data row4 col1\" >0.8986</td>\n",
       "      <td id=\"T_37f80_row4_col2\" class=\"data row4 col2\" >0.9278</td>\n",
       "      <td id=\"T_37f80_row4_col3\" class=\"data row4 col3\" >0.5878</td>\n",
       "      <td id=\"T_37f80_row4_col4\" class=\"data row4 col4\" >0.7196</td>\n",
       "      <td id=\"T_37f80_row4_col5\" class=\"data row4 col5\" >0.5653</td>\n",
       "      <td id=\"T_37f80_row4_col6\" class=\"data row4 col6\" >0.6030</td>\n",
       "    </tr>\n",
       "    <tr>\n",
       "      <th id=\"T_37f80_level0_row5\" class=\"row_heading level0 row5\" >Mean</th>\n",
       "      <td id=\"T_37f80_row5_col0\" class=\"data row5 col0\" >0.8476</td>\n",
       "      <td id=\"T_37f80_row5_col1\" class=\"data row5 col1\" >0.9130</td>\n",
       "      <td id=\"T_37f80_row5_col2\" class=\"data row5 col2\" >0.8892</td>\n",
       "      <td id=\"T_37f80_row5_col3\" class=\"data row5 col3\" >0.6872</td>\n",
       "      <td id=\"T_37f80_row5_col4\" class=\"data row5 col4\" >0.7735</td>\n",
       "      <td id=\"T_37f80_row5_col5\" class=\"data row5 col5\" >0.6622</td>\n",
       "      <td id=\"T_37f80_row5_col6\" class=\"data row5 col6\" >0.6765</td>\n",
       "    </tr>\n",
       "    <tr>\n",
       "      <th id=\"T_37f80_level0_row6\" class=\"row_heading level0 row6\" >Std</th>\n",
       "      <td id=\"T_37f80_row6_col0\" class=\"data row6 col0\" >0.0287</td>\n",
       "      <td id=\"T_37f80_row6_col1\" class=\"data row6 col1\" >0.0079</td>\n",
       "      <td id=\"T_37f80_row6_col2\" class=\"data row6 col2\" >0.0204</td>\n",
       "      <td id=\"T_37f80_row6_col3\" class=\"data row6 col3\" >0.0500</td>\n",
       "      <td id=\"T_37f80_row6_col4\" class=\"data row6 col4\" >0.0271</td>\n",
       "      <td id=\"T_37f80_row6_col5\" class=\"data row6 col5\" >0.0486</td>\n",
       "      <td id=\"T_37f80_row6_col6\" class=\"data row6 col6\" >0.0370</td>\n",
       "    </tr>\n",
       "  </tbody>\n",
       "</table>\n"
      ],
      "text/plain": [
       "<pandas.io.formats.style.Styler at 0x7fd6c314c700>"
      ]
     },
     "metadata": {},
     "output_type": "display_data"
    },
    {
     "data": {
      "application/vnd.jupyter.widget-view+json": {
       "model_id": "",
       "version_major": 2,
       "version_minor": 0
      },
      "text/plain": [
       "Processing:   0%|          | 0/4 [00:00<?, ?it/s]"
      ]
     },
     "metadata": {},
     "output_type": "display_data"
    },
    {
     "data": {
      "text/html": [],
      "text/plain": [
       "<IPython.core.display.HTML object>"
      ]
     },
     "metadata": {},
     "output_type": "display_data"
    },
    {
     "data": {
      "text/html": [
       "<style type=\"text/css\">\n",
       "#T_ea03f_row5_col0, #T_ea03f_row5_col1, #T_ea03f_row5_col2, #T_ea03f_row5_col3, #T_ea03f_row5_col4, #T_ea03f_row5_col5, #T_ea03f_row5_col6 {\n",
       "  background: yellow;\n",
       "}\n",
       "</style>\n",
       "<table id=\"T_ea03f\">\n",
       "  <thead>\n",
       "    <tr>\n",
       "      <th class=\"blank level0\" >&nbsp;</th>\n",
       "      <th id=\"T_ea03f_level0_col0\" class=\"col_heading level0 col0\" >Accuracy</th>\n",
       "      <th id=\"T_ea03f_level0_col1\" class=\"col_heading level0 col1\" >AUC</th>\n",
       "      <th id=\"T_ea03f_level0_col2\" class=\"col_heading level0 col2\" >Recall</th>\n",
       "      <th id=\"T_ea03f_level0_col3\" class=\"col_heading level0 col3\" >Prec.</th>\n",
       "      <th id=\"T_ea03f_level0_col4\" class=\"col_heading level0 col4\" >F1</th>\n",
       "      <th id=\"T_ea03f_level0_col5\" class=\"col_heading level0 col5\" >Kappa</th>\n",
       "      <th id=\"T_ea03f_level0_col6\" class=\"col_heading level0 col6\" >MCC</th>\n",
       "    </tr>\n",
       "    <tr>\n",
       "      <th class=\"index_name level0\" >Fold</th>\n",
       "      <th class=\"blank col0\" >&nbsp;</th>\n",
       "      <th class=\"blank col1\" >&nbsp;</th>\n",
       "      <th class=\"blank col2\" >&nbsp;</th>\n",
       "      <th class=\"blank col3\" >&nbsp;</th>\n",
       "      <th class=\"blank col4\" >&nbsp;</th>\n",
       "      <th class=\"blank col5\" >&nbsp;</th>\n",
       "      <th class=\"blank col6\" >&nbsp;</th>\n",
       "    </tr>\n",
       "  </thead>\n",
       "  <tbody>\n",
       "    <tr>\n",
       "      <th id=\"T_ea03f_level0_row0\" class=\"row_heading level0 row0\" >0</th>\n",
       "      <td id=\"T_ea03f_row0_col0\" class=\"data row0 col0\" >0.8614</td>\n",
       "      <td id=\"T_ea03f_row0_col1\" class=\"data row0 col1\" >0.9272</td>\n",
       "      <td id=\"T_ea03f_row0_col2\" class=\"data row0 col2\" >0.8975</td>\n",
       "      <td id=\"T_ea03f_row0_col3\" class=\"data row0 col3\" >0.7049</td>\n",
       "      <td id=\"T_ea03f_row0_col4\" class=\"data row0 col4\" >0.7896</td>\n",
       "      <td id=\"T_ea03f_row0_col5\" class=\"data row0 col5\" >0.6885</td>\n",
       "      <td id=\"T_ea03f_row0_col6\" class=\"data row0 col6\" >0.6996</td>\n",
       "    </tr>\n",
       "    <tr>\n",
       "      <th id=\"T_ea03f_level0_row1\" class=\"row_heading level0 row1\" >1</th>\n",
       "      <td id=\"T_ea03f_row1_col0\" class=\"data row1 col0\" >0.8616</td>\n",
       "      <td id=\"T_ea03f_row1_col1\" class=\"data row1 col1\" >0.9229</td>\n",
       "      <td id=\"T_ea03f_row1_col2\" class=\"data row1 col2\" >0.8931</td>\n",
       "      <td id=\"T_ea03f_row1_col3\" class=\"data row1 col3\" >0.7070</td>\n",
       "      <td id=\"T_ea03f_row1_col4\" class=\"data row1 col4\" >0.7892</td>\n",
       "      <td id=\"T_ea03f_row1_col5\" class=\"data row1 col5\" >0.6883</td>\n",
       "      <td id=\"T_ea03f_row1_col6\" class=\"data row1 col6\" >0.6987</td>\n",
       "    </tr>\n",
       "    <tr>\n",
       "      <th id=\"T_ea03f_level0_row2\" class=\"row_heading level0 row2\" >2</th>\n",
       "      <td id=\"T_ea03f_row2_col0\" class=\"data row2 col0\" >0.8590</td>\n",
       "      <td id=\"T_ea03f_row2_col1\" class=\"data row2 col1\" >0.9238</td>\n",
       "      <td id=\"T_ea03f_row2_col2\" class=\"data row2 col2\" >0.9005</td>\n",
       "      <td id=\"T_ea03f_row2_col3\" class=\"data row2 col3\" >0.6996</td>\n",
       "      <td id=\"T_ea03f_row2_col4\" class=\"data row2 col4\" >0.7874</td>\n",
       "      <td id=\"T_ea03f_row2_col5\" class=\"data row2 col5\" >0.6844</td>\n",
       "      <td id=\"T_ea03f_row2_col6\" class=\"data row2 col6\" >0.6966</td>\n",
       "    </tr>\n",
       "    <tr>\n",
       "      <th id=\"T_ea03f_level0_row3\" class=\"row_heading level0 row3\" >3</th>\n",
       "      <td id=\"T_ea03f_row3_col0\" class=\"data row3 col0\" >0.8617</td>\n",
       "      <td id=\"T_ea03f_row3_col1\" class=\"data row3 col1\" >0.9214</td>\n",
       "      <td id=\"T_ea03f_row3_col2\" class=\"data row3 col2\" >0.8938</td>\n",
       "      <td id=\"T_ea03f_row3_col3\" class=\"data row3 col3\" >0.7069</td>\n",
       "      <td id=\"T_ea03f_row3_col4\" class=\"data row3 col4\" >0.7894</td>\n",
       "      <td id=\"T_ea03f_row3_col5\" class=\"data row3 col5\" >0.6886</td>\n",
       "      <td id=\"T_ea03f_row3_col6\" class=\"data row3 col6\" >0.6991</td>\n",
       "    </tr>\n",
       "    <tr>\n",
       "      <th id=\"T_ea03f_level0_row4\" class=\"row_heading level0 row4\" >4</th>\n",
       "      <td id=\"T_ea03f_row4_col0\" class=\"data row4 col0\" >0.8022</td>\n",
       "      <td id=\"T_ea03f_row4_col1\" class=\"data row4 col1\" >0.9178</td>\n",
       "      <td id=\"T_ea03f_row4_col2\" class=\"data row4 col2\" >0.9340</td>\n",
       "      <td id=\"T_ea03f_row4_col3\" class=\"data row4 col3\" >0.6026</td>\n",
       "      <td id=\"T_ea03f_row4_col4\" class=\"data row4 col4\" >0.7325</td>\n",
       "      <td id=\"T_ea03f_row4_col5\" class=\"data row4 col5\" >0.5869</td>\n",
       "      <td id=\"T_ea03f_row4_col6\" class=\"data row4 col6\" >0.6225</td>\n",
       "    </tr>\n",
       "    <tr>\n",
       "      <th id=\"T_ea03f_level0_row5\" class=\"row_heading level0 row5\" >Mean</th>\n",
       "      <td id=\"T_ea03f_row5_col0\" class=\"data row5 col0\" >0.8492</td>\n",
       "      <td id=\"T_ea03f_row5_col1\" class=\"data row5 col1\" >0.9226</td>\n",
       "      <td id=\"T_ea03f_row5_col2\" class=\"data row5 col2\" >0.9038</td>\n",
       "      <td id=\"T_ea03f_row5_col3\" class=\"data row5 col3\" >0.6842</td>\n",
       "      <td id=\"T_ea03f_row5_col4\" class=\"data row5 col4\" >0.7776</td>\n",
       "      <td id=\"T_ea03f_row5_col5\" class=\"data row5 col5\" >0.6673</td>\n",
       "      <td id=\"T_ea03f_row5_col6\" class=\"data row5 col6\" >0.6833</td>\n",
       "    </tr>\n",
       "    <tr>\n",
       "      <th id=\"T_ea03f_level0_row6\" class=\"row_heading level0 row6\" >Std</th>\n",
       "      <td id=\"T_ea03f_row6_col0\" class=\"data row6 col0\" >0.0235</td>\n",
       "      <td id=\"T_ea03f_row6_col1\" class=\"data row6 col1\" >0.0031</td>\n",
       "      <td id=\"T_ea03f_row6_col2\" class=\"data row6 col2\" >0.0153</td>\n",
       "      <td id=\"T_ea03f_row6_col3\" class=\"data row6 col3\" >0.0409</td>\n",
       "      <td id=\"T_ea03f_row6_col4\" class=\"data row6 col4\" >0.0226</td>\n",
       "      <td id=\"T_ea03f_row6_col5\" class=\"data row6 col5\" >0.0402</td>\n",
       "      <td id=\"T_ea03f_row6_col6\" class=\"data row6 col6\" >0.0304</td>\n",
       "    </tr>\n",
       "  </tbody>\n",
       "</table>\n"
      ],
      "text/plain": [
       "<pandas.io.formats.style.Styler at 0x7fd7368a83a0>"
      ]
     },
     "metadata": {},
     "output_type": "display_data"
    },
    {
     "data": {
      "application/vnd.jupyter.widget-view+json": {
       "model_id": "",
       "version_major": 2,
       "version_minor": 0
      },
      "text/plain": [
       "Processing:   0%|          | 0/7 [00:00<?, ?it/s]"
      ]
     },
     "metadata": {},
     "output_type": "display_data"
    },
    {
     "name": "stdout",
     "output_type": "stream",
     "text": [
      "Fitting 5 folds for each of 10 candidates, totalling 50 fits\n"
     ]
    },
    {
     "data": {
      "text/html": [],
      "text/plain": [
       "<IPython.core.display.HTML object>"
      ]
     },
     "metadata": {},
     "output_type": "display_data"
    },
    {
     "data": {
      "text/html": [],
      "text/plain": [
       "<IPython.core.display.HTML object>"
      ]
     },
     "metadata": {},
     "output_type": "display_data"
    },
    {
     "data": {
      "text/html": [],
      "text/plain": [
       "<IPython.core.display.HTML object>"
      ]
     },
     "metadata": {},
     "output_type": "display_data"
    },
    {
     "name": "stdout",
     "output_type": "stream",
     "text": [
      "Transformation Pipeline and Model Successfully Saved\n",
      "lightgbm\n"
     ]
    },
    {
     "data": {
      "text/html": [],
      "text/plain": [
       "<IPython.core.display.HTML object>"
      ]
     },
     "metadata": {},
     "output_type": "display_data"
    },
    {
     "data": {
      "text/html": [
       "<style type=\"text/css\">\n",
       "#T_ab7a8_row5_col0, #T_ab7a8_row5_col1, #T_ab7a8_row5_col2, #T_ab7a8_row5_col3, #T_ab7a8_row5_col4, #T_ab7a8_row5_col5, #T_ab7a8_row5_col6 {\n",
       "  background: yellow;\n",
       "}\n",
       "</style>\n",
       "<table id=\"T_ab7a8\">\n",
       "  <thead>\n",
       "    <tr>\n",
       "      <th class=\"blank level0\" >&nbsp;</th>\n",
       "      <th id=\"T_ab7a8_level0_col0\" class=\"col_heading level0 col0\" >Accuracy</th>\n",
       "      <th id=\"T_ab7a8_level0_col1\" class=\"col_heading level0 col1\" >AUC</th>\n",
       "      <th id=\"T_ab7a8_level0_col2\" class=\"col_heading level0 col2\" >Recall</th>\n",
       "      <th id=\"T_ab7a8_level0_col3\" class=\"col_heading level0 col3\" >Prec.</th>\n",
       "      <th id=\"T_ab7a8_level0_col4\" class=\"col_heading level0 col4\" >F1</th>\n",
       "      <th id=\"T_ab7a8_level0_col5\" class=\"col_heading level0 col5\" >Kappa</th>\n",
       "      <th id=\"T_ab7a8_level0_col6\" class=\"col_heading level0 col6\" >MCC</th>\n",
       "    </tr>\n",
       "    <tr>\n",
       "      <th class=\"index_name level0\" >Fold</th>\n",
       "      <th class=\"blank col0\" >&nbsp;</th>\n",
       "      <th class=\"blank col1\" >&nbsp;</th>\n",
       "      <th class=\"blank col2\" >&nbsp;</th>\n",
       "      <th class=\"blank col3\" >&nbsp;</th>\n",
       "      <th class=\"blank col4\" >&nbsp;</th>\n",
       "      <th class=\"blank col5\" >&nbsp;</th>\n",
       "      <th class=\"blank col6\" >&nbsp;</th>\n",
       "    </tr>\n",
       "  </thead>\n",
       "  <tbody>\n",
       "    <tr>\n",
       "      <th id=\"T_ab7a8_level0_row0\" class=\"row_heading level0 row0\" >0</th>\n",
       "      <td id=\"T_ab7a8_row0_col0\" class=\"data row0 col0\" >0.8216</td>\n",
       "      <td id=\"T_ab7a8_row0_col1\" class=\"data row0 col1\" >0.8715</td>\n",
       "      <td id=\"T_ab7a8_row0_col2\" class=\"data row0 col2\" >0.6543</td>\n",
       "      <td id=\"T_ab7a8_row0_col3\" class=\"data row0 col3\" >0.7081</td>\n",
       "      <td id=\"T_ab7a8_row0_col4\" class=\"data row0 col4\" >0.6802</td>\n",
       "      <td id=\"T_ab7a8_row0_col5\" class=\"data row0 col5\" >0.5567</td>\n",
       "      <td id=\"T_ab7a8_row0_col6\" class=\"data row0 col6\" >0.5575</td>\n",
       "    </tr>\n",
       "    <tr>\n",
       "      <th id=\"T_ab7a8_level0_row1\" class=\"row_heading level0 row1\" >1</th>\n",
       "      <td id=\"T_ab7a8_row1_col0\" class=\"data row1 col0\" >0.8081</td>\n",
       "      <td id=\"T_ab7a8_row1_col1\" class=\"data row1 col1\" >0.8592</td>\n",
       "      <td id=\"T_ab7a8_row1_col2\" class=\"data row1 col2\" >0.6687</td>\n",
       "      <td id=\"T_ab7a8_row1_col3\" class=\"data row1 col3\" >0.6694</td>\n",
       "      <td id=\"T_ab7a8_row1_col4\" class=\"data row1 col4\" >0.6690</td>\n",
       "      <td id=\"T_ab7a8_row1_col5\" class=\"data row1 col5\" >0.5340</td>\n",
       "      <td id=\"T_ab7a8_row1_col6\" class=\"data row1 col6\" >0.5340</td>\n",
       "    </tr>\n",
       "    <tr>\n",
       "      <th id=\"T_ab7a8_level0_row2\" class=\"row_heading level0 row2\" >2</th>\n",
       "      <td id=\"T_ab7a8_row2_col0\" class=\"data row2 col0\" >0.8042</td>\n",
       "      <td id=\"T_ab7a8_row2_col1\" class=\"data row2 col1\" >0.8567</td>\n",
       "      <td id=\"T_ab7a8_row2_col2\" class=\"data row2 col2\" >0.7478</td>\n",
       "      <td id=\"T_ab7a8_row2_col3\" class=\"data row2 col3\" >0.6388</td>\n",
       "      <td id=\"T_ab7a8_row2_col4\" class=\"data row2 col4\" >0.6890</td>\n",
       "      <td id=\"T_ab7a8_row2_col5\" class=\"data row2 col5\" >0.5474</td>\n",
       "      <td id=\"T_ab7a8_row2_col6\" class=\"data row2 col6\" >0.5510</td>\n",
       "    </tr>\n",
       "    <tr>\n",
       "      <th id=\"T_ab7a8_level0_row3\" class=\"row_heading level0 row3\" >3</th>\n",
       "      <td id=\"T_ab7a8_row3_col0\" class=\"data row3 col0\" >0.8129</td>\n",
       "      <td id=\"T_ab7a8_row3_col1\" class=\"data row3 col1\" >0.8654</td>\n",
       "      <td id=\"T_ab7a8_row3_col2\" class=\"data row3 col2\" >0.7813</td>\n",
       "      <td id=\"T_ab7a8_row3_col3\" class=\"data row3 col3\" >0.6468</td>\n",
       "      <td id=\"T_ab7a8_row3_col4\" class=\"data row3 col4\" >0.7077</td>\n",
       "      <td id=\"T_ab7a8_row3_col5\" class=\"data row3 col5\" >0.5719</td>\n",
       "      <td id=\"T_ab7a8_row3_col6\" class=\"data row3 col6\" >0.5774</td>\n",
       "    </tr>\n",
       "    <tr>\n",
       "      <th id=\"T_ab7a8_level0_row4\" class=\"row_heading level0 row4\" >4</th>\n",
       "      <td id=\"T_ab7a8_row4_col0\" class=\"data row4 col0\" >0.8084</td>\n",
       "      <td id=\"T_ab7a8_row4_col1\" class=\"data row4 col1\" >0.8640</td>\n",
       "      <td id=\"T_ab7a8_row4_col2\" class=\"data row4 col2\" >0.7522</td>\n",
       "      <td id=\"T_ab7a8_row4_col3\" class=\"data row4 col3\" >0.6455</td>\n",
       "      <td id=\"T_ab7a8_row4_col4\" class=\"data row4 col4\" >0.6948</td>\n",
       "      <td id=\"T_ab7a8_row4_col5\" class=\"data row4 col5\" >0.5563</td>\n",
       "      <td id=\"T_ab7a8_row4_col6\" class=\"data row4 col6\" >0.5598</td>\n",
       "    </tr>\n",
       "    <tr>\n",
       "      <th id=\"T_ab7a8_level0_row5\" class=\"row_heading level0 row5\" >Mean</th>\n",
       "      <td id=\"T_ab7a8_row5_col0\" class=\"data row5 col0\" >0.8110</td>\n",
       "      <td id=\"T_ab7a8_row5_col1\" class=\"data row5 col1\" >0.8634</td>\n",
       "      <td id=\"T_ab7a8_row5_col2\" class=\"data row5 col2\" >0.7209</td>\n",
       "      <td id=\"T_ab7a8_row5_col3\" class=\"data row5 col3\" >0.6617</td>\n",
       "      <td id=\"T_ab7a8_row5_col4\" class=\"data row5 col4\" >0.6881</td>\n",
       "      <td id=\"T_ab7a8_row5_col5\" class=\"data row5 col5\" >0.5533</td>\n",
       "      <td id=\"T_ab7a8_row5_col6\" class=\"data row5 col6\" >0.5559</td>\n",
       "    </tr>\n",
       "    <tr>\n",
       "      <th id=\"T_ab7a8_level0_row6\" class=\"row_heading level0 row6\" >Std</th>\n",
       "      <td id=\"T_ab7a8_row6_col0\" class=\"data row6 col0\" >0.0059</td>\n",
       "      <td id=\"T_ab7a8_row6_col1\" class=\"data row6 col1\" >0.0051</td>\n",
       "      <td id=\"T_ab7a8_row6_col2\" class=\"data row6 col2\" >0.0500</td>\n",
       "      <td id=\"T_ab7a8_row6_col3\" class=\"data row6 col3\" >0.0254</td>\n",
       "      <td id=\"T_ab7a8_row6_col4\" class=\"data row6 col4\" >0.0131</td>\n",
       "      <td id=\"T_ab7a8_row6_col5\" class=\"data row6 col5\" >0.0124</td>\n",
       "      <td id=\"T_ab7a8_row6_col6\" class=\"data row6 col6\" >0.0140</td>\n",
       "    </tr>\n",
       "  </tbody>\n",
       "</table>\n"
      ],
      "text/plain": [
       "<pandas.io.formats.style.Styler at 0x7fd6d12ef460>"
      ]
     },
     "metadata": {},
     "output_type": "display_data"
    },
    {
     "data": {
      "application/vnd.jupyter.widget-view+json": {
       "model_id": "",
       "version_major": 2,
       "version_minor": 0
      },
      "text/plain": [
       "Processing:   0%|          | 0/4 [00:00<?, ?it/s]"
      ]
     },
     "metadata": {},
     "output_type": "display_data"
    },
    {
     "data": {
      "text/html": [],
      "text/plain": [
       "<IPython.core.display.HTML object>"
      ]
     },
     "metadata": {},
     "output_type": "display_data"
    },
    {
     "data": {
      "text/html": [
       "<style type=\"text/css\">\n",
       "#T_58572_row5_col0, #T_58572_row5_col1, #T_58572_row5_col2, #T_58572_row5_col3, #T_58572_row5_col4, #T_58572_row5_col5, #T_58572_row5_col6 {\n",
       "  background: yellow;\n",
       "}\n",
       "</style>\n",
       "<table id=\"T_58572\">\n",
       "  <thead>\n",
       "    <tr>\n",
       "      <th class=\"blank level0\" >&nbsp;</th>\n",
       "      <th id=\"T_58572_level0_col0\" class=\"col_heading level0 col0\" >Accuracy</th>\n",
       "      <th id=\"T_58572_level0_col1\" class=\"col_heading level0 col1\" >AUC</th>\n",
       "      <th id=\"T_58572_level0_col2\" class=\"col_heading level0 col2\" >Recall</th>\n",
       "      <th id=\"T_58572_level0_col3\" class=\"col_heading level0 col3\" >Prec.</th>\n",
       "      <th id=\"T_58572_level0_col4\" class=\"col_heading level0 col4\" >F1</th>\n",
       "      <th id=\"T_58572_level0_col5\" class=\"col_heading level0 col5\" >Kappa</th>\n",
       "      <th id=\"T_58572_level0_col6\" class=\"col_heading level0 col6\" >MCC</th>\n",
       "    </tr>\n",
       "    <tr>\n",
       "      <th class=\"index_name level0\" >Fold</th>\n",
       "      <th class=\"blank col0\" >&nbsp;</th>\n",
       "      <th class=\"blank col1\" >&nbsp;</th>\n",
       "      <th class=\"blank col2\" >&nbsp;</th>\n",
       "      <th class=\"blank col3\" >&nbsp;</th>\n",
       "      <th class=\"blank col4\" >&nbsp;</th>\n",
       "      <th class=\"blank col5\" >&nbsp;</th>\n",
       "      <th class=\"blank col6\" >&nbsp;</th>\n",
       "    </tr>\n",
       "  </thead>\n",
       "  <tbody>\n",
       "    <tr>\n",
       "      <th id=\"T_58572_level0_row0\" class=\"row_heading level0 row0\" >0</th>\n",
       "      <td id=\"T_58572_row0_col0\" class=\"data row0 col0\" >0.8827</td>\n",
       "      <td id=\"T_58572_row0_col1\" class=\"data row0 col1\" >0.9118</td>\n",
       "      <td id=\"T_58572_row0_col2\" class=\"data row0 col2\" >0.8339</td>\n",
       "      <td id=\"T_58572_row0_col3\" class=\"data row0 col3\" >0.7776</td>\n",
       "      <td id=\"T_58572_row0_col4\" class=\"data row0 col4\" >0.8048</td>\n",
       "      <td id=\"T_58572_row0_col5\" class=\"data row0 col5\" >0.7211</td>\n",
       "      <td id=\"T_58572_row0_col6\" class=\"data row0 col6\" >0.7220</td>\n",
       "    </tr>\n",
       "    <tr>\n",
       "      <th id=\"T_58572_level0_row1\" class=\"row_heading level0 row1\" >1</th>\n",
       "      <td id=\"T_58572_row1_col0\" class=\"data row1 col0\" >0.8806</td>\n",
       "      <td id=\"T_58572_row1_col1\" class=\"data row1 col1\" >0.9086</td>\n",
       "      <td id=\"T_58572_row1_col2\" class=\"data row1 col2\" >0.8387</td>\n",
       "      <td id=\"T_58572_row1_col3\" class=\"data row1 col3\" >0.7700</td>\n",
       "      <td id=\"T_58572_row1_col4\" class=\"data row1 col4\" >0.8029</td>\n",
       "      <td id=\"T_58572_row1_col5\" class=\"data row1 col5\" >0.7174</td>\n",
       "      <td id=\"T_58572_row1_col6\" class=\"data row1 col6\" >0.7188</td>\n",
       "    </tr>\n",
       "    <tr>\n",
       "      <th id=\"T_58572_level0_row2\" class=\"row_heading level0 row2\" >2</th>\n",
       "      <td id=\"T_58572_row2_col0\" class=\"data row2 col0\" >0.8776</td>\n",
       "      <td id=\"T_58572_row2_col1\" class=\"data row2 col1\" >0.9076</td>\n",
       "      <td id=\"T_58572_row2_col2\" class=\"data row2 col2\" >0.8443</td>\n",
       "      <td id=\"T_58572_row2_col3\" class=\"data row2 col3\" >0.7601</td>\n",
       "      <td id=\"T_58572_row2_col4\" class=\"data row2 col4\" >0.8000</td>\n",
       "      <td id=\"T_58572_row2_col5\" class=\"data row2 col5\" >0.7121</td>\n",
       "      <td id=\"T_58572_row2_col6\" class=\"data row2 col6\" >0.7142</td>\n",
       "    </tr>\n",
       "    <tr>\n",
       "      <th id=\"T_58572_level0_row3\" class=\"row_heading level0 row3\" >3</th>\n",
       "      <td id=\"T_58572_row3_col0\" class=\"data row3 col0\" >0.8802</td>\n",
       "      <td id=\"T_58572_row3_col1\" class=\"data row3 col1\" >0.9077</td>\n",
       "      <td id=\"T_58572_row3_col2\" class=\"data row3 col2\" >0.8291</td>\n",
       "      <td id=\"T_58572_row3_col3\" class=\"data row3 col3\" >0.7740</td>\n",
       "      <td id=\"T_58572_row3_col4\" class=\"data row3 col4\" >0.8006</td>\n",
       "      <td id=\"T_58572_row3_col5\" class=\"data row3 col5\" >0.7151</td>\n",
       "      <td id=\"T_58572_row3_col6\" class=\"data row3 col6\" >0.7160</td>\n",
       "    </tr>\n",
       "    <tr>\n",
       "      <th id=\"T_58572_level0_row4\" class=\"row_heading level0 row4\" >4</th>\n",
       "      <td id=\"T_58572_row4_col0\" class=\"data row4 col0\" >0.8841</td>\n",
       "      <td id=\"T_58572_row4_col1\" class=\"data row4 col1\" >0.9123</td>\n",
       "      <td id=\"T_58572_row4_col2\" class=\"data row4 col2\" >0.8544</td>\n",
       "      <td id=\"T_58572_row4_col3\" class=\"data row4 col3\" >0.7707</td>\n",
       "      <td id=\"T_58572_row4_col4\" class=\"data row4 col4\" >0.8104</td>\n",
       "      <td id=\"T_58572_row4_col5\" class=\"data row4 col5\" >0.7272</td>\n",
       "      <td id=\"T_58572_row4_col6\" class=\"data row4 col6\" >0.7293</td>\n",
       "    </tr>\n",
       "    <tr>\n",
       "      <th id=\"T_58572_level0_row5\" class=\"row_heading level0 row5\" >Mean</th>\n",
       "      <td id=\"T_58572_row5_col0\" class=\"data row5 col0\" >0.8810</td>\n",
       "      <td id=\"T_58572_row5_col1\" class=\"data row5 col1\" >0.9096</td>\n",
       "      <td id=\"T_58572_row5_col2\" class=\"data row5 col2\" >0.8401</td>\n",
       "      <td id=\"T_58572_row5_col3\" class=\"data row5 col3\" >0.7705</td>\n",
       "      <td id=\"T_58572_row5_col4\" class=\"data row5 col4\" >0.8037</td>\n",
       "      <td id=\"T_58572_row5_col5\" class=\"data row5 col5\" >0.7186</td>\n",
       "      <td id=\"T_58572_row5_col6\" class=\"data row5 col6\" >0.7200</td>\n",
       "    </tr>\n",
       "    <tr>\n",
       "      <th id=\"T_58572_level0_row6\" class=\"row_heading level0 row6\" >Std</th>\n",
       "      <td id=\"T_58572_row6_col0\" class=\"data row6 col0\" >0.0022</td>\n",
       "      <td id=\"T_58572_row6_col1\" class=\"data row6 col1\" >0.0020</td>\n",
       "      <td id=\"T_58572_row6_col2\" class=\"data row6 col2\" >0.0088</td>\n",
       "      <td id=\"T_58572_row6_col3\" class=\"data row6 col3\" >0.0059</td>\n",
       "      <td id=\"T_58572_row6_col4\" class=\"data row6 col4\" >0.0038</td>\n",
       "      <td id=\"T_58572_row6_col5\" class=\"data row6 col5\" >0.0052</td>\n",
       "      <td id=\"T_58572_row6_col6\" class=\"data row6 col6\" >0.0053</td>\n",
       "    </tr>\n",
       "  </tbody>\n",
       "</table>\n"
      ],
      "text/plain": [
       "<pandas.io.formats.style.Styler at 0x7fd7368d0a60>"
      ]
     },
     "metadata": {},
     "output_type": "display_data"
    },
    {
     "data": {
      "application/vnd.jupyter.widget-view+json": {
       "model_id": "",
       "version_major": 2,
       "version_minor": 0
      },
      "text/plain": [
       "Processing:   0%|          | 0/7 [00:00<?, ?it/s]"
      ]
     },
     "metadata": {},
     "output_type": "display_data"
    },
    {
     "name": "stdout",
     "output_type": "stream",
     "text": [
      "Fitting 5 folds for each of 10 candidates, totalling 50 fits\n"
     ]
    },
    {
     "data": {
      "text/html": [],
      "text/plain": [
       "<IPython.core.display.HTML object>"
      ]
     },
     "metadata": {},
     "output_type": "display_data"
    },
    {
     "data": {
      "text/html": [],
      "text/plain": [
       "<IPython.core.display.HTML object>"
      ]
     },
     "metadata": {},
     "output_type": "display_data"
    },
    {
     "data": {
      "text/html": [],
      "text/plain": [
       "<IPython.core.display.HTML object>"
      ]
     },
     "metadata": {},
     "output_type": "display_data"
    },
    {
     "name": "stdout",
     "output_type": "stream",
     "text": [
      "Transformation Pipeline and Model Successfully Saved\n"
     ]
    }
   ],
   "source": [
    "for i in config.models:\n",
    "    print(i)\n",
    "    model1=create_model(i,fold=config.fold_n)\n",
    "    Model1_Report=pull()\n",
    "    tuned_model = tune_model(model1,fold=config.fold_tuned_n)\n",
    "    Model1_Tuned_Report=pull()\n",
    "    Hyper_para=str(tuned_model)\n",
    "    Model1_Hyperparamters=pd.DataFrame(Hyper_para.split('(')[1].split())\n",
    "    model_name=i\n",
    "    if not os.path.exists(eval(config.model_hygeine_path)):\n",
    "        os.makedirs(eval(config.model_hygeine_path))\n",
    "        writer2 = pd.ExcelWriter(eval(config.model_hygeine_report_file))\n",
    "        Model1_Report.to_excel(writer2, sheet_name = config.model_hygeibe_report_file_sheet1, index = False)\n",
    "        Model1_Tuned_Report.to_excel(writer2, sheet_name = config.model_hygeibe_report_file_sheet2, index = False)\n",
    "        Model1_Hyperparamters.to_excel(writer2, sheet_name = config.model_hygeibe_report_file_sheet3, index = False)\n",
    "        writer2.close()\n",
    "    lst_plot=config.plot_lst\n",
    "    for j in lst_plot:\n",
    "        plot_model(tuned_model, plot = j,save=True)\n",
    "    if not os.path.exists(eval(config.plot_path)):\n",
    "        os.makedirs(eval(config.plot_path))\n",
    "\n",
    "    source = os.path.join(config.plot_soruce_path)\n",
    "    sort = os.path.join(eval(config.plot_path))\n",
    "\n",
    "    for f in os.listdir(source):\n",
    "        if f.endswith(config.plot_format):\n",
    "            shutil.move(os.path.join(source, f), sort)\n",
    "    if not os.path.exists(eval(config.save_model_path)):\n",
    "        os.makedirs(eval(config.save_model_path))\n",
    "    save_model(tuned_model, f'{eval(config.save_model_path)}/{i}', verbose=True)\n",
    "    with open( f'{eval(config.save_model_path)}/{i}.pickle', 'wb') as files:\n",
    "        pickle.dump(tuned_model, files)"
   ]
  },
  {
   "cell_type": "code",
   "execution_count": 37,
   "id": "33559862",
   "metadata": {},
   "outputs": [
    {
     "data": {
      "text/plain": [
       "<bound method LGBMClassifier.predict of LGBMClassifier(bagging_fraction=1.0, bagging_freq=5, boosting_type='gbdt',\n",
       "               class_weight=None, colsample_bytree=1.0, feature_fraction=0.6,\n",
       "               importance_type='split', learning_rate=0.01, max_depth=-1,\n",
       "               min_child_samples=21, min_child_weight=0.001, min_split_gain=0.3,\n",
       "               n_estimators=190, n_jobs=-1, num_leaves=256, objective=None,\n",
       "               random_state=8216, reg_alpha=0.0005, reg_lambda=0.01,\n",
       "               silent='warn', subsample=1.0, subsample_for_bin=200000,\n",
       "               subsample_freq=0)>"
      ]
     },
     "execution_count": 37,
     "metadata": {},
     "output_type": "execute_result"
    }
   ],
   "source": [
    "tuned_model.predict"
   ]
  },
  {
   "cell_type": "code",
   "execution_count": null,
   "id": "5874f9c0",
   "metadata": {},
   "outputs": [],
   "source": []
  },
  {
   "cell_type": "code",
   "execution_count": 25,
   "id": "f18ecc9e",
   "metadata": {},
   "outputs": [
    {
     "data": {
      "text/html": [],
      "text/plain": [
       "<IPython.core.display.HTML object>"
      ]
     },
     "metadata": {},
     "output_type": "display_data"
    },
    {
     "data": {
      "text/html": [
       "<style type=\"text/css\">\n",
       "#T_88c6e_row5_col0, #T_88c6e_row5_col1, #T_88c6e_row5_col2, #T_88c6e_row5_col3, #T_88c6e_row5_col4, #T_88c6e_row5_col5, #T_88c6e_row5_col6 {\n",
       "  background: yellow;\n",
       "}\n",
       "</style>\n",
       "<table id=\"T_88c6e\">\n",
       "  <thead>\n",
       "    <tr>\n",
       "      <th class=\"blank level0\" >&nbsp;</th>\n",
       "      <th id=\"T_88c6e_level0_col0\" class=\"col_heading level0 col0\" >Accuracy</th>\n",
       "      <th id=\"T_88c6e_level0_col1\" class=\"col_heading level0 col1\" >AUC</th>\n",
       "      <th id=\"T_88c6e_level0_col2\" class=\"col_heading level0 col2\" >Recall</th>\n",
       "      <th id=\"T_88c6e_level0_col3\" class=\"col_heading level0 col3\" >Prec.</th>\n",
       "      <th id=\"T_88c6e_level0_col4\" class=\"col_heading level0 col4\" >F1</th>\n",
       "      <th id=\"T_88c6e_level0_col5\" class=\"col_heading level0 col5\" >Kappa</th>\n",
       "      <th id=\"T_88c6e_level0_col6\" class=\"col_heading level0 col6\" >MCC</th>\n",
       "    </tr>\n",
       "    <tr>\n",
       "      <th class=\"index_name level0\" >Fold</th>\n",
       "      <th class=\"blank col0\" >&nbsp;</th>\n",
       "      <th class=\"blank col1\" >&nbsp;</th>\n",
       "      <th class=\"blank col2\" >&nbsp;</th>\n",
       "      <th class=\"blank col3\" >&nbsp;</th>\n",
       "      <th class=\"blank col4\" >&nbsp;</th>\n",
       "      <th class=\"blank col5\" >&nbsp;</th>\n",
       "      <th class=\"blank col6\" >&nbsp;</th>\n",
       "    </tr>\n",
       "  </thead>\n",
       "  <tbody>\n",
       "    <tr>\n",
       "      <th id=\"T_88c6e_level0_row0\" class=\"row_heading level0 row0\" >0</th>\n",
       "      <td id=\"T_88c6e_row0_col0\" class=\"data row0 col0\" >0.8801</td>\n",
       "      <td id=\"T_88c6e_row0_col1\" class=\"data row0 col1\" >0.9254</td>\n",
       "      <td id=\"T_88c6e_row0_col2\" class=\"data row0 col2\" >0.8305</td>\n",
       "      <td id=\"T_88c6e_row0_col3\" class=\"data row0 col3\" >0.7730</td>\n",
       "      <td id=\"T_88c6e_row0_col4\" class=\"data row0 col4\" >0.8007</td>\n",
       "      <td id=\"T_88c6e_row0_col5\" class=\"data row0 col5\" >0.7152</td>\n",
       "      <td id=\"T_88c6e_row0_col6\" class=\"data row0 col6\" >0.7161</td>\n",
       "    </tr>\n",
       "    <tr>\n",
       "      <th id=\"T_88c6e_level0_row1\" class=\"row_heading level0 row1\" >1</th>\n",
       "      <td id=\"T_88c6e_row1_col0\" class=\"data row1 col0\" >0.8815</td>\n",
       "      <td id=\"T_88c6e_row1_col1\" class=\"data row1 col1\" >0.9249</td>\n",
       "      <td id=\"T_88c6e_row1_col2\" class=\"data row1 col2\" >0.8458</td>\n",
       "      <td id=\"T_88c6e_row1_col3\" class=\"data row1 col3\" >0.7687</td>\n",
       "      <td id=\"T_88c6e_row1_col4\" class=\"data row1 col4\" >0.8054</td>\n",
       "      <td id=\"T_88c6e_row1_col5\" class=\"data row1 col5\" >0.7205</td>\n",
       "      <td id=\"T_88c6e_row1_col6\" class=\"data row1 col6\" >0.7222</td>\n",
       "    </tr>\n",
       "    <tr>\n",
       "      <th id=\"T_88c6e_level0_row2\" class=\"row_heading level0 row2\" >2</th>\n",
       "      <td id=\"T_88c6e_row2_col0\" class=\"data row2 col0\" >0.8740</td>\n",
       "      <td id=\"T_88c6e_row2_col1\" class=\"data row2 col1\" >0.9205</td>\n",
       "      <td id=\"T_88c6e_row2_col2\" class=\"data row2 col2\" >0.8323</td>\n",
       "      <td id=\"T_88c6e_row2_col3\" class=\"data row2 col3\" >0.7573</td>\n",
       "      <td id=\"T_88c6e_row2_col4\" class=\"data row2 col4\" >0.7930</td>\n",
       "      <td id=\"T_88c6e_row2_col5\" class=\"data row2 col5\" >0.7027</td>\n",
       "      <td id=\"T_88c6e_row2_col6\" class=\"data row2 col6\" >0.7044</td>\n",
       "    </tr>\n",
       "    <tr>\n",
       "      <th id=\"T_88c6e_level0_row3\" class=\"row_heading level0 row3\" >3</th>\n",
       "      <td id=\"T_88c6e_row3_col0\" class=\"data row3 col0\" >0.8779</td>\n",
       "      <td id=\"T_88c6e_row3_col1\" class=\"data row3 col1\" >0.9251</td>\n",
       "      <td id=\"T_88c6e_row3_col2\" class=\"data row3 col2\" >0.8313</td>\n",
       "      <td id=\"T_88c6e_row3_col3\" class=\"data row3 col3\" >0.7670</td>\n",
       "      <td id=\"T_88c6e_row3_col4\" class=\"data row3 col4\" >0.7979</td>\n",
       "      <td id=\"T_88c6e_row3_col5\" class=\"data row3 col5\" >0.7106</td>\n",
       "      <td id=\"T_88c6e_row3_col6\" class=\"data row3 col6\" >0.7117</td>\n",
       "    </tr>\n",
       "    <tr>\n",
       "      <th id=\"T_88c6e_level0_row4\" class=\"row_heading level0 row4\" >4</th>\n",
       "      <td id=\"T_88c6e_row4_col0\" class=\"data row4 col0\" >0.8817</td>\n",
       "      <td id=\"T_88c6e_row4_col1\" class=\"data row4 col1\" >0.9279</td>\n",
       "      <td id=\"T_88c6e_row4_col2\" class=\"data row4 col2\" >0.8379</td>\n",
       "      <td id=\"T_88c6e_row4_col3\" class=\"data row4 col3\" >0.7732</td>\n",
       "      <td id=\"T_88c6e_row4_col4\" class=\"data row4 col4\" >0.8043</td>\n",
       "      <td id=\"T_88c6e_row4_col5\" class=\"data row4 col5\" >0.7197</td>\n",
       "      <td id=\"T_88c6e_row4_col6\" class=\"data row4 col6\" >0.7209</td>\n",
       "    </tr>\n",
       "    <tr>\n",
       "      <th id=\"T_88c6e_level0_row5\" class=\"row_heading level0 row5\" >Mean</th>\n",
       "      <td id=\"T_88c6e_row5_col0\" class=\"data row5 col0\" >0.8790</td>\n",
       "      <td id=\"T_88c6e_row5_col1\" class=\"data row5 col1\" >0.9248</td>\n",
       "      <td id=\"T_88c6e_row5_col2\" class=\"data row5 col2\" >0.8356</td>\n",
       "      <td id=\"T_88c6e_row5_col3\" class=\"data row5 col3\" >0.7678</td>\n",
       "      <td id=\"T_88c6e_row5_col4\" class=\"data row5 col4\" >0.8003</td>\n",
       "      <td id=\"T_88c6e_row5_col5\" class=\"data row5 col5\" >0.7137</td>\n",
       "      <td id=\"T_88c6e_row5_col6\" class=\"data row5 col6\" >0.7151</td>\n",
       "    </tr>\n",
       "    <tr>\n",
       "      <th id=\"T_88c6e_level0_row6\" class=\"row_heading level0 row6\" >Std</th>\n",
       "      <td id=\"T_88c6e_row6_col0\" class=\"data row6 col0\" >0.0029</td>\n",
       "      <td id=\"T_88c6e_row6_col1\" class=\"data row6 col1\" >0.0024</td>\n",
       "      <td id=\"T_88c6e_row6_col2\" class=\"data row6 col2\" >0.0058</td>\n",
       "      <td id=\"T_88c6e_row6_col3\" class=\"data row6 col3\" >0.0058</td>\n",
       "      <td id=\"T_88c6e_row6_col4\" class=\"data row6 col4\" >0.0045</td>\n",
       "      <td id=\"T_88c6e_row6_col5\" class=\"data row6 col5\" >0.0066</td>\n",
       "      <td id=\"T_88c6e_row6_col6\" class=\"data row6 col6\" >0.0065</td>\n",
       "    </tr>\n",
       "  </tbody>\n",
       "</table>\n"
      ],
      "text/plain": [
       "<pandas.io.formats.style.Styler at 0x7fd7448f2af0>"
      ]
     },
     "metadata": {},
     "output_type": "display_data"
    },
    {
     "data": {
      "application/vnd.jupyter.widget-view+json": {
       "model_id": "",
       "version_major": 2,
       "version_minor": 0
      },
      "text/plain": [
       "Processing:   0%|          | 0/4 [00:00<?, ?it/s]"
      ]
     },
     "metadata": {},
     "output_type": "display_data"
    }
   ],
   "source": [
    "model1=create_model(best_5.index[0],fold=config.fold_n)"
   ]
  },
  {
   "cell_type": "code",
   "execution_count": 26,
   "id": "dc951bfc",
   "metadata": {},
   "outputs": [],
   "source": [
    "Model1_Report=pull()"
   ]
  },
  {
   "cell_type": "code",
   "execution_count": 27,
   "id": "9c5e96c8",
   "metadata": {},
   "outputs": [
    {
     "data": {
      "text/html": [],
      "text/plain": [
       "<IPython.core.display.HTML object>"
      ]
     },
     "metadata": {},
     "output_type": "display_data"
    },
    {
     "data": {
      "text/html": [
       "<style type=\"text/css\">\n",
       "#T_6154c_row5_col0, #T_6154c_row5_col1, #T_6154c_row5_col2, #T_6154c_row5_col3, #T_6154c_row5_col4, #T_6154c_row5_col5, #T_6154c_row5_col6 {\n",
       "  background: yellow;\n",
       "}\n",
       "</style>\n",
       "<table id=\"T_6154c\">\n",
       "  <thead>\n",
       "    <tr>\n",
       "      <th class=\"blank level0\" >&nbsp;</th>\n",
       "      <th id=\"T_6154c_level0_col0\" class=\"col_heading level0 col0\" >Accuracy</th>\n",
       "      <th id=\"T_6154c_level0_col1\" class=\"col_heading level0 col1\" >AUC</th>\n",
       "      <th id=\"T_6154c_level0_col2\" class=\"col_heading level0 col2\" >Recall</th>\n",
       "      <th id=\"T_6154c_level0_col3\" class=\"col_heading level0 col3\" >Prec.</th>\n",
       "      <th id=\"T_6154c_level0_col4\" class=\"col_heading level0 col4\" >F1</th>\n",
       "      <th id=\"T_6154c_level0_col5\" class=\"col_heading level0 col5\" >Kappa</th>\n",
       "      <th id=\"T_6154c_level0_col6\" class=\"col_heading level0 col6\" >MCC</th>\n",
       "    </tr>\n",
       "    <tr>\n",
       "      <th class=\"index_name level0\" >Fold</th>\n",
       "      <th class=\"blank col0\" >&nbsp;</th>\n",
       "      <th class=\"blank col1\" >&nbsp;</th>\n",
       "      <th class=\"blank col2\" >&nbsp;</th>\n",
       "      <th class=\"blank col3\" >&nbsp;</th>\n",
       "      <th class=\"blank col4\" >&nbsp;</th>\n",
       "      <th class=\"blank col5\" >&nbsp;</th>\n",
       "      <th class=\"blank col6\" >&nbsp;</th>\n",
       "    </tr>\n",
       "  </thead>\n",
       "  <tbody>\n",
       "    <tr>\n",
       "      <th id=\"T_6154c_level0_row0\" class=\"row_heading level0 row0\" >0</th>\n",
       "      <td id=\"T_6154c_row0_col0\" class=\"data row0 col0\" >0.8700</td>\n",
       "      <td id=\"T_6154c_row0_col1\" class=\"data row0 col1\" >0.9233</td>\n",
       "      <td id=\"T_6154c_row0_col2\" class=\"data row0 col2\" >0.8500</td>\n",
       "      <td id=\"T_6154c_row0_col3\" class=\"data row0 col3\" >0.7402</td>\n",
       "      <td id=\"T_6154c_row0_col4\" class=\"data row0 col4\" >0.7913</td>\n",
       "      <td id=\"T_6154c_row0_col5\" class=\"data row0 col5\" >0.6975</td>\n",
       "      <td id=\"T_6154c_row0_col6\" class=\"data row0 col6\" >0.7011</td>\n",
       "    </tr>\n",
       "    <tr>\n",
       "      <th id=\"T_6154c_level0_row1\" class=\"row_heading level0 row1\" >1</th>\n",
       "      <td id=\"T_6154c_row1_col0\" class=\"data row1 col0\" >0.8715</td>\n",
       "      <td id=\"T_6154c_row1_col1\" class=\"data row1 col1\" >0.9196</td>\n",
       "      <td id=\"T_6154c_row1_col2\" class=\"data row1 col2\" >0.8889</td>\n",
       "      <td id=\"T_6154c_row1_col3\" class=\"data row1 col3\" >0.7281</td>\n",
       "      <td id=\"T_6154c_row1_col4\" class=\"data row1 col4\" >0.8005</td>\n",
       "      <td id=\"T_6154c_row1_col5\" class=\"data row1 col5\" >0.7071</td>\n",
       "      <td id=\"T_6154c_row1_col6\" class=\"data row1 col6\" >0.7148</td>\n",
       "    </tr>\n",
       "    <tr>\n",
       "      <th id=\"T_6154c_level0_row2\" class=\"row_heading level0 row2\" >2</th>\n",
       "      <td id=\"T_6154c_row2_col0\" class=\"data row2 col0\" >0.8681</td>\n",
       "      <td id=\"T_6154c_row2_col1\" class=\"data row2 col1\" >0.9184</td>\n",
       "      <td id=\"T_6154c_row2_col2\" class=\"data row2 col2\" >0.8660</td>\n",
       "      <td id=\"T_6154c_row2_col3\" class=\"data row2 col3\" >0.7298</td>\n",
       "      <td id=\"T_6154c_row2_col4\" class=\"data row2 col4\" >0.7921</td>\n",
       "      <td id=\"T_6154c_row2_col5\" class=\"data row2 col5\" >0.6966</td>\n",
       "      <td id=\"T_6154c_row2_col6\" class=\"data row2 col6\" >0.7020</td>\n",
       "    </tr>\n",
       "    <tr>\n",
       "      <th id=\"T_6154c_level0_row3\" class=\"row_heading level0 row3\" >3</th>\n",
       "      <td id=\"T_6154c_row3_col0\" class=\"data row3 col0\" >0.8656</td>\n",
       "      <td id=\"T_6154c_row3_col1\" class=\"data row3 col1\" >0.9192</td>\n",
       "      <td id=\"T_6154c_row3_col2\" class=\"data row3 col2\" >0.8682</td>\n",
       "      <td id=\"T_6154c_row3_col3\" class=\"data row3 col3\" >0.7235</td>\n",
       "      <td id=\"T_6154c_row3_col4\" class=\"data row3 col4\" >0.7893</td>\n",
       "      <td id=\"T_6154c_row3_col5\" class=\"data row3 col5\" >0.6918</td>\n",
       "      <td id=\"T_6154c_row3_col6\" class=\"data row3 col6\" >0.6980</td>\n",
       "    </tr>\n",
       "    <tr>\n",
       "      <th id=\"T_6154c_level0_row4\" class=\"row_heading level0 row4\" >4</th>\n",
       "      <td id=\"T_6154c_row4_col0\" class=\"data row4 col0\" >0.8747</td>\n",
       "      <td id=\"T_6154c_row4_col1\" class=\"data row4 col1\" >0.9237</td>\n",
       "      <td id=\"T_6154c_row4_col2\" class=\"data row4 col2\" >0.8776</td>\n",
       "      <td id=\"T_6154c_row4_col3\" class=\"data row4 col3\" >0.7392</td>\n",
       "      <td id=\"T_6154c_row4_col4\" class=\"data row4 col4\" >0.8025</td>\n",
       "      <td id=\"T_6154c_row4_col5\" class=\"data row4 col5\" >0.7117</td>\n",
       "      <td id=\"T_6154c_row4_col6\" class=\"data row4 col6\" >0.7173</td>\n",
       "    </tr>\n",
       "    <tr>\n",
       "      <th id=\"T_6154c_level0_row5\" class=\"row_heading level0 row5\" >Mean</th>\n",
       "      <td id=\"T_6154c_row5_col0\" class=\"data row5 col0\" >0.8700</td>\n",
       "      <td id=\"T_6154c_row5_col1\" class=\"data row5 col1\" >0.9208</td>\n",
       "      <td id=\"T_6154c_row5_col2\" class=\"data row5 col2\" >0.8701</td>\n",
       "      <td id=\"T_6154c_row5_col3\" class=\"data row5 col3\" >0.7321</td>\n",
       "      <td id=\"T_6154c_row5_col4\" class=\"data row5 col4\" >0.7951</td>\n",
       "      <td id=\"T_6154c_row5_col5\" class=\"data row5 col5\" >0.7009</td>\n",
       "      <td id=\"T_6154c_row5_col6\" class=\"data row5 col6\" >0.7066</td>\n",
       "    </tr>\n",
       "    <tr>\n",
       "      <th id=\"T_6154c_level0_row6\" class=\"row_heading level0 row6\" >Std</th>\n",
       "      <td id=\"T_6154c_row6_col0\" class=\"data row6 col0\" >0.0031</td>\n",
       "      <td id=\"T_6154c_row6_col1\" class=\"data row6 col1\" >0.0022</td>\n",
       "      <td id=\"T_6154c_row6_col2\" class=\"data row6 col2\" >0.0129</td>\n",
       "      <td id=\"T_6154c_row6_col3\" class=\"data row6 col3\" >0.0065</td>\n",
       "      <td id=\"T_6154c_row6_col4\" class=\"data row6 col4\" >0.0053</td>\n",
       "      <td id=\"T_6154c_row6_col5\" class=\"data row6 col5\" >0.0073</td>\n",
       "      <td id=\"T_6154c_row6_col6\" class=\"data row6 col6\" >0.0078</td>\n",
       "    </tr>\n",
       "  </tbody>\n",
       "</table>\n"
      ],
      "text/plain": [
       "<pandas.io.formats.style.Styler at 0x7fd7448f2430>"
      ]
     },
     "metadata": {},
     "output_type": "display_data"
    },
    {
     "data": {
      "application/vnd.jupyter.widget-view+json": {
       "model_id": "",
       "version_major": 2,
       "version_minor": 0
      },
      "text/plain": [
       "Processing:   0%|          | 0/7 [00:00<?, ?it/s]"
      ]
     },
     "metadata": {},
     "output_type": "display_data"
    },
    {
     "name": "stdout",
     "output_type": "stream",
     "text": [
      "Fitting 5 folds for each of 10 candidates, totalling 50 fits\n",
      "Original model was better than the tuned model, hence it will be returned. NOTE: The display metrics are for the tuned model (not the original one).\n"
     ]
    }
   ],
   "source": [
    "tuned_model = tune_model(model1,fold=config.fold_tuned_n)"
   ]
  },
  {
   "cell_type": "code",
   "execution_count": 28,
   "id": "ad3b149f",
   "metadata": {},
   "outputs": [],
   "source": [
    "Model1_Tuned_Report=pull()"
   ]
  },
  {
   "cell_type": "code",
   "execution_count": 39,
   "id": "979c52b1",
   "metadata": {},
   "outputs": [],
   "source": [
    "Hyper_para=str(tuned_model)\n",
    "Model1_Hyperparamters=pd.DataFrame(Hyper_para.split('(')[1].split())"
   ]
  },
  {
   "cell_type": "code",
   "execution_count": 29,
   "id": "d821741b",
   "metadata": {},
   "outputs": [],
   "source": [
    "model_name = best_5['Model'][0]"
   ]
  },
  {
   "cell_type": "code",
   "execution_count": 40,
   "id": "3db8ac5b",
   "metadata": {},
   "outputs": [],
   "source": [
    "if not os.path.exists(eval(config.model_hygeine_path)):\n",
    "    os.makedirs(eval(config.model_hygeine_path))\n",
    "writer2 = pd.ExcelWriter(eval(config.model_hygeine_report_file))\n",
    "Model1_Report.to_excel(writer2, sheet_name = config.model_hygeibe_report_file_sheet1, index = False)\n",
    "Model1_Tuned_Report.to_excel(writer2, sheet_name = config.model_hygeibe_report_file_sheet2, index = False)\n",
    "Model1_Hyperparamters.to_excel(writer2, sheet_name = config.model_hygeibe_report_file_sheet3, index = False)\n",
    "writer2.close()"
   ]
  },
  {
   "cell_type": "code",
   "execution_count": null,
   "id": "1981962d",
   "metadata": {},
   "outputs": [],
   "source": [
    "### Accuracy results"
   ]
  },
  {
   "cell_type": "code",
   "execution_count": 44,
   "id": "4a280387",
   "metadata": {},
   "outputs": [
    {
     "data": {
      "text/html": [],
      "text/plain": [
       "<IPython.core.display.HTML object>"
      ]
     },
     "metadata": {},
     "output_type": "display_data"
    },
    {
     "data": {
      "text/html": [],
      "text/plain": [
       "<IPython.core.display.HTML object>"
      ]
     },
     "metadata": {},
     "output_type": "display_data"
    },
    {
     "data": {
      "text/html": [],
      "text/plain": [
       "<IPython.core.display.HTML object>"
      ]
     },
     "metadata": {},
     "output_type": "display_data"
    }
   ],
   "source": [
    "lst_plot=config.plot_lst\n",
    "for i in lst_plot:\n",
    "    plot_model(tuned_model, plot = i,save=True) "
   ]
  },
  {
   "cell_type": "code",
   "execution_count": 46,
   "id": "eb1d9249",
   "metadata": {},
   "outputs": [],
   "source": [
    "if not os.path.exists(eval(config.plot_path)):\n",
    "    os.makedirs(eval(config.plot_path))\n",
    "\n",
    "\n",
    "source = os.path.join(config.plot_soruce_path)\n",
    "sort = os.path.join(eval(config.plot_path))\n",
    "\n",
    "for f in os.listdir(source):\n",
    "    if f.endswith(config.plot_format):\n",
    "        shutil.move(os.path.join(source, f), sort)"
   ]
  },
  {
   "cell_type": "code",
   "execution_count": 47,
   "id": "8440e17f",
   "metadata": {},
   "outputs": [
    {
     "data": {
      "text/plain": [
       "Pipeline(memory=FastMemory(location=/var/folders/3p/7q9_hy6x4q58xrz02_n9tvv0fryx5_/T/joblib),\n",
       "         steps=[('numerical_imputer',\n",
       "                 TransformerWrapper(exclude=None,\n",
       "                                    include=['hour_of_day',\n",
       "                                             'avg_last_rrc_measurement_earfcn',\n",
       "                                             'num_distinct_imsi',\n",
       "                                             'mute_call_gap_indicator',\n",
       "                                             'num_mute_calls', 'avg_cqi',\n",
       "                                             'min_cqi', 'max_cqi', 'p05_cqi',\n",
       "                                             'p10_cqi', 'p50_cqi', 'p90_cqi',\n",
       "                                             'p95_cq...\n",
       "                                boosting_type='gbdt', class_weight=None,\n",
       "                                colsample_bytree=1.0, feature_fraction=0.7,\n",
       "                                importance_type='split', learning_rate=0.2,\n",
       "                                max_depth=-1, min_child_samples=61,\n",
       "                                min_child_weight=0.001, min_split_gain=0.1,\n",
       "                                n_estimators=150, n_jobs=-1, num_leaves=40,\n",
       "                                objective=None, random_state=2593,\n",
       "                                reg_alpha=0.1, reg_lambda=3, silent='warn',\n",
       "                                subsample=1.0, subsample_for_bin=200000,\n",
       "                                subsample_freq=0))],\n",
       "         verbose=False)"
      ]
     },
     "execution_count": 47,
     "metadata": {},
     "output_type": "execute_result"
    }
   ],
   "source": [
    "finalize_model(tuned_model)"
   ]
  },
  {
   "cell_type": "code",
   "execution_count": 48,
   "id": "c496d4f6",
   "metadata": {},
   "outputs": [],
   "source": [
    "if not os.path.exists(eval(config.save_model_path)):\n",
    "    os.makedirs(eval(config.save_model_path))"
   ]
  },
  {
   "cell_type": "code",
   "execution_count": 50,
   "id": "7c865e67",
   "metadata": {},
   "outputs": [
    {
     "name": "stdout",
     "output_type": "stream",
     "text": [
      "Transformation Pipeline and Model Successfully Saved\n"
     ]
    },
    {
     "data": {
      "text/plain": [
       "(Pipeline(memory=FastMemory(location=/var/folders/3p/7q9_hy6x4q58xrz02_n9tvv0fryx5_/T/joblib),\n",
       "          steps=[('numerical_imputer',\n",
       "                  TransformerWrapper(exclude=None,\n",
       "                                     include=['hour_of_day',\n",
       "                                              'avg_last_rrc_measurement_earfcn',\n",
       "                                              'num_distinct_imsi',\n",
       "                                              'mute_call_gap_indicator',\n",
       "                                              'num_mute_calls', 'avg_cqi',\n",
       "                                              'min_cqi', 'max_cqi', 'p05_cqi',\n",
       "                                              'p10_cqi', 'p50_cqi', 'p90_cqi',\n",
       "                                              'p95_cq...\n",
       "                                 boosting_type='gbdt', class_weight=None,\n",
       "                                 colsample_bytree=1.0, feature_fraction=0.7,\n",
       "                                 importance_type='split', learning_rate=0.2,\n",
       "                                 max_depth=-1, min_child_samples=61,\n",
       "                                 min_child_weight=0.001, min_split_gain=0.1,\n",
       "                                 n_estimators=150, n_jobs=-1, num_leaves=40,\n",
       "                                 objective=None, random_state=2593,\n",
       "                                 reg_alpha=0.1, reg_lambda=3, silent='warn',\n",
       "                                 subsample=1.0, subsample_for_bin=200000,\n",
       "                                 subsample_freq=0))],\n",
       "          verbose=False),\n",
       " '/Users/raj2.gaurav/Desktop/Git/Causal_Model/07. Model/Light Gradient Boosting Machine/Model_Results/Model_Objects/lightgbm.pkl')"
      ]
     },
     "execution_count": 50,
     "metadata": {},
     "output_type": "execute_result"
    }
   ],
   "source": [
    "save_model(tuned_model, f'{eval(config.save_model_path)}/{best_5.index[0]}', verbose=True)"
   ]
  },
  {
   "cell_type": "code",
   "execution_count": 51,
   "id": "7f2b6666",
   "metadata": {},
   "outputs": [
    {
     "data": {
      "text/plain": [
       "LGBMClassifier(bagging_fraction=0.9, bagging_freq=0, boosting_type='gbdt',\n",
       "               class_weight=None, colsample_bytree=1.0, feature_fraction=0.7,\n",
       "               importance_type='split', learning_rate=0.2, max_depth=-1,\n",
       "               min_child_samples=61, min_child_weight=0.001, min_split_gain=0.1,\n",
       "               n_estimators=150, n_jobs=-1, num_leaves=40, objective=None,\n",
       "               random_state=2593, reg_alpha=0.1, reg_lambda=3, silent='warn',\n",
       "               subsample=1.0, subsample_for_bin=200000, subsample_freq=0)"
      ]
     },
     "execution_count": 51,
     "metadata": {},
     "output_type": "execute_result"
    }
   ],
   "source": [
    "tuned_model"
   ]
  },
  {
   "cell_type": "code",
   "execution_count": 52,
   "id": "f641b654",
   "metadata": {},
   "outputs": [
    {
     "data": {
      "text/plain": [
       "'/Users/raj2.gaurav/Desktop/Git/Causal_Model/07. Model/Light Gradient Boosting Machine/Model_Results/Model_Objects/lightgbm'"
      ]
     },
     "execution_count": 52,
     "metadata": {},
     "output_type": "execute_result"
    }
   ],
   "source": [
    " f'{eval(config.save_model_path)}/{best_5.index[0]}'"
   ]
  },
  {
   "cell_type": "code",
   "execution_count": 57,
   "id": "0841ef02",
   "metadata": {},
   "outputs": [],
   "source": [
    "# loading library\n",
    "import pickle\n",
    "# create an iterator object with write permission - model.pkl\n",
    "with open( f'{eval(config.save_model_path)}/{best_5.index[0]}.pickle', 'wb') as files:\n",
    "    pickle.dump(tuned_model, files)"
   ]
  },
  {
   "cell_type": "code",
   "execution_count": 56,
   "id": "6c5f08b8",
   "metadata": {},
   "outputs": [
    {
     "data": {
      "text/plain": [
       "['/Users/raj2.gaurav/Desktop/Git/Causal_Model/07. Model/Light Gradient Boosting Machine/Model_Results/Model_Objects/lightgbm.pkl']"
      ]
     },
     "execution_count": 56,
     "metadata": {},
     "output_type": "execute_result"
    }
   ],
   "source": [
    "from joblib import Parallel, delayed\n",
    "\n",
    "import joblib\n",
    "\n",
    "# Save the model as a pickle in a file\n",
    "\n",
    "joblib.dump(tuned_model,  f'{eval(config.save_model_path)}/{best_5.index[0]}.pkl')"
   ]
  },
  {
   "cell_type": "code",
   "execution_count": null,
   "id": "961857ef",
   "metadata": {},
   "outputs": [],
   "source": []
  }
 ],
 "metadata": {
  "kernelspec": {
   "display_name": "Python 3 (ipykernel)",
   "language": "python",
   "name": "python3"
  },
  "language_info": {
   "codemirror_mode": {
    "name": "ipython",
    "version": 3
   },
   "file_extension": ".py",
   "mimetype": "text/x-python",
   "name": "python",
   "nbconvert_exporter": "python",
   "pygments_lexer": "ipython3",
   "version": "3.9.13"
  }
 },
 "nbformat": 4,
 "nbformat_minor": 5
}
