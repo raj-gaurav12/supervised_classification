{
 "cells": [
  {
   "cell_type": "code",
   "execution_count": 17,
   "id": "dd3bb0cb",
   "metadata": {},
   "outputs": [],
   "source": [
    "import pycaret\n",
    "import pandas as pd\n",
    "import os\n",
    "import sys \n",
    "import shutil"
   ]
  },
  {
   "cell_type": "code",
   "execution_count": 18,
   "id": "426cb107",
   "metadata": {},
   "outputs": [],
   "source": [
    "# import pycaret classification and init setup\n",
    "from pycaret.classification import *"
   ]
  },
  {
   "cell_type": "code",
   "execution_count": 19,
   "id": "d874b758",
   "metadata": {},
   "outputs": [],
   "source": [
    "sys.path.append(os.path.abspath(\"/Users/raj2.gaurav/Desktop/Git/Causal_Model/09. Config\"))\n",
    "import config"
   ]
  },
  {
   "cell_type": "code",
   "execution_count": 20,
   "id": "2f55f9e5",
   "metadata": {},
   "outputs": [],
   "source": [
    "path=config.scoring_data_path"
   ]
  },
  {
   "cell_type": "code",
   "execution_count": 21,
   "id": "4c775132",
   "metadata": {},
   "outputs": [],
   "source": [
    "pred_data=pd.read_pickle(path)"
   ]
  },
  {
   "cell_type": "code",
   "execution_count": 22,
   "id": "9fe52596",
   "metadata": {},
   "outputs": [
    {
     "data": {
      "text/plain": [
       "Index(['entity_cell_id', 'hour_of_day', 'entity_geohash',\n",
       "       'context_environment', 'avg_last_rrc_measurement_earfcn',\n",
       "       'num_distinct_imsi', 'mute_call_gap_indicator', 'num_mute_calls',\n",
       "       'avg_cqi', 'min_cqi',\n",
       "       ...\n",
       "       'env_indoor_pct', 'env_outdoor_pct', 'env_mobile_pct',\n",
       "       'env_unknown_pct', 'service_type_data_only_pct',\n",
       "       'service_type_voice_and_data_pct', 'service_type_unknown_pct',\n",
       "       'qci_9_tp', 'data_date', 'Target_Variable'],\n",
       "      dtype='object', length=217)"
      ]
     },
     "execution_count": 22,
     "metadata": {},
     "output_type": "execute_result"
    }
   ],
   "source": [
    "pred_data.columns"
   ]
  },
  {
   "cell_type": "code",
   "execution_count": 23,
   "id": "a57587e3",
   "metadata": {},
   "outputs": [],
   "source": [
    "Ignore_features = config.Ignore_features_inference"
   ]
  },
  {
   "cell_type": "code",
   "execution_count": 24,
   "id": "b5a97458",
   "metadata": {},
   "outputs": [],
   "source": [
    "pred_data.drop(Ignore_features,inplace=True,axis=1)"
   ]
  },
  {
   "cell_type": "code",
   "execution_count": 25,
   "id": "31b5a5f0",
   "metadata": {},
   "outputs": [
    {
     "data": {
      "text/plain": [
       "(157448, 208)"
      ]
     },
     "execution_count": 25,
     "metadata": {},
     "output_type": "execute_result"
    }
   ],
   "source": [
    "pred_data.shape"
   ]
  },
  {
   "cell_type": "code",
   "execution_count": 26,
   "id": "d1ffa00b",
   "metadata": {},
   "outputs": [
    {
     "ename": "FileNotFoundError",
     "evalue": "[Errno 2] No such file or directory: '/Users/raj2.gaurav/Desktop/Git/Causal_Model/07. Model/Light Gradient Boosting Machine/Model_Results/Model_Objects/lightgbm.pkl'",
     "output_type": "error",
     "traceback": [
      "\u001b[0;31m---------------------------------------------------------------------------\u001b[0m",
      "\u001b[0;31mFileNotFoundError\u001b[0m                         Traceback (most recent call last)",
      "\u001b[0;32m/var/folders/3p/7q9_hy6x4q58xrz02_n9tvv0fryx5_/T/ipykernel_92043/1588652730.py\u001b[0m in \u001b[0;36m<module>\u001b[0;34m\u001b[0m\n\u001b[0;32m----> 1\u001b[0;31m \u001b[0mlgbm\u001b[0m \u001b[0;34m=\u001b[0m \u001b[0mload_model\u001b[0m\u001b[0;34m(\u001b[0m\u001b[0mconfig\u001b[0m\u001b[0;34m.\u001b[0m\u001b[0mmodel_object_path\u001b[0m\u001b[0;34m)\u001b[0m\u001b[0;34m\u001b[0m\u001b[0;34m\u001b[0m\u001b[0m\n\u001b[0m",
      "\u001b[0;32m/opt/anaconda3/lib/python3.9/site-packages/pycaret/classification/functional.py\u001b[0m in \u001b[0;36mload_model\u001b[0;34m(model_name, platform, authentication, verbose)\u001b[0m\n\u001b[1;32m   2472\u001b[0m         \u001b[0mexperiment\u001b[0m \u001b[0;34m=\u001b[0m \u001b[0m_EXPERIMENT_CLASS\u001b[0m\u001b[0;34m(\u001b[0m\u001b[0;34m)\u001b[0m\u001b[0;34m\u001b[0m\u001b[0;34m\u001b[0m\u001b[0m\n\u001b[1;32m   2473\u001b[0m \u001b[0;34m\u001b[0m\u001b[0m\n\u001b[0;32m-> 2474\u001b[0;31m     return experiment.load_model(\n\u001b[0m\u001b[1;32m   2475\u001b[0m         \u001b[0mmodel_name\u001b[0m\u001b[0;34m=\u001b[0m\u001b[0mmodel_name\u001b[0m\u001b[0;34m,\u001b[0m\u001b[0;34m\u001b[0m\u001b[0;34m\u001b[0m\u001b[0m\n\u001b[1;32m   2476\u001b[0m         \u001b[0mplatform\u001b[0m\u001b[0;34m=\u001b[0m\u001b[0mplatform\u001b[0m\u001b[0;34m,\u001b[0m\u001b[0;34m\u001b[0m\u001b[0;34m\u001b[0m\u001b[0m\n",
      "\u001b[0;32m/opt/anaconda3/lib/python3.9/site-packages/pycaret/classification/oop.py\u001b[0m in \u001b[0;36mload_model\u001b[0;34m(self, model_name, platform, authentication, verbose)\u001b[0m\n\u001b[1;32m   3111\u001b[0m         \"\"\"\n\u001b[1;32m   3112\u001b[0m \u001b[0;34m\u001b[0m\u001b[0m\n\u001b[0;32m-> 3113\u001b[0;31m         return super().load_model(\n\u001b[0m\u001b[1;32m   3114\u001b[0m             \u001b[0mmodel_name\u001b[0m\u001b[0;34m=\u001b[0m\u001b[0mmodel_name\u001b[0m\u001b[0;34m,\u001b[0m\u001b[0;34m\u001b[0m\u001b[0;34m\u001b[0m\u001b[0m\n\u001b[1;32m   3115\u001b[0m             \u001b[0mplatform\u001b[0m\u001b[0;34m=\u001b[0m\u001b[0mplatform\u001b[0m\u001b[0;34m,\u001b[0m\u001b[0;34m\u001b[0m\u001b[0;34m\u001b[0m\u001b[0m\n",
      "\u001b[0;32m/opt/anaconda3/lib/python3.9/site-packages/pycaret/internal/pycaret_experiment/tabular_experiment.py\u001b[0m in \u001b[0;36mload_model\u001b[0;34m(self, model_name, platform, authentication, verbose)\u001b[0m\n\u001b[1;32m   2471\u001b[0m         \"\"\"\n\u001b[1;32m   2472\u001b[0m \u001b[0;34m\u001b[0m\u001b[0m\n\u001b[0;32m-> 2473\u001b[0;31m         return pycaret.internal.persistence.load_model(\n\u001b[0m\u001b[1;32m   2474\u001b[0m             \u001b[0mmodel_name\u001b[0m\u001b[0;34m,\u001b[0m \u001b[0mplatform\u001b[0m\u001b[0;34m,\u001b[0m \u001b[0mauthentication\u001b[0m\u001b[0;34m,\u001b[0m \u001b[0mverbose\u001b[0m\u001b[0;34m\u001b[0m\u001b[0;34m\u001b[0m\u001b[0m\n\u001b[1;32m   2475\u001b[0m         )\n",
      "\u001b[0;32m/opt/anaconda3/lib/python3.9/site-packages/pycaret/internal/persistence.py\u001b[0m in \u001b[0;36mload_model\u001b[0;34m(model_name, platform, authentication, verbose)\u001b[0m\n\u001b[1;32m    389\u001b[0m     \u001b[0;32mif\u001b[0m \u001b[0;32mnot\u001b[0m \u001b[0mplatform\u001b[0m\u001b[0;34m:\u001b[0m\u001b[0;34m\u001b[0m\u001b[0;34m\u001b[0m\u001b[0m\n\u001b[1;32m    390\u001b[0m         \u001b[0mmodel_name\u001b[0m \u001b[0;34m=\u001b[0m \u001b[0;34mf\"{model_name}.pkl\"\u001b[0m\u001b[0;34m\u001b[0m\u001b[0;34m\u001b[0m\u001b[0m\n\u001b[0;32m--> 391\u001b[0;31m         \u001b[0mmodel\u001b[0m \u001b[0;34m=\u001b[0m \u001b[0mjoblib\u001b[0m\u001b[0;34m.\u001b[0m\u001b[0mload\u001b[0m\u001b[0;34m(\u001b[0m\u001b[0mmodel_name\u001b[0m\u001b[0;34m)\u001b[0m\u001b[0;34m\u001b[0m\u001b[0;34m\u001b[0m\u001b[0m\n\u001b[0m\u001b[1;32m    392\u001b[0m         \u001b[0;32mif\u001b[0m \u001b[0mverbose\u001b[0m\u001b[0;34m:\u001b[0m\u001b[0;34m\u001b[0m\u001b[0;34m\u001b[0m\u001b[0m\n\u001b[1;32m    393\u001b[0m             \u001b[0mprint\u001b[0m\u001b[0;34m(\u001b[0m\u001b[0;34m\"Transformation Pipeline and Model Successfully Loaded\"\u001b[0m\u001b[0;34m)\u001b[0m\u001b[0;34m\u001b[0m\u001b[0;34m\u001b[0m\u001b[0m\n",
      "\u001b[0;32m/opt/anaconda3/lib/python3.9/site-packages/joblib/numpy_pickle.py\u001b[0m in \u001b[0;36mload\u001b[0;34m(filename, mmap_mode)\u001b[0m\n\u001b[1;32m    648\u001b[0m             \u001b[0mobj\u001b[0m \u001b[0;34m=\u001b[0m \u001b[0m_unpickle\u001b[0m\u001b[0;34m(\u001b[0m\u001b[0mfobj\u001b[0m\u001b[0;34m)\u001b[0m\u001b[0;34m\u001b[0m\u001b[0;34m\u001b[0m\u001b[0m\n\u001b[1;32m    649\u001b[0m     \u001b[0;32melse\u001b[0m\u001b[0;34m:\u001b[0m\u001b[0;34m\u001b[0m\u001b[0;34m\u001b[0m\u001b[0m\n\u001b[0;32m--> 650\u001b[0;31m         \u001b[0;32mwith\u001b[0m \u001b[0mopen\u001b[0m\u001b[0;34m(\u001b[0m\u001b[0mfilename\u001b[0m\u001b[0;34m,\u001b[0m \u001b[0;34m'rb'\u001b[0m\u001b[0;34m)\u001b[0m \u001b[0;32mas\u001b[0m \u001b[0mf\u001b[0m\u001b[0;34m:\u001b[0m\u001b[0;34m\u001b[0m\u001b[0;34m\u001b[0m\u001b[0m\n\u001b[0m\u001b[1;32m    651\u001b[0m             \u001b[0;32mwith\u001b[0m \u001b[0m_read_fileobject\u001b[0m\u001b[0;34m(\u001b[0m\u001b[0mf\u001b[0m\u001b[0;34m,\u001b[0m \u001b[0mfilename\u001b[0m\u001b[0;34m,\u001b[0m \u001b[0mmmap_mode\u001b[0m\u001b[0;34m)\u001b[0m \u001b[0;32mas\u001b[0m \u001b[0mfobj\u001b[0m\u001b[0;34m:\u001b[0m\u001b[0;34m\u001b[0m\u001b[0;34m\u001b[0m\u001b[0m\n\u001b[1;32m    652\u001b[0m                 \u001b[0;32mif\u001b[0m \u001b[0misinstance\u001b[0m\u001b[0;34m(\u001b[0m\u001b[0mfobj\u001b[0m\u001b[0;34m,\u001b[0m \u001b[0mstr\u001b[0m\u001b[0;34m)\u001b[0m\u001b[0;34m:\u001b[0m\u001b[0;34m\u001b[0m\u001b[0;34m\u001b[0m\u001b[0m\n",
      "\u001b[0;31mFileNotFoundError\u001b[0m: [Errno 2] No such file or directory: '/Users/raj2.gaurav/Desktop/Git/Causal_Model/07. Model/Light Gradient Boosting Machine/Model_Results/Model_Objects/lightgbm.pkl'"
     ]
    }
   ],
   "source": [
    "lgbm = load_model(config.model_object_path)"
   ]
  },
  {
   "cell_type": "code",
   "execution_count": 11,
   "id": "92c4f1c9",
   "metadata": {},
   "outputs": [],
   "source": [
    "pred_result=predict_model(lgbm, data=pred_data)"
   ]
  },
  {
   "cell_type": "code",
   "execution_count": 13,
   "id": "0167aaee",
   "metadata": {},
   "outputs": [
    {
     "data": {
      "text/html": [
       "<div>\n",
       "<style scoped>\n",
       "    .dataframe tbody tr th:only-of-type {\n",
       "        vertical-align: middle;\n",
       "    }\n",
       "\n",
       "    .dataframe tbody tr th {\n",
       "        vertical-align: top;\n",
       "    }\n",
       "\n",
       "    .dataframe thead th {\n",
       "        text-align: right;\n",
       "    }\n",
       "</style>\n",
       "<table border=\"1\" class=\"dataframe\">\n",
       "  <thead>\n",
       "    <tr style=\"text-align: right;\">\n",
       "      <th></th>\n",
       "      <th>hour_of_day</th>\n",
       "      <th>context_environment</th>\n",
       "      <th>avg_last_rrc_measurement_earfcn</th>\n",
       "      <th>num_distinct_imsi</th>\n",
       "      <th>mute_call_gap_indicator</th>\n",
       "      <th>num_mute_calls</th>\n",
       "      <th>avg_cqi</th>\n",
       "      <th>min_cqi</th>\n",
       "      <th>max_cqi</th>\n",
       "      <th>p05_cqi</th>\n",
       "      <th>...</th>\n",
       "      <th>lhd_Handover_Canceled_pct</th>\n",
       "      <th>env_indoor_pct</th>\n",
       "      <th>env_outdoor_pct</th>\n",
       "      <th>env_mobile_pct</th>\n",
       "      <th>env_unknown_pct</th>\n",
       "      <th>service_type_data_only_pct</th>\n",
       "      <th>service_type_voice_and_data_pct</th>\n",
       "      <th>service_type_unknown_pct</th>\n",
       "      <th>prediction_label</th>\n",
       "      <th>prediction_score</th>\n",
       "    </tr>\n",
       "  </thead>\n",
       "  <tbody>\n",
       "    <tr>\n",
       "      <th>0</th>\n",
       "      <td>15</td>\n",
       "      <td>Indoor</td>\n",
       "      <td>26716.000000</td>\n",
       "      <td>5</td>\n",
       "      <td>0</td>\n",
       "      <td>0</td>\n",
       "      <td>7.833</td>\n",
       "      <td>3</td>\n",
       "      <td>10</td>\n",
       "      <td>4.0</td>\n",
       "      <td>...</td>\n",
       "      <td>0.0</td>\n",
       "      <td>1.0</td>\n",
       "      <td>0.0</td>\n",
       "      <td>0.0</td>\n",
       "      <td>0.0</td>\n",
       "      <td>0.333333</td>\n",
       "      <td>0.666667</td>\n",
       "      <td>0.0</td>\n",
       "      <td>1</td>\n",
       "      <td>0.9996</td>\n",
       "    </tr>\n",
       "    <tr>\n",
       "      <th>1</th>\n",
       "      <td>15</td>\n",
       "      <td>Indoor</td>\n",
       "      <td>26528.667969</td>\n",
       "      <td>6</td>\n",
       "      <td>0</td>\n",
       "      <td>0</td>\n",
       "      <td>7.833</td>\n",
       "      <td>5</td>\n",
       "      <td>10</td>\n",
       "      <td>5.5</td>\n",
       "      <td>...</td>\n",
       "      <td>0.0</td>\n",
       "      <td>1.0</td>\n",
       "      <td>0.0</td>\n",
       "      <td>0.0</td>\n",
       "      <td>0.0</td>\n",
       "      <td>1.000000</td>\n",
       "      <td>0.000000</td>\n",
       "      <td>0.0</td>\n",
       "      <td>1</td>\n",
       "      <td>1.0000</td>\n",
       "    </tr>\n",
       "    <tr>\n",
       "      <th>2</th>\n",
       "      <td>15</td>\n",
       "      <td>Outdoor Stationary</td>\n",
       "      <td>23953.404297</td>\n",
       "      <td>1</td>\n",
       "      <td>0</td>\n",
       "      <td>0</td>\n",
       "      <td>5.000</td>\n",
       "      <td>5</td>\n",
       "      <td>5</td>\n",
       "      <td>5.0</td>\n",
       "      <td>...</td>\n",
       "      <td>0.0</td>\n",
       "      <td>0.0</td>\n",
       "      <td>1.0</td>\n",
       "      <td>0.0</td>\n",
       "      <td>0.0</td>\n",
       "      <td>1.000000</td>\n",
       "      <td>0.000000</td>\n",
       "      <td>0.0</td>\n",
       "      <td>1</td>\n",
       "      <td>1.0000</td>\n",
       "    </tr>\n",
       "    <tr>\n",
       "      <th>3</th>\n",
       "      <td>15</td>\n",
       "      <td>Indoor</td>\n",
       "      <td>38948.000000</td>\n",
       "      <td>1</td>\n",
       "      <td>0</td>\n",
       "      <td>0</td>\n",
       "      <td>5.000</td>\n",
       "      <td>5</td>\n",
       "      <td>5</td>\n",
       "      <td>5.0</td>\n",
       "      <td>...</td>\n",
       "      <td>0.0</td>\n",
       "      <td>1.0</td>\n",
       "      <td>0.0</td>\n",
       "      <td>0.0</td>\n",
       "      <td>0.0</td>\n",
       "      <td>0.000000</td>\n",
       "      <td>1.000000</td>\n",
       "      <td>0.0</td>\n",
       "      <td>1</td>\n",
       "      <td>1.0000</td>\n",
       "    </tr>\n",
       "    <tr>\n",
       "      <th>4</th>\n",
       "      <td>15</td>\n",
       "      <td>Indoor</td>\n",
       "      <td>20000.500000</td>\n",
       "      <td>2</td>\n",
       "      <td>0</td>\n",
       "      <td>0</td>\n",
       "      <td>4.000</td>\n",
       "      <td>4</td>\n",
       "      <td>4</td>\n",
       "      <td>4.0</td>\n",
       "      <td>...</td>\n",
       "      <td>0.0</td>\n",
       "      <td>1.0</td>\n",
       "      <td>0.0</td>\n",
       "      <td>0.0</td>\n",
       "      <td>0.0</td>\n",
       "      <td>0.500000</td>\n",
       "      <td>0.500000</td>\n",
       "      <td>0.0</td>\n",
       "      <td>1</td>\n",
       "      <td>1.0000</td>\n",
       "    </tr>\n",
       "  </tbody>\n",
       "</table>\n",
       "<p>5 rows × 210 columns</p>\n",
       "</div>"
      ],
      "text/plain": [
       "   hour_of_day context_environment  avg_last_rrc_measurement_earfcn  \\\n",
       "0           15              Indoor                     26716.000000   \n",
       "1           15              Indoor                     26528.667969   \n",
       "2           15  Outdoor Stationary                     23953.404297   \n",
       "3           15              Indoor                     38948.000000   \n",
       "4           15              Indoor                     20000.500000   \n",
       "\n",
       "   num_distinct_imsi  mute_call_gap_indicator  num_mute_calls  avg_cqi  \\\n",
       "0                  5                        0               0    7.833   \n",
       "1                  6                        0               0    7.833   \n",
       "2                  1                        0               0    5.000   \n",
       "3                  1                        0               0    5.000   \n",
       "4                  2                        0               0    4.000   \n",
       "\n",
       "   min_cqi  max_cqi  p05_cqi  ...  lhd_Handover_Canceled_pct  env_indoor_pct  \\\n",
       "0        3       10      4.0  ...                        0.0             1.0   \n",
       "1        5       10      5.5  ...                        0.0             1.0   \n",
       "2        5        5      5.0  ...                        0.0             0.0   \n",
       "3        5        5      5.0  ...                        0.0             1.0   \n",
       "4        4        4      4.0  ...                        0.0             1.0   \n",
       "\n",
       "   env_outdoor_pct  env_mobile_pct  env_unknown_pct  \\\n",
       "0              0.0             0.0              0.0   \n",
       "1              0.0             0.0              0.0   \n",
       "2              1.0             0.0              0.0   \n",
       "3              0.0             0.0              0.0   \n",
       "4              0.0             0.0              0.0   \n",
       "\n",
       "   service_type_data_only_pct  service_type_voice_and_data_pct  \\\n",
       "0                    0.333333                         0.666667   \n",
       "1                    1.000000                         0.000000   \n",
       "2                    1.000000                         0.000000   \n",
       "3                    0.000000                         1.000000   \n",
       "4                    0.500000                         0.500000   \n",
       "\n",
       "   service_type_unknown_pct  prediction_label  prediction_score  \n",
       "0                       0.0                 1            0.9996  \n",
       "1                       0.0                 1            1.0000  \n",
       "2                       0.0                 1            1.0000  \n",
       "3                       0.0                 1            1.0000  \n",
       "4                       0.0                 1            1.0000  \n",
       "\n",
       "[5 rows x 210 columns]"
      ]
     },
     "execution_count": 13,
     "metadata": {},
     "output_type": "execute_result"
    }
   ],
   "source": [
    "pred_result.head()"
   ]
  },
  {
   "cell_type": "code",
   "execution_count": 15,
   "id": "57fadb85",
   "metadata": {},
   "outputs": [],
   "source": [
    "if not os.path.exists(config.prediction_path):\n",
    "    os.makedirs(config.prediction_path)"
   ]
  },
  {
   "cell_type": "code",
   "execution_count": 16,
   "id": "00bf2a6d",
   "metadata": {},
   "outputs": [],
   "source": [
    "pred_result.to_csv(config.prediction_path_file)"
   ]
  },
  {
   "cell_type": "code",
   "execution_count": null,
   "id": "9f230c45",
   "metadata": {},
   "outputs": [],
   "source": []
  }
 ],
 "metadata": {
  "kernelspec": {
   "display_name": "Python 3 (ipykernel)",
   "language": "python",
   "name": "python3"
  },
  "language_info": {
   "codemirror_mode": {
    "name": "ipython",
    "version": 3
   },
   "file_extension": ".py",
   "mimetype": "text/x-python",
   "name": "python",
   "nbconvert_exporter": "python",
   "pygments_lexer": "ipython3",
   "version": "3.9.13"
  }
 },
 "nbformat": 4,
 "nbformat_minor": 5
}
